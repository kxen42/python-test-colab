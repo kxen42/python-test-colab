{
  "nbformat": 4,
  "nbformat_minor": 0,
  "metadata": {
    "colab": {
      "name": "Udemy 210+ Exercises - Python Standard Libraries .ipynb",
      "provenance": [],
      "collapsed_sections": [
        "OjZhCTZnMGjj",
        "UlT-l4mIfWTW",
        "dVzyvICjNWjY",
        "B_qVvMqXNpss",
        "vkreSfGT1Nkb",
        "gSJXxMQz1Nwd",
        "mBPeOKbe1N6t",
        "6mF5WAJkNqr8",
        "JIQLPBX815jh",
        "-tqKXoLl2KEY",
        "TN8Llkch2OQn",
        "jQCCYt5XCDfW",
        "qxjSqd51CvZM",
        "PSKul_fGC-co",
        "NUjlseybkM89",
        "FZLywe8wDH4r",
        "J9ZhNu-uDPA0",
        "1Qgn_sa1DWwu",
        "LL0fD1SJD-EP",
        "pCaazUsXEOEm",
        "zhMgbFVWEZhU",
        "nfg6hn1F9YA2",
        "cxYJ0tISk2Q4"
      ],
      "toc_visible": true,
      "authorship_tag": "ABX9TyOuIGTcgHJY9nUvse1vLiKo",
      "include_colab_link": true
    },
    "kernelspec": {
      "name": "python3",
      "display_name": "Python 3"
    },
    "language_info": {
      "name": "python"
    }
  },
  "cells": [
    {
      "cell_type": "markdown",
      "metadata": {
        "id": "view-in-github",
        "colab_type": "text"
      },
      "source": [
        "<a href=\"https://colab.research.google.com/github/kxen42/python-test-colab/blob/main/Udemy_210%2B_Exercises_Python_Standard_Libraries_.ipynb\" target=\"_parent\"><img src=\"https://colab.research.google.com/assets/colab-badge.svg\" alt=\"Open In Colab\"/></a>"
      ]
    },
    {
      "cell_type": "markdown",
      "source": [
        "# Section: Starter"
      ],
      "metadata": {
        "id": "OjZhCTZnMGjj"
      }
    },
    {
      "cell_type": "markdown",
      "source": [
        "####Exercise 1 _sys_\n",
        "\n",
        "Print the python version to the console.\n",
        "\n",
        "Tip: Use the sys module.\n",
        "\n",
        "Expected result:\n",
        "Some number other than an error.\n"
      ],
      "metadata": {
        "id": "GIW-ONhbfOtr"
      }
    },
    {
      "cell_type": "code",
      "source": [
        "import sys\n",
        "print(sys.version.split(' ')[0])\n",
        "\n",
        "print(sys.version)\n",
        "print(type(sys.version))\n",
        "print(sys.version_info)"
      ],
      "metadata": {
        "id": "HLvKsDBuUzMz"
      },
      "execution_count": null,
      "outputs": []
    },
    {
      "cell_type": "markdown",
      "source": [
        "# Section: datetime\n",
        "\n",
        "Module [datetime](https://docs.python.org/3/library/datetime.html#)  \n",
        "Class [datetime.date](https://docs.python.org/3/library/datetime.html#datetime.date) \n",
        "Class [datetime.datetime](https://docs.python.org/3/library/datetime.html#datetime-objects)  \n",
        "Class [datetime.time](https://docs.python.org/3/library/datetime.html#time-objects)  \n",
        "Class [datetime.timedelta](https://docs.python.org/3/library/datetime.html#timedelta-objects)  \n",
        "[strftime and strptime](https://docs.python.org/3/library/datetime.html#strftime-and-strptime-behavior)\n",
        "\n",
        "\n",
        "\n",
        "Tip:\n",
        "```\n",
        "python\n",
        ">>> import datetimee\n",
        ">>> help(datetime.date)\n",
        ">>> help(datetime.time)\n",
        ">>> help(datetime.datetime)\n",
        "```"
      ],
      "metadata": {
        "id": "UlT-l4mIfWTW"
      }
    },
    {
      "cell_type": "markdown",
      "source": [
        "####Exercise 2\n",
        "\n",
        "Using the built-in _datetime_ module, create _date_ objects for the given dates:\n",
        "\n",
        "* 2021-01-01\n",
        "\n",
        "* 31/7/21\n",
        "\n",
        "* May 7, 1990\n",
        "\n",
        "Then print these objects to the console.\n",
        "\n",
        "Expected result:\n",
        ">2021-01-01  \n",
        "2021-07-31  \n",
        "1990-05-07"
      ],
      "metadata": {
        "id": "anF5yid6MUbj"
      }
    },
    {
      "cell_type": "code",
      "execution_count": null,
      "metadata": {
        "id": "GMnxmzxwLqnm"
      },
      "outputs": [],
      "source": [
        "from datetime import date, datetime\n",
        "\n",
        "print(\n",
        "date.fromisoformat('2021-01-01')\n",
        ")\n",
        "\n",
        "print(\n",
        "datetime.strptime('31/7/21', '%d/%m/%y').date()\n",
        ")\n",
        "\n",
        "print(\n",
        "datetime.strptime('May 7, 1990', '%B %d, %Y').date()\n",
        ")\n",
        "\n",
        "# his solution\n",
        "d1 = date(2021, 1, 1)\n",
        "d2 = date(2021, 7, 31)\n",
        "d3 = date(1990, 5, 7)\n",
        " \n",
        "print(d1)\n",
        "print(d2)\n",
        "print(d3)"
      ]
    },
    {
      "cell_type": "markdown",
      "source": [
        "####Exercise 3\n",
        "\n",
        "Using the built-in _datetime_ module, create _time_ objects for the given hours:\n",
        "\n",
        "* 12:00:00\n",
        "\n",
        "* 6:30:00\n",
        "\n",
        "* 9:15:00\n",
        "\n",
        "Then print these objects to the console.\n",
        "\n",
        "Expected result:\n",
        ">12:00:00  \n",
        "06:30:00  \n",
        "09:15:00"
      ],
      "metadata": {
        "id": "DLTMuNhnMiu8"
      }
    },
    {
      "cell_type": "code",
      "source": [
        "import datetime\n",
        "\n",
        "print(\n",
        "    datetime.time(12)\n",
        ")\n",
        "print(\n",
        "    datetime.time(6,30)\n",
        ")\n",
        "print(\n",
        "    datetime.time.fromisoformat('09:15:00')\n",
        ")\n",
        "print(\n",
        "    datetime.datetime.strptime('09:15:00', '%H:%M:%S')\n",
        ")"
      ],
      "metadata": {
        "id": "KjLf3ErFNOr-"
      },
      "execution_count": null,
      "outputs": []
    },
    {
      "cell_type": "markdown",
      "source": [
        "####Exercise 4\n",
        "\n",
        "Using the built-in _datetime_ module, create _datetime_ objects for the given dates:\n",
        "\n",
        "* Jul 20 2020 11:30:00\n",
        "\n",
        "* 1990-03-10 12:00:00\n",
        "\n",
        "* 2021-01-01 00:00:00\n",
        "\n",
        "Then print these objects to the console.\n",
        "\n",
        "Expected result:\n",
        ">2020-07-20 11:30:00  \n",
        "1990-03-10 12:00:00  \n",
        "2021-01-01 00:00:00"
      ],
      "metadata": {
        "id": "fBucuQmjMi89"
      }
    },
    {
      "cell_type": "code",
      "source": [
        "import datetime\n",
        "\n",
        "print(\n",
        "    datetime.datetime.fromisoformat('2020-07-20+11:30:00')\n",
        ")\n",
        "\n",
        "print(\n",
        "    datetime.datetime.combine(datetime.date(1990, 3, 10), datetime.time(12))\n",
        ")\n",
        "\n",
        "print(\n",
        "    datetime.datetime.strptime('2021-01-01 00:00:00', '%Y-%m-%d %H:%M:%S')\n",
        ")\n",
        "\n",
        "# his solution\n",
        "dt1 = datetime.datetime(2020, 7, 20, 11, 30, 0)\n",
        "dt2 = datetime.datetime(1990, 3, 10, 12, 0, 0)\n",
        "dt3 = datetime.datetime(2021, 1, 1, 0, 0, 0)\n",
        " \n",
        "print(dt1)\n",
        "print(dt2)\n",
        "print(dt3)"
      ],
      "metadata": {
        "id": "iIkjQ3mnNNgd"
      },
      "execution_count": null,
      "outputs": []
    },
    {
      "cell_type": "markdown",
      "source": [
        "####Exercise 5\n",
        "Using the built-in _datetime_ module, determine the number of days between 2020-07-21 and 2020-12-31.\n",
        "\n",
        "Then print the result to the console as shown below.\n",
        "\n",
        "Expected result:\n",
        ">Number of days: 163"
      ],
      "metadata": {
        "id": "XwjdD-1PMjCH"
      }
    },
    {
      "cell_type": "code",
      "source": [
        "import datetime\n",
        "\n",
        "d1 = datetime.date(2020, 7, 21)\n",
        "d2 = datetime.date(2020, 12, 31)\n",
        "\n",
        "print(\n",
        "    f'Number of days: {(d2 - d1).days}'\n",
        ")"
      ],
      "metadata": {
        "id": "eAJbvTTjNMu_"
      },
      "execution_count": null,
      "outputs": []
    },
    {
      "cell_type": "markdown",
      "source": [
        "####Exercise 6\n",
        "\n",
        "Using the built-in _datetime_ module, determine the exact time elapsed between the dates:\n",
        "\n",
        "* Jul 20 2020 11:30:00\n",
        "* 2021-02-20 10:25:00\n",
        "\n",
        "Then print the result to the console.\n",
        "\n",
        "Expected result:\n",
        ">214 days, 22:55:00"
      ],
      "metadata": {
        "id": "4q1N6-L7MjGq"
      }
    },
    {
      "cell_type": "code",
      "source": [
        "import datetime\n",
        "t1 = datetime.datetime(2020, 7, 20, 11, 30)\n",
        "t2 = datetime.datetime(2021, 2, 20, 10, 25)\n",
        "\n",
        "print(\n",
        "    t2 -t1\n",
        ")"
      ],
      "metadata": {
        "id": "HAd0SZ1uNLRj"
      },
      "execution_count": null,
      "outputs": []
    },
    {
      "cell_type": "markdown",
      "source": [
        "####Exercise 7\n",
        "\n",
        "Using the built-in datetime module, the _datetime_ class and the _datetime.datetime.strftime()_ method format the following date:\n",
        "\n",
        "2021-04-20 11:30:00\n",
        "\n",
        "To the following formats:\n",
        "\n",
        "* 2021-04-20\n",
        "* 20-04-2021\n",
        "* 04-2021\n",
        "* April-2021\n",
        "* 20 April, 2021\n",
        "* 2021-04-20 11:30:00\n",
        "* 04/20/21 11:30:00\n",
        "* 20(Tue) April 2021\n",
        "\n",
        "Then print the formatted dates to the console.\n",
        "\n",
        "Expected result:\n",
        ">2021-04-20  \n",
        "20-04-2021  \n",
        "04-2021  \n",
        "April-2021  \n",
        "20 April, 2021  \n",
        "2021-04-20 11:30:00  \n",
        "04/20/21 11:30:00  \n",
        "20(Tue) April 2021"
      ],
      "metadata": {
        "id": "wBLG3jKoMg8l"
      }
    },
    {
      "cell_type": "code",
      "source": [
        "from datetime import datetime\n",
        "\n",
        "d = datetime(2021, 4, 20, 11, 30)\n",
        "\n",
        "print( d.strftime('%Y-%m-%d') )\n",
        "print( d.strftime('%d-%m-%Y') )\n",
        "print( d.strftime('%m-%Y') )\n",
        "print( d.strftime('%B-%Y') )\n",
        "print( d.strftime('%d %B, %Y') )\n",
        "print( d.strftime('%Y-%m-%d %H:%M:%S') )\n",
        "print( d.strftime('%m/%d/%y %H:%M:%S') )\n",
        "print( d.strftime('%d(%a) %B %Y') )"
      ],
      "metadata": {
        "id": "MjK1qLwKNKfX"
      },
      "execution_count": null,
      "outputs": []
    },
    {
      "cell_type": "markdown",
      "source": [
        "####Exercise 8\n",
        "\n",
        "Using the built-in _datetime_ module and the _datetime.datetime.strptime()_ function, parse the following str objects:\n",
        "\n",
        "date_str_1 = '3 March 1995'  \n",
        "date_str_2 = '3/9/1995'  \n",
        "date_str_3 = '21-07-2021'  \n",
        "\n",
        "\n",
        "to datetime objects. Print the result to the console\n",
        "\n",
        "\n",
        "Expected result:\n",
        ">1995-03-03 00:00:00  \n",
        "1995-09-03 00:00:00  \n",
        "2021-07-21 00:00:00\n"
      ],
      "metadata": {
        "id": "kT9D7uYTM0QM"
      }
    },
    {
      "cell_type": "code",
      "source": [
        "from datetime import datetime\n",
        "\n",
        "\n",
        "date_str_1 = '3 March 1995'\n",
        "date_str_2 = '3/9/1995'\n",
        "date_str_3 = '21-07-2021'\n",
        "\n",
        "print( datetime.strptime(date_str_1, '%d %B %Y') )\n",
        "print( datetime.strptime(date_str_2, '%d/%m/%Y') )\n",
        "print( datetime.strptime(date_str_3, '%d-%m-%Y') )"
      ],
      "metadata": {
        "id": "0hAOJH5DNJrq"
      },
      "execution_count": null,
      "outputs": []
    },
    {
      "cell_type": "markdown",
      "source": [
        "####Exercise 9\n",
        "\n",
        "Using the built-in _datetime_ module, calculate the number of days until the end of the current year.\n",
        "\n",
        "\n",
        "Expected result:\n",
        ">'Number of days until the end of the year: x'\n",
        "\n",
        "\n",
        "The value of x will vary depending on the time taken to complete the exercise.\n"
      ],
      "metadata": {
        "id": "StM4pIvTM102"
      }
    },
    {
      "cell_type": "code",
      "source": [
        "import datetime\n",
        "\n",
        "today = datetime.date.today()\n",
        "year_end = datetime.date(today.year, 12, 31)\n",
        "x = (year_end - today).days\n",
        "print( f'Number of days until the end of the year: {x}' )\n"
      ],
      "metadata": {
        "id": "3WmvkTdANI8R"
      },
      "execution_count": null,
      "outputs": []
    },
    {
      "cell_type": "markdown",
      "source": [
        "####Exercise 10\n",
        "\n",
        "Using the built-in _datetime_ module, calculate the exact time remaining until the end of the current year.\n",
        "\n",
        "Expected result:\n",
        ">'Until the end of the year: x'\n",
        "\n",
        "\n",
        "The value of x will vary depending on the time taken to complete the exercise.\n",
        "\n",
        "For example, for the date: 2020-07-21 07:39:39.188939 the return value should be:\n",
        "\n",
        ">'Until the end of the year: 162 days, 16:20:20.811061'"
      ],
      "metadata": {
        "id": "mhK7H4wzM2TO"
      }
    },
    {
      "cell_type": "code",
      "source": [
        "import datetime\n",
        "\n",
        "now = datetime.datetime.now()\n",
        "year_end = datetime.datetime(now.year + 1, 1, 1)\n",
        "\n",
        "x = year_end - now\n",
        "print(f'Until the end of the year: {x}')"
      ],
      "metadata": {
        "id": "trTUPiOmNH76"
      },
      "execution_count": null,
      "outputs": []
    },
    {
      "cell_type": "markdown",
      "source": [
        "####Exercise 11\n",
        "\n",
        "Using the built-in _datetime_ module, the _date_ and _timedelta_ classes from the given date _2020-01-01 00:00:00_ get the date:\n",
        "\n",
        "* shifted by 7 days\n",
        "* shifted by 30 days\n",
        "* shifted by 30 hours\n",
        "* shifted by 15 minutes\n",
        "\n",
        "Expected result:\n",
        ">2020-01-08 00:00:00  \n",
        "2020-01-31 00:00:00  \n",
        "2020-01-02 06:00:00  \n",
        "2020-01-01 00:15:00  \n"
      ],
      "metadata": {
        "id": "jXejRQ1_M2b8"
      }
    },
    {
      "cell_type": "code",
      "source": [
        "import datetime\n",
        "\n",
        "jan1 = datetime.datetime(2020, 1, 1)\n",
        "\n",
        "d1 = datetime.timedelta(days=7)\n",
        "d2 = datetime.timedelta(days=30)\n",
        "d3 = datetime.timedelta(hours=30)\n",
        "d4 = datetime.timedelta(minutes=15)\n",
        "\n",
        "print( jan1 + d1)\n",
        "print( jan1 + d2)\n",
        "print( jan1 + d3)\n",
        "print( jan1 + d4)"
      ],
      "metadata": {
        "id": "tXlz6F_-NHIp"
      },
      "execution_count": null,
      "outputs": []
    },
    {
      "cell_type": "markdown",
      "source": [
        "####Exercise 12\n",
        "\n",
        "Using the built-in _datetime_ module, _datetime_ and _timedelta_ classes, create the given list of dates:\n",
        "\n",
        "\n",
        "```python\n",
        "[\n",
        "    datetime.datetime(2020, 1, 1, 0, 0),\n",
        "    datetime.datetime(2020, 1, 1, 8, 0),\n",
        "    datetime.datetime(2020, 1, 1, 16, 0),\n",
        "    datetime.datetime(2020, 1, 2, 0, 0),\n",
        "    datetime.datetime(2020, 1, 2, 8, 0),\n",
        "    datetime.datetime(2020, 1, 2, 16, 0),\n",
        "    datetime.datetime(2020, 1, 3, 0, 0),\n",
        "    datetime.datetime(2020, 1, 3, 8, 0),\n",
        "    datetime.datetime(2020, 1, 3, 16, 0),\n",
        "    datetime.datetime(2020, 1, 4, 0, 0),\n",
        "    datetime.datetime(2020, 1, 4, 8, 0),\n",
        "    datetime.datetime(2020, 1, 4, 16, 0),\n",
        "]\n",
        "```\n",
        "\n",
        "and assign to variable `dates`. Dates start from 2020-01-01 00:00:00, end on 2020-01-04 16:00:00 and differ by 8h. Then print each date to the console.\n",
        "\n",
        "\n",
        "\n",
        "Expected result:\n",
        ">2020-01-01 00:00:00  \n",
        "2020-01-01 08:00:00  \n",
        "2020-01-01 16:00:00  \n",
        "2020-01-02 00:00:00  \n",
        "2020-01-02 08:00:00  \n",
        "2020-01-02 16:00:00  \n",
        "2020-01-03 00:00:00  \n",
        "2020-01-03 08:00:00  \n",
        "2020-01-03 16:00:00  \n",
        "2020-01-04 00:00:00  \n",
        "2020-01-04 08:00:00  \n",
        "2020-01-04 16:00:00  \n",
        "\n"
      ],
      "metadata": {
        "id": "nwnzMDhBM2o1"
      }
    },
    {
      "cell_type": "code",
      "source": [
        "import datetime\n",
        "\n",
        "start = datetime.datetime(2020, 1, 1, 0, 0, 0)\n",
        "end = datetime.datetime(2020, 1, 4, 16, 0, 0)\n",
        "delta = datetime.timedelta(hours=8)\n",
        "\n",
        "dates = []\n",
        "\n",
        "x = start\n",
        "while x <= end:\n",
        "    dates.append(x)\n",
        "    x += delta\n",
        "\n",
        "for d in dates:\n",
        "    print(d)\n",
        "\n",
        "print('-' * 80)\n",
        "# his solution\n",
        "his = [start + (i * delta) for i in range(12)]\n",
        "\n",
        "for h in his:\n",
        "    print(h)"
      ],
      "metadata": {
        "id": "lhmFDV2DNGUc"
      },
      "execution_count": null,
      "outputs": []
    },
    {
      "cell_type": "markdown",
      "source": [
        "####Exercise 13\n",
        "\n",
        "Using the built-in _datetime_ module calculate the future value of the investment (present value) of USD 1000 with an annual interest rate of 4% (rate) and daily compound capitalization of interest, assuming the duration of the investment from 2021-07-01 to 2021-12-31. For calculations, assume that the year has 365 days.\n",
        "\n",
        "Print the future value to the console as shown below.\n",
        "\n",
        "Expected result:\n",
        ">Future value: $ 1020.26\n"
      ],
      "metadata": {
        "id": "hx9s42Y5M2yO"
      }
    },
    {
      "cell_type": "code",
      "source": [
        "import datetime\n",
        "\n",
        "\n",
        "rate = 4 / 100\n",
        "pv = 1000\n",
        "daily_rate = rate / 365\n",
        "\n",
        "fv = 2\n",
        "delta = datetime.datetime(2021, 12, 31) - datetime.datetime(2021, 7, 1)\n",
        "\n",
        "\n",
        "fv = pv * (1 + daily_rate) ** delta.days\n",
        "\n",
        "print(f'Future value: $ {fv:.2f}')\n",
        "\n",
        "fv = pv * (1 + (4/100)/365) ** delta.days\n",
        "print(f'Future value: $ {fv:.2f}')\n",
        "\n"
      ],
      "metadata": {
        "id": "zzoJ2-bMNE-t"
      },
      "execution_count": null,
      "outputs": []
    },
    {
      "cell_type": "markdown",
      "source": [
        "# Section: os and os.path\n",
        "Module [os](https://docs.python.org/3.8/library/os)\n",
        "\n",
        "Python _os_ Release Notes\n",
        "[3.9](https://docs.python.org/3/whatsnew/3.9.html#os)\n",
        "[3.8](https://docs.python.org/3/whatsnew/3.8.html#os) \n",
        "[3.7](https://docs.python.org/3/whatsnew/3.7.html#os)\n",
        "[3.6](https://docs.python.org/3/whatsnew/3.6.html#os)\n",
        "[3.5](https://docs.python.org/3/whatsnew/3.5.html#os)\n",
        "\n",
        "Python _os.path_ Release Notes\n",
        "[3.8](https://docs.python.org/3/whatsnew/3.8.html#os-path)\n",
        "\n",
        "According to stackoverflow, `os.path.walk()` was deprecated 12+ years ago in favor of `os.walk()`.\n"
      ],
      "metadata": {
        "id": "dVzyvICjNWjY"
      }
    },
    {
      "cell_type": "markdown",
      "source": [
        "##### Mount Google Drive"
      ],
      "metadata": {
        "id": "eEDOdtR3XY4g"
      }
    },
    {
      "cell_type": "code",
      "source": [
        "from google.colab import drive\n",
        "drive.mount('/content/drive')"
      ],
      "metadata": {
        "id": "mNmnYmbxXUc3"
      },
      "execution_count": null,
      "outputs": []
    },
    {
      "cell_type": "markdown",
      "source": [
        "#####Cleanup _images_ directory"
      ],
      "metadata": {
        "id": "PiZnhCRGsXSW"
      }
    },
    {
      "cell_type": "code",
      "source": [
        "import shutil\n",
        "base_dir = 'images'\n",
        "\n",
        "shutil.rmtree(base_dir, ignore_errors=True)"
      ],
      "metadata": {
        "id": "Ht4-tfi6sdOE"
      },
      "execution_count": null,
      "outputs": []
    },
    {
      "cell_type": "markdown",
      "source": [
        "####Platform Info"
      ],
      "metadata": {
        "id": "UMKSzXPkIlVJ"
      }
    },
    {
      "cell_type": "code",
      "source": [
        "import os\n",
        "import platform\n",
        "\n",
        "print(os.name)\n",
        "print(platform.system())\n",
        "print(platform.release())\n",
        "print(platform.platform())"
      ],
      "metadata": {
        "id": "Z_hYXoLWIQRD"
      },
      "execution_count": null,
      "outputs": []
    },
    {
      "cell_type": "markdown",
      "source": [
        "####Exercise 14\n",
        "Exercise 1\n",
        "Using the built-in _os_ module, print the _current working directory_ to the console.\n",
        "\n",
        "Expected result: (in Colab)\n",
        ">/content\n"
      ],
      "metadata": {
        "id": "x8od__90eyC5"
      }
    },
    {
      "cell_type": "code",
      "source": [
        "import os\n",
        "\n",
        "print(os.getcwd())"
      ],
      "metadata": {
        "id": "wpOUszP2Ww7G"
      },
      "execution_count": null,
      "outputs": []
    },
    {
      "cell_type": "code",
      "source": [
        "!pwd"
      ],
      "metadata": {
        "id": "gUmVT2C7YYGu"
      },
      "execution_count": null,
      "outputs": []
    },
    {
      "cell_type": "markdown",
      "source": [
        "####Exercise 15\n",
        "\n",
        "Using the built-in _os_ module print to the console a list containing the names of all files in the working directory.\n",
        "\n",
        "Expected result: (something like)\n",
        ">['exercise.py', 'run_unittest.py', '__pycache__', 'evaluate.py', 'result.py']\n",
        "\n",
        "**Note:** the '.' and '..' directories are not included."
      ],
      "metadata": {
        "id": "wMsLG6-KgIBO"
      }
    },
    {
      "cell_type": "code",
      "source": [
        "import os\n",
        "\n",
        "print(os.listdir())"
      ],
      "metadata": {
        "id": "a_l-Y8xEYPG8"
      },
      "execution_count": null,
      "outputs": []
    },
    {
      "cell_type": "code",
      "source": [
        "!ls -a"
      ],
      "metadata": {
        "id": "Zi7fU6EsYWSf"
      },
      "execution_count": null,
      "outputs": []
    },
    {
      "cell_type": "markdown",
      "source": [
        "####Exercise 16\n",
        "\n",
        "Using the built-in _os_ module create names list containing the names of all files and directories in your working directory which names starts with letter 'e'. Sort this list alphabetically.\n",
        "\n",
        "In response, print the names list to the console.\n",
        "\n",
        "Expected result:\n",
        ">['evaluate.py', 'exercise.py']"
      ],
      "metadata": {
        "id": "6xDN451WgILg"
      }
    },
    {
      "cell_type": "code",
      "source": [
        "import os\n",
        "\n",
        "result = sorted([name for name in os.listdir() if name.startswith('e')])\n",
        "print(result)"
      ],
      "metadata": {
        "id": "NnMlFK9jaFy3"
      },
      "execution_count": null,
      "outputs": []
    },
    {
      "cell_type": "markdown",
      "source": [
        "####Exercise 17\n",
        "\n",
        "Using the built-in _os_ module create names list containing file names in your working directory with a '.py' extension. Sort this list alphabetically.\n",
        "\n",
        "In response, print this list to the console.\n",
        "\n",
        "Expected result:\n",
        ">['evaluate.py', 'exercise.py', 'result.py', 'run_unittest.py']\n",
        "\n"
      ],
      "metadata": {
        "id": "QvD1XtBRgIT5"
      }
    },
    {
      "cell_type": "code",
      "source": [
        "import os\n",
        "\n",
        "result = sorted([name for name in os.listdir() if name.endswith('.py')])\n",
        "print(result)"
      ],
      "metadata": {
        "id": "Nc9in2sRbBSE"
      },
      "execution_count": null,
      "outputs": []
    },
    {
      "cell_type": "markdown",
      "source": [
        "####Exercise 18\n",
        "\n",
        "Using the built-in _os_ module create _images_ directory in your working directory. Then go to the _images_ directory and print the current path to the working directory.\n",
        "\n",
        "Tip:\n",
        "> `help(os.mkdir)`  \n",
        "`help(os.chdir)`\n",
        "\n",
        "Expected result:\n",
        ">/eval/images"
      ],
      "metadata": {
        "id": "e140eneCgIcP"
      }
    },
    {
      "cell_type": "code",
      "source": [
        "import os\n",
        "\n",
        "os.chdir('/content')\n",
        "os.mkdir('images')\n",
        "os.chdir('images')\n",
        "print(os.getcwd())\n",
        "\n",
        "os.chdir('/content')\n",
        "print(os.getcwd())\n",
        "\n",
        "os.rmdir('images')\n",
        "\n",
        "print(os.listdir())"
      ],
      "metadata": {
        "id": "3q2LlPf9bs0D"
      },
      "execution_count": null,
      "outputs": []
    },
    {
      "cell_type": "markdown",
      "source": [
        "####Exercise 19\n",
        "\n",
        "Using the built-in _os_ module in your working directory create a directory called _documents_. Then, in the documents directory, create 12 directories for each month with the names _01_sales, ..., 12_sales_, respectively.\n",
        "\n",
        "In response, print directory names sorted alphabetically in the documents directory to the console.\n",
        "\n",
        "    \n",
        "Tip:\n",
        "> help(os.listdir)\n",
        "help(os.mkdir)\n",
        " \n",
        "Expected result:\n",
        ">['01_sales', '02_sales', '03_sales', '04_sales',   '05_sales', '06_sales', '07_sales', '08_sales',   '09_sales', '10_sales', '11_sales', '12_sales']\n"
      ],
      "metadata": {
        "id": "T4yhoNVrgIk7"
      }
    },
    {
      "cell_type": "code",
      "source": [
        "import os\n",
        "\n",
        "os.chdir('/content')\n",
        "\n",
        "for name in ['01_sales', '02_sales', '03_sales', '04_sales', '05_sales', '06_sales', '07_sales', '08_sales', '09_sales', '10_sales', '11_sales', '12_sales']:\n",
        "     os.makedirs(f'documents/{name}')\n",
        "\n",
        "sales = sorted([name for name in os.listdir('documents') if name.endswith('_sales')])\n",
        "\n",
        "print(sales)\n",
        "for name in sales:\n",
        "    os.rmdir(f'documents/{name}')\n",
        "os.rmdir('documents')\n",
        "\n",
        " \n",
        "print(sorted(os.listdir()))"
      ],
      "metadata": {
        "id": "y3cUoMI4gWjz"
      },
      "execution_count": null,
      "outputs": []
    },
    {
      "cell_type": "markdown",
      "source": [
        "His solution uses\n",
        "* creates directory names\n",
        "* list comprehension\n",
        "* f-string in list comprehension\n",
        "* `zfill()`\n",
        "* `os.path.join()`"
      ],
      "metadata": {
        "id": "T6mWHQhtmjFW"
      }
    },
    {
      "cell_type": "code",
      "source": [
        "import os\n",
        "# his solution\n",
        "os.mkdir('documents')\n",
        " \n",
        "dirnames = [f'{str(i).zfill(2)}_sales' for i in range(1, 13)]\n",
        "for dirname in dirnames:\n",
        "    path = os.path.join('documents', dirname)\n",
        "    os.mkdir(path)\n",
        "\n",
        "print(sorted(os.listdir()))\n",
        "\n",
        "sales = sorted([name for name in os.listdir('documents') if name.endswith('_sales')])\n",
        "\n",
        "print(sales)\n",
        "for name in sales:\n",
        "    os.rmdir(f'documents/{name}')\n",
        "os.rmdir('documents')\n",
        "\n",
        " \n",
        "print(sorted(os.listdir()))"
      ],
      "metadata": {
        "id": "7bNwUG-vmmSR"
      },
      "execution_count": null,
      "outputs": []
    },
    {
      "cell_type": "markdown",
      "source": [
        "####Exercise 20\n",
        "\n",
        "Using the built-in _os_ module create a directory called _images_. Then create two directories in this directory named _images_png_ and _images_jpg_. Before creating each directory, check if such directory exists.\n",
        "\n",
        "In response, execute the following code:\n",
        "```python\n",
        "for root, dirs, files in os.walk(base_dir):\n",
        "    print(root)\n",
        "```\n",
        "\n",
        "Tip:\n",
        ">help(os.path.exists)  \n",
        "help(os.walk)\n",
        "\n",
        "Expected result:\n",
        ">images  \n",
        "images/images_jpg  \n",
        "images/images_png\n"
      ],
      "metadata": {
        "id": "hkhTeNH6gIuF"
      }
    },
    {
      "cell_type": "code",
      "source": [
        "import os\n",
        "\n",
        "\n",
        "base_dir = 'images'\n",
        "\n",
        "jpg = os.path.join(base_dir,'images_jpg')\n",
        "png = os.path.join(base_dir, 'images_png')\n",
        "\n",
        "if not os.path.exists(base_dir):\n",
        "    os.mkdir(base_dir)\n",
        "\n",
        "if not os.path.exists(jpg):\n",
        "    os.mkdir(jpg)\n",
        "\n",
        "if not os.path.exists(png):\n",
        "    os.mkdir(png)\n",
        "\n",
        "for root, dirs, files in os.walk(base_dir):\n",
        "    print(root)\n",
        "\n",
        "dirs = [item[0] for item in os.walk(base_dir)]\n",
        "dirs.reverse()\n",
        "for doomed in dirs:\n",
        "    os.rmdir(doomed)"
      ],
      "metadata": {
        "id": "iKCkh9TJnozR"
      },
      "execution_count": null,
      "outputs": []
    },
    {
      "cell_type": "markdown",
      "source": [
        "####Exercise 21\n",
        "\n",
        "The image names were generated in two formats `.png` and `.jpg`:\n",
        "```python\n",
        "import random\n",
        " \n",
        "random.seed(30)\n",
        "images = [\n",
        "    f\"{str(i).zfill(3)}_image.{random.choice(['png', 'jpg'])}\"\n",
        "    for i in range(1, 20)\n",
        "]\n",
        "```\n",
        "\n",
        "Next, a directory called images was created:\n",
        "```python\n",
        "base_dir = 'images'\n",
        " \n",
        "if not os.path.exists(base_dir):\n",
        "    os.mkdir(base_dir)\n",
        "```\n",
        "\n",
        "Then two directories were also created in this directory named `images_png` and `images_jpg`. Assign file names to appropriate directories:\n",
        "\n",
        "* files with the extension .png to the images_png directory\n",
        "\n",
        "* files with the extension .jpg to the images_jpg directory\n",
        "\n",
        "* and create empty files with the given names.\n",
        "\n",
        "In response, execute the following code:\n",
        "```python\n",
        "for root, dirs, files in os.walk(base_dir):\n",
        "    print(root)\n",
        "    for file in sorted(files):\n",
        "        print(f'\\t{file}')\n",
        "```\n",
        "\n",
        "Expected result:\n",
        ">images\n",
        "\n",
        ">images/images_jpg\n",
        ">>\t001_image.jpg\n",
        ">>\t004_image.jpg\n",
        ">>\t006_image.jpg\n",
        ">>\t007_image.jpg\n",
        ">>\t010_image.jpg\n",
        ">>\t016_image.jpg\n",
        ">>\t017_image.jpg\n",
        ">>\t019_image.jpg\n",
        "\n",
        ">images/images_png\n",
        ">>\t002_image.png\n",
        ">>\t003_image.png\n",
        ">>\t005_image.png\n",
        ">>\t008_image.png\n",
        ">>\t009_image.png\n",
        ">>\t011_image.png\n",
        ">>\t012_image.png\n",
        ">>\t013_image.png\n",
        ">>\t014_image.png\n",
        ">>\t015_image.png\n",
        ">>\t018_image.png\n",
        "\n"
      ],
      "metadata": {
        "id": "cUcxeHxFgWk6"
      }
    },
    {
      "cell_type": "code",
      "source": [
        "import random\n",
        "import os\n",
        " \n",
        "random.seed(30)\n",
        "images = [\n",
        "    f\"{str(i).zfill(3)}_image.{random.choice(['png', 'jpg'])}\"\n",
        "    for i in range(1, 20)\n",
        "]\n",
        "\n",
        "base_dir = 'images'\n",
        "jpg = 'images_jpg'\n",
        "png = 'images_png'\n",
        "\n",
        "for name in [base_dir, os.path.join(base_dir,jpg), os.path.join(png)]:\n",
        "    if not os.path.exists(name):\n",
        "        os.mkdir(name)\n",
        "\n",
        "for image in images:\n",
        "    path = ''\n",
        "    if image.endswith('.png'):\n",
        "        open(os.path.join(base_dir, png, image), 'w').close()\n",
        "    else:\n",
        "        open(os.path.join(base_dir, jpg, image), 'w').close()\n",
        "    fp = open(path, 'w')\n",
        "    fp.close()\n",
        "\n",
        " # check ressults   \n",
        "for root, dirs, files in os.walk(base_dir):\n",
        "    print(root)\n",
        "    for file in sorted(files):\n",
        "        print(f'\\t{file}')"
      ],
      "metadata": {
        "id": "wY9_J-vOnqCq"
      },
      "execution_count": null,
      "outputs": []
    },
    {
      "cell_type": "markdown",
      "source": [
        "####Exercise 22\n",
        "\n",
        "Given the file structure described in Exercise 21: \n",
        "\n",
        "Using the code below:\n",
        "```python\n",
        "for root, dirs, files in os.walk(base_dir):\n",
        "    # enter your solution here\n",
        "```\n",
        "\n",
        "Print to the console sorted names of all files (each name on a separate line) in the following directory:\n",
        "\n",
        "`base_dir = 'images'`\n",
        "\n",
        "\n",
        "Expected result:\n",
        ">001_image.jpg  \n",
        "004_image.jpg  \n",
        "006_image.jpg  \n",
        "007_image.jpg  \n",
        "010_image.jpg  \n",
        "016_image.jpg  \n",
        "017_image.jpg  \n",
        "019_image.jpg  \n",
        "002_image.png  \n",
        "003_image.png  \n",
        "005_image.png  \n",
        "008_image.png  \n",
        "009_image.png  \n",
        "011_image.png  \n",
        "012_image.png  \n",
        "013_image.png  \n",
        "014_image.png  \n",
        "015_image.png  \n",
        "018_image.png"
      ],
      "metadata": {
        "id": "AhlBATepgW7Z"
      }
    },
    {
      "cell_type": "code",
      "source": [
        "import os\n",
        "import random\n",
        "\n",
        "\n",
        "random.seed(30)\n",
        "images = [\n",
        "    f\"{str(i).zfill(3)}_image.{random.choice(['png', 'jpg'])}\" \n",
        "    for i in range(1, 20)\n",
        "]\n",
        "\n",
        "base_dir = 'images'\n",
        "png_dir = os.path.join(base_dir, 'images_png')\n",
        "jpg_dir = os.path.join(base_dir, 'images_jpg')\n",
        "\n",
        "if not os.path.exists(base_dir):\n",
        "    os.mkdir(base_dir)\n",
        "\n",
        "if not os.path.exists(png_dir):\n",
        "    os.mkdir(png_dir)\n",
        "\n",
        "if not os.path.exists(jpg_dir):\n",
        "    os.mkdir(jpg_dir)\n",
        "\n",
        "for image in images:\n",
        "    if image.endswith('.png'):\n",
        "        open(os.path.join(png_dir, image), 'w').close()\n",
        "    elif image.endswith('.jpg'):\n",
        "        open(os.path.join(jpg_dir, image), 'w').close()\n",
        "\n",
        "# all_files = [file for root, dirs, files in os.walk(base_dir) for file in files]\n",
        "# for file in sorted(all_files, key= lambda e: e.split('.')[1]+e.split('.')[0]):\n",
        "#     print(file)\n",
        "\n",
        "for root, dir, files in os.walk(base_dir):\n",
        "    print(files)\n",
        "\n"
      ],
      "metadata": {
        "id": "wR_1aFyfnrFF"
      },
      "execution_count": null,
      "outputs": []
    },
    {
      "cell_type": "markdown",
      "source": [
        "His solution works in a terminal, but not is Colab.\n",
        "When run on 08-JUL-2020 this is what I got.\n",
        "\n",
        "colab|terminal\n",
        "-----|----\n",
        "002_image.png|001_image.jpg\n",
        "003_image.png|004_image.jpg\n",
        "005_image.png|006_image.jpg\n",
        "008_image.png|007_image.jpg\n",
        "009_image.png|010_image.jpg\n",
        "011_image.png|016_image.jpg\n",
        "012_image.png|017_image.jpg\n",
        "013_image.png|019_image.jpg\n",
        "014_image.png|002_image.png\n",
        "015_image.png|003_image.png\n",
        "018_image.png|005_image.png\n",
        "001_image.jpg|008_image.png\n",
        "004_image.jpg|009_image.png\n",
        "006_image.jpg|011_image.png\n",
        "007_image.jpg|012_image.png\n",
        "010_image.jpg|013_image.png\n",
        "016_image.jpg|014_image.png\n",
        "017_image.jpg|015_image.png\n",
        "019_image.jpg|018_image.png"
      ],
      "metadata": {
        "id": "dP7dWrCg-QR5"
      }
    },
    {
      "cell_type": "code",
      "source": [
        "\n",
        "import os\n",
        "import random\n",
        " \n",
        " \n",
        "random.seed(30)\n",
        "images = [\n",
        "    f\"{str(i).zfill(3)}_image.{random.choice(['png', 'jpg'])}\" \n",
        "    for i in range(1, 20)\n",
        "]\n",
        " \n",
        "base_dir = 'images'\n",
        "png_dir = os.path.join(base_dir, 'images_png')\n",
        "jpg_dir = os.path.join(base_dir, 'images_jpg')\n",
        " \n",
        "if not os.path.exists(base_dir):\n",
        "    os.mkdir(base_dir)\n",
        " \n",
        "if not os.path.exists(png_dir):\n",
        "    os.mkdir(png_dir)\n",
        " \n",
        "if not os.path.exists(jpg_dir):\n",
        "    os.mkdir(jpg_dir)\n",
        " \n",
        "for image in images:\n",
        "    if image.endswith('.png'):\n",
        "        open(os.path.join(png_dir, image), 'w').close()\n",
        "    elif image.endswith('.jpg'):\n",
        "        open(os.path.join(jpg_dir, image), 'w').close()\n",
        " \n",
        "for root, dirs, files in os.walk(base_dir):\n",
        "    for file in sorted(files):\n",
        "        print(file)"
      ],
      "metadata": {
        "id": "l-2XogkDnsSI"
      },
      "execution_count": null,
      "outputs": []
    },
    {
      "cell_type": "markdown",
      "source": [
        "This alternative uses _pathlib_ and came from [stackoverflow - walk directories and sort alphabetically](https://stackoverflow.com/questions/6670029/can-i-force-os-walk-to-visit-directories-in-alphabetical-order)."
      ],
      "metadata": {
        "id": "ws7WtS0CKh2W"
      }
    },
    {
      "cell_type": "code",
      "source": [
        "from pathlib import Path\n",
        "# Directories, per original question.\n",
        "print('Spew Directories', '-'* 80)\n",
        "ignore = [print(p) for p in sorted(Path('images').glob('**/*')) if p.is_dir()]\n",
        "# Files, like I usually need.\n",
        "print('Spew Files', '-'* 80)\n",
        "ignore = [print(p) for p in sorted(Path('images').glob('**/*')) if p.is_file()]"
      ],
      "metadata": {
        "id": "cts3LEmpJylP"
      },
      "execution_count": null,
      "outputs": []
    },
    {
      "cell_type": "markdown",
      "source": [
        "####Exercise 23\n",
        "\n",
        "The names of files related to sales in a certain company was generated (_fnames_ list):\n",
        "\n",
        ">[\n",
        "    '001_sales.csv',\n",
        "    '002_sales.csv',\n",
        "    '003_sales.csv',\n",
        "    '004_sales.csv',\n",
        "    '005_sales.csv',\n",
        "    '006_sales.csv',\n",
        "    '007_sales.csv',\n",
        "    '008_sales.csv',\n",
        "    '009_sales.csv',\n",
        "    '010_sales.csv',\n",
        "    '011_sales.csv',\n",
        "    '012_sales.csv',\n",
        "    '013_sales.csv',\n",
        "    '014_sales.csv',\n",
        "    '015_sales.csv',\n",
        "    '016_sales.csv',\n",
        "    '017_sales.csv',\n",
        "    '018_sales.csv',\n",
        "    '019_sales.csv',\n",
        "    '020_sales.csv',\n",
        "    '021_sales.csv',\n",
        "    '022_sales.csv',\n",
        "    '023_sales.csv',\n",
        "    '024_sales.csv',\n",
        "]\n",
        "\n",
        "\n",
        "Using the built-in _os_ module combine the path to the current working directory with the name of each file and assign it to the paths list.\n",
        "\n",
        "In response, print paths list to the console.\n",
        "\n",
        "Tip:\n",
        "> help(os.path.join)\n",
        " \n",
        "Help on function join in module [_os.path_](https://docs.python.org/3/library/os.path.html?highlight=ntpath#module-os.path0:)\n",
        " \n",
        "`join(path, *paths)` joins two (or more) paths.\n",
        "\n",
        "\n",
        "Expected result:\n",
        ">```\n",
        "['/eval/001_sales.csv', '/eval/002_sales.csv', \n",
        "'/eval/003_sales.csv', '/eval/004_sales.csv', \n",
        "'/eval/005_sales.csv', '/eval/006_sales.csv', \n",
        "'/eval/007_sales.csv', '/eval/008_sales.csv', \n",
        "'/eval/009_sales.csv', '/eval/010_sales.csv', \n",
        "'/eval/011_sales.csv', '/eval/012_sales.csv', \n",
        "'/eval/013_sales.csv', '/eval/014_sales.csv', \n",
        "'/eval/015_sales.csv', '/eval/016_sales.csv', \n",
        "'/eval/017_sales.csv', '/eval/018_sales.csv', \n",
        "'/eval/019_sales.csv', '/eval/020_sales.csv', \n",
        "'/eval/021_sales.csv', '/eval/022_sales.csv', \n",
        "'/eval/023_sales.csv', '/eval/024_sales.csv']\n",
        "```\n",
        "\n"
      ],
      "metadata": {
        "id": "jx55D6xegXHY"
      }
    },
    {
      "cell_type": "code",
      "source": [
        "import os\n",
        "import os.path \n",
        "\n",
        "\n",
        "fnames = [f\"{str(i).zfill(3)}_sales.csv\" for i in range(1, 25)]\n",
        "\n",
        "joined = [os.path.join('/eval', name) for name in fnames]\n",
        "print(joined)"
      ],
      "metadata": {
        "id": "j_8HAXFeMe8Z"
      },
      "execution_count": null,
      "outputs": []
    },
    {
      "cell_type": "markdown",
      "source": [
        "####Exercise 24\n",
        "\n",
        "The names of files related to sales in a certain company was generated (fnames list):\n",
        "\n",
        ">[\n",
        "    '01_sales.csv',\n",
        "    '02_sales.csv',\n",
        "    '03_sales.csv',\n",
        "    '04_sales.csv',\n",
        "    '05_sales.csv',\n",
        "    '06_sales.csv',\n",
        "    '07_sales.csv',\n",
        "    '08_sales.csv',\n",
        "    '09_sales.csv',\n",
        "    '10_sales.csv',\n",
        "    '11_sales.csv',\n",
        "    '12_sales.csv',\n",
        "    '13_sales.csv',\n",
        "    '14_sales.csv',\n",
        "    '15_sales.csv',\n",
        "    '16_sales.csv',\n",
        "    '17_sales.csv',\n",
        "    '18_sales.csv',\n",
        "    '19_sales.csv',\n",
        "    '20_sales.csv',\n",
        "    '21_sales.csv',\n",
        "    '22_sales.csv',\n",
        "    '23_sales.csv',\n",
        "    '24_sales.csv',\n",
        "]\n",
        "\n",
        "\n",
        "The path to the working directory:\n",
        "_/eval_\n",
        "\n",
        "\n",
        "Using the built-in os module transform the names of the files (fnames list). Set the first 12 files to directory called 2020, the next 12 files to directory called 2021. Assign absolute paths to the paths variable (list).\n",
        "\n",
        "In response, print each path on a newline.\n",
        "\n",
        "\n",
        "\n",
        "Tip:\n",
        "> help(os.path.join)\n",
        " \n",
        "Help on function join in module _os.path_:\n",
        "join(path, *paths) joins two (or more) paths.\n",
        "\n",
        "\n",
        "Expected result:\n",
        ">```\n",
        "/eval/2020/01_sales.csv /eval/2020/02_sales.csv\n",
        "/eval/2020/03_sales.csv /eval/2020/04_sales.csv\n",
        "/eval/2020/05_sales.csv /eval/2020/06_sales.csv\n",
        "/eval/2020/07_sales.csv /eval/2020/08_sales.csv\n",
        "/eval/2020/09_sales.csv /eval/2020/10_sales.csv\n",
        "/eval/2020/11_sales.csv /eval/2020/12_sales.csv\n",
        "/eval/2021/13_sales.csv /eval/2021/14_sales.csv\n",
        "/eval/2021/15_sales.csv /eval/2021/16_sales.csv\n",
        "/eval/2021/17_sales.csv /eval/2021/18_sales.csv\n",
        "/eval/2021/19_sales.csv /eval/2021/20_sales.csv\n",
        "/eval/2021/21_sales.csv /eval/2021/22_sales.csv\n",
        "/eval/2021/23_sales.csv /eval/2021/24_sales.csv\n",
        "```"
      ],
      "metadata": {
        "id": "ZZW-0uIvgXXA"
      }
    },
    {
      "cell_type": "code",
      "source": [
        "import os \n",
        "import os.path\n",
        "\n",
        "\n",
        "fnames = [f\"{str(i).zfill(2)}_sales.csv\" for i in range(1, 25)]\n",
        "\n",
        "for i in range(12):\n",
        "    print(os.path.join('/eval', '2020',fnames[i]))\n",
        "for i in range(12, len(fnames)):\n",
        "    print(os.path.join('/eval', '2021',fnames[i]))"
      ],
      "metadata": {
        "id": "ePcbOG7TntUD"
      },
      "execution_count": null,
      "outputs": []
    },
    {
      "cell_type": "markdown",
      "source": [
        "His solution is using a [_conditional expression_](https://docs.python.org/3/reference/expressions.html#conditional-expressions) as the expression in a list comprehension."
      ],
      "metadata": {
        "id": "GulcAzsywy2I"
      }
    },
    {
      "cell_type": "code",
      "source": [
        "import os \n",
        "import os.path\n",
        "\n",
        "\n",
        "fnames = [f\"{str(i).zfill(2)}_sales.csv\" for i in range(1, 25)]\n",
        "# his solution\n",
        "paths = [\n",
        "    os.path.join(os.getcwd(), '2020', fname) \n",
        "    if idx < 12 else os.path.join(os.getcwd(), '2021', fname) \n",
        "    for idx, fname in enumerate(fnames)\n",
        "]\n",
        "         \n",
        "for path in paths:\n",
        "    print(path)"
      ],
      "metadata": {
        "id": "q0jSOSiPojAl"
      },
      "execution_count": null,
      "outputs": []
    },
    {
      "cell_type": "markdown",
      "source": [
        "####Exercise 25\n",
        "The list of absolute directory paths is given:  \n",
        "[\n",
        "    '/eval/dir_01',\n",
        "    '/eval/dir_02',\n",
        "    '/eval/dir_03',\n",
        "    '/eval/dir_04',\n",
        "    '/eval/dir_05',\n",
        "    '/eval/dir_06',\n",
        "    '/eval/dir_07',\n",
        "    '/eval/dir_08',\n",
        "    '/eval/dir_09',\n",
        "    '/eval/dir_10',\n",
        "    '/eval/dir_11',\n",
        "    '/eval/dir_12',\n",
        "    '/eval/dir_13',\n",
        "]\n",
        "\n",
        "\n",
        "Create the given directories using the built-in _os_ module. Then remove the directory _dir_13_.\n",
        "\n",
        "In response, print the sorted directory names from the working directory with exactly six characters long.\n",
        "\n",
        "Tip:\n",
        "help(os.rmdir)  \n",
        "`rmdir(path, *, dir_fd=None)` removes a directory.\n",
        "\n",
        "Expected result:\n",
        ">['dir_01', 'dir_02', 'dir_03', 'dir_04', 'dir_05', 'dir_06', 'dir_07', 'dir_08', 'dir_09', 'dir_10', 'dir_11', 'dir_12']"
      ],
      "metadata": {
        "id": "7As9yWK0gXiT"
      }
    },
    {
      "cell_type": "code",
      "source": [
        "import os\n",
        "\n",
        "\n",
        "paths = [\n",
        "    os.path.join(os.getcwd(), f'dir_{str(i).zfill(2)}')\n",
        "    for i in range(1, 14)\n",
        "]\n",
        "\n",
        "for path in paths:\n",
        "    if not os.path.exists(path):\n",
        "        os.mkdir(path)\n",
        "\n",
        "os.rmdir(os.path.join(os.getcwd(), 'dir_13'))\n",
        "\n",
        "leftover = sorted([file for file in os.listdir(os.getcwd()) if len(file) == 6])\n",
        "print(leftover)\n",
        "\n",
        "print('OR','-' * 80)\n",
        "\n",
        "leftover = [file for file in sorted(os.listdir(os.getcwd())) if len(file) == 6]\n",
        "print(leftover)"
      ],
      "metadata": {
        "id": "gTkY6qyTnub5"
      },
      "execution_count": null,
      "outputs": []
    },
    {
      "cell_type": "markdown",
      "source": [
        "Cleanup"
      ],
      "metadata": {
        "id": "Ry2bZcZm0bu3"
      }
    },
    {
      "cell_type": "code",
      "source": [
        "import os\n",
        "\n",
        "\n",
        "paths = [\n",
        "    os.path.join(os.getcwd(), f'dir_{str(i).zfill(2)}')\n",
        "    for i in range(1, 14)\n",
        "]\n",
        "\n",
        "for path in paths:\n",
        "    if  os.path.exists(path):\n",
        "        os.rmdir(path)\n"
      ],
      "metadata": {
        "id": "imyFgLCi0ax_"
      },
      "execution_count": null,
      "outputs": []
    },
    {
      "cell_type": "markdown",
      "source": [
        "# Section: sys\n",
        "\n",
        "[sys](https://docs.python.org/3.8/library/sys)\n",
        "\n",
        "To run the exercises that require scripts, create the .py files and upload in 'Files' section on the right. There is no need to involve GitHub or Google Drive."
      ],
      "metadata": {
        "id": "B_qVvMqXNpss"
      }
    },
    {
      "cell_type": "markdown",
      "source": [
        "####Exercise 26\n",
        "\n",
        "Using the _sys_ built-in module print the absolute path to the executable binary file for the Python interpreter.\n",
        "\n",
        "Expected result:\n",
        ">/usr/bin/python3.8\n"
      ],
      "metadata": {
        "id": "2ZXMphr2exCS"
      }
    },
    {
      "cell_type": "code",
      "source": [
        "import sys\n",
        "print(sys.executable)"
      ],
      "metadata": {
        "id": "kOCyR7t7YuyB"
      },
      "execution_count": null,
      "outputs": []
    },
    {
      "cell_type": "markdown",
      "source": [
        "####Exercise 27\n",
        "\n",
        "Using the _sys_ built-in module print the path list where Python looks for modules.\n",
        "\n",
        "\n",
        "\n",
        "Expected result:\n",
        ">['/eval', '/usr/lib/python38.zip', '/usr/lib/python3.8', '/usr/lib/python3.8/lib-dynload', '/usr/local/lib/python3.8/dist-packages', '/usr/lib/python3/dist-packages']\n"
      ],
      "metadata": {
        "id": "QFLNFFwx1NN4"
      }
    },
    {
      "cell_type": "code",
      "source": [
        "import sys\n",
        "print(sys.path)"
      ],
      "metadata": {
        "id": "IEsKvmdLZlcQ"
      },
      "execution_count": null,
      "outputs": []
    },
    {
      "cell_type": "markdown",
      "source": [
        "####Exercise 28\n",
        "\n",
        "Do this exercise in the command line.\n",
        "\n",
        "Using the _sys_ built-in module create a script that prints all arguments passed to the console while calling the script (each argument on a separate line).\n",
        "\n",
        "\n",
        "\n",
        "Example:\n",
        "```\n",
        "python examply.py arg1 arg2 arg3[link text](https://)\n",
        "```\n",
        "\n",
        "Content of script _sys_argv_example.py_\n",
        "```python\n",
        "import sys\n",
        " \n",
        "for arg in sys.argv[1:]:\n",
        "    print(arg)\n",
        "```"
      ],
      "metadata": {
        "id": "DgXslHKI1NZ2"
      }
    },
    {
      "cell_type": "code",
      "source": [
        "!ls sys_argv_example\n",
        "\n",
        "!python sys_argv_example.py arg1 arg2 agr3"
      ],
      "metadata": {
        "id": "Ddh72GQXoVG_"
      },
      "execution_count": null,
      "outputs": []
    },
    {
      "cell_type": "markdown",
      "source": [
        "####Exercise 29\n",
        "\n",
        "Do this exercise in the command line.\n",
        "\n",
        "Using the built-in _sys_ module create a script called _example.py_ that calculates the sum of the first two arguments.\n",
        "\n",
        "To run:\n",
        "```\n",
        "python example.py 24 6\n",
        "```\n",
        "\n",
        "_example.py_ content:\n",
        "```python\n",
        "import sys\n",
        " \n",
        " \n",
        "if len(sys.argv) > 2:\n",
        "    result = int(sys.argv[1]) + int(sys.argv[2])\n",
        "    print(result)\n",
        "```"
      ],
      "metadata": {
        "id": "vkreSfGT1Nkb"
      }
    },
    {
      "cell_type": "code",
      "source": [
        "!ls\n",
        "\n",
        "!python example.py 24 6"
      ],
      "metadata": {
        "id": "liP68rnpot5Z"
      },
      "execution_count": null,
      "outputs": []
    },
    {
      "cell_type": "markdown",
      "source": [
        "####Exercise 30\n",
        "\n",
        "Do this exercise in the command line.\n",
        "\n",
        "Using the built-in _sys_ module create a script called _calculate_average.py_, which calculates the arithmetic mean (round the result to four decimal places) of the arguments passed. In case the user doesn't provide any argument, the script returns the following information:\n",
        "_'No values were given.'_\n",
        "\n",
        "\n",
        "Examples:\n",
        "```\n",
        "python calculate_average.py 5 9 4\n",
        "Average: 6.0000\n",
        "\n",
        "python calculate_average.py\n",
        "No values were given.\n",
        "```\n",
        "\n",
        "My calculate_average.py\n",
        "```python\n",
        "import sys\n",
        "import math\n",
        "\n",
        "if len(sys.argv) > 1:\n",
        "    ints = [int(arg) for arg in sys.argv[1:]] \n",
        "    total = sum(ints)\n",
        "    average = total / len(ints)\n",
        "    print(f'Average: {average:.4f}')\n",
        "else:\n",
        "    print('No values were given.')\n",
        "\n",
        "```\n"
      ],
      "metadata": {
        "id": "gSJXxMQz1Nwd"
      }
    },
    {
      "cell_type": "code",
      "source": [
        "!ls\n",
        "\n",
        "!python calculate_average.py 5 9 4\n",
        "!python calculate_average.py"
      ],
      "metadata": {
        "id": "MECtZTj3nOW0"
      },
      "execution_count": null,
      "outputs": []
    },
    {
      "cell_type": "markdown",
      "source": [
        "####Exercise 31\n",
        "\n",
        "Do this exercise in the command line.\n",
        "\n",
        "Using the _sys_ built-in module create a script called _redirection.py_ which redirects standard output to the file called _logs.txt_ and write to it the result of the following code:\n",
        "```\n",
        "print('Logging...')\n",
        "print('Connecting...')\n",
        "print('Closing...')\n",
        "```\n",
        "\n",
        "Then return to the default settings (default stdout) and print the text to the console:\n",
        "```\n",
        "'Completed successfully'\n",
        "```\n",
        "\n",
        "Example:\n",
        "Use _ls_ to see absence and presence of _logs.txt_\n",
        "```\n",
        "!ls -l\n",
        "!python redirection.py\n",
        "!ls -l\n",
        "!cat logs.txt\n",
        "Logging...\n",
        "Connection...\n",
        "Closing...\n",
        "\n",
        "```\n",
        "\n",
        "_redirection.py_ content:\n",
        "```python\n",
        "import sys\n",
        "\n",
        "with open('logs.txt', 'w') as f:\n",
        "    sys.stdout = f\n",
        "    print('Logging...')\n",
        "    print('Connecting...')\n",
        "    print('Closing...:')\n",
        "\n",
        "```\n"
      ],
      "metadata": {
        "id": "mBPeOKbe1N6t"
      }
    },
    {
      "cell_type": "code",
      "source": [
        "!ls -l\n",
        "!python redirection.py\n",
        "!ls -l\n",
        "!cat logs.txt"
      ],
      "metadata": {
        "id": "rHGFjq-Nstdg"
      },
      "execution_count": null,
      "outputs": []
    },
    {
      "cell_type": "markdown",
      "source": [
        "# Section: copy\n",
        "\n",
        "[copy](https://docs.python.org/3.8/library/copy)"
      ],
      "metadata": {
        "id": "6mF5WAJkNqr8"
      }
    },
    {
      "cell_type": "markdown",
      "source": [
        "####Exercise 32 _copy.copy()_\n",
        "\n",
        "Using the built-in _copy_ module, make a __shallow copy__ of the following stocks list:\n",
        "\n",
        "stocks = [['CDR', '11B'], ['PLW'], ['TEN']]\n",
        "\n",
        "\n",
        "and assign to the _stocks_copied variable_. Replace '11B' in the first element of the stocks list with 'CRJ'.\n",
        "\n",
        "Note the values in the stocks_copied list. Print both stocks and stocks_copied lists (each as a separate line) as shown below.\n",
        "\n",
        "Tip:\n",
        "> help(copy.copy)\n",
        "\n",
        "Expected result:\n",
        ">stocks: [['CDR', 'CRJ'], ['PLW'], ['TEN']]  \n",
        "stocks_copied: [['CDR', 'CRJ'], ['PLW'], ['TEN']]"
      ],
      "metadata": {
        "id": "_VYl4JL3gmvl"
      }
    },
    {
      "cell_type": "code",
      "source": [
        "import copy\n",
        "\n",
        "\n",
        "stocks = [['CDR', '11B'], ['PLW'], ['TEN']]\n",
        "stocks_copied = copy.copy(stocks)\n",
        "\n",
        "stocks[0][1] = 'CRJ'\n",
        "\n",
        "print(f'stocks: {stocks}')\n",
        "print(f'stocks_copied: {stocks_copied}')"
      ],
      "metadata": {
        "id": "X2sztKCseNBC"
      },
      "execution_count": null,
      "outputs": []
    },
    {
      "cell_type": "markdown",
      "source": [
        "####Exercise 33 _copy.deepcopy()_\n",
        "\n",
        "Using the built-in _copy_ module, make a __deep copy__ of the following stocks list:\n",
        "\n",
        "stocks = [['CDR', '11B'], ['PLW'], ['TEN']]\n",
        "\n",
        "\n",
        "and assign to the _stocks_copied_ variable. Replace '11B' in the first element of the stocks list with 'CRJ'.\n",
        "\n",
        "Note the values in the stocks_copied list. Print both stocks and stocks_copied lists (each as a separate line) as shown below.\n",
        "\n",
        "Expected result:\n",
        ">stocks: [['CDR', 'CRJ'], ['PLW'], ['TEN']]  \n",
        "stocks_copied: [['CDR', '11B'], ['PLW'], ['TEN']]\n"
      ],
      "metadata": {
        "id": "cOpEGTye2Ca4"
      }
    },
    {
      "cell_type": "code",
      "source": [
        "import copy\n",
        "\n",
        "stocks = [['CDR', '11B'], ['PLW'], ['TEN']]\n",
        "stocks_copied = copy.deepcopy(stocks)\n",
        "\n",
        "stocks[0][1] = 'CRJ'\n",
        "\n",
        "print(f'stocks: {stocks}')\n",
        "print(f'stocks_copied: {stocks_copied}')"
      ],
      "metadata": {
        "id": "HxvlHJzofwGu"
      },
      "execution_count": null,
      "outputs": []
    },
    {
      "cell_type": "markdown",
      "source": [
        "# Section: string\n",
        "\n",
        "[string](https://docs.python.org/3.8/library/string)"
      ],
      "metadata": {
        "id": "JIQLPBX815jh"
      }
    },
    {
      "cell_type": "markdown",
      "source": [
        "####Exercise 34 _string.ascii_lowercase_\n",
        "\n",
        "Using the built-in _string_ module, create a dictionary that allows you to map indices from 0 to 25 to lowercase letters (_ascii_lowercase_) and assign it to the _code_map_ variable:\n",
        "\n",
        "{\n",
        "    0: 'a',\n",
        "    1: 'b',\n",
        "    2: 'c',\n",
        "    3: 'd',\n",
        "    ...\n",
        "    23: 'x',\n",
        "    24: 'y',\n",
        "    25: 'z',\n",
        "}\n",
        "\n",
        "\n",
        "Then replace the values ​​with keys in the _code_map_ dictionary and assign to the _code_map_inv_ variable:\n",
        "\n",
        "\n",
        "\n",
        "{\n",
        "    'a': 0,\n",
        "    'b': 1,\n",
        "    'c': 2,\n",
        "    ...\n",
        "    'x': 23,\n",
        "    'y': 24,\n",
        "    'z': 25,\n",
        "}\n",
        "\n",
        "\n",
        "A text document is given:\n",
        "\n",
        "docs = 'programming in python'\n",
        "\n",
        "\n",
        "Using the _code_map_ and _code_map_inv_ dictionaries, encode the _docs_ in such a way that each letter is shifted by three letters alphabetically (leave the spaces in the document unchanged).\n",
        "\n",
        "In response, print the encoded document to the console.\n",
        "\n",
        "\n",
        "\n",
        "Expected result:\n",
        ">surjudpplqj lq sbwkrq\n",
        "\n"
      ],
      "metadata": {
        "id": "CxSneOHs2BHz"
      }
    },
    {
      "cell_type": "code",
      "source": [
        "import string\n",
        "\n",
        "docs = 'programming in python'\n",
        "\n",
        "code_map = {index:value for index, value in enumerate(string.ascii_lowercase)}\n",
        "# print(code_map)\n",
        "\n",
        "\n",
        "code_map_inv = {v:k for k,v in code_map.items()}\n",
        "# print(code_map_inv)\n",
        "\n",
        "result = ''\n",
        "for c in docs:\n",
        "\n",
        "    if c in string.ascii_lowercase:\n",
        "        inv = code_map_inv[c]\n",
        "        result += code_map[(inv + 3) % len(string.ascii_lowercase)]\n",
        "    else:\n",
        "        result += c\n",
        "\n",
        "\n",
        "print(result)"
      ],
      "metadata": {
        "id": "Q4cnK_o2hm7j"
      },
      "execution_count": null,
      "outputs": []
    },
    {
      "cell_type": "markdown",
      "source": [
        "####Exercise 35 _string.Template_\n",
        "\n",
        "Using the _Template_ class from the _string_ built-in module create an email template. Sample e-mail below:\n",
        "\n",
        ">Hello John,\n",
        "> \n",
        ">Thank you for visiting our website.\n",
        ">Team, XYZ\n",
        "\n",
        "\n",
        "The template should allow you to change the name in the first line of the message.\n",
        "\n",
        "Then for the following list:\n",
        "\n",
        "names = ['John', 'Paul', 'Lisa', 'Michael']\n",
        "\n",
        "\n",
        "print the content of personalized emails to the console. Separate each e-mail with a line consisting of 35 characters '-' as shown below.\n",
        "\n",
        "\n",
        "\n",
        "Tip:\n",
        "> help(string.Template)\n",
        "\n",
        "\n",
        "\n",
        "Expected result:\n",
        "```\n",
        "Hello John,\n",
        "\n",
        "Thank you for visiting our website.\n",
        "Team, XYZ\n",
        "-----------------------------------\n",
        "Hello Paul,\n",
        "\n",
        "Thank you for visiting our website.\n",
        "Team, XYZ\n",
        "-----------------------------------\n",
        "Hello Lisa,\n",
        " \n",
        "Thank you for visiting our website.\n",
        "Team, XYZ\n",
        "-----------------------------------\n",
        "Hello Michael,\n",
        " \n",
        "Thank you for visiting our website.\n",
        "Team, XYZ\n",
        "-----------------------------------\n",
        "```\n"
      ],
      "metadata": {
        "id": "NlaCWqv12BpC"
      }
    },
    {
      "cell_type": "code",
      "source": [
        "import string\n",
        "\n",
        "\n",
        "tpl= \"\"\"Hello $name,\n",
        " \n",
        "Thank you for visiting our website.\n",
        "Team, XYZ\n",
        "\"\"\"\n",
        "\n",
        "for name in  ['John', 'Paul', 'Lisa', 'Michael']:\n",
        "    template = string.Template(tpl + '-'  * 35)\n",
        "    print(template.substitute(name=name))"
      ],
      "metadata": {
        "id": "61sn9ojiFwaX"
      },
      "execution_count": null,
      "outputs": []
    },
    {
      "cell_type": "markdown",
      "source": [
        "# Section: re\n",
        "[re](https://docs.python.org/3.8/library/re)"
      ],
      "metadata": {
        "id": "-tqKXoLl2KEY"
      }
    },
    {
      "cell_type": "markdown",
      "source": [
        "####Exercise 36 _re.findall()_\n",
        "Exercise 1\n",
        "Using the built-in _re_ module that allows you to work with regular expressions in Python extract all the numbers as a list from the following text:\n",
        "\n",
        "text = 'Python 3.8'\n",
        "\n",
        "and print to the console.\n",
        "\n",
        "Tip:\n",
        "> help(re.findall)\n",
        " \n",
        "Help on function findall in module re:\n",
        " \n",
        "`findall(pattern, string, flags=0)`\n",
        "\n",
        "Expected result:\n",
        ">['3', '8']\n",
        "\n"
      ],
      "metadata": {
        "id": "I_eMbyI32Bxh"
      }
    },
    {
      "cell_type": "code",
      "source": [
        "import re\n",
        "\n",
        "text = 'Python 3.8'\n",
        "print(re.findall(r'\\d', text))"
      ],
      "metadata": {
        "id": "6HJywqM5KmcQ"
      },
      "execution_count": null,
      "outputs": []
    },
    {
      "cell_type": "markdown",
      "source": [
        "####Exercise 37 _re.findall()_\n",
        "\n",
        "Using the built-in _re_ module extract all _non-numeric_ characters as a list from the following text:\n",
        "\n",
        "text = 'Python 3.8'\n",
        "\n",
        "and print to the console.\n",
        "\n",
        "Tip:\n",
        ">`findall(pattern, string, flags=0)`\n",
        "\n",
        "\n",
        "Expected result:\n",
        ">['P', 'y', 't', 'h', 'o', 'n', ' ', '.']\n"
      ],
      "metadata": {
        "id": "jYf7XPO6gy5p"
      }
    },
    {
      "cell_type": "code",
      "source": [
        "import re\n",
        "\n",
        "text = 'Python 3.8'\n",
        "print(re.findall(r'\\D', text))"
      ],
      "metadata": {
        "id": "Tu88V95ILkLo"
      },
      "execution_count": null,
      "outputs": []
    },
    {
      "cell_type": "markdown",
      "source": [
        "####Exercise 38 _re.findall()_\n",
        "Exercise 3\n",
        "Using the built-in _re- module extract all digits except zero as a list from following code:\n",
        "\n",
        "code = '0010-000-423'\n",
        "\n",
        "and print to the console.\n",
        "\n",
        "Tip:\n",
        ">`findall(pattern, string, flags=0)`\n",
        "\n",
        "Expected result:\n",
        ">['1', '4', '2', '3']\n"
      ],
      "metadata": {
        "id": "PkLfz0c5gzDf"
      }
    },
    {
      "cell_type": "code",
      "source": [
        "import re\n",
        "\n",
        "\n",
        "code = '0010-000-423'\n",
        "\n",
        "print(re.findall(r'[^0-]', code))"
      ],
      "metadata": {
        "id": "76P_K7mAMaWW"
      },
      "execution_count": null,
      "outputs": []
    },
    {
      "cell_type": "markdown",
      "source": [
        "####Exercise 39 _re.findall()_\n",
        "Exercise 4\n",
        "Using the built-in module _re_ and the appropriate regular expression, extract from the following code:\n",
        "\n",
        "code = '0010-000-423-22'\n",
        "\n",
        "a list of the following values:\n",
        "\n",
        "['0010', '000', '423', '22']\n",
        "\n",
        "\n",
        "In response, print this list to the console.\n",
        "\n",
        "Tip:\n",
        ">`findall(pattern, string, flags=0)`   \n",
        ">`split(pattern, string, maxsplit=0, flags=0)`\n",
        "\n",
        "Expected result:\n",
        ">['0010', '000', '423', '22']\n"
      ],
      "metadata": {
        "id": "AT8cJLzpIyxg"
      }
    },
    {
      "cell_type": "code",
      "source": [
        "import re\n",
        "\n",
        "code = '0010-000-423-22'\n",
        "\n",
        "# solution 1\n",
        "print(re.findall(pattern=r\"[^-]+\", string=code))\n",
        "\n",
        "# solution 2\n",
        "print(re.split('-', code))"
      ],
      "metadata": {
        "id": "OiMTdMddNUHd"
      },
      "execution_count": null,
      "outputs": []
    },
    {
      "cell_type": "markdown",
      "source": [
        "####Exercise 40 _re.findall()_\n",
        "\n",
        "Using the built-in _re_ module and the appropriate regular expression, extract from the following code:\n",
        "\n",
        "code = 'PL code: XG-GH-110'\n",
        "\n",
        "a list of the following values:\n",
        "\n",
        "['PL', '110']\n",
        "\n",
        "\n",
        "In response, print this list to the console.\n",
        "\n",
        "\n",
        "\n",
        "Tip:\n",
        ">`findall(pattern, string, flags=0)`\n",
        "\n",
        "Expected result:\n",
        ">['PL', '110']"
      ],
      "metadata": {
        "id": "Pu_lebZ8I165"
      }
    },
    {
      "cell_type": "code",
      "source": [
        "import re\n",
        "\n",
        "code = 'PL code: XG-GH-110'\n",
        "\n",
        "words = re.findall(r'\\w+', code)\n",
        "print([words[0], words[-1]])\n",
        "\n",
        "# using -or- expression\n",
        "print(re.findall(pattern=r\"PL|\\d+\", string=code))"
      ],
      "metadata": {
        "id": "CzhDgIQmOQvT"
      },
      "execution_count": null,
      "outputs": []
    },
    {
      "cell_type": "markdown",
      "source": [
        "####Exercise 41 _re.findall()_\n",
        "The following text is given:  \n",
        "`\n",
        "text = (\n",
        "    \"Please send an email to info@template.com or \"\n",
        "    \"sales-info@template.it\"\n",
        ")\n",
        "`\n",
        "\n",
        "Using the built-in _re_ module extract all e-mail addresses from the text and print to the console.\n",
        "\n",
        "Tip:\n",
        ">`findall(pattern, string, flags=0)`\n",
        "\n",
        "\n",
        "Expected result:\n",
        ">['info@template.com', 'sales-info@template.it']\n"
      ],
      "metadata": {
        "id": "vgcO9DHeI5R9"
      }
    },
    {
      "cell_type": "code",
      "source": [
        "import re\n",
        "\n",
        "\n",
        "text = \"Please send an email to info@template.com or sales-info@template.it\"\n",
        "\n",
        "# use '+' because '*' is to loose\n",
        "print(re.findall(r'\\b[\\w\\.-]+@[\\w\\.-]+', text))"
      ],
      "metadata": {
        "id": "rmXVdh-gRjXP"
      },
      "execution_count": null,
      "outputs": []
    },
    {
      "cell_type": "markdown",
      "source": [
        "####Exercise 42 _re.findall()_\n",
        "\n",
        "The following text is given:\n",
        "```\n",
        "text = \"\"\"Python plays a key role in our production pipeline.\n",
        "Without it a project the size of Star Wars: Episode II would have been very difficult to pull off.\"\"\"\n",
        "```\n",
        "\n",
        "Using the built-in _re_ module split the text into words/tokens as shown below. Print the result to the console. Pay attention to punctuation marks.\n",
        "\n",
        "Tip:\n",
        "`findall(pattern, string, flags=0)`\n",
        "\n",
        "Expected result:\n",
        ">['Python', 'plays', 'a', 'key', 'role', 'in', 'our', 'production', 'pipeline', 'Without', 'it', 'a', 'project', 'the', 'size', 'of', 'Star', 'Wars', 'Episode', 'II', 'would', 'have', 'been', 'very', 'difficult', 'to', 'pull', 'off']\n"
      ],
      "metadata": {
        "id": "ckWREV74I5dk"
      }
    },
    {
      "cell_type": "code",
      "source": [
        "import re\n",
        "\n",
        "text = \"\"\"Python plays a key role in our production pipeline.\n",
        "Without it a project the size of Star Wars: Episode II would have been very difficult to pull off.\"\"\"\n",
        "\n",
        "print(re.findall(r'\\w+', text))"
      ],
      "metadata": {
        "id": "kYMw8kh7eOgC"
      },
      "execution_count": null,
      "outputs": []
    },
    {
      "cell_type": "markdown",
      "source": [
        "####Exercise 43 _re.findall()_\n",
        "\n",
        "The following text is given:\n",
        "```\n",
        "text = \"\"\"Python plays a key role in our production pipeline.\n",
        "Without it a project the size of Star Wars: Episode II would have been very difficult to pull off.\"\"\"\n",
        "```\n",
        "\n",
        "Using the built-in _re_ module find all words that start with a capital letter. Print the result to the console.\n",
        "\n",
        "\n",
        "\n",
        "Tip:\n",
        ">`findall(pattern, string, flags=0)`\n",
        "\n",
        "Expected result:\n",
        ">['Python', 'Without', 'Star', 'Wars', 'Episode', 'II']\n",
        "\n"
      ],
      "metadata": {
        "id": "h-4P6A3fI5oJ"
      }
    },
    {
      "cell_type": "code",
      "source": [
        "import re\n",
        "\n",
        "\n",
        "text = \"\"\"Python plays a key role in our production pipeline.\n",
        "Without it a project the size of Star Wars: Episode II would have been very difficult to pull off.\"\"\"\n",
        "\n",
        "\n",
        "print(re.findall(r'[A-Z]\\w+', text))"
      ],
      "metadata": {
        "id": "hiOxdvslgLnV"
      },
      "execution_count": null,
      "outputs": []
    },
    {
      "cell_type": "markdown",
      "source": [
        "####Exercise 44 _re.findall()_\n",
        "\n",
        "The following message is given:\n",
        "\n",
        "message = 'For more information, please call: 123-456-789'\n",
        "\n",
        "\n",
        "Using the built-in _re_ module extract the phone number from the given message.\n",
        "\n",
        "In response, print the result to the console.\n",
        "\n",
        "\n",
        "\n",
        "Tip:\n",
        ">findall(pattern, string, flags=0)\n",
        "\n",
        "Expected result:\n",
        ">123-456-789\n"
      ],
      "metadata": {
        "id": "ShNymFnDI5_r"
      }
    },
    {
      "cell_type": "code",
      "source": [
        "import re\n",
        "message = 'For more information, please call: 123-456-789'\n",
        "\n",
        "print(re.findall(r'\\d{3}-\\d{3}-\\d{3}', message)[0])"
      ],
      "metadata": {
        "id": "ndOzviDKidxa"
      },
      "execution_count": null,
      "outputs": []
    },
    {
      "cell_type": "markdown",
      "source": [
        "####Exercise 45 _re.sub()_\n",
        "\n",
        "The following text is given:\n",
        "\n",
        "text = (\n",
        "    \"Please send an email to info@template.com or \"\n",
        "    \"call to: 123-456-789.\"\n",
        ")\n",
        "\n",
        "\n",
        "Using the built-in _re_ module mask the telephone number as follows `***-***-***`.\n",
        "\n",
        "In response, print this text to the console.\n",
        "\n",
        "Tip:\n",
        ">help(re.sub)\n",
        "\n",
        "Expected result:\n",
        ">`Please send an email to info@template.com or call to: ***-***-***.`"
      ],
      "metadata": {
        "id": "KB5wBRnCI6Yr"
      }
    },
    {
      "cell_type": "code",
      "source": [
        "import re\n",
        "\n",
        "text = (\n",
        "    \"Please send an email to info@template.com or \"\n",
        "    \"call to: 123-456-789.\"\n",
        ")\n",
        "\n",
        "print(re.sub(r'\\d', '*', text))\n",
        "\n",
        "# alternate\n",
        "print(re.sub(r\"\\d{3}-\\d{3}-\\d{3}\", '***-***-***', text))"
      ],
      "metadata": {
        "id": "QY4_q0x0jvJg"
      },
      "execution_count": null,
      "outputs": []
    },
    {
      "cell_type": "markdown",
      "source": [
        "# Section: collections\n",
        "\n",
        "###Links\n",
        "[collections](https://docs.python.org/3.8/library/collections)\n",
        "\n",
        "* [Counter](https://docs.python.org/3/library/collections.html#collections.Counter)\n",
        "* [ChainMap](https://docs.python.org/3/library/collections.html#chainmap-objects)\n",
        "    * [Python's ChainMap: Manage Multiple Contexts Effectively](https://realpython.com/python-chainmap/)\n",
        "* [namedtuple](https://docs.python.org/3/library/collections.html#namedtuple-factory-function-for-tuples-with-named-fields)\n",
        "    * [Write Pythonic and Clean Code With namedtuple](https://realpython.com/python-namedtuple/)\n",
        "* [deque]{https://docs.python.org/3/library/collections.html#deque-objects}\n",
        "* [defaultdict](https://docs.python.org/3/library/collections.html#defaultdict-objects)\n",
        "    * [dict.get()](https://docs.python.org/3/library/stdtypes.html#dict.get)  \n",
        "\n",
        "    \n",
        "[Expressions](https://docs.python.org/3/reference/expressions.html)\n",
        "* [dictionary unpacking](https://docs.python.org/3/reference/expressions.html#dictionary-displays)\n",
        "    * `**dict` is the expression for dictionary unpacking \n",
        "\n",
        "\n",
        "\n",
        "###Details  \n",
        "**mapping**\n",
        ">A container object that supports arbitrary key lookups and implements the methods specified in the Mapping or MutableMapping abstract base classes. Examples include dict, collections.defaultdict, collections.OrderedDict and collections.Counter.\n",
        "\n",
        "**dictionary unpacking**\n",
        ">A double asterisk `**` denotes dictionary unpacking. Its operand must be a _mapping_. Each _mapping_ item is added to the new dictionary. Later values replace values already set by earlier key/datum pairs and earlier dictionary unpackings.\n"
      ],
      "metadata": {
        "id": "TN8Llkch2OQn"
      }
    },
    {
      "cell_type": "markdown",
      "source": [
        "####Exercise 46 _Counter_\n",
        "\n",
        "The following target list is given\n",
        "\n",
        "target = ['yes', 'no', 'no', None, 'yes', 'yes', 'no', 'yes']\n",
        "\n",
        "\n",
        "Using the built-in _collections_ module create a _Counter_ class object from the given list. Print the result to the console.\n",
        "\n",
        "Tip:\n",
        ">class Counter(builtins.dict)\n",
        " \n",
        "Expected result:\n",
        ">Counter({'yes': 4, 'no': 3, None: 1})\n",
        "\n"
      ],
      "metadata": {
        "id": "vOCQeBI5I6k5"
      }
    },
    {
      "cell_type": "code",
      "source": [
        "from collections import Counter\n",
        "\n",
        "\n",
        "target = ['yes', 'no', 'no', None, 'yes', 'yes', 'no', 'yes']\n",
        "\n",
        "print(Counter(target))"
      ],
      "metadata": {
        "id": "X6obZ3o5kqdQ"
      },
      "execution_count": null,
      "outputs": []
    },
    {
      "cell_type": "markdown",
      "source": [
        "####Exercise 47 _Counter_\n",
        "\n",
        "The results of voting in two groups are given in the form of dictionaries:\n",
        "\n",
        "poll_1 = {'yes': 140, 'no': 120, None: 12}  \n",
        "poll_2 = {'yes': 113, 'no': 132, None: 9}\n",
        "\n",
        "\n",
        "The dictionary keys mean respectively:\n",
        "\n",
        "'yes' - vote for yes\n",
        "\n",
        "'no' - vote for no\n",
        "\n",
        "'None' - invalid vote\n",
        "\n",
        "Using the built-in _collections_ module create two objects of the _Counter_ class from the given dictionaries. Then combine these objects into one and print to the console.\n",
        "\n",
        "\n",
        "Tip:\n",
        ">class Counter(builtins.dict)\n",
        "\n",
        "\n",
        "Expected result:\n",
        ">Counter({'yes': 253, 'no': 252, None: 21})\n"
      ],
      "metadata": {
        "id": "ZdN9GcxMI6yt"
      }
    },
    {
      "cell_type": "code",
      "source": [
        "from collections import Counter\n",
        "\n",
        "\n",
        "poll_1 = {'yes': 140, 'no': 120, None: 12}\n",
        "poll_2 = {'yes': 113, 'no': 132, None: 9}\n",
        "\n",
        "c1 = Counter(poll_1)\n",
        "c2 = Counter(poll_2)\n",
        "\n",
        "print(c1 + c2)"
      ],
      "metadata": {
        "id": "cyoSnqZ4lgMF"
      },
      "execution_count": null,
      "outputs": []
    },
    {
      "cell_type": "markdown",
      "source": [
        "####Exercise 48 _Counter_\n",
        "\n",
        "The results of voting in three groups are given in the form of dictionaries:\n",
        "\n",
        "poll_1 = {'yes': 140, 'no': 120, None: 12}  \n",
        "poll_2 = {'yes': 113, 'no': 132, None: 9}  \n",
        "poll_3 = {'yes': 16, 'no': 14}\n",
        "\n",
        "\n",
        "The dictionary keys mean respectively:\n",
        "\n",
        "'yes' - vote for yes\n",
        "\n",
        "'no' - vote for no\n",
        "\n",
        "'None' - invalid vote\n",
        "\n",
        "Using the built-in _collections_ module and the Counter class find the total number of 'yes' votes and print to the console.\n",
        "\n",
        "\n",
        "\n",
        "Tip:\n",
        ">class Counter(builtins.dict)\n",
        "\n",
        "Expected result:\n",
        ">269\n"
      ],
      "metadata": {
        "id": "AutodBBWJGGB"
      }
    },
    {
      "cell_type": "code",
      "source": [
        "from collections import Counter\n",
        "\n",
        "\n",
        "poll_1 = {'yes': 140, 'no': 120, None: 12}\n",
        "poll_2 = {'yes': 113, 'no': 132, None: 9}\n",
        "poll_3 = {'yes': 16, 'no': 14}\n",
        "\n",
        "c = Counter(poll_1)\n",
        "c.update(poll_2)\n",
        "c.update(poll_3)\n",
        "\n",
        "\n",
        "print(c['yes'])\n",
        "\n",
        "# alternate\n",
        "cnt_total = Counter(poll_1) + Counter(poll_2) + Counter(poll_3)\n",
        "print(cnt_total['yes'])"
      ],
      "metadata": {
        "id": "y4w5Rffcmqbr"
      },
      "execution_count": null,
      "outputs": []
    },
    {
      "cell_type": "markdown",
      "source": [
        "####Exercise 49 _Counter_\n",
        "\n",
        "The text is as follows:\n",
        "\n",
        "text = 'python programming - introduction'\n",
        "\n",
        "\n",
        "Using the built-in _collections_ module and the _Counter_ class find the distribution of characters in the given text (create a Counter object). Print the result to the console.\n",
        "\n",
        "Tip:\n",
        ">class Counter(builtins.dict)\n",
        "\n",
        "\n",
        "Expected result:\n",
        ">Counter({'o': 4, 'n': 4, 't': 3, ' ': 3, 'r': 3, 'i': 3, 'p': 2, 'g': 2, 'm': 2, 'y': 1, 'h': 1, 'a': 1, '-': 1, 'd': 1, 'u': 1, 'c': 1})\n",
        "\n"
      ],
      "metadata": {
        "id": "fqKF3xVZJGSY"
      }
    },
    {
      "cell_type": "code",
      "source": [
        "from collections import Counter\n",
        "\n",
        "\n",
        "text = 'python programming - introduction'\n",
        "\n",
        "c = Counter(text)\n",
        "print(c)"
      ],
      "metadata": {
        "id": "Gb7Lj-2K5Drv"
      },
      "execution_count": null,
      "outputs": []
    },
    {
      "cell_type": "markdown",
      "source": [
        "####Exercise 50 _Counter_\n",
        "\n",
        "The following text is given:\n",
        "\n",
        "text = 'python programming - introduction'\n",
        "\n",
        "Using the built-in _collections_ module and the _Counter_ class calculate the three most common characters in the given text. Print the result as shown below.\n",
        "\n",
        "Tip:\n",
        "> Counter('abcdeabcdabcaba').most_common(3)  \n",
        "    [('a', 5), ('b', 4), ('c', 3)]\n",
        "\n",
        "\n",
        "Expected result:\n",
        ">[('o', 4), ('n', 4), ('t', 3)]\n"
      ],
      "metadata": {
        "id": "c8gVSyzBgzqZ"
      }
    },
    {
      "cell_type": "code",
      "source": [
        "from collections import Counter\n",
        "\n",
        "\n",
        "text = 'python programming - introduction'\n",
        "\n",
        "c = Counter(text).most_common(3)\n",
        "print(c)"
      ],
      "metadata": {
        "id": "bhjXVe6yBABV"
      },
      "execution_count": null,
      "outputs": []
    },
    {
      "cell_type": "markdown",
      "source": [
        "####Exercise 51 _Counter_\n",
        "\n",
        "The following text is given:\n",
        "\n",
        "```\n",
        "text = \"\"\"\"Python is fast enough for our site and allows us to produce maintainable features in record times,\n",
        "with a minimum of developers,\" said Cuong Do, Software Architect, YouTube.com.\n",
        " \n",
        "\"Python plays a key role in our production pipeline. Without it a project the size of Star Wars:\n",
        "Episode II would have been very difficult to pull off. From crowd rendering to batch processing to compositing,\n",
        "Python binds all things together,\" said Tommy Burnette, Senior Technical Director, Industrial Light & Magic.\"\"\"\n",
        "```\n",
        "\n",
        "\n",
        "Using the built-in _re_ module split the given text into words/tokens. Standardize the words (all lowercase). Then create a _Counter_ object that allows you to determine the three most common __words__ in the text. In response, print these words with the number of occurrences.\n",
        "\n",
        "\n",
        "Expected result:\n",
        ">[('to', 4), ('python', 3), ('a', 3)]\n"
      ],
      "metadata": {
        "id": "jwt3Blj7gz2l"
      }
    },
    {
      "cell_type": "code",
      "source": [
        "from collections import Counter\n",
        "import re\n",
        "\n",
        "\n",
        "text = \"\"\"\"Python is fast enough for our site and allows us to produce maintainable features in record times,\n",
        "with a minimum of developers,\" said Cuong Do, Software Architect, YouTube.com.\n",
        "\n",
        "\"Python plays a key role in our production pipeline. Without it a project the size of Star Wars:\n",
        "Episode II would have been very difficult to pull off. From crowd rendering to batch processing to compositing,\n",
        "Python binds all things together,\" said Tommy Burnette, Senior Technical Director, Industrial Light & Magic.\"\"\"\n",
        "\n",
        "r = re.findall(r'\\w+', text.lower())\n",
        "print(r)\n",
        "c = Counter(r)\n",
        "\n",
        "print(c.most_common(3))\n",
        "\n",
        "print('His Solution', '-'*80)\n",
        "tokens = re.findall(r\"\\w+\", text)\n",
        "tokens = [token.lower() for token in tokens]\n",
        "cnt = Counter(tokens)\n",
        "print(cnt.most_common(3))"
      ],
      "metadata": {
        "id": "dor5aQLCk2Ow"
      },
      "execution_count": null,
      "outputs": []
    },
    {
      "cell_type": "markdown",
      "source": [
        "####Exercise 52 _Counter_ & _re_\n",
        "\n",
        "The following list is given:\n",
        "```python\n",
        "fnames = [\n",
        "    '001_image.png',    '002_image.png',\n",
        "    '003_image.jpg',    '004_image.png',\n",
        "    '005_image.png',    '006_image.png',\n",
        "    '007_image.jpg',    '008_image.png',\n",
        "    '009_image.jpg',    '010_image.jpg',\n",
        "    '011_image.jpg',    '012_image.png',\n",
        "    '013_image.jpg',    '014_image.jpg',\n",
        "    '015_image.jpg',    '016_image.png',\n",
        "    '017_image.jpg',    '018_image.jpg',\n",
        "    '019_image.png',    '020_image.png',\n",
        "    '021_image.jpg',    '022_image.jpg',\n",
        "    '023_image.png',    '024_image.png',\n",
        "    '025_image.jpg',    '026_image.png',\n",
        "    '027_image.png',    '028_image.jpg',\n",
        "    '029_image.png',    '030_image.png',\n",
        "]\n",
        "```\n",
        "\n",
        "Using the built-in _collections_ module and the _Counter_ class find the distribution of file extensions in the given _fnames_ list. Print the result to the console.\n",
        "\n",
        "\n",
        "\n",
        "Expected result:\n",
        ">Counter({'png': 16, 'jpg': 14})\n",
        "\n"
      ],
      "metadata": {
        "id": "6VttbZ7-BjM7"
      }
    },
    {
      "cell_type": "code",
      "source": [
        "import re\n",
        "from collections import Counter\n",
        "\n",
        "\n",
        "fnames = [\n",
        " '001_image.png', '002_image.png', '003_image.jpg', '004_image.png', '005_image.png',\n",
        " '006_image.png', '007_image.jpg', '008_image.png', '009_image.jpg', '010_image.jpg',\n",
        " '011_image.jpg', '012_image.png', '013_image.jpg', '014_image.jpg', '015_image.jpg',\n",
        " '016_image.png', '017_image.jpg', '018_image.jpg', '019_image.png', '020_image.png',\n",
        " '021_image.jpg', '022_image.jpg', '023_image.png', '024_image.png', '025_image.jpg',\n",
        " '026_image.png', '027_image.png', '028_image.jpg', '029_image.png', '030_image.png',\n",
        "]\n",
        "\n",
        "\n",
        "png = re.findall(r'png\\b',' '.join(fnames))\n",
        "jpg = re.findall(r'jpg\\b', ' '.join(fnames))\n",
        "\n",
        "c = Counter(png + jpg)\n",
        "print(c)\n",
        "\n"
      ],
      "metadata": {
        "id": "TQU7AmoWm3Pz"
      },
      "execution_count": null,
      "outputs": []
    },
    {
      "cell_type": "markdown",
      "source": [
        "His solution only uses _Counter_. I used _re_ and _Counter_.\n",
        "\n",
        "The key to the solution is to eliminate the filename, and keep only the extensions in a list given to _Counter_."
      ],
      "metadata": {
        "id": "M39MfInCynXg"
      }
    },
    {
      "cell_type": "code",
      "source": [
        "\n",
        "from collections import Counter\n",
        " \n",
        " \n",
        "\n",
        "fnames = [\n",
        " '001_image.png', '002_image.png', '003_image.jpg', '004_image.png', '005_image.png',\n",
        " '006_image.png', '007_image.jpg', '008_image.png', '009_image.jpg', '010_image.jpg',\n",
        " '011_image.jpg', '012_image.png', '013_image.jpg', '014_image.jpg', '015_image.jpg',\n",
        " '016_image.png', '017_image.jpg', '018_image.jpg', '019_image.png', '020_image.png',\n",
        " '021_image.jpg', '022_image.jpg', '023_image.png', '024_image.png', '025_image.jpg',\n",
        " '026_image.png', '027_image.png', '028_image.jpg', '029_image.png', '030_image.png',\n",
        "]\n",
        " \n",
        "extensions = [fname.split('.')[1] for fname in fnames]\n",
        "cnt = Counter(extensions)\n",
        "print(cnt)"
      ],
      "metadata": {
        "id": "4Sajz0JgxMKW"
      },
      "execution_count": null,
      "outputs": []
    },
    {
      "cell_type": "markdown",
      "source": [
        "####Exercise 53 _ChainMap_\n",
        "\n",
        "Using the built-in _collections_ module from the following dictionaries:\n",
        "\n",
        "stocks_1 = {'CDR': 400, 'PLW': 490}  \n",
        "stocks_2 = {'PLW': 500, 'TEN': 550, 'BBT': 30}\n",
        "\n",
        "\n",
        "create a _ChainMap_ object and assign to the _stocks_ variable. In response, print this variable to the console.\n",
        "\n",
        "Tip:\n",
        ">class ChainMap(collections.abc.MutableMapping)\n",
        "\n",
        "Expected result:\n",
        ">ChainMap({'CDR': 400, 'PLW': 490}, {'PLW': 500, 'TEN': 550, 'BBT': 30})\n",
        "\n"
      ],
      "metadata": {
        "id": "nUS4WOnRBjXu"
      }
    },
    {
      "cell_type": "code",
      "source": [
        "from collections import ChainMap\n",
        "\n",
        "\n",
        "stocks_1 = {'CDR': 400, 'PLW': 490}\n",
        "stocks_2 = {'PLW': 500, 'TEN': 550, 'BBT': 30}\n",
        "\n",
        "stocks = ChainMap(stocks_1, stocks_2)\n",
        "print(stocks)"
      ],
      "metadata": {
        "id": "bFgndDHM0Sdd"
      },
      "execution_count": null,
      "outputs": []
    },
    {
      "cell_type": "markdown",
      "source": [
        "####Exercise 54 _ChainMap_\n",
        "\n",
        "Using the built-in _collections_ module from the following dictionaries:\n",
        "\n",
        "\n",
        "stocks_1 = {'CDR': 400, 'PLW': 490}  \n",
        "stocks_2 = {'PLW': 500, 'TEN': 550, 'BBT': 30}\n",
        "\n",
        "a _ChainMap_ object has been created and assigned to the _stocks_ variable. Find the value for the key 'PLW' in the _ChainMap_ object and print to the console.\n",
        "\n",
        "\n",
        "\n",
        "Tip:\n",
        ">class ChainMap(collections.abc.MutableMapping)\n",
        "\n",
        "\n",
        "Expected result:\n",
        ">490\n"
      ],
      "metadata": {
        "id": "_mC8YUW_Bjgk"
      }
    },
    {
      "cell_type": "code",
      "source": [
        "from collections import ChainMap\n",
        "\n",
        "\n",
        "stocks_1 = {'CDR': 400, 'PLW': 490}\n",
        "stocks_2 = {'PLW': 500, 'TEN': 550, 'BBT': 30}\n",
        "\n",
        "stocks = ChainMap(stocks_1, stocks_2)\n",
        "print(stocks['PLW'])"
      ],
      "metadata": {
        "id": "iBVgkPit2lVC"
      },
      "execution_count": null,
      "outputs": []
    },
    {
      "cell_type": "markdown",
      "source": [
        "####Exercise 55 _ChainMap_\n",
        "Exercise 10\n",
        "Using the built-in _collections_ module from the following dictionaries:\n",
        "\n",
        "techs = {'Apple': 370, 'Samsung': 1100, 'Microsoft': 201}  \n",
        "finance = {'Citigroup': 51, 'Allianz': 180}  \n",
        "gaming = {'Sony': 76, 'Nintendo': 470, 'EA': 135}  \n",
        "\n",
        "create a _ChainMap_ object and assign to _stocks_ variable. Find the value for the 'Samsung' key in the _ChainMap_ object and print to the console.\n",
        "\n",
        "\n",
        "\n",
        "Tip:\n",
        ">class ChainMap(collections.abc.MutableMapping)\n",
        "\n",
        "\n",
        "Expected result:\n",
        ">1100\n"
      ],
      "metadata": {
        "id": "s57G9puCBjpc"
      }
    },
    {
      "cell_type": "code",
      "source": [
        "from collections import ChainMap\n",
        "\n",
        "\n",
        "techs = {'Apple': 370, 'Samsung': 1100, 'Microsoft': 201}\n",
        "finance = {'Citigroup': 51, 'Allianz': 180}\n",
        "gaming = {'Sony': 76, 'Nintendo': 470, 'EA': 135}\n",
        "\n",
        "stocks = ChainMap(techs, finance, gaming)\n",
        "print(stocks['Samsung'])"
      ],
      "metadata": {
        "id": "XClxlXiT3Kir"
      },
      "execution_count": null,
      "outputs": []
    },
    {
      "cell_type": "markdown",
      "source": [
        "####Exercise 56 _ChainMap_\n",
        "Exercise 11\n",
        "Using the built-in _collections_ module from the following dictionaries:\n",
        "\n",
        "techs = {'Apple': 370, 'Samsung': 1100, 'Microsoft': 201}  \n",
        "finance = {'Citigroup': 51, 'Allianz': 180}  \n",
        "gaming = {'Sony': 76, 'Nintendo': 470, 'EA': 135}  \n",
        "\n",
        "\n",
        "a _ChainMap_ object was created and assigned to the _stocks_ variable. __Update__ the value for the key 'Microsoft' in the _techs_ dictionary to 210.\n",
        "\n",
        "Then read the value for this key and print to the console.\n",
        "\n",
        "Tip:\n",
        ">class ChainMap(collections.abc.MutableMapping)\n",
        " \n",
        "Expected result:\n",
        ">210\n"
      ],
      "metadata": {
        "id": "YbdTlDbFBjyM"
      }
    },
    {
      "cell_type": "code",
      "source": [
        "from collections import ChainMap\n",
        "\n",
        "\n",
        "techs = {'Apple': 370, 'Samsung': 1100, 'Microsoft': 201}\n",
        "finance = {'Citigroup': 51, 'Allianz': 180}\n",
        "gaming = {'Sony': 76, 'Nintendo': 470, 'EA': 135}\n",
        "\n",
        "stocks = ChainMap(techs, finance, gaming)\n",
        "stocks['Microsoft'] = 210\n",
        "print(stocks['Microsoft'])"
      ],
      "metadata": {
        "id": "o61KrHfX4U_4"
      },
      "execution_count": null,
      "outputs": []
    },
    {
      "cell_type": "markdown",
      "source": [
        "####Exercise 57 _ChainMap_\n",
        "\n",
        "Using the built-in _collections_ module from the following dictionaries:\n",
        "\n",
        "techs = {'Apple': 370, 'Samsung': 1100, 'Microsoft': 201}  \n",
        "finance = {'Citigroup': 51, 'Allianz': 180}  \n",
        "gaming = {'Sony': 76, 'Nintendo': 470, 'EA': 135}\n",
        "\n",
        "an object of the _ChainMap_ class was created and assigned to the stocks variable.\n",
        "\n",
        "Print all keys of the _ChainMap_ object to the console (sorted alphabetically).\n",
        "\n",
        "Tip:\n",
        ">help(ChainMap.keys)  \n",
        "Help on function keys in module collections.abc:\n",
        "keys(self)  \n",
        "D.keys() -> a set-like object providing a view on D's keys\n",
        "\n",
        "\n",
        "Expected result:\n",
        ">['Allianz', 'Apple', 'Citigroup', 'EA', 'Microsoft', 'Nintendo', 'Samsung', 'Sony']\n"
      ],
      "metadata": {
        "id": "_dzeb2CSBj9Z"
      }
    },
    {
      "cell_type": "code",
      "source": [
        "from collections import ChainMap\n",
        "\n",
        "\n",
        "techs = {'Apple': 370, 'Samsung': 1100, 'Microsoft': 201}\n",
        "finance = {'Citigroup': 51, 'Allianz': 180}\n",
        "gaming = {'Sony': 76, 'Nintendo': 470, 'EA': 135}\n",
        "\n",
        "stocks = ChainMap(techs, finance, gaming)\n",
        "\n",
        "print(sorted(stocks.keys()))"
      ],
      "metadata": {
        "id": "Y_1ScAA754sj"
      },
      "execution_count": null,
      "outputs": []
    },
    {
      "cell_type": "markdown",
      "source": [
        "####Exercise 58 _ChainMap_\n",
        "\n",
        "The following problem was encountered while implementing the car application. It's necessary to store information about car settings (with one object in Python). Two parameters are always set:\n",
        "\n",
        "* mode\n",
        "* power_level\n",
        "\n",
        "By default, these parameters store the values: _'eco'_ and _7_. However, their values ​​may change depending on the user's settings.\n",
        "\n",
        "Let's assume that the user can pass the following settings:\n",
        "\n",
        ">{'mode': 'sport', 'power_level': 10}\n",
        "\n",
        "Consider how you can use the _ChainMap_ class in this case.\n",
        "\n",
        "Steps\n",
        "\n",
        "* create a dictionary with default settings (default_settings)\n",
        "* create a dictionary with user settings (user_settings)\n",
        "* create a ChainMap object from the given dictionaries in the right order (settings)\n",
        "\n",
        "In response, print the value for the _'mode'_ key of the _settings_ _ChainMap_.\n",
        "\n",
        "Tip:\n",
        "\n",
        ">class ChainMap(collections.abc.MutableMapping)  \n",
        " |  A ChainMap groups multiple dicts (or other mappings) together  \n",
        " |  to create a single, updateable view.\n",
        "\n",
        "\n",
        "\n",
        "Expected result:\n",
        ">sport\n"
      ],
      "metadata": {
        "id": "LvOyKviaBkHK"
      }
    },
    {
      "cell_type": "code",
      "source": [
        "from collections import ChainMap\n",
        "\n",
        "default_settings = {'mode':'eco', 'power_level': 7}\n",
        "user_settings = {'mode': 'sport', 'power_level': 10}\n",
        "\n",
        "settings = ChainMap(user_settings, default_settings)\n",
        "print(settings['mode'])"
      ],
      "metadata": {
        "id": "-Qsm4KzBCLsd"
      },
      "execution_count": null,
      "outputs": []
    },
    {
      "cell_type": "markdown",
      "source": [
        "####Exercise 59 _ChainMap_\n",
        "\n",
        "The following problem was encountered while implementing the car application. It's necessary to store information about car settings (with one object in Python). Two parameters are always set:\n",
        "\n",
        "* mode\n",
        "* power_level\n",
        "\n",
        "By default, these parameters store the values: 'eco' and 7. However, their values ​​may change depending on the user's settings. In this exercise the user hasn't set any additional settings.\n",
        "\n",
        "Consider how you can use the ChainMap class in this case.\n",
        "\n",
        "Steps\n",
        "\n",
        "* create a dictionary with default settings (default_settings)\n",
        "* create a dictionary with user settings (user_settings)\n",
        "* create a ChainMap object from the given dictionaries in the right order (settings)\n",
        "\n",
        "In response, print the value for the 'mode' key of the settings _ChainMap_.\n",
        "\n",
        "\n",
        "\n",
        "Tip:\n",
        ">class ChainMap(collections.abc.MutableMapping)\n",
        "\n",
        "Expected result:\n",
        ">eco\n"
      ],
      "metadata": {
        "id": "wNzRwp8bBkU8"
      }
    },
    {
      "cell_type": "code",
      "source": [
        "from collections import ChainMap\n",
        "\n",
        "default_settings = {'mode':'eco', 'power_level': 7}\n",
        "user_settings = {}\n",
        "settings = ChainMap(user_settings, default_settings)\n",
        "print(settings['mode'])"
      ],
      "metadata": {
        "id": "UXz79xZ9Da5v"
      },
      "execution_count": null,
      "outputs": []
    },
    {
      "cell_type": "markdown",
      "source": [
        "####Exercise 60 _namedtuple_\n",
        "\n",
        "Using the built-in _collections_ module and the _namedtuple()_ function create a class named _Point_ to store points in a _two-dimensional space (R^2)_. Name the fields `'x'` and `'y'` respectively.\n",
        "\n",
        "Then create two points with coordinates:\n",
        ">(3, 4)  \n",
        "(-2, 6)\n",
        "\n",
        "Print these objects to the console.\n",
        "\n",
        "Tip:\n",
        "\n",
        ">help(namedtuple)  \n",
        "Help on function namedtuple in module collections:  \n",
        "namedtuple(typename, field_names, *, verbose=False, rename=False, module=None)  \n",
        "    Returns a new subclass of tuple with named fields.\n",
        "\n",
        "\n",
        "Expected result:\n",
        ">Point(x=3, y=4)  \n",
        "Point(x=-2, y=6)\n"
      ],
      "metadata": {
        "id": "z5TWCyKVBkhv"
      }
    },
    {
      "cell_type": "code",
      "source": [
        "from collections import namedtuple\n",
        "\n",
        "Point = namedtuple('Point', ['x', 'y'])\n",
        "\n",
        "p1 = Point(3, 4) \n",
        "p2 = Point(-2, 6)\n",
        "\n",
        "print(p1)\n",
        "print(p2)"
      ],
      "metadata": {
        "id": "WTsr2FztFIAH"
      },
      "execution_count": null,
      "outputs": []
    },
    {
      "cell_type": "markdown",
      "source": [
        "####Exercise 61 _namedtuple_\n",
        "\n",
        "Using the built-in _collections_ module and the _namedtuple()_ function, a class _Point_ was implemented.\n",
        "\n",
        "Then the following points were created:\n",
        "\n",
        "pt1 = Point(3, 4)\n",
        "\n",
        "pt2 = Point(-2, 6)\n",
        "\n",
        "Find the midpoint of the segment at points pt1 and pt2 and print the result to the console.\n",
        "\n",
        "Tip:\n",
        ">namedtuple(typename, field_names, *, verbose=False, rename=False, module=None)  \n",
        "    Returns a new subclass of tuple with named fields.\n",
        "\n",
        "\n",
        "Expected result:\n",
        ">Point(x=0.5, y=5.0)\n",
        "\n"
      ],
      "metadata": {
        "id": "bdyRqGarCCm0"
      }
    },
    {
      "cell_type": "code",
      "source": [
        "from collections import namedtuple\n",
        "\n",
        "Point = namedtuple('Point', ['x', 'y'])\n",
        "\n",
        "p1 = Point(3, 4) \n",
        "p2 = Point(-2, 6)\n",
        "\n",
        "print(p1)\n",
        "print(p2)\n",
        "\n",
        "mid_x = (p1.x + p2.x) / 2.0\n",
        "mid_y = (p1.y + p2.y) / 2.0\n",
        "print(Point(mid_x, mid_y))"
      ],
      "metadata": {
        "id": "9odN95gRGhWu"
      },
      "execution_count": null,
      "outputs": []
    },
    {
      "cell_type": "markdown",
      "source": [
        "####Exercise 62  _namedtuple_\n",
        "\n",
        "Using the built-in _collections_ module and the _namedtuple()_ function create a class called _Student_ to store data about students. Set the following attributes/fields:\n",
        "\n",
        "* 'name'\n",
        "* 'age'\n",
        "* 'specialization'\n",
        "\n",
        "Then create three students with the given data:\n",
        "```python\n",
        "Student('Mike', 21, 'physics'),\n",
        "Student('Kate', 20, 'mathematics'),\n",
        "Student('Bob', 21, 'information technology')\n",
        "```\n",
        "\n",
        "and assign it to the _students_ list. Iterate through the _students_ list and print basic information about the students to the console as shown below.\n",
        "\n",
        "Tip:\n",
        ">namedtuple(typename, field_names, *, verbose=False, rename=False, module=None)  \n",
        "Returns a new subclass of tuple with named fields.\n",
        "\n",
        "\n",
        "Expected result: __NOTE SPACING__\n",
        "```\n",
        "Mike : 21: physics  \n",
        "Kate : 20: mathematics  \n",
        "Bob  : 21: information technology\n",
        "```\n"
      ],
      "metadata": {
        "id": "x9WY1eprCCw9"
      }
    },
    {
      "cell_type": "code",
      "source": [
        "from collections import namedtuple\n",
        "Student = namedtuple('Student', ['name','age','specialization'])\n",
        "\n",
        "mike = Student('Mike', 21, 'physics')\n",
        "kate = Student('Kate', 20, 'mathematics')\n",
        "bob = Student('Bob', 21, 'information technology')\n",
        "\n",
        "students = [mike, kate, bob]\n",
        "\n",
        "\n",
        "for x in [f\"{s.name:5}: {s.age}: {s.spec}\" for s in students]:\n",
        "     print(x)"
      ],
      "metadata": {
        "id": "lfvmZ9iMH2WM"
      },
      "execution_count": null,
      "outputs": []
    },
    {
      "cell_type": "markdown",
      "source": [
        "####Exercise 63 _namedtuple_\n",
        "\n",
        "Using the built-in _collections_ module and the _namedtuple()_ function, a class called _Student_ was implemented.\n",
        "\n",
        "Then four students with the given data were created:\n",
        "```python\n",
        "Student('Mike', 21, 'physics'),\n",
        "Student('Mark', 22, 'biology'),\n",
        "Student('Kate', 20, 'mathematics'),\n",
        "Student('Bob', 21, 'information technology')\n",
        "```\n",
        "\n",
        "and assigned to the _students_ list.\n",
        "\n",
        "Sort the students list by age (age attribute) in ascending order. In response, print the students list to the console.\n",
        "\n",
        "\n",
        "Tip:\n",
        ">namedtuple(typename, field_names, *, verbose=False, rename=False, module=None)  \n",
        "    Returns a new subclass of tuple with named fields.\n",
        "\n",
        "\n",
        "Expected result:\n",
        "```\n",
        "[Student(name='Kate', age=20, specialization='mathematics'), \n",
        "Student(name='Mike', age=21, specialization='physics'), \n",
        "Student(name='Bob', age=21, specialization='information technology'), \n",
        "Student(name='Mark', age=22, specialization='biology')]\n",
        "```\n",
        "\n"
      ],
      "metadata": {
        "id": "xJnp2a_UCC6M"
      }
    },
    {
      "cell_type": "code",
      "source": [
        "from collections import namedtuple\n",
        "Student = namedtuple('Student', ['name','age','specialization'])\n",
        "\n",
        "students = [\n",
        "    Student('Mike', 21, 'physics'),\n",
        "    Student('Mark', 22, 'biology'),\n",
        "    Student('Kate', 20, 'mathematics'),\n",
        "    Student('Bob', 21, 'information technology')\n",
        "    ]\n",
        "\n",
        "result = sorted(students, key=lambda s: s.age )\n",
        "print(result)\n"
      ],
      "metadata": {
        "id": "ZrVATZniL57O"
      },
      "execution_count": null,
      "outputs": []
    },
    {
      "cell_type": "markdown",
      "source": [
        "####Exercise 64 _namedtuple_\n",
        "\n",
        "Using the built-in _collections_ module and the _namedtuple()_ function, a class called _Student_ was implemented.\n",
        "\n",
        "Three dictionaries are given:\n",
        "```python\n",
        "st1 = {'name': 'Kate', 'age': 20, 'specialization': 'mathematics'}\n",
        "st2 = {'name': 'Mike', 'age': 21, 'specialization': 'physics'}\n",
        "st3 = {'name': 'Bob', 'age': 21, 'specialization': 'information technology'}\n",
        "```\n",
        "\n",
        "Create _Student_ objects from these dictionaries and assign them to the _students_ list. Then, iterating through the _students_ list, print each student to the console.\n",
        "\n",
        "Tip:\n",
        ">namedtuple(typename, field_names, *, verbose=False, rename=False, module=None)\n",
        "\n",
        "Expected result:\n",
        "```\n",
        "Student(name='Kate', age=20, specialization='mathematics')\n",
        "Student(name='Mike', age=21, specialization='physics')\n",
        "Student(name='Bob', age=21, specialization='information technology')\n",
        "```\n",
        "\n"
      ],
      "metadata": {
        "id": "01EVriBWCDCz"
      }
    },
    {
      "cell_type": "code",
      "source": [
        "from collections import namedtuple\n",
        "\n",
        "Student = namedtuple('Student', ['name', 'age', 'specialization'])\n",
        "\n",
        "st1 = {'name': 'Kate', 'age': 20, 'specialization': 'mathematics'}\n",
        "st2 = {'name': 'Mike', 'age': 21, 'specialization': 'physics'}\n",
        "st3 = {'name': 'Bob', 'age': 21, 'specialization': 'information technology'}\n",
        "\n",
        "x = list(st1.values())\n",
        "students = [ Student._make(list(st1.values())),\n",
        "        Student._make(list(st2.values())),\n",
        "        Student._make(list(st3.values()))\n",
        "]\n",
        "\n",
        "for s in students:\n",
        "    print(s)\n",
        "\n",
        "print('His Solution', '-' * 80)\n",
        "\n",
        "# his solution use dictionary unpacking\n",
        "\n",
        "students = [Student(**st1), Student(**st2), Student(**st3)]\n",
        " \n",
        "for student in students:\n",
        "    print(student)"
      ],
      "metadata": {
        "id": "nELkfcwMYca8"
      },
      "execution_count": null,
      "outputs": []
    },
    {
      "cell_type": "markdown",
      "source": [
        "####Exercise 65 _namedtuple_\n",
        "\n",
        "Using the built-in _collections_ module and the _namedtuple()_ function, a class called _Student_ was implemented.\n",
        "\n",
        "The _students.txt_ file containing student data is attached to this exercise:\n",
        "```python\n",
        "{'name': 'Kate', 'age': 20, 'specialization': 'mathematics'}\n",
        "{'name': 'Mike', 'age': 21, 'specialization': 'physics'}\n",
        "{'name': 'Bob', 'age': 21, 'specialization': 'information technology'}\n",
        "```\n",
        "\n",
        "Load the file _students.txt_ and create _Student_ objects from the given dictionaries and assign them to the students list. Then print the students list to the console.\n",
        "\n",
        "\n",
        "\n",
        "Tip:\n",
        ">namedtuple(typename, field_names, *, verbose=False, rename=False, module=None)\n",
        "\n",
        "\n",
        "\n",
        "Expected result:\n",
        ">```\n",
        "[Student(name='Kate', age=20, specialization='mathematics'),  \n",
        "Student(name='Mike', age=21, specialization='physics'),  \n",
        "Student(name='Bob', age=21, specialization='information technology')]\n",
        "```\n",
        "\n"
      ],
      "metadata": {
        "id": "1TSKyxr9CDMR"
      }
    },
    {
      "cell_type": "code",
      "source": [
        "from collections import namedtuple\n",
        "\n",
        "Student = namedtuple('Student', ['name', 'age', 'specialization'])\n",
        "\n",
        "students = []\n",
        "with open('students.txt', 'r') as f:\n",
        "    for line in f:\n",
        "        if line != '\\n':\n",
        "            students.append(Student(**eval(line)))\n",
        "            \n",
        "print(students)     "
      ],
      "metadata": {
        "id": "WArFJufBvnX9"
      },
      "execution_count": null,
      "outputs": []
    },
    {
      "cell_type": "markdown",
      "source": [
        "####Exercise 66 _dict.get()_\n",
        "\n",
        "Consider an empty dictionary named _quotations_ as defined below:\n",
        "\n",
        "quotations = {}\n",
        "\n",
        "When trying to read a value for non-existing key, e.g. 'source'\n",
        "\n",
        "quotations['source']\n",
        "\n",
        "we get the _KeyError_. We can deal with it in several ways. For this exercise, consider the _dict.get()_ method:\n",
        "\n",
        "\n",
        "Tip:\n",
        ">help(dict.get)  \n",
        "get(...)  \n",
        "    D.get(k[,d]) -> D[k] if k in D, else d.  d defaults to None.\n",
        "\n",
        "\n",
        "In this case, when we execute the code:\n",
        "\n",
        "`quotations.get('source')`\n",
        "\n",
        "\n",
        "No error is raised and the return value is _None_.\n",
        "\n",
        "Using the _dict.get()_ method, set the default value to 'NYSE' and print value for _'source'_ key of quotations dictionary to the console.\n",
        "\n",
        "Also print the _quotations_ dictionary to the console.\n",
        "\n",
        "Expected result:\n",
        ">NYSE  \n",
        "{}\n",
        "\n"
      ],
      "metadata": {
        "id": "jcq8LAaECDVd"
      }
    },
    {
      "cell_type": "code",
      "source": [
        "quotations = {}\n",
        "\n",
        "print(quotations.get('source', 'NYSE'))\n",
        "print(quotations)"
      ],
      "metadata": {
        "id": "u628Y39T0TYv"
      },
      "execution_count": null,
      "outputs": []
    },
    {
      "cell_type": "markdown",
      "source": [
        "####Exercise 67 _dict.setdefault()_\n",
        "\n",
        "Consider an empty dictionary named _quotations_ as defined below:\n",
        "\n",
        "quotations = {}\n",
        "\n",
        "\n",
        "When trying to read a value for non-existing key, e.g. _'source'_ `quotations['source']`\n",
        "\n",
        "\n",
        "we get the _KeyError_. We can deal with it in several ways. In this exercise, consider the _dict.setdefault()_ method:\n",
        "\n",
        "\n",
        "Tip:\n",
        ">setdefault(...)  \n",
        "    D.setdefault(k[,d]) -> D.get(k,d), also set D[k]=d if k not in D\n",
        "\n",
        "\n",
        "Using the _dict.setdefault()_ method set the default value for the _'source'_ key to 'NYSE'. Then print the quotations dictionary to the console.\n",
        "\n",
        "Try again to set the default value for the key _'source'_ to 'LSE' this time. Then print the dictionary quotations and the value for the key 'source' of quotations dictionary as shown below to the console.\n",
        "\n",
        "Expected result:\n",
        ">{'source': 'NYSE'}  \n",
        "{'source': 'NYSE'}  \n",
        "NYSE"
      ],
      "metadata": {
        "id": "jQCCYt5XCDfW"
      }
    },
    {
      "cell_type": "code",
      "source": [
        "quotations = {}\n",
        "\n",
        "quotations.setdefault('source', 'NYSE')\n",
        "\n",
        "print(quotations)\n",
        "\n",
        "# 2nd time doesn't change value\n",
        "quotations.setdefault('source', 'LSE')\n",
        "\n",
        "print(quotations)\n",
        "\n",
        "print(quotations['source'])"
      ],
      "metadata": {
        "id": "CXKDzov0PDSD"
      },
      "execution_count": null,
      "outputs": []
    },
    {
      "cell_type": "markdown",
      "source": [
        "####Exercise 68 _dict.setdefault()_\n",
        "\n",
        "The following list is given:\n",
        "```python\n",
        "data = [\n",
        "    ('technology', 'Apple'),\n",
        "    ('gaming', 'Techland'),\n",
        "    ('finance', 'Berkshire Hathaway'),\n",
        "    ('gaming', 'EA'),\n",
        "    ('technology', 'Facebook'),\n",
        "    ('gaming', 'CD Projekt'),\n",
        "    ('finance', 'Allianz')\n",
        "]\n",
        "```\n",
        "\n",
        "Using the dictionary and the _dict.setdefault()_ method create the following object:\n",
        "\n",
        "```python\n",
        "{\n",
        "'technology': ['Apple', 'Facebook'], \n",
        "'gaming': ['Techland', 'EA', 'CD Projekt'], \n",
        "'finance': ['Berkshire Hathaway', 'Allianz']\n",
        "}\n",
        "```\n",
        "\n",
        "and assign it to the _data\\_dict_ variable.\n",
        "\n",
        "In response, print this variable to the console.\n",
        "\n",
        "Tip:\n",
        ">setdefault(...)  \n",
        "    D.setdefault(k[,d]) -> D.get(k,d), also set D[k]=d if k not in D\n",
        "\n",
        "\n",
        "Expected result:\n",
        ">{  \n",
        "'technology': ['Apple', 'Facebook'],   \n",
        "'gaming': ['Techland', 'EA', 'CD Projekt'],   \n",
        "'finance': ['Berkshire Hathaway', 'Allianz']  \n",
        "}\n",
        "\n"
      ],
      "metadata": {
        "id": "lmU_On6OCDof"
      }
    },
    {
      "cell_type": "code",
      "source": [
        "data = [\n",
        "    ('technology', 'Apple'),\n",
        "    ('gaming', 'Techland'),\n",
        "    ('finance', 'Berkshire Hathaway'),\n",
        "    ('gaming', 'EA'),\n",
        "    ('technology', 'Facebook'),\n",
        "    ('gaming', 'CD Projekt'),\n",
        "    ('finance', 'Allianz')\n",
        "]\n",
        "\n",
        "data_dict = {}\n",
        "\n",
        "# since data is a list of tuples we can use this syntax\n",
        "for k, v in data:\n",
        "    data_dict.setdefault(k, []).append(v)\n",
        "\n",
        "\n",
        "print(data_dict)"
      ],
      "metadata": {
        "id": "gtxlN1nzQvSR"
      },
      "execution_count": null,
      "outputs": []
    },
    {
      "cell_type": "markdown",
      "source": [
        "####Exercise 69 _defaultdict_\n",
        "\n",
        "The following list is given:\n",
        "```python\n",
        "data = [\n",
        "    ('technology', 'Apple'),\n",
        "    ('gaming', 'Techland'),\n",
        "    ('finance', 'Berkshire Hathaway'),\n",
        "    ('gaming', 'EA'),\n",
        "    ('technology', 'Facebook'),\n",
        "    ('gaming', 'CD Projekt'),\n",
        "    ('finance', 'Allianz')\n",
        "]\n",
        "```\n",
        "\n",
        "Using the built-in _collections_ module and the _defaultdict_ class create the following object:\n",
        "```python\n",
        "defaultdict(<class 'list'>, {'technology': ['Apple', 'Facebook'], 'gaming': ['Techland', 'EA', 'CD Projekt'], 'finance': ['Berkshire Hathaway', 'Allianz']})\n",
        "```\n",
        "\n",
        "and assign it to _def\\_dict_. Print this variable to the console.\n",
        "\n",
        "Tip:\n",
        ">class defaultdict(builtins.dict)\n",
        " |  defaultdict(default_factory[, ...]) --> dict with default factory\n",
        " |  \n",
        " |  The default factory is called without arguments to produce\n",
        " |  a new value when a key is not present, in __getitem__ only.\n",
        " |  A defaultdict compares equal to a dict with the same items.\n",
        " |  All remaining arguments are treated the same as if they were\n",
        " |  passed to the dict constructor, including keyword arguments.\n",
        "\n",
        "\n",
        "Expected result:\n",
        ">defaultdict(<class 'list'>, {'technology': ['Apple',   'Facebook'], 'gaming': ['Techland', 'EA', 'CD Projekt'], 'finance': ['Berkshire Hathaway', 'Allianz']})"
      ],
      "metadata": {
        "id": "a59KRN7CCDye"
      }
    },
    {
      "cell_type": "code",
      "source": [
        "from collections import defaultdict\n",
        "\n",
        "\n",
        "data = [\n",
        "    ('technology', 'Apple'),\n",
        "    ('gaming', 'Techland'),\n",
        "    ('finance', 'Berkshire Hathaway'),\n",
        "    ('gaming', 'EA'),\n",
        "    ('technology', 'Facebook'),\n",
        "    ('gaming', 'CD Projekt'),\n",
        "    ('finance', 'Allianz')\n",
        "]\n",
        "\n",
        "def_dict = defaultdict(list)\n",
        "for k,v in data:\n",
        "    def_dict[k].append(v)\n",
        "\n",
        "print(def_dict)"
      ],
      "metadata": {
        "id": "KydBiPKzTvSt"
      },
      "execution_count": null,
      "outputs": []
    },
    {
      "cell_type": "markdown",
      "source": [
        "####Exercise 70 _defaultdict_\n",
        "\n",
        "The following list is given:\n",
        "```python\n",
        "data = [\n",
        "    ('technology', 'Facebook'),        \n",
        "    ('technology', 'Apple'),\n",
        "    ('gaming', 'Techland'),\n",
        "    ('finance', 'Berkshire Hathaway'),\n",
        "    ('gaming', 'EA'),\n",
        "    ('gaming', 'EA'),    \n",
        "    ('technology', 'Facebook'),\n",
        "    ('gaming', 'CD Projekt'),\n",
        "    ('finance', 'Allianz')\n",
        "]\n",
        "```\n",
        "\n",
        "Notice that the list contains duplicate values. Using the built-in _collections_ module and the _defaultdict_ class create the following object:\n",
        "```python\n",
        "defaultdict(<class 'set'>, {'technology': {'Facebook', 'Apple'}, 'gaming': {'EA', 'CD Projekt', 'Techland'}, 'finance': {'Allianz', 'Berkshire Hathaway'}})\n",
        "```\n",
        "\n",
        "and assign it to _def\\_dict_. Print this variable to the console.\n",
        "\n",
        "Tip:\n",
        ">class defaultdict(builtins.dict)\n",
        "\n",
        "Expected result:\n",
        ">defaultdict(<class 'set'>,  \n",
        "{'technology': {'Apple', 'Facebook'},  \n",
        "'gaming': {'CD Projekt', 'Techland', 'EA'},  \n",
        "'finance': {'Allianz', 'Berkshire Hathaway'}  \n",
        "})\n",
        "\n"
      ],
      "metadata": {
        "id": "rqk3UnLMg0Qx"
      }
    },
    {
      "cell_type": "code",
      "source": [
        "from collections import defaultdict\n",
        "\n",
        "\n",
        "data = [\n",
        "    ('technology', 'Facebook'),        \n",
        "    ('technology', 'Apple'),\n",
        "    ('gaming', 'Techland'),\n",
        "    ('finance', 'Berkshire Hathaway'),\n",
        "    ('gaming', 'EA'),\n",
        "    ('gaming', 'EA'),    \n",
        "    ('technology', 'Facebook'),\n",
        "    ('gaming', 'CD Projekt'),\n",
        "    ('finance', 'Allianz')\n",
        "]\n",
        "\n",
        "def_dict = defaultdict(set)\n",
        "for k,v in data:\n",
        "    def_dict[k].add(v)\n",
        "\n",
        "\n",
        "print(def_dict)"
      ],
      "metadata": {
        "id": "Awz-ICKyVaPN"
      },
      "execution_count": null,
      "outputs": []
    },
    {
      "cell_type": "markdown",
      "source": [
        "####Exercise 71 _defaultdict_\n",
        "\n",
        "The following list is given:\n",
        "```python\n",
        "transactions = [\n",
        "    ('001', 100),\n",
        "    ('003', 10),\n",
        "    ('002', 80),\n",
        "    ('001', 90),\n",
        "    ('002', 46),\n",
        "    ('001', 43),\n",
        "    ('003', 23),\n",
        "]\n",
        "```\n",
        "\n",
        "Using the built-in _collections_ module and the _defaultdict_ class create the following object (group by the first element - `user_id`):\n",
        "\n",
        "`defaultdict(<class 'int'>, {'001': 233, '003': 33, '002': 126})`\n",
        "\n",
        "and assign it to _def\\_dict_. Print this variable to the console.\n",
        "\n",
        "Tip:\n",
        ">class defaultdict(builtins.dict)  \n",
        "|  defaultdict(default_factory[, ...]) --> dict with default factory\n",
        "\n",
        "\n",
        "\n",
        "Expected result:\n",
        ">defaultdict(<class 'int'>, {'001': 233, '003': 33, '002': 126})\n",
        "\n",
        "__NOTE:__  \n",
        "The _default\\_factory_ can be any type name like `set`, `list`, `int`."
      ],
      "metadata": {
        "id": "69uwsJ4fCYPU"
      }
    },
    {
      "cell_type": "code",
      "source": [
        "from collections import defaultdict\n",
        "\n",
        "\n",
        "transactions = [\n",
        "    ('001', 100),\n",
        "    ('003', 10),\n",
        "    ('002', 80),\n",
        "    ('001', 90),\n",
        "    ('002', 46),\n",
        "    ('001', 43),\n",
        "    ('003', 23),\n",
        "]\n",
        "\n",
        "def_dict = defaultdict(int)\n",
        "for k,v in transactions:\n",
        "    def_dict[k] += v\n",
        "\n",
        "print(def_dict)"
      ],
      "metadata": {
        "id": "swzbgC4VYN1i"
      },
      "execution_count": null,
      "outputs": []
    },
    {
      "cell_type": "markdown",
      "source": [
        "####Exercise 72 _deque_\n",
        "\n",
        "The following list is given:\n",
        "\n",
        "\n",
        "['Tue.', 'Wed.', 'Thu.', 'Fri.', 'Sat.']\n",
        "\n",
        "\n",
        "Using the _collections_ built-in module create a _double-ended queue object_ (__deque__) from the given list and assign it to the _daynames_ variable. Then add the item 'Mon.' at the beginning and the element 'Sun.' at the end of the _daynames_ object.\n",
        "\n",
        "In response, print the daynames deque to the console.\n",
        "\n",
        "\n",
        "Tip:\n",
        ">class deque(builtins.object)\n",
        " |  deque([iterable[, maxlen]]) --> deque object\n",
        " |  \n",
        " |  A list-like sequence optimized for data accesses near its endpoints.\n",
        "\n",
        "\n",
        "Expected result:\n",
        ">deque(['Mon.', 'Tue.', 'Wed.', 'Thu.', 'Fri.', 'Sat.', 'Sun.'])\n",
        "\n",
        "Deques are a generalization of stacks and queues (the name is pronounced “deck” and is short for “double-ended queue”). Deques support __thread-safe__, memory efficient appends and pops from either side of the deque with approximately the same O(1) performance in either direction.\n"
      ],
      "metadata": {
        "id": "TA0dKAnHCYbW"
      }
    },
    {
      "cell_type": "code",
      "source": [
        "from collections import deque\n",
        "\n",
        "days = ['Tue.', 'Wed.', 'Thu.', 'Fri.', 'Sat.']\n",
        "\n",
        "daynames = deque(days)\n",
        "\n",
        "daynames.append('Sun.')\n",
        "daynames.appendleft('Mon.')\n",
        "\n",
        "print(daynames)"
      ],
      "metadata": {
        "id": "GGS8GRnNbSqu"
      },
      "execution_count": null,
      "outputs": []
    },
    {
      "cell_type": "markdown",
      "source": [
        "####Exercise 73 deque rotate\n",
        "\n",
        "The following _deque_ object is given:\n",
        "\n",
        "`daynames = deque(['Mon.', 'Tue.', 'Wed.', 'Thu.', 'Fri.', 'Sat.', 'Sun.'])`\n",
        "\n",
        "Using the built-in _collections_ module and the _deque_ class, move one item forward in the daynames deque, as shown below:\n",
        "\n",
        "`deque(['Sun.', 'Mon.', 'Tue.', 'Wed.', 'Thu.', 'Fri.', 'Sat.'])`\n",
        "\n",
        "\n",
        "In response, print the daynames to the console.\n",
        "\n",
        "Tip:\n",
        "> help(deque.rotate)\n",
        "rotate(...)  \n",
        "    Rotate the deque n steps to the right (default n=1).  If n is negative, rotates left.\n",
        "\n",
        "\n",
        "Expected result:\n",
        ">deque(['Sun.', 'Mon.', 'Tue.', 'Wed.', 'Thu.', 'Fri.', 'Sat.'])\n",
        "\n"
      ],
      "metadata": {
        "id": "K9X0gHEHCYmF"
      }
    },
    {
      "cell_type": "code",
      "source": [
        "from collections import deque\n",
        "\n",
        "days = ['Mon.', 'Tue.', 'Wed.', 'Thu.', 'Fri.', 'Sat.', 'Sun.']\n",
        "\n",
        "daynames = deque(days)\n",
        "daynames.rotate(1)\n",
        "\n",
        "print(daynames)"
      ],
      "metadata": {
        "id": "lmFOGNEXbUDB"
      },
      "execution_count": null,
      "outputs": []
    },
    {
      "cell_type": "markdown",
      "source": [
        "####Exercise 74 _deque_ pop\n",
        "\n",
        "The following _deque_ object is given:\n",
        "\n",
        "`\n",
        "daynames = deque(['Mon.', 'Tue.', 'Wed.', 'Thu.', 'Fri.', 'Sat.', 'Sun.'])\n",
        "`\n",
        "\n",
        "Using the built-in _collections_ module and the _deque_ class, shift three items back in the daynames deque, as shown below:  \n",
        "`\n",
        "deque(['Thu.', 'Fri.', 'Sat.', 'Sun.', 'Mon.', 'Tue.', 'Wed.'])\n",
        "`\n",
        "\n",
        "Then, using the appropriate method pop the last element out of this deque and print to the console.\n",
        "\n",
        "\n",
        "\n",
        "Tip:\n",
        ">help(deque.pop)  \n",
        "pop(...)  \n",
        "    Remove and return the rightmost element.\n",
        "\n",
        "\n",
        "Expected result:\n",
        ">Wed.\n",
        "\n"
      ],
      "metadata": {
        "id": "nu_HVXMoCYwG"
      }
    },
    {
      "cell_type": "code",
      "source": [
        "from collections import deque\n",
        "daynames = deque(['Mon.', 'Tue.', 'Wed.', 'Thu.', 'Fri.', 'Sat.', 'Sun.'])\n",
        "\n",
        "daynames.rotate(-3)\n",
        "\n",
        "\n",
        "result = daynames.pop()\n",
        "print(result)"
      ],
      "metadata": {
        "id": "I6RsPI2LbVFd"
      },
      "execution_count": null,
      "outputs": []
    },
    {
      "cell_type": "markdown",
      "source": [
        "####Exercise 75 _deque_ reverse & popleft\n",
        "\n",
        "The following _deque_ object is given:\n",
        "`\n",
        "daynames = deque(['Mon.', 'Tue.', 'Wed.', 'Thu.', 'Fri.', 'Sat.', 'Sun.'])\n",
        "`\n",
        "\n",
        "Using the _collections_ built-in module and the _deque_ class reverse the order of the daynames queue as shown below:\n",
        "\n",
        "`\n",
        "deque(['Sun.', 'Sat.', 'Fri.', 'Thu.', 'Wed.', 'Tue.', 'Mon.'])\n",
        "`\n",
        "\n",
        "Then, using the appropriate method pop the first element out of this deque and print to the console.\n",
        "\n",
        "\n",
        "\n",
        "Tip:\n",
        "> help(deque.reverse)  \n",
        "reverse(...)  \n",
        "    D.reverse() -- reverse **IN PLACE**  \n",
        "\n",
        ">help(deque.popleft)  \n",
        "popleft(...)  \n",
        "    Remove and return the leftmost element.\n",
        "\n",
        "\n",
        "Expected result:\n",
        ">Sun.\n",
        "\n"
      ],
      "metadata": {
        "id": "3Jmv5sf9CY73"
      }
    },
    {
      "cell_type": "code",
      "source": [
        "from collections import deque\n",
        "\n",
        "\n",
        "daynames = deque(['Mon.', 'Tue.', 'Wed.', 'Thu.', 'Fri.', 'Sat.', 'Sun.'])\n",
        "\n",
        "daynames.reverse()\n",
        "\n",
        "result = daynames.popleft()\n",
        "print(result)"
      ],
      "metadata": {
        "id": "PKdU21AWbV5L"
      },
      "execution_count": null,
      "outputs": []
    },
    {
      "cell_type": "markdown",
      "source": [
        "####Exercise 76 _deque_ extend & popleft\n",
        "\n",
        "The premiere of a computer game is planned and the option to subscribe to the wish list is opened. When a user subscribes to the wish list user id is added to the _deque_.\n",
        "\n",
        "Using the built-in _collections_ module create an empty _deque_ object named wishlist.\n",
        "\n",
        "Following users subscribed to the wish list in the given order:\n",
        "```\n",
        "'003'\n",
        "'001'\n",
        "'004'\n",
        "'002'\n",
        "'005'\n",
        "```\n",
        "Add these users to the wishlist deque.\n",
        "\n",
        "You should get following object:\n",
        ">deque(['003', '001', '004', '002', '005'])\n",
        "\n",
        "\n",
        "Using the appropriate method pop the first subscribed user from this deque and print to the console.\n",
        "\n",
        "Tip:\n",
        ">help(deque.popleft)  \n",
        "popleft(...)  \n",
        "    Remove and return the leftmost element.\n",
        "\n",
        "Expected result:\n",
        ">003\n"
      ],
      "metadata": {
        "id": "iJDp7mknCZHc"
      }
    },
    {
      "cell_type": "code",
      "source": [
        "from collections import deque\n",
        "\n",
        "wishlist = deque()\n",
        "\n",
        "users = ['003', '001', '004', '002', '005']\n",
        "\n",
        "wishlist.extend(users)\n",
        "\n",
        "result = wishlist.popleft()\n",
        "print(result)"
      ],
      "metadata": {
        "id": "JRXFJ3D2bXIR"
      },
      "execution_count": null,
      "outputs": []
    },
    {
      "cell_type": "markdown",
      "source": [
        "####Exercise 77 _deque_ clear\n",
        "\n",
        "The premiere of a computer game is planned and the option to subscribe to the wish list is opened. When a user subscribes to the wish list user id is added to the _deque_.\n",
        "\n",
        "Several users subscribed to the wish list. The data is received as a stream. If an error occurs, the value _None_ appears in the stream instead of the user id. In this case, the _deque_ should be cleared.\n",
        "\n",
        "Using the built-in _collections_ module create an empty _deque_ object named _wishlist_.\n",
        "\n",
        "Following users subscribed to the wish list in the given order (in stream):\n",
        "```\n",
        "'003'\n",
        "'001'\n",
        "'004'\n",
        "None\n",
        "'002'\n",
        "'005'\n",
        "```\n",
        "Add these users to the wishlist deque in the way described above. In response, print the wishlist to the console.\n",
        "\n",
        "Tip:\n",
        ">class deque(builtins.object)  \n",
        " |  deque([iterable[, maxlen]]) --> deque object  \n",
        " |    \n",
        " |  A list-like sequence optimized for data accesses   \n",
        " | near its endpoints.\n",
        "\n",
        "\n",
        "Expected result:\n",
        ">deque(['002', '005'])\n",
        "\n"
      ],
      "metadata": {
        "id": "e5l-smszCZSh"
      }
    },
    {
      "cell_type": "code",
      "source": [
        "from collections import deque\n",
        "\n",
        "\n",
        "user_ids = ['003', '001', '004', None, '002', '005']\n",
        "\n",
        "wishlist = deque()\n",
        "\n",
        "for id in user_ids:\n",
        "    if id is not None:\n",
        "        wishlist.append(id)\n",
        "    else:\n",
        "        wishlist.clear()\n",
        "\n",
        "print(wishlist)"
      ],
      "metadata": {
        "id": "uh1YRK_KbYar"
      },
      "execution_count": null,
      "outputs": []
    },
    {
      "cell_type": "markdown",
      "source": [
        "####Exercise 78  _deque_ maxlen\n",
        "\n",
        "The premiere of a computer game is planned and the option to subscribe to the wish list is opened. When a user subscribes to the wish list user id is added to the _deque_.\n",
        "\n",
        "Using the built-in _collections_ module create an empty _deque_ object named _wishlist_ with the **maximum length** of three elements.\n",
        "\n",
        "Following users subscribed to the wish list in the given order:\n",
        "```\n",
        "'003'\n",
        "'001'\n",
        "'004'\n",
        "'006'\n",
        "'002'\n",
        "'005'\n",
        "```\n",
        "Add these users to the _wishlist_ deque. In response, print _wishlist_ deque to the console each time you add a user as shown below.\n",
        "\n",
        "Tip:\n",
        "> help(deque.maxlen)  \n",
        "maxlen  \n",
        "    maximum size of a deque or None if unbounded\n",
        "\n",
        "\n",
        "Expected result:\n",
        ">deque(['003'], maxlen=3)  \n",
        "deque(['003', '001'], maxlen=3)  \n",
        "deque(['003', '001', '004'], maxlen=3)  \n",
        "deque(['001', '004', '006'], maxlen=3)  \n",
        "deque(['004', '006', '002'], maxlen=3)  \n",
        "deque(['006', '002', '005'], maxlen=3)  \n",
        "\n"
      ],
      "metadata": {
        "id": "o6YXJxf2CZfH"
      }
    },
    {
      "cell_type": "code",
      "source": [
        "from collections import deque\n",
        "\n",
        "\n",
        "user_ids = ['003', '001', '004', '006', '002', '005']\n",
        "\n",
        "limit = 3\n",
        "wishlist = deque(maxlen=limit)\n",
        "\n",
        "for id in user_ids:\n",
        "    wishlist.append(id)\n",
        "    print(wishlist)"
      ],
      "metadata": {
        "id": "9mGaDvxdbZoW"
      },
      "execution_count": null,
      "outputs": []
    },
    {
      "cell_type": "markdown",
      "source": [
        "####Exercise 79 _deque_ extend\n",
        "\n",
        "The premiere of a computer game is planned and the option to subscribe to the wish list is opened. When a user subscribes to the wish list user id is added to the _deque_.\n",
        "\n",
        "Following users subscribed to the wish list in the given order:\n",
        "```\n",
        "'003'\n",
        "'001'\n",
        "'004'\n",
        "'002'\n",
        "'005'\n",
        "```\n",
        "Using the _collections_ built-in module a _deque_ object called _wishlist_ was created based on the data from the _user_ids_ list. Extend the _wishlist_ with three additional users: `['007', '009', '010']`\n",
        "\n",
        "In response, print the _wishlist_ object to the console.\n",
        "\n",
        "Tip:\n",
        ">help(deque.extend)  \n",
        "extend(...)  \n",
        "    Extend the right side of the deque with elements from the iterable\n",
        "\n",
        "\n",
        "Expected result:\n",
        ">deque(['003', '001', '004', '002', '005', '007', '009', '010'])\n"
      ],
      "metadata": {
        "id": "K-Rsk0WvCZqi"
      }
    },
    {
      "cell_type": "code",
      "source": [
        "from collections import deque\n",
        "\n",
        "\n",
        "user_ids = ['003', '001', '004', '002', '005']\n",
        "wishlist = deque(user_ids)\n",
        "wishlist.extend(['007', '009', '010'])\n",
        "print(wishlist)\n"
      ],
      "metadata": {
        "id": "Y3jDyDycbaqY"
      },
      "execution_count": null,
      "outputs": []
    },
    {
      "cell_type": "markdown",
      "source": [
        "# Section: pprint\n",
        "[pprint](https://docs.python.org/3.8/library/pprint)\n",
        "\n",
        "Support to pretty-print lists, tuples, & dictionaries recursively."
      ],
      "metadata": {
        "id": "qxjSqd51CvZM"
      }
    },
    {
      "cell_type": "markdown",
      "source": [
        "####Exercise 80\n",
        "\n",
        "The following dictionary is given:\n",
        "```python\n",
        "data_dict = {\n",
        "    \"users\": [\n",
        "        {\n",
        "            \"userId\": 1,\n",
        "            \"firstName\": \"Krish\",\n",
        "            \"lastName\": \"Lee\",\n",
        "            \"emailAddress\": \"krish.lee@example.com\"\n",
        "        },\n",
        "        {\n",
        "            \"userId\": 2,\n",
        "            \"firstName\": \"racks\",\n",
        "            \"lastName\": \"jacson\",\n",
        "            \"emailAddress\": \"racks.jacson@example.com\"\n",
        "        },\n",
        "        {\n",
        "            \"userId\": 3,\n",
        "            \"firstName\": \"denial\",\n",
        "            \"lastName\": \"roast\",\n",
        "            \"emailAddress\": \"denial.roast@example.com\"\n",
        "        }\n",
        "    ]\n",
        "}\n",
        "```\n",
        "\n",
        "When printing the above dictionary to the console using the _print()_ function we get the following:\n",
        "```\n",
        "{'users': [{'userId': 1, 'firstName': 'Krish', 'lastName': 'Lee', 'emailAddress': 'krish.lee@example.com'}, {'userId': 2, 'firstName': 'racks', 'lastName': 'jacson', 'emailAddress': 'racks.jacson@example.com'}, {'userId': 3, 'firstName': 'denial', 'lastName': 'roast', 'emailAddress': 'denial.roast@example.com'}]}\n",
        "```\n",
        "\n",
        "Using the built-in _pprint_ module, print the _data\\_dict_ dictionary to the console as shown below.\n",
        "\n",
        "Expected result:\n",
        ">```\n",
        "{'users': [{'emailAddress': 'krish.lee@example.com',\n",
        "            'firstName': 'Krish',\n",
        "            'lastName': 'Lee',\n",
        "            'userId': 1},\n",
        "           {'emailAddress': 'racks.jacson@example.com',\n",
        "            'firstName': 'racks',\n",
        "            'lastName': 'jacson',\n",
        "            'userId': 2},\n",
        "           {'emailAddress': 'denial.roast@example.com',\n",
        "            'firstName': 'denial',\n",
        "            'lastName': 'roast',\n",
        "            'userId': 3}]}\n",
        "```\n"
      ],
      "metadata": {
        "id": "G4H2ipHBh4cW"
      }
    },
    {
      "cell_type": "code",
      "source": [
        "from pprint import pprint\n",
        "\n",
        "\n",
        "data_dict = {\n",
        "    \"users\": [\n",
        "        {\n",
        "            \"userId\": 1,\n",
        "            \"firstName\": \"Krish\",\n",
        "            \"lastName\": \"Lee\",\n",
        "            \"emailAddress\": \"krish.lee@example.com\"\n",
        "        },\n",
        "        {\n",
        "            \"userId\": 2,\n",
        "            \"firstName\": \"racks\",\n",
        "            \"lastName\": \"jacson\",\n",
        "            \"emailAddress\": \"racks.jacson@example.com\"\n",
        "        },\n",
        "        {\n",
        "            \"userId\": 3,\n",
        "            \"firstName\": \"denial\",\n",
        "            \"lastName\": \"roast\",\n",
        "            \"emailAddress\": \"denial.roast@example.com\"\n",
        "        }\n",
        "    ]\n",
        "}\n",
        "\n",
        "\n",
        "pprint(data_dict)"
      ],
      "metadata": {
        "id": "1H3oPHCzh7oM"
      },
      "execution_count": null,
      "outputs": []
    },
    {
      "cell_type": "markdown",
      "source": [
        "# Section: pathlib\n",
        "[pathlib](https://docs.python.org/3.8/library/pathlib)\n",
        "\n",
        "* Path(str)\n",
        "* [Path `/` operator](https://docs.python.org/3/library/pathlib.html#operators)\n",
        "* Path attributes\n",
        "* Path.cwd()\n",
        "* Path.exists()\n",
        "* Path.glob()\n",
        "* Path.home()\n",
        "* Path.is_dir()\n",
        "* Path.iterdir()\n",
        "* Path.joinpath()\n",
        "* Path.mkdir()\n",
        "* Path.read_text()\n",
        "* [Path.rename()](https://docs.python.org/3/library/pathlib.html#pathlib.Path.rename)\n",
        "* [Path.rglob()](https://docs.python.org/3/library/pathlib.html#pathlib.Path.rglob)\n",
        "* [Path.rmdir()](https://docs.python.org/3/library/pathlib.html#pathlib.Path.rmdir)\n",
        "* [Path.touch()](https://docs.python.org/3/library/pathlib.html#pathlib.Path.touch)\n",
        "* [Path.write_text()](https://docs.python.org/3/library/pathlib.html#pathlib.Path.write_text)\n",
        "\n",
        "This module offers classes representing filesystem paths with semantics appropriate for different operating systems. Path classes are divided between pure paths, which provide purely computational operations without I/O, and concrete paths, which inherit from pure paths but also provide I/O operations."
      ],
      "metadata": {
        "id": "PSKul_fGC-co"
      }
    },
    {
      "cell_type": "markdown",
      "source": [
        "####Exercise 81\n",
        "\n",
        "Using the built-in _pathlib_ module print the path to the working directory to the console.\n",
        "\n",
        "Tip:\n",
        ">cwd() method of builtins.type instance  \n",
        "    Return a new path pointing to the current working directory\n",
        "    (as returned by os.getcwd()).\n",
        "\n",
        "\n",
        "Expected result:\n",
        "* on Udemy `/eval`\n",
        "* on Colab `/content`\n"
      ],
      "metadata": {
        "id": "N-kWeoJqj37R"
      }
    },
    {
      "cell_type": "code",
      "source": [
        "import pathlib\n",
        "\n",
        "print(pathlib.Path.cwd())"
      ],
      "metadata": {
        "id": "KtjQ0eBFHCfB"
      },
      "execution_count": null,
      "outputs": []
    },
    {
      "cell_type": "markdown",
      "source": [
        "####Exercise 82\n",
        "\n",
        "Using the built-in _pathlib_ module print the path to the home directory to the console.\n",
        "\n",
        "Tip:\n",
        ">home() method of builtins.type instance  \n",
        "    Return a new path pointing to the user's home directory (as\n",
        "    returned by os.path.expanduser('~')).\n",
        "\n",
        "\n",
        "Expected result:\n",
        "* on Udemy `/home/evaluator`\n",
        "* on Colab `/root`"
      ],
      "metadata": {
        "id": "-MxkX4U4j7OP"
      }
    },
    {
      "cell_type": "code",
      "source": [
        "import pathlib\n",
        "\n",
        "print(pathlib.Path.home())"
      ],
      "metadata": {
        "id": "KeUjnjtdIoYS"
      },
      "execution_count": null,
      "outputs": []
    },
    {
      "cell_type": "markdown",
      "source": [
        "####Exercise 83\n",
        "\n",
        "Using the built-in _pathlib_ module create an instance of the _Path_ class and assign the following path:\n",
        "\n",
        "`/home/evaluator/reports/2020/01/sales.csv`\n",
        "\n",
        "to the path variable. In response, print the path variable to the console.\n",
        "\n",
        "Tip:\n",
        "> class Path(PurePath)\n",
        "\n",
        "Expected result:\n",
        ">`/home/evaluator/reports/2020/01/sales.csv`\n"
      ],
      "metadata": {
        "id": "3mB55fb-j7dK"
      }
    },
    {
      "cell_type": "code",
      "source": [
        "from pathlib import Path\n",
        "\n",
        "p = Path('/home/evaluator/reports/2020/01/sales.csv')\n",
        "\n",
        "print(p)"
      ],
      "metadata": {
        "id": "bh7FkY5CI8Ch"
      },
      "execution_count": null,
      "outputs": []
    },
    {
      "cell_type": "markdown",
      "source": [
        "####Exercise 84\n",
        "\n",
        "Using the _pathlib_ built-in module create two objects of the _Path_ class that store the following paths:\n",
        "\n",
        "`home directory path + 'reports/2020/01/sales.csv'`\n",
        "\n",
        "`path to working directory + 'reports/2020/01/sales.csv'`\n",
        "\n",
        "and assign to the variables _path1_ and _path2_ respectively.\n",
        "\n",
        "In response, print _path1_ and _path2_ to the console.\n",
        "\n",
        "Tip:\n",
        "> help(pathlib.Path.joinpath)\n",
        "\n",
        "Expected result:\n",
        "* on Udemy\n",
        "    * `/home/evaluator/reports/2020/01/sales.csv`  \n",
        "    * `/eval/reports/2020/01/sales.csv`\n",
        "\n",
        "* on Colab\n",
        "    * `/root/reports/2020/01/sales.csv`\n",
        "    * `/content/reports/2020/01/sales.csv`"
      ],
      "metadata": {
        "id": "AvTlf7Nwj7oK"
      }
    },
    {
      "cell_type": "code",
      "source": [
        "from pathlib import Path\n",
        "\n",
        "path1 = Path.home().joinpath('reports/2020/01/sales.csv')\n",
        "path2 = Path.cwd().joinpath('reports/2020/01/sales.csv')\n",
        "\n",
        "print(path1)\n",
        "print(path2)\n",
        "\n",
        "print('OR', '-' * 80)\n",
        "path1 = Path.home() / 'reports/2020/01/sales.csv'\n",
        "path2 = Path.cwd() / 'reports/2020/01/sales.csv'\n",
        "print(path1)\n",
        "print(path2)"
      ],
      "metadata": {
        "id": "_thFTQSHI83X"
      },
      "execution_count": null,
      "outputs": []
    },
    {
      "cell_type": "markdown",
      "source": [
        "####Exercise 85\n",
        "\n",
        "Using the built-in _pathlib_ module an object of the _Path_ class was created to store the path:\n",
        "\n",
        "`home directory path + 'reports/2020/01/sales.csv'`\n",
        "and assigned to the path variable.\n",
        "\n",
        "As an answer print to the console:\n",
        "* whole path (path variable)\n",
        "* value of the parent attribute\n",
        "* value of the name attribute\n",
        "* value of the stem attribute\n",
        "* value of the suffix attribute\n",
        "* value of the parts attribute\n",
        "\n",
        "\n",
        "Tip:\n",
        "> help(pathlib.Path.parent)\n",
        "    The logical parent of the path.\n",
        " \n",
        "> help(pathlib.Path.name)\n",
        "    The final path component, if any.\n",
        " \n",
        "> help(pathlib.Path.stem)\n",
        "    The final path component, minus its last suffix.\n",
        " \n",
        "> help(pathlib.Path.suffix)\n",
        "    The final component's last suffix, if any.\n",
        " \n",
        "> help(pathlib.Path.parts)\n",
        "    An object providing sequence-like access to the\n",
        "    components in the filesystem path.\n",
        "\n",
        "\n",
        "Expected result:\n",
        ">```\n",
        "/home/evaluator/reports/2020/01/sales.csv\n",
        "/home/evaluator/reports/2020/01\n",
        "sales.csv\n",
        "sales\n",
        ".csv\n",
        "('/', 'home', 'evaluator', 'reports', '2020', '01', 'sales.csv')\n",
        "```"
      ],
      "metadata": {
        "id": "V0VWBCCGj7xy"
      }
    },
    {
      "cell_type": "code",
      "source": [
        "from pathlib import Path\n",
        "\n",
        "\n",
        "path = Path.home() / 'reports/2020/01/sales.csv'\n",
        "\n",
        "print(path)\n",
        "print(path.parent)\n",
        "print(path.name)\n",
        "print(path.stem)\n",
        "print(path.suffix)\n",
        "print(path.parts)"
      ],
      "metadata": {
        "id": "PO62wVjHNi75"
      },
      "execution_count": null,
      "outputs": []
    },
    {
      "cell_type": "markdown",
      "source": [
        "####Exercise 86\n",
        "\n",
        "Using the built-in _pathlib_ module an object of the _Path_ class was created to store the path:\n",
        "\n",
        "`home directory path + 'reports/2020/01/sales.csv'`\n",
        "\n",
        "and assigned to the _path_ variable. Examine the value of the parents attribute for this object. Then, iterating over this attribute, print each element to the console.\n",
        "\n",
        "Tip:\n",
        "> help(pathlib.Path.parents)  \n",
        "    A sequence of this path's logical parents.\n",
        "\n",
        "\n",
        "Expected result:\n",
        "* Udemy\n",
        ">/home/evaluator/reports/2020/01  \n",
        "/home/evaluator/reports/2020  \n",
        "/home/evaluator/reports  \n",
        "/home/evaluator  \n",
        "/home  \n",
        "/\n",
        "* Colab\n",
        ">/root/sample_data  \n",
        "/root  \n",
        "/\n"
      ],
      "metadata": {
        "id": "sUei4oMSj779"
      }
    },
    {
      "cell_type": "code",
      "source": [
        "from pathlib import Path\n",
        "\n",
        "\n",
        "path = Path.home() / 'sample_data/README.md'\n",
        "\n",
        "for p in path.parents:\n",
        "    print(p)"
      ],
      "metadata": {
        "id": "qEzc6z36Nke1"
      },
      "execution_count": null,
      "outputs": []
    },
    {
      "cell_type": "markdown",
      "source": [
        "####Exercise 87\n",
        "\n",
        "Using the built-in _pathlib_ module check if the directory named _reports_ exists in your working directory. If not, create this directory. Then list all files/directories in your working directory __sorted__ alphabetically.\n",
        "\n",
        "Print the result to the console as shown below.\n",
        "\n",
        "Tip:\n",
        ">is_dir(self)   \n",
        "    Whether this path is a directory.\n",
        " \n",
        " \n",
        ">mkdir(self, mode=511, parents=False, exist_ok=False)  \n",
        "    Create a new directory at this given path.\n",
        " \n",
        ">iterdir(self)  \n",
        "    Iterate over the files in this directory.  \n",
        "    Does not yield any result for the special paths '.' and '..'.\n",
        "\n",
        "\n",
        "Expected result:\n",
        "* Udemy\n",
        ">/eval/\\_\\_pycache\\_\\_  \n",
        "/eval/evaluate.py  \n",
        "/eval/exercise.py  \n",
        "/eval/reports  \n",
        "/eval/result.py  \n",
        "/eval/run_unittest.py  \n"
      ],
      "metadata": {
        "id": "56oW7chMj8Fk"
      }
    },
    {
      "cell_type": "code",
      "source": [
        "from pathlib import Path\n",
        "\n",
        "path = Path.cwd() / 'exercise87'\n",
        "\n",
        "\n",
        "# I'm creating files because I don't have them\n",
        "for file in ['__pycache__', 'evaluate.py', 'exercise.py', 'result.py', 'run_unittest.py' ]:\n",
        "    Path.joinpath(Path.cwd(), file).touch()\n",
        "\n",
        "if not path.is_dir():\n",
        "    path.mkdir()\n",
        "\n",
        "if path.is_dir():\n",
        "    for p in sorted(Path.cwd().iterdir()):\n",
        "        print(p)\n"
      ],
      "metadata": {
        "id": "_sRGvNY0Nli-"
      },
      "execution_count": null,
      "outputs": []
    },
    {
      "cell_type": "markdown",
      "source": [
        "Cleanup"
      ],
      "metadata": {
        "id": "yI4SKRAnfHtF"
      }
    },
    {
      "cell_type": "code",
      "source": [
        "!rm -rf exercise87\n",
        "!rm -rf *pycache* evaluate.py exercise.py result.py run_unittest.py "
      ],
      "metadata": {
        "id": "5OPfbJX-fLJ-"
      },
      "execution_count": null,
      "outputs": []
    },
    {
      "cell_type": "markdown",
      "source": [
        "####Exercise 88\n",
        "\n",
        "Using the built-in _pathlib_ module create a _Path_ instance that stores the following path:  \n",
        "current working directory + 'reports/ecommerce/2020/01'  \n",
        "and assign to path variable.\n",
        "\n",
        "Then create directories from _path_ (none of the directories: reports/ecommerce/2020/01 exists).\n",
        "\n",
        "In response. check if that path is a directory and print result to the console.\n",
        "\n",
        "Tip:\n",
        ">mkdir(self, mode=511, parents=False, exist_ok=False)  \n",
        "    Create a new directory at this given path.\n",
        " \n",
        " \n",
        ">is_dir(self)  \n",
        "    Whether this path is a directory.\n",
        "\n",
        "\n",
        "Expected result:\n",
        ">True\n",
        "\n",
        "Works like Unix `mkdir -r` or `os.makedirs()`."
      ],
      "metadata": {
        "id": "-nlLbHQ5j8We"
      }
    },
    {
      "cell_type": "markdown",
      "source": [
        "Prepare"
      ],
      "metadata": {
        "id": "qyHiwzHnh-iF"
      }
    },
    {
      "cell_type": "code",
      "source": [
        "!rm -rf reports"
      ],
      "metadata": {
        "id": "O5c4iEPONmfo"
      },
      "execution_count": null,
      "outputs": []
    },
    {
      "cell_type": "markdown",
      "source": [
        "Code"
      ],
      "metadata": {
        "id": "f_XC3I6eiGf3"
      }
    },
    {
      "cell_type": "code",
      "source": [
        "from pathlib import Path\n",
        "\n",
        "path = Path.joinpath(Path.cwd(),  'reports/ecommerce/2020/01')\n",
        "\n",
        "if not path.is_dir():\n",
        "    path.mkdir(parents=True)\n",
        "\n",
        "print(path.is_dir())"
      ],
      "metadata": {
        "id": "AglqdoLoiLEH"
      },
      "execution_count": null,
      "outputs": []
    },
    {
      "cell_type": "markdown",
      "source": [
        "Cleanup"
      ],
      "metadata": {
        "id": "kLfUUBR3iLsj"
      }
    },
    {
      "cell_type": "code",
      "source": [
        "!rm -rf reports"
      ],
      "metadata": {
        "id": "dyKz2LqhiN_p"
      },
      "execution_count": null,
      "outputs": []
    },
    {
      "cell_type": "markdown",
      "source": [
        "####Exercise 89\n",
        "\n",
        "Using the _pathlib_ built-in module create _Path_ instance that store following path names:\n",
        "\n",
        "```\n",
        "[\n",
        "    PosixPath('eval/reports/2020/01'),\n",
        "    PosixPath('eval/reports/2020/02'),\n",
        "    PosixPath('eval/reports/2020/03'),\n",
        "    PosixPath('eval/reports/2020/04'),\n",
        "    PosixPath('eval/reports/2020/05'),\n",
        "    PosixPath('eval/reports/2020/06'),\n",
        "    PosixPath('eval/reports/2020/07'),\n",
        "    PosixPath('eval/reports/2020/08'),\n",
        "    PosixPath('eval/reports/2020/09'),\n",
        "    PosixPath('eval/reports/2020/10'),\n",
        "    PosixPath('eval/reports/2020/11'),\n",
        "    PosixPath('eval/reports/2020/12'),\n",
        "]\n",
        "```\n",
        "\n",
        "and assign to paths variable (try to automate the solution, don't enter the names manually).\n",
        "\n",
        "Then create all directories for the paths in the paths list.\n",
        "\n",
        "In response, list all directories in the directory named 2020 (eval/reports/2020) __sorted__ alphabetically.\n",
        "\n",
        "\n",
        "Tip:\n",
        ">mkdir(self, mode=511, parents=False, exist_ok=False)  \n",
        "    Create a new directory at this given path.\n",
        " \n",
        " \n",
        ">iterdir() method of pathlib.PosixPath instance  \n",
        "    Iterate over the files in this directory.  Does not yield any  \n",
        "    result for the special paths '.' and '..'.\n",
        "\n",
        "\n",
        "Expected result:\n",
        ">/eval/reports/2020/01  \n",
        "/eval/reports/2020/02  \n",
        "/eval/reports/2020/03  \n",
        "/eval/reports/2020/04  \n",
        "/eval/reports/2020/05  \n",
        "/eval/reports/2020/06  \n",
        "/eval/reports/2020/07  \n",
        "/eval/reports/2020/08  \n",
        "/eval/reports/2020/09  \n",
        "/eval/reports/2020/10  \n",
        "/eval/reports/2020/11  \n",
        "/eval/reports/2020/12\n",
        "\n"
      ],
      "metadata": {
        "id": "VgYAS-Frj8hk"
      }
    },
    {
      "cell_type": "code",
      "source": [
        "from pathlib import Path \n",
        "\n",
        "s = 'reports/2020'\n",
        "\n",
        "paths = []\n",
        "for i in range(1,13):\n",
        "    paths.append(Path.joinpath(Path.cwd(), 'reports', '2020', str(i).zfill(2)))\n",
        "\n",
        "for path in paths:\n",
        "    # using exist_ok to run multiple times\n",
        "    path.mkdir(parents=True, exist_ok=True)\n",
        "\n",
        "path2020 = Path.joinpath(Path.cwd(), 'reports', '2020')\n",
        "for path in sorted(path2020.iterdir()):\n",
        "    print(path)\n",
        "\n",
        "# his solution (for 2021 in order to demo)\n",
        "paths = [\n",
        "    Path.cwd() / f'reports/2021/{str(i).zfill(2)}' \n",
        "    for i in range(1, 13)\n",
        "]\n",
        " \n",
        "for path in paths:\n",
        "    path.mkdir(parents=True)\n",
        " \n",
        "# this solution is brittle if paths is empty, would not pass my code review, \n",
        "print('path he uses:', path, \", parent:\", path.parent)\n",
        "for dir in sorted(path.parent.iterdir()):\n",
        "    print(dir)  "
      ],
      "metadata": {
        "id": "OkmjNxaHNntr"
      },
      "execution_count": null,
      "outputs": []
    },
    {
      "cell_type": "markdown",
      "source": [
        "Cleanup"
      ],
      "metadata": {
        "id": "A021lSK59Qzx"
      }
    },
    {
      "cell_type": "code",
      "source": [
        "!rm -rf reports"
      ],
      "metadata": {
        "id": "Y9p1D8QP9SqF"
      },
      "execution_count": null,
      "outputs": []
    },
    {
      "cell_type": "markdown",
      "source": [
        "####Exercise 90\n",
        "\n",
        "The following path is given:\n",
        "\n",
        "`path = Path.cwd() / 'hello.txt'`\n",
        "\n",
        "Using the _pathlib_ built-in module check if the specified file exists. If not, create it in the standard way (statement with open...) and write into it the following text:\n",
        "\n",
        ">Open,High,Low,Close\n",
        "\n",
        "Then open this file in the standard way (statement with open...) and load its contents into the **content** variable.\n",
        "\n",
        "In response, print the **content** variable to the console.\n",
        "\n",
        "Expected result:\n",
        ">Open,High,Low,Close\n"
      ],
      "metadata": {
        "id": "uUip0X1pkIAi"
      }
    },
    {
      "cell_type": "code",
      "source": [
        "from pathlib import Path\n",
        "\n",
        "path = Path.cwd() / 'hello.txt' \n",
        "\n",
        "\n",
        "\n",
        "if not path.is_file():\n",
        "    with open(path, 'w') as f:\n",
        "        f.write('Open,High,Low,Close')\n",
        "\n",
        "content = None\n",
        "if path.exists():\n",
        "    with open(path, 'r') as f:\n",
        "        content = f.read()\n",
        "\n",
        "print(content)"
      ],
      "metadata": {
        "id": "TEPDgvLLNo3m"
      },
      "execution_count": null,
      "outputs": []
    },
    {
      "cell_type": "markdown",
      "source": [
        "Cleanup"
      ],
      "metadata": {
        "id": "LxXT_4ekAYco"
      }
    },
    {
      "cell_type": "code",
      "source": [
        "!rm -f hello.txt\n",
        "!ls"
      ],
      "metadata": {
        "id": "_B14GlesAaCe"
      },
      "execution_count": null,
      "outputs": []
    },
    {
      "cell_type": "markdown",
      "source": [
        "####Exercise 91\n",
        "\n",
        "The following path is given:\n",
        "\n",
        "path = Path.cwd() / 'hello.txt'\n",
        "\n",
        "\n",
        "Using the _pathlib_ built-in module check if the specified file exists. If not, create it using the _pathlib_ module and write into it the following text:\n",
        "\n",
        "'Open,High,Low,Close'\n",
        "\n",
        "Then open this file using the _pathlib_\n",
        " module and load its contents into the content variable.\n",
        "\n",
        "In response, print the content variable to the console.\n",
        "\n",
        "\n",
        "\n",
        "Tip:\n",
        ">pathlib.Path.write_text  \n",
        "write_text(self, data, encoding=None, errors=None)  \n",
        "    Open the file in text mode, write to it, and close the file.\n",
        " \n",
        ">pathlib.Path.read_text  \n",
        "read_text(self, encoding=None, errors=None)  \n",
        "    Open the file in text mode, read it, and close the file.\n",
        "\n",
        "\n",
        "Expected result:\n",
        ">Open,High,Low,Close\n",
        "\n"
      ],
      "metadata": {
        "id": "3o98i8pTkMoT"
      }
    },
    {
      "cell_type": "code",
      "source": [
        "from pathlib import Path\n",
        "\n",
        "\n",
        "path = Path.cwd() / 'hello.txt'\n",
        "\n",
        "if not path.is_file():\n",
        "    path.write_text('Open,High,Low,Close')\n",
        "\n",
        "content = path.read_text()\n",
        "\n",
        "print(content)"
      ],
      "metadata": {
        "id": "FIH-kkV6JCTY"
      },
      "execution_count": null,
      "outputs": []
    },
    {
      "cell_type": "markdown",
      "source": [
        "Cleanup"
      ],
      "metadata": {
        "id": "NDsZtWJyJm-g"
      }
    },
    {
      "cell_type": "code",
      "source": [
        "!rm hello.txt"
      ],
      "metadata": {
        "id": "FcE-3DhuJpkY"
      },
      "execution_count": null,
      "outputs": []
    },
    {
      "cell_type": "markdown",
      "source": [
        "####Exercise 92\n",
        "\n",
        "The following directories were created:\n",
        "```\n",
        "/eval/reports/2020/01\n",
        "/eval/reports/2020/02\n",
        "/eval/reports/2020/03\n",
        "/eval/reports/2020/04\n",
        "/eval/reports/2020/05\n",
        "/eval/reports/2020/06\n",
        "/eval/reports/2020/07\n",
        "/eval/reports/2020/08\n",
        "/eval/reports/2020/09\n",
        "/eval/reports/2020/10\n",
        "/eval/reports/2020/11\n",
        "/eval/reports/2020/12\n",
        "```\n",
        "\n",
        "Using the pathlib built-in module change the names of directories 01-12 to the names 01_sales - 12_sales.\n",
        "\n",
        "In response, print the names of the directories in the /eval/reports/2020/ directory, sorted alphabetically to the console.\n",
        "\n",
        "Tip:\n",
        ">pathlib.Path.rename)  \n",
        "rename(self, target)  \n",
        "    Rename this path to the given path.\n",
        "\n",
        "\n",
        "Expected result:\n",
        ">/eval/reports/2020/01_sales  \n",
        "/eval/reports/2020/02_sales  \n",
        "/eval/reports/2020/03_sales  \n",
        "/eval/reports/2020/04_sales  \n",
        "/eval/reports/2020/05_sales  \n",
        "/eval/reports/2020/06_sales  \n",
        "/eval/reports/2020/07_sales  \n",
        "/eval/reports/2020/08_sales  \n",
        "/eval/reports/2020/09_sales  \n",
        "/eval/reports/2020/10_sales  \n",
        "/eval/reports/2020/11_sales  \n",
        "/eval/reports/2020/12_sales"
      ],
      "metadata": {
        "id": "piC5uQNRkMyn"
      }
    },
    {
      "cell_type": "code",
      "source": [
        "from pathlib import Path\n",
        "\n",
        "\n",
        "paths = [Path.cwd() / f'reports/2020/{str(i).zfill(2)}' for i in range(1, 13)]\n",
        "\n",
        "for path in paths:\n",
        "    path.mkdir(parents=True)\n",
        "\n",
        "for path in paths:\n",
        "    path.rename(f'{path}_sales')\n",
        "\n",
        "\n",
        "for path2020 in sorted((Path.cwd() / 'reports/2020').iterdir()):\n",
        "    print(path2020)\n",
        "    \n",
        "!ls -R"
      ],
      "metadata": {
        "id": "b90xhUKwJ4p1"
      },
      "execution_count": null,
      "outputs": []
    },
    {
      "cell_type": "markdown",
      "source": [
        "Cleanup"
      ],
      "metadata": {
        "id": "7eOBWJpWPUIR"
      }
    },
    {
      "cell_type": "code",
      "source": [
        "!rm -rf reports"
      ],
      "metadata": {
        "id": "yv7RGg_lLmcI"
      },
      "execution_count": null,
      "outputs": []
    },
    {
      "cell_type": "markdown",
      "source": [
        "**His Solution**\n",
        "\n",
        "He creates a list of target paths.\n",
        "Then he uses zip(paths, targets) to pass call `Path.rename`"
      ],
      "metadata": {
        "id": "vAchhgftPjpO"
      }
    },
    {
      "cell_type": "code",
      "source": [
        "from pathlib import Path\n",
        " \n",
        " \n",
        "paths = [\n",
        "    Path.cwd() / f'reports/2020/{str(i).zfill(2)}' \n",
        "    for i in range(1, 13)\n",
        "]\n",
        " \n",
        "for path in paths:\n",
        "    path.mkdir(parents=True)\n",
        " \n",
        "targets = [\n",
        "    Path.cwd() / f'reports/2020/{str(i).zfill(2)}_sales' \n",
        "    for i in range(1, 13)\n",
        "]\n",
        " \n",
        "for path, target in zip(paths, targets):\n",
        "    path.rename(target)\n",
        " \n",
        "for dir in sorted(Path.cwd().joinpath('reports/2020').iterdir()):\n",
        "    print(dir)\n",
        "\n",
        "!ls -R"
      ],
      "metadata": {
        "id": "Wunl4XeHPok7"
      },
      "execution_count": null,
      "outputs": []
    },
    {
      "cell_type": "markdown",
      "source": [
        "Cleanup"
      ],
      "metadata": {
        "id": "jyMoRKAyQPxw"
      }
    },
    {
      "cell_type": "code",
      "source": [
        "!rm -rf reports"
      ],
      "metadata": {
        "id": "phdeKGzsQRrT"
      },
      "execution_count": null,
      "outputs": []
    },
    {
      "cell_type": "markdown",
      "source": [
        "####Exercise 93\n",
        "\n",
        "The following list of directory paths is given:\n",
        "```\n",
        "[\n",
        "    PosixPath('eval/reports/2020/01_sales'),\n",
        "    PosixPath('eval/reports/2020/02_sales'),\n",
        "    PosixPath('eval/reports/2020/03_sales'),\n",
        "    PosixPath('eval/reports/2020/04_sales'),\n",
        "    PosixPath('eval/reports/2020/05_sales'),\n",
        "    PosixPath('eval/reports/2020/06_sales'),\n",
        "    PosixPath('eval/reports/2020/07_sales'),\n",
        "    PosixPath('eval/reports/2020/08_sales'),\n",
        "    PosixPath('eval/reports/2020/09_sales'),\n",
        "    PosixPath('eval/reports/2020/10_sales'),\n",
        "    PosixPath('eval/reports/2020/11_sales'),\n",
        "    PosixPath('eval/reports/2020/12_sales'),\n",
        "]\n",
        "```\n",
        "\n",
        "Using the _pathlib_ built-in module create the given directories from this list.\n",
        "\n",
        "In response print the contents of the _eval/reports/2020_ directory to the console.\n",
        "\n",
        "Expected result:\n",
        ">/eval/reports/2020/01_sales  \n",
        "/eval/reports/2020/02_sales  \n",
        "/eval/reports/2020/03_sales  \n",
        "/eval/reports/2020/04_sales  \n",
        "/eval/reports/2020/05_sales  \n",
        "/eval/reports/2020/06_sales  \n",
        "/eval/reports/2020/07_sales  \n",
        "/eval/reports/2020/08_sales  \n",
        "/eval/reports/2020/09_sales  \n",
        "/eval/reports/2020/10_sales  \n",
        "/eval/reports/2020/11_sales  \n",
        "/eval/reports/2020/12_sales\n",
        "\n"
      ],
      "metadata": {
        "id": "NUjlseybkM89"
      }
    },
    {
      "cell_type": "code",
      "source": [
        "from pathlib import Path\n",
        "\n",
        "\n",
        "paths = [\n",
        "    Path.cwd() / f'reports/2020/{str(i).zfill(2)}_sales'\n",
        "    for i in range(1, 13)\n",
        "]\n",
        "\n",
        "for path in paths:\n",
        "    if not path.exists():\n",
        "        path.mkdir(parents=True)\n",
        "\n",
        "# now for the actually demo that this works\n",
        "\n",
        "for path in paths:\n",
        "    path.mkdir(parents=True,  exist_ok=True)\n",
        "\n",
        "for path in sorted(paths[0].parent.iterdir()):\n",
        "    print(path)\n",
        "\n",
        "!ls -R"
      ],
      "metadata": {
        "id": "azj4UQAuRNKs"
      },
      "execution_count": null,
      "outputs": []
    },
    {
      "cell_type": "markdown",
      "source": [
        "Cleanup"
      ],
      "metadata": {
        "id": "a1mnO-XZSmFP"
      }
    },
    {
      "cell_type": "code",
      "source": [
        "!rm -rf reports"
      ],
      "metadata": {
        "id": "B0lSwsCsSn2k"
      },
      "execution_count": null,
      "outputs": []
    },
    {
      "cell_type": "markdown",
      "source": [
        "####Exercise 94\n",
        "\n",
        "The following list of directory paths is given:\n",
        "```\n",
        "[\n",
        "    PosixPath('eval/reports/2020/01_sales'),\n",
        "    PosixPath('eval/reports/2020/02_sales'),\n",
        "    PosixPath('eval/reports/2020/03_sales'),\n",
        "    PosixPath('eval/reports/2020/04_sales'),\n",
        "    PosixPath('eval/reports/2020/05_sales'),\n",
        "    PosixPath('eval/reports/2020/06_sales'),\n",
        "    PosixPath('eval/reports/2020/07_sales'),\n",
        "    PosixPath('eval/reports/2020/08_sales'),\n",
        "    PosixPath('eval/reports/2020/09_sales'),\n",
        "    PosixPath('eval/reports/2020/10_sales'),\n",
        "    PosixPath('eval/reports/2020/11_sales'),\n",
        "    PosixPath('eval/reports/2020/12_sales'),\n",
        "]\n",
        "```\n",
        "\n",
        "To the given paths, right after the directory with the year _2020_, add a directory with the name of the _quarter_, respectively: _Q1, Q2, Q3, Q4_ depending on the month number and assign it to the variable __targets__.\n",
        "\n",
        "Print each path in the targets list to the console as shown below.\n",
        "\n",
        "\n",
        "\n",
        "Expected result:\n",
        ">/eval/reports/2020/Q1/01_sales  \n",
        "/eval/reports/2020/Q1/02_sales  \n",
        "/eval/reports/2020/Q1/03_sales  \n",
        "/eval/reports/2020/Q2/04_sales  \n",
        "/eval/reports/2020/Q2/05_sales  \n",
        "/eval/reports/2020/Q2/06_sales  \n",
        "/eval/reports/2020/Q3/07_sales  \n",
        "/eval/reports/2020/Q3/08_sales  \n",
        "/eval/reports/2020/Q3/09_sales  \n",
        "/eval/reports/2020/Q4/10_sales  \n",
        "/eval/reports/2020/Q4/11_sales  \n",
        "/eval/reports/2020/Q4/12_sales\n"
      ],
      "metadata": {
        "id": "t3KuaitQkNGV"
      }
    },
    {
      "cell_type": "code",
      "source": [
        "from pathlib import Path\n",
        "\n",
        "\n",
        "paths = [\n",
        "    Path.cwd() / f'reports/2020/{str(i).zfill(2)}_sales'\n",
        "    for i in range(1, 13)\n",
        "]\n",
        "\n",
        "q1 = [\n",
        "    Path.joinpath(p.parent, \"Q1\", p.name) for p in paths[0:3]\n",
        "]\n",
        "q2 = [\n",
        "    Path.joinpath(p.parent, \"Q2\", p.name) for p in paths[3:6]\n",
        "]\n",
        "q3 = [\n",
        "    Path.joinpath(p.parent, \"Q3\", p.name) for p in paths[6:9]\n",
        "]\n",
        "q4 = [\n",
        "    Path.joinpath(p.parent, \"Q4\", p.name) for p in paths[9:12]\n",
        "]\n",
        "\n",
        "targets = []\n",
        "targets.append(q1)\n",
        "targets.append(q2)\n",
        "targets.append(q3)\n",
        "targets.append(q4)\n",
        "\n",
        "for t in targets:\n",
        "    for f in t:\n",
        "        print(f)"
      ],
      "metadata": {
        "id": "gA-UB2Qt9JHk"
      },
      "execution_count": null,
      "outputs": []
    },
    {
      "cell_type": "markdown",
      "source": [
        "His solution doesn't used the _paths_ variable, which seems like a cheat."
      ],
      "metadata": {
        "id": "Ab3iLOaKFtmW"
      }
    },
    {
      "cell_type": "code",
      "source": [
        "from pathlib import Path\n",
        " \n",
        " \n",
        "paths = [\n",
        "    Path.cwd() / f'reports/2020/{str(i).zfill(2)}_sales'\n",
        "    for i in range(1, 13)\n",
        "]\n",
        " \n",
        "t = 3\n",
        "targets = [\n",
        "    Path.cwd()\n",
        "    / f'reports/2020/Q{i // t}/{str(i - t + 1).zfill(2)}_sales'\n",
        "    for i in range(t, t + 12)\n",
        "]\n",
        "for target in targets:\n",
        "    print(target)"
      ],
      "metadata": {
        "id": "y8sNzxnyFxry"
      },
      "execution_count": null,
      "outputs": []
    },
    {
      "cell_type": "markdown",
      "source": [
        "####Exercise 95\n",
        "Exercise 15\n",
        "The following list of directory paths is given:\n",
        "```\n",
        "[\n",
        "    PosixPath('eval/reports/2020/01_sales'),\n",
        "    PosixPath('eval/reports/2020/02_sales'),\n",
        "    PosixPath('eval/reports/2020/03_sales'),\n",
        "    PosixPath('eval/reports/2020/04_sales'),\n",
        "    PosixPath('eval/reports/2020/05_sales'),\n",
        "    PosixPath('eval/reports/2020/06_sales'),\n",
        "    PosixPath('eval/reports/2020/07_sales'),\n",
        "    PosixPath('eval/reports/2020/08_sales'),\n",
        "    PosixPath('eval/reports/2020/09_sales'),\n",
        "    PosixPath('eval/reports/2020/10_sales'),\n",
        "    PosixPath('eval/reports/2020/11_sales'),\n",
        "    PosixPath('eval/reports/2020/12_sales'),\n",
        "]\n",
        "```\n",
        "\n",
        "Using the _pathlib_ built-in module, the given directories were created. Then the decision was made to change the directory structure by adding the name of the quarter after the 2020 directory. For this purpose, a targets list was created, which stores the target path names.\n",
        "```\n",
        "/eval/reports/2020/Q1/01_sales\n",
        "/eval/reports/2020/Q1/02_sales\n",
        "/eval/reports/2020/Q1/03_sales\n",
        "/eval/reports/2020/Q2/04_sales\n",
        "/eval/reports/2020/Q2/05_sales\n",
        "/eval/reports/2020/Q2/06_sales\n",
        "/eval/reports/2020/Q3/07_sales\n",
        "/eval/reports/2020/Q3/08_sales\n",
        "/eval/reports/2020/Q3/09_sales\n",
        "/eval/reports/2020/Q4/10_sales\n",
        "/eval/reports/2020/Q4/11_sales\n",
        "/eval/reports/2020/Q4/12_sales\n",
        "```\n",
        "\n",
        "Using the _pathlib_ built-in module change the directory structure as shown in the targets list.\n",
        "\n",
        "In response, print all directories in the _/reports/2020_ directory to the console.\n",
        "\n",
        "\n",
        "\n",
        "Expected result:\n",
        ">/eval/reports/2020/Q1  \n",
        "/eval/reports/2020/Q2  \n",
        "/eval/reports/2020/Q3  \n",
        "/eval/reports/2020/Q4\n"
      ],
      "metadata": {
        "id": "tyQqXP5RkNQC"
      }
    },
    {
      "cell_type": "code",
      "source": [
        "from pathlib import Path\n",
        "\n",
        "\n",
        "paths = [\n",
        "    Path.cwd() / f'reports/2020/{str(i).zfill(2)}_sales'\n",
        "    for i in range(1, 13)\n",
        "]\n",
        "\n",
        "for path in paths:\n",
        "    path.mkdir(parents=True, exist_ok=True)\n",
        "t = 3\n",
        "targets = [\n",
        "    Path.cwd()\n",
        "    / f'reports/2020/Q{i // t}/{str(i - t + 1).zfill(2)}_sales'\n",
        "    for i in range(t, t + 12)\n",
        "]\n",
        "\n",
        "# this gets the job \"done\" but wouldn't handle moving any files in those dirs.\n",
        "# What I did get right was using zip on the two collections\n",
        "for path, target in zip(paths, targets):\n",
        "    Path(target).mkdir(parents=True, exist_ok=True)\n",
        "    path.rmdir()\n",
        "\n",
        "for d in sorted((Path.cwd() / 'reports/2020').iterdir()):\n",
        "    print(d)"
      ],
      "metadata": {
        "id": "ofkNuLk8GmI1"
      },
      "execution_count": null,
      "outputs": []
    },
    {
      "cell_type": "markdown",
      "source": [
        "Cleanup:"
      ],
      "metadata": {
        "id": "tSiPCjw4KY-Y"
      }
    },
    {
      "cell_type": "code",
      "source": [
        "!rm -rf reports\n"
      ],
      "metadata": {
        "id": "sJU313tCHuUH"
      },
      "execution_count": null,
      "outputs": []
    },
    {
      "cell_type": "markdown",
      "source": [
        "His Solution  \n",
        "This is a intended solution. It checks if the parent of the targets exists, and creates it if it doesn't.  \n",
        "Then `path.rename(target)` can be used."
      ],
      "metadata": {
        "id": "DIenkKhdKeOu"
      }
    },
    {
      "cell_type": "code",
      "source": [
        "from pathlib import Path\n",
        " \n",
        " \n",
        "paths = [\n",
        "    Path.cwd() / f'reports/2020/{str(i).zfill(2)}_sales'\n",
        "    for i in range(1, 13)\n",
        "]\n",
        " \n",
        "for path in paths:\n",
        "    path.mkdir(parents=True)\n",
        "t = 3\n",
        "targets = [\n",
        "    Path.cwd()\n",
        "    / f'reports/2020/Q{i // t}/{str(i - t + 1).zfill(2)}_sales'\n",
        "    for i in range(t, t + 12)\n",
        "]\n",
        " \n",
        "for target in targets:\n",
        "    if not target.parent.is_dir():\n",
        "        target.mkdir(parents=True)\n",
        "for path, target in zip(paths, targets):\n",
        "    path.rename(target)\n",
        "for dir in sorted(Path.cwd().joinpath('reports/2020').iterdir()):\n",
        "    print(dir)"
      ],
      "metadata": {
        "id": "hlvYha14KiML"
      },
      "execution_count": null,
      "outputs": []
    },
    {
      "cell_type": "markdown",
      "source": [
        "####Exercise 96\n",
        "\n",
        "Using the _pathlib_ built-in module create the following list:\n",
        "```\n",
        "[\n",
        "    PosixPath('eval/media/music/playlist_01'),\n",
        "    PosixPath('eval/media/music/playlist_02'),\n",
        "    PosixPath('eval/media/music/playlist_03'),\n",
        "    PosixPath('eval/media/music/playlist_04'),\n",
        "    PosixPath('eval/media/music/playlist_05'),\n",
        "    PosixPath('eval/media/music/playlist_06'),\n",
        "    PosixPath('eval/media/music/playlist_07'),\n",
        "    PosixPath('eval/media/music/playlist_08'),\n",
        "    PosixPath('eval/media/music/playlist_09'),\n",
        "    PosixPath('eval/media/music/playlist_10'),\n",
        "]\n",
        "```\n",
        "\n",
        "and assign it to the _paths_ variable (try to automate it). Then create these directories.\n",
        "\n",
        "In response, print all directories in the _eval/media/music_ directory sorted alphabetically as shown below.\n",
        "\n",
        "Expected result:\n",
        "```\n",
        "/eval/media/music/playlist_01\n",
        "/eval/media/music/playlist_02\n",
        "/eval/media/music/playlist_03\n",
        "/eval/media/music/playlist_04\n",
        "/eval/media/music/playlist_05\n",
        "/eval/media/music/playlist_06\n",
        "/eval/media/music/playlist_07\n",
        "/eval/media/music/playlist_08\n",
        "/eval/media/music/playlist_09\n",
        "/eval/media/music/playlist_10\n",
        "```\n"
      ],
      "metadata": {
        "id": "HPRcKQNhkNbR"
      }
    },
    {
      "cell_type": "code",
      "source": [
        "from pathlib import Path\n",
        "\n",
        "paths = [\n",
        "    Path(Path.cwd() / f'media/music/playlist_{str(i).zfill(2)}')\n",
        "         for i in range(1,11)\n",
        "]\n",
        "\n",
        "for p in paths:\n",
        "    p.mkdir(parents=True, exist_ok=True)\n",
        "\n",
        "dirs =sorted((Path.cwd() / 'media/music').iterdir())\n",
        "# -- or --\n",
        "dirs = sorted(list(Path.cwd().joinpath('media/music').iterdir()))\n",
        "\n",
        "for p in dirs:\n",
        "    print(p)"
      ],
      "metadata": {
        "id": "IXH9GE_cMRQq"
      },
      "execution_count": null,
      "outputs": []
    },
    {
      "cell_type": "markdown",
      "source": [
        "####Exercise 97\n",
        "\n",
        "The following _paths_ list is given:\n",
        "```\n",
        "[\n",
        "    PosixPath('eval/media/music/playlist_01'),\n",
        "    PosixPath('eval/media/music/playlist_02'),\n",
        "    PosixPath('eval/media/music/playlist_03'),\n",
        "    PosixPath('eval/media/music/playlist_04'),\n",
        "    PosixPath('eval/media/music/playlist_05'),\n",
        "    PosixPath('eval/media/music/playlist_06'),\n",
        "]\n",
        "```\n",
        "\n",
        "Each of the directories in the _paths_ list was created.\n",
        "\n",
        "Create a dictionary that takes as keys successive paths from the _paths_ list, and the values will be a list of five files with the names `01_music` - `05_music` with the extension `.mp3` or `.wav`. Set the file extensions randomly with `choice()` function from the _random_ built-in module. Assign the dictionary to the *paths_dict* variable.\n",
        "\n",
        "In response, print the *paths_dict* dictionary using the `pprint()` function from the pprint module to the console.\n",
        "\n",
        "\n",
        "\n",
        "Expected result:\n",
        ">```\n",
        "{PosixPath('/eval/media/music/playlist_01'): ['01_music.mp3',\n",
        "                                              '02_music.mp3',\n",
        "                                              '03_music.wav',\n",
        "                                              '04_music.mp3',\n",
        "                                              '05_music.mp3'],\n",
        " PosixPath('/eval/media/music/playlist_02'): ['01_music.mp3',\n",
        "                                              '02_music.mp3',\n",
        "                                              '03_music.mp3',\n",
        "                                              '04_music.wav',\n",
        "                                              '05_music.mp3'],\n",
        " PosixPath('/eval/media/music/playlist_03'): ['01_music.mp3',\n",
        "                                              '02_music.mp3',\n",
        "                                              '03_music.mp3',\n",
        "                                              '04_music.mp3',\n",
        "                                              '05_music.mp3'],\n",
        " PosixPath('/eval/media/music/playlist_04'): ['01_music.mp3',\n",
        "                                              '02_music.wav',\n",
        "                                              '03_music.mp3',\n",
        "                                              '04_music.wav',\n",
        "                                              '05_music.wav'],\n",
        " PosixPath('/eval/media/music/playlist_05'): ['01_music.mp3',\n",
        "                                              '02_music.mp3',\n",
        "                                              '03_music.wav',\n",
        "                                              '04_music.wav',\n",
        "                                              '05_music.wav'],\n",
        " PosixPath('/eval/media/music/playlist_06'): ['01_music.mp3',\n",
        "                                              '02_music.mp3',\n",
        "                                              '03_music.wav',\n",
        "                                              '04_music.mp3',\n",
        "                                              '05_music.mp3']}\n",
        "```\n"
      ],
      "metadata": {
        "id": "ZMXygTINkNkW"
      }
    },
    {
      "cell_type": "code",
      "source": [
        "\n",
        "from pathlib import Path\n",
        "from pprint import pprint\n",
        "import random\n",
        "\n",
        "\n",
        "random.seed(42)\n",
        "paths = [\n",
        "    Path.cwd() / f'media/music/playlist_{str(i).zfill(2)}'\n",
        "    for i in range(1, 7)\n",
        "]\n",
        "\n",
        "for path in paths:\n",
        "    path.mkdir(parents=True, exist_ok=True)\n",
        "\n",
        "paths_dict = {}\n",
        "\n",
        "\n",
        "for path in paths:\n",
        "    playlist = [f\"{str(i).zfill(2)}_music{random.choice(['.mp3', '.wav'])}\" for i in range(1, 6)]\n",
        "    paths_dict.update({path: playlist})\n",
        "\n",
        "pprint(paths_dict)"
      ],
      "metadata": {
        "id": "7y2MwSz12iLq"
      },
      "execution_count": null,
      "outputs": []
    },
    {
      "cell_type": "markdown",
      "source": [
        "Cleanup"
      ],
      "metadata": {
        "id": "qwYCjSGgKpK8"
      }
    },
    {
      "cell_type": "code",
      "source": [
        "!rm -rf media"
      ],
      "metadata": {
        "id": "k1KdQbn-FxjN"
      },
      "execution_count": null,
      "outputs": []
    },
    {
      "cell_type": "markdown",
      "source": [
        "####Exercise 98\n",
        "\n",
        "The following *paths_dict* dictionary is given:\n",
        "\n",
        "```\n",
        "{\n",
        "    PosixPath('/eval/media/music/playlist_01'): [\n",
        "        '01_music.mp3',\n",
        "        '02_music.mp3',\n",
        "        '03_music.wav',\n",
        "        '04_music.mp3',\n",
        "        '05_music.mp3',\n",
        "    ],\n",
        "    PosixPath('/eval/media/music/playlist_02'): [\n",
        "        '01_music.mp3',\n",
        "        '02_music.mp3',\n",
        "        '03_music.mp3',\n",
        "        '04_music.wav',\n",
        "        '05_music.mp3',\n",
        "    ],\n",
        "    . . .\n",
        "}\n",
        "```\n",
        "\n",
        "From the *paths_dict* dictionary extract all paths to the files as a list and assign to *fname_paths* variable.\n",
        "\n",
        "In response, print the *fname_paths* list as shown below.\n",
        "\n",
        "\n",
        "\n",
        "Expected Result:\n",
        ">/eval/media/music/playlist_01/01_music.mp3  \n",
        "/eval/media/music/playlist_01/02_music.mp3  \n",
        "/eval/media/music/playlist_01/03_music.wav  \n",
        "/eval/media/music/playlist_01/04_music.mp3  \n",
        "/eval/media/music/playlist_01/05_music.mp3  \n",
        "/eval/media/music/playlist_02/01_music.mp3  \n",
        "/eval/media/music/playlist_02/02_music.mp3  \n",
        "/eval/media/music/playlist_02/03_music.mp3  \n",
        "/eval/media/music/playlist_02/04_music.wav  \n",
        "/eval/media/music/playlist_02/05_music.mp3    \n",
        ". . .\n",
        "\n",
        "\n"
      ],
      "metadata": {
        "id": "K6up3NGukNuY"
      }
    },
    {
      "cell_type": "code",
      "source": [
        "from pathlib import Path\n",
        "from pprint import pprint\n",
        "import random\n",
        "\n",
        "\n",
        "random.seed(42)\n",
        "paths = [\n",
        "    Path.cwd() / f'media/music/playlist_{str(i).zfill(2)}'\n",
        "    for i in range(1, 7)\n",
        "]\n",
        "\n",
        "for path in paths:\n",
        "    path.mkdir(parents=True, exist_ok=True)\n",
        "\n",
        "paths_dict = {\n",
        "    path: [\n",
        "        f\"{str(i).zfill(2)}_music.{random.choice(['mp3', 'wav'])}\"\n",
        "        for i in range(1, 6)\n",
        "    ]\n",
        "    for path in paths\n",
        "}\n",
        "\n",
        "# pprint(paths_dict)\n",
        "\n",
        "fname_paths = [ ]\n",
        "\n",
        "for path, fnames in paths_dict.items():\n",
        "    for fname in fnames:\n",
        "        fname_paths.append(path.joinpath(fname))\n",
        "\n",
        "for fname_path in fname_paths:\n",
        "    print(fname_path)"
      ],
      "metadata": {
        "id": "daBh_rAzR-hn"
      },
      "execution_count": null,
      "outputs": []
    },
    {
      "cell_type": "markdown",
      "source": [
        "Cleanup"
      ],
      "metadata": {
        "id": "eFnJaRbPSRLb"
      }
    },
    {
      "cell_type": "code",
      "source": [
        "!rm -rf media"
      ],
      "metadata": {
        "id": "QNlcINEoSUO0"
      },
      "execution_count": null,
      "outputs": []
    },
    {
      "cell_type": "markdown",
      "source": [
        "####Exercise 99\n",
        "\n",
        "The following *fname_paths* list is given:\n",
        "\n",
        "```\n",
        "/eval/media/music/playlist_01/01_music.mp3\n",
        "/eval/media/music/playlist_01/02_music.mp3\n",
        "/eval/media/music/playlist_01/03_music.wav\n",
        "/eval/media/music/playlist_01/04_music.mp3\n",
        "/eval/media/music/playlist_01/05_music.mp3\n",
        ". . .\n",
        "/eval/media/music/playlist_06/01_music.mp3\n",
        "/eval/media/music/playlist_06/02_music.mp3\n",
        "/eval/media/music/playlist_06/03_music.wav\n",
        "/eval/media/music/playlist_06/04_music.mp3\n",
        "/eval/media/music/playlist_06/05_music.mp3\n",
        "```\n",
        "\n",
        "Create all files with paths defined in the *fname_paths* list.\n",
        "\n",
        "In response print all paths to files with extension `.mp3 ` alphabetically from `/eval/media/music/playlist_01` directrory.\n",
        "\n",
        "Tip:\n",
        ">glob(self, pattern)  \n",
        "    Iterate over this subtree and yield all existing files (of any  \n",
        "    kind, including directories) matching the given pattern.\n",
        "\n",
        "\n",
        "Expected result:\n",
        ">/eval/media/music/playlist_01/01_music.mp3  \n",
        "/eval/media/music/playlist_01/02_music.mp3  \n",
        "/eval/media/music/playlist_01/04_music.mp3  \n",
        "/eval/media/music/playlist_01/05_music.mp3  \n",
        "\n",
        "\n"
      ],
      "metadata": {
        "id": "puTWVx9VkN4X"
      }
    },
    {
      "cell_type": "code",
      "source": [
        "from pathlib import Path\n",
        "from pprint import pprint\n",
        "import random\n",
        "\n",
        "\n",
        "random.seed(42)\n",
        "paths = [Path.cwd() / f'media/music/playlist_{str(i).zfill(2)}' for i in range(1, 7)]\n",
        "\n",
        "for path in paths:\n",
        "    path.mkdir(parents=True, exist_ok = True)\n",
        "\n",
        "paths_dict = {path: [f\"{str(i).zfill(2)}_music.{random.choice(['mp3', 'wav'])}\" \n",
        "                     for i in range(1, 6)] for path in paths}\n",
        "\n",
        "fname_paths = []\n",
        "for path, fnames in paths_dict.items():\n",
        "    for fname in fnames:\n",
        "        fname_paths.append(path.joinpath(fname))\n",
        "\n",
        "\n",
        "for fname_path in fname_paths:\n",
        "    fname_path.touch()\n",
        "\n",
        "path = Path.cwd() / 'media/music/playlist_01'\n",
        "for path in sorted(list(path.glob('*.mp3'))):\n",
        "    print(path)"
      ],
      "metadata": {
        "id": "bzMif64EW4qV"
      },
      "execution_count": null,
      "outputs": []
    },
    {
      "cell_type": "markdown",
      "source": [
        "####Exercise 100\n",
        "\n",
        "Using the built-in _pathlib_ module, all files with paths defined in the *fname_paths* list were created:\n",
        "```\n",
        "/eval/media/music/playlist_01/01_music.mp3\n",
        "/eval/media/music/playlist_01/02_music.mp3\n",
        "/eval/media/music/playlist_01/03_music.wav\n",
        "/eval/media/music/playlist_01/04_music.mp3\n",
        "/eval/media/music/playlist_01/05_music.mp3\n",
        ". . .\n",
        "/eval/media/music/playlist_06/01_music.mp3\n",
        "/eval/media/music/playlist_06/02_music.mp3\n",
        "/eval/media/music/playlist_06/03_music.wav\n",
        "/eval/media/music/playlist_06/04_music.mp3\n",
        "/eval/media/music/playlist_06/05_music.mp3\n",
        "```\n",
        "\n",
        "List all paths to files with extension `.mp3` **sorted alphabetically** from `/eval/media/music` directory as shown below. Perform a **recursive search**.\n",
        "\n",
        "Tip:\n",
        ">rglob(self, pattern)  \n",
        "    Recursively yield all existing files (of any kind, including  \n",
        "    directories) matching the given pattern, anywhere in this subtree.\n",
        "\n",
        "\n",
        "Expected result:\n",
        ">/eval/media/music/playlist_01/01_music.mp3  \n",
        "/eval/media/music/playlist_01/02_music.mp3  \n",
        "/eval/media/music/playlist_01/04_music.mp3  \n",
        "/eval/media/music/playlist_01/05_music.mp3  \n",
        ". . .  \n",
        "/eval/media/music/playlist_06/01_music.mp3  \n",
        "/eval/media/music/playlist_06/02_music.mp3  \n",
        "/eval/media/music/playlist_06/04_music.mp3  \n",
        "/eval/media/music/playlist_06/05_music.mp3  \n"
      ],
      "metadata": {
        "id": "QAGF3zDBkcJi"
      }
    },
    {
      "cell_type": "code",
      "source": [
        "from pathlib import Path\n",
        "from pprint import pprint\n",
        "import random\n",
        "\n",
        "\n",
        "random.seed(42)\n",
        "paths = [Path.cwd() / f'media/music/playlist_{str(i).zfill(2)}' for i in range(1, 7)]\n",
        "\n",
        "for path in paths:\n",
        "    path.mkdir(parents=True, exist_ok=True)\n",
        "\n",
        "paths_dict = {path: [f\"{str(i).zfill(2)}_music.{random.choice(['mp3', 'wav'])}\" \n",
        "                     for i in range(1, 6)] for path in paths}\n",
        "\n",
        "fname_paths = []\n",
        "for path, fnames in paths_dict.items():\n",
        "    for fname in fnames:\n",
        "        fname_paths.append(path.joinpath(fname))\n",
        "\n",
        "for fname_path in fname_paths:\n",
        "    fname_path.touch()\n",
        "\n",
        "media = Path.cwd() / 'media'\n",
        "for fname in sorted(media.rglob('*.mp3')):\n",
        "    print(fname)"
      ],
      "metadata": {
        "id": "arFpKvpHYve8"
      },
      "execution_count": null,
      "outputs": []
    },
    {
      "cell_type": "markdown",
      "source": [
        "Cleanup"
      ],
      "metadata": {
        "id": "cSytNvKWYy-C"
      }
    },
    {
      "cell_type": "code",
      "source": [
        "!rm -rf ~/media"
      ],
      "metadata": {
        "id": "5ZGWXV4kY2vC"
      },
      "execution_count": null,
      "outputs": []
    },
    {
      "cell_type": "markdown",
      "source": [
        "####Exercise 101\n",
        "\n",
        "Using the built-in _pathlib_ module, all files with paths defined in the *fname_paths* list were created:\n",
        "```\n",
        "/eval/media/music/playlist_01/01_music.mp3\n",
        "/eval/media/music/playlist_01/02_music.mp3\n",
        "/eval/media/music/playlist_01/03_music.wav\n",
        "/eval/media/music/playlist_01/04_music.mp3\n",
        "/eval/media/music/playlist_01/05_music.mp3\n",
        ". . .\n",
        "/eval/media/music/playlist_06/02_music.mp3\n",
        "/eval/media/music/playlist_06/03_music.wav\n",
        "/eval/media/music/playlist_06/04_music.mp3\n",
        "/eval/media/music/playlist_06/05_music.mp3\n",
        "```\n",
        "\n",
        "Using the built-in _pathlib_ module display the **number of files** with extensions `.mp3` and `.wav` in the directory `/eval/media/music/playlist_05` as shown below.\n",
        "\n",
        "Tip:\n",
        ">glob(self, pattern)\n",
        "    Iterate over this subtree and yield all existing files (of any  \n",
        "    kind, including directories) matching the given pattern.\n",
        "\n",
        "\n",
        "Expected result:\n",
        ">fnames_mp3: 2  \n",
        "fnames_wav: 3\n"
      ],
      "metadata": {
        "id": "140rqIglkgAE"
      }
    },
    {
      "cell_type": "code",
      "source": [
        "from pathlib import Path\n",
        "from pprint import pprint\n",
        "import random\n",
        "from collections import Counter\n",
        "\n",
        "\n",
        "random.seed(42)\n",
        "paths = [\n",
        "    Path.cwd() / f'media/music/playlist_{str(i).zfill(2)}'\n",
        "    for i in range(1, 7)\n",
        "]\n",
        "\n",
        "for path in paths:\n",
        "    path.mkdir(parents=True, exist_ok=True)\n",
        "paths_dict = {\n",
        "    path: [\n",
        "        f\"{str(i).zfill(2)}_music.{random.choice(['mp3', 'wav'])}\"\n",
        "        for i in range(1, 6)\n",
        "    ]\n",
        "    for path in paths\n",
        "}\n",
        "\n",
        "fname_paths = []\n",
        "for path, fnames in paths_dict.items():\n",
        "    for fname in fnames:\n",
        "        fname_paths.append(path.joinpath(fname))\n",
        "for fname_path in fname_paths:\n",
        "    fname_path.touch()\n",
        "\n",
        "dir = Path.cwd() / 'media/music/playlist_05'\n",
        "files = [ path.suffix for path in dir.glob('**/*')]\n",
        "c = Counter(files)\n",
        "\n",
        "print(f\"fnames_mp3: {c['.mp3']}\")\n",
        "print(f\"fnames_wav: {c['.wav']}\")\n",
        "\n",
        "# his solution runs glob twice - doesn't get fancy with Counter\n",
        "path = Path.cwd() / 'media/music/playlist_05'\n",
        "fnames_mp3 = list(path.glob('*.mp3'))\n",
        "fnames_wav = list(path.glob('*.wav'))\n",
        " \n",
        "print(f'fnames_mp3: {len(fnames_mp3)}')\n",
        "print(f'fnames_wav: {len(fnames_wav)}')"
      ],
      "metadata": {
        "id": "jz49HxCGab0V"
      },
      "execution_count": null,
      "outputs": []
    },
    {
      "cell_type": "markdown",
      "source": [
        "Cleanup"
      ],
      "metadata": {
        "id": "Ayfce7aocryy"
      }
    },
    {
      "cell_type": "code",
      "source": [
        "!rm -rf media"
      ],
      "metadata": {
        "id": "CSVJjAWjct0F"
      },
      "execution_count": null,
      "outputs": []
    },
    {
      "cell_type": "markdown",
      "source": [
        "####Exercise 102\n",
        "\n",
        "The _README.md_ file from the **pandas library** is given. Using the built-in _pathlib_ module, load this file. Then display all lines from the _README.md_ file containing the header (the line beginning with `'#'`) to the console.\n",
        "\n",
        "Tip:\n",
        ">pathlib.Path.open(self, mode='r', buffering=-1, encoding=None, errors=None, newline=None)  \n",
        "    Open the file pointed by this path and return a file object, as  \n",
        "    the built-in open() function does.\n",
        "\n",
        "\n",
        "Expected result:\n",
        "```\n",
        "# pandas: powerful Python data analysis toolkit  \n",
        "## What is it?  \n",
        "## Main Features  \n",
        "## Where to get it  \n",
        "# conda  \n",
        "# or PyPI  \n",
        "## Dependencies  \n",
        "## Installation from sources  \n",
        "## License  \n",
        "## Documentation  \n",
        "## Background  \n",
        "## Getting Help  \n",
        "## Discussion and Development  \n",
        "## Contributing to pandas [![Open Source Helpers](https://www.codetriage.com/pandas-dev/pandas/badges/users.svg)](https://www.codetriage.com/pandas-dev/pandas)  \n",
        "```"
      ],
      "metadata": {
        "id": "cY3UPUawkgRY"
      }
    },
    {
      "cell_type": "markdown",
      "source": [
        "#####Exercise 102 & 103 prep"
      ],
      "metadata": {
        "id": "md2Uik5Fd8N4"
      }
    },
    {
      "cell_type": "code",
      "source": [
        "import os\n",
        "from google.colab import drive\n",
        "drive.mount('/content/drive')\n"
      ],
      "metadata": {
        "id": "K-kNPLGzeD8b"
      },
      "execution_count": null,
      "outputs": []
    },
    {
      "cell_type": "code",
      "source": [
        "!find . -name '*README.md'\n",
        "!cp ./drive/MyDrive/Colab\\ Notebooks/data/udemy_python/pandasREADME.md /content/README.md\n",
        "!echo 'after copy ---!'\n",
        "!find . -name '*README.md'"
      ],
      "metadata": {
        "id": "eF5wsaM4fnPn"
      },
      "execution_count": null,
      "outputs": []
    },
    {
      "cell_type": "markdown",
      "source": [
        "#####Solution"
      ],
      "metadata": {
        "id": "atAWoEd7jkD7"
      }
    },
    {
      "cell_type": "code",
      "source": [
        "from pathlib import Path\n",
        "\n",
        "path = Path.cwd() / 'README.md'\n",
        "\n",
        "\n",
        "with path.open('r') as file:\n",
        "    lines = filter(lambda x: x.startswith('#'), file.readlines())\n",
        "    for l in lines:\n",
        "        print(l.rstrip())\n",
        "\n",
        "\n",
        "# his solution\n",
        "with path.open('r') as file:\n",
        "    headers = [line.strip() for line in file if line.startswith('#')]\n",
        "print('\\n'.join(headers))"
      ],
      "metadata": {
        "id": "xSALc9-Ee8Bb"
      },
      "execution_count": null,
      "outputs": []
    },
    {
      "cell_type": "markdown",
      "source": [
        "Cleanup"
      ],
      "metadata": {
        "id": "YI_0p5B2jxnb"
      }
    },
    {
      "cell_type": "code",
      "source": [
        "!rm README.md"
      ],
      "metadata": {
        "id": "ljgOD1ubj2ID"
      },
      "execution_count": null,
      "outputs": []
    },
    {
      "cell_type": "markdown",
      "source": [
        "####Exercise 103\n",
        "\n",
        "The README.md file from the **pandas library** is given. Using the built-in _pathlib_ module, load this file into the `content` variable. Then using the built-in _re_ module and the following regular expression:\n",
        "```python\n",
        "pattern = r\"https?://(?:[-\\w.]|(?:%[\\da-fA-F]{2}))+\"\n",
        "```\n",
        "\n",
        "extract from the _content_ variable all **unique links** sorted alphabetically.\n",
        "\n",
        "In response, print each link on a separate line to the console.\n",
        "\n",
        "Tip:\n",
        ">read_text(self, encoding=None, errors=None)  \n",
        "    Open the file in text mode, read it, and close the file.\n",
        " \n",
        " \n",
        ">re.findall(pattern, string, flags=0)  \n",
        "    Return a list of all non-overlapping matches in the string.\n",
        "\n",
        "\n",
        "\n",
        "Expected result:\n",
        ">https://anaconda.org  \n",
        "https://badges.gitter.im  \n",
        "https://codecov.io  \n",
        "https://dev.azure.com  \n",
        "https://dev.pandas.io  \n",
        "https://doi.org  \n",
        "https://github.com  \n",
        "https://gitter.im  \n",
        "https://groups.google.com  \n",
        "https://img.shields.io  \n",
        "https://labix.org  \n",
        "https://mail.python.org  \n",
        "https://numfocus.org  \n",
        "https://pandas.pydata.org  \n",
        "https://pip.pypa.io  \n",
        "https://pypi.org  \n",
        "https://pythonhosted.org  \n",
        "https://stackoverflow.com  \n",
        "https://travis-ci.org  \n",
        "https://www.codetriage.com  \n",
        "https://www.numpy.org  \n",
        "https://zenodo.org  \n",
        "\n"
      ],
      "metadata": {
        "id": "1v1QVhAdkggB"
      }
    },
    {
      "cell_type": "code",
      "source": [
        "from pathlib import Path\n",
        "import re\n",
        "\n",
        "\n",
        "pattern = r\"https?://(?:[-\\w.]|(?:%[\\da-fA-F]{2}))+\"\n",
        "\n",
        "\n",
        "path = Path.cwd() / 'README.md'\n",
        "\n",
        "content = path.read_text()\n",
        "\n",
        "\n",
        "links = re.findall(pattern, content)\n",
        "for l in sorted(set(links)):\n",
        "    print(l)\n",
        "\n",
        "# his solution\n",
        "print('-' * 80)\n",
        "print('\\n'.join(sorted((set(links)))))"
      ],
      "metadata": {
        "id": "4N9pkn8BlChd"
      },
      "execution_count": null,
      "outputs": []
    },
    {
      "cell_type": "markdown",
      "source": [
        "# Section: random\n",
        "\n",
        "[random module](https://docs.python.org/3.8/library/random)  \n",
        "* [random.random()](https://docs.python.org/3/library/)\n",
        "* [random.seed()](https://docs.python.org/3/library/random.html#random.seed)\n",
        "* [random.uniform()](https://docs.python.org/3/library/random.html#random.uniform)\n",
        "* [random.randint()](https://docs.python.org/3/library/random.html#random.randint)\n",
        "* [random.choice()](https://docs.python.org/3/library/random.html#random.choice)\n",
        "* [random.choices()](https://docs.python.org/3/library/random.html#random.choices)\n",
        "* [random.sample()](https://docs.python.org/3/library/random.html#random.sample)"
      ],
      "metadata": {
        "id": "FZLywe8wDH4r"
      }
    },
    {
      "cell_type": "markdown",
      "source": [
        "####Exercise 104\n",
        "\n",
        "Using the _random_ module set the random seed to 42, then generate a pseudo-random number between `[0, 1)` and assign to the _var_ variable. Print the _var_ variable __rounded to five decimal places__ to the console.\n",
        "\n",
        "\n",
        "\n",
        "Tip:\n",
        ">seed(a=None, version=2) method of random.Random instance  \n",
        "    Initialize internal state from hashable object.  \n",
        "    None or no argument seeds from current time or from an operating  \n",
        "    system specific randomness source if available.\n",
        "    \n",
        ">random(...) method of random.Random instance  \n",
        "    random() -> x in the interval [0, 1).\n",
        "\n",
        "\n",
        "Expected result:\n",
        ">0.63943\n"
      ],
      "metadata": {
        "id": "hHYIRYj7klSp"
      }
    },
    {
      "cell_type": "code",
      "source": [
        "import random\n",
        "\n",
        "random.seed(42)\n",
        "var = random.random()\n",
        "\n",
        "print(f'{var:.5f}')"
      ],
      "metadata": {
        "id": "jAntJPcnSLrX"
      },
      "execution_count": null,
      "outputs": []
    },
    {
      "cell_type": "markdown",
      "source": [
        "####Exercise 105\n",
        "\n",
        "Using the built-in _random_ module set the random seed to 42, then pseudo-randomly generate 10 numbers from the range [0, 1) __rounded to four decimal places__ and assign to a list called _numbers_.\n",
        "\n",
        "In response, print the numbers list to the console.\n",
        "\n",
        "Tip:\n",
        ">seed(a=None, version=2) method of random.Random instance  \n",
        "    Initialize internal state from hashable object.  \n",
        "    None or no argument seeds from current time or from an operating  \n",
        "    system specific randomness source if available.\n",
        "    \n",
        ">random(...) method of random.Random instance  \n",
        "    random() -> x in the interval [0, 1).\n",
        "\n",
        "\n",
        "Expected result:\n",
        ">[0.6394, 0.025, 0.275, 0.2232, 0.7365, 0.6767, 0.8922, 0.0869, 0.4219, 0.0298]\n"
      ],
      "metadata": {
        "id": "EKc74RbwMPoM"
      }
    },
    {
      "cell_type": "code",
      "source": [
        "import random\n",
        "\n",
        "random.seed(42)\n",
        "numbers = [round(random.random(), 4) for _ in range(10)]\n",
        "\n",
        "print(numbers)"
      ],
      "metadata": {
        "id": "byRBl7UcUjrq"
      },
      "execution_count": null,
      "outputs": []
    },
    {
      "cell_type": "markdown",
      "source": [
        "####Exercise 106\n",
        "\n",
        "Using the built-in _random_ module set the random seed to 42, then pseudo-randomly generate 10 numbers from the interval [5, 10) **rounded to four decimal places** and assign to a list called _numbers_.\n",
        "\n",
        "In response, print the numbers list to the console.\n",
        "\n",
        "\n",
        "\n",
        "Tip: \n",
        ">seed(a=None, version=2) method of random.Random instance  --\n",
        "Initialize internal state from hashable object.  \n",
        "For version 2 (the default), all of the bits are used if *a* is a str, bytes, or bytearray.  For version 1   (provided for reproducing random sequences from older versions of Python), the algorithm for str and bytes generates a narrower range of seeds.  \n",
        " \n",
        " \n",
        ">random(...) method of random.Random instance  \n",
        "    random() -> x in the interval [0, 1).\n",
        "\n",
        "\n",
        "Expected result:\n",
        ">\n",
        "[8.1971, 5.1251, 6.3751, 6.1161, 8.6824, 8.3835, 9.4609, 5.4347, 7.1096, 5.149]\n",
        "\n"
      ],
      "metadata": {
        "id": "PqZkusUIMQBM"
      }
    },
    {
      "cell_type": "code",
      "source": [
        "import random\n",
        "\n",
        "# using random.uniform\n",
        "random.seed(42)\n",
        "numbers = [ round(random.uniform(5, 10), 4) for _ in range(10)]\n",
        "print(numbers)\n",
        "\n",
        "# another way to get a random range, but numbers are different\n",
        "a = 5\n",
        "b = 10\n",
        "numbers = [round((b - a) * random.random() + a, 4) for _ in range(10)]\n",
        "print(numbers)"
      ],
      "metadata": {
        "id": "48dmteWjUnSi"
      },
      "execution_count": null,
      "outputs": []
    },
    {
      "cell_type": "markdown",
      "source": [
        "####Exercise 107\n",
        "\n",
        "Using the built-in _random_ module set the random seed to the 42, then pseudo-randomly generate six **integers** from the range [1, 49] and assign to the list called _numbers_.\n",
        "\n",
        "In response, print the _numbers_ list to the console.\n",
        "\n",
        "\n",
        "\n",
        "Tip:\n",
        ">seed(a=None, version=2) method of random.Random instance\n",
        "    Initialize internal state from hashable object.\n",
        " \n",
        ">randint(a, b) method of random.Random instance  \n",
        "    Return random integer in range [a, b], including both end points.\n",
        "\n",
        "\n",
        "Expected result:\n",
        ">[41, 8, 2, 48, 18, 16]\n"
      ],
      "metadata": {
        "id": "keSl-584MQRL"
      }
    },
    {
      "cell_type": "code",
      "source": [
        "import random\n",
        "\n",
        "random.seed(42)\n",
        "numbers = [random.randint(1, 49) for _ in range(6)]\n",
        "\n",
        "print(numbers)"
      ],
      "metadata": {
        "id": "djePPRgYUoBW"
      },
      "execution_count": null,
      "outputs": []
    },
    {
      "cell_type": "markdown",
      "source": [
        "####Exercise 108\n",
        "\n",
        "The following list is given:\n",
        "```\n",
        "techs = ['python', 'java', 'php', 'c++', 'c#', 'javascript']\n",
        "```\n",
        "\n",
        "Using the built-in _random_ module set the random seed to 32, then randomly select one element from the techs list and print it to the console.\n",
        "\n",
        "\n",
        "\n",
        "Tip:\n",
        ">seed(a=None, version=2) method of random.Random instance\n",
        "    Initialize internal state from hashable object.\n",
        "  \n",
        ">choice(seq) method of random.Random instance  \n",
        "    Choose a random element from a non-empty sequence.\n",
        "\n",
        "\n",
        "Expected result:\n",
        ">python\n",
        "\n"
      ],
      "metadata": {
        "id": "KS-prz4jMQf7"
      }
    },
    {
      "cell_type": "code",
      "source": [
        "import random\n",
        "\n",
        "techs = ['python', 'java', 'php', 'c++', 'c#', 'javascript']\n",
        "\n",
        "random.seed(32)\n",
        "result = random.choice(techs)\n",
        "print(result)"
      ],
      "metadata": {
        "id": "lbyL_NDTUotF"
      },
      "execution_count": null,
      "outputs": []
    },
    {
      "cell_type": "markdown",
      "source": [
        "####Exercise 109\n",
        "\n",
        "The following list is given:\n",
        "`techs = ['python', 'java', 'php', 'c++', 'c#', 'javascript']`\n",
        "\n",
        "\n",
        "Using the built-in _random_ module set the random seed to 32, then using the `random.choices()` method, randomly select three items from the _techs_ list and print to the console.\n",
        "\n",
        "\n",
        "\n",
        "Note that the `random.choices()` selects values ​​with replacement.\n",
        "\n",
        "Tip:\n",
        ">seed(a=None, version=2) method of random.Random instance\n",
        "    Initialize internal state from hashable object.\n",
        "\n",
        ">choices(population, weights=None, *, cum_weights=None, k=1) method of random.Random instance  \n",
        "    Return a k sized list of population elements chosen with replacement.\n",
        "\n",
        "\n",
        "\n",
        "Expected result:\n",
        ">['python', 'java', 'java']\n",
        "\n"
      ],
      "metadata": {
        "id": "K1j39zqSMQuD"
      }
    },
    {
      "cell_type": "code",
      "source": [
        "import random\n",
        "\n",
        "\n",
        "techs = ['python', 'java', 'php', 'c++', 'c#', 'javascript']\n",
        "\n",
        "random.seed(32)\n",
        "result = random.choices(techs, k=3)\n",
        "\n",
        "print(result)"
      ],
      "metadata": {
        "id": "w0wykUPNUpV8"
      },
      "execution_count": null,
      "outputs": []
    },
    {
      "cell_type": "markdown",
      "source": [
        "####Exercise 110\n",
        "Exercise 7\n",
        "The following list is given:\n",
        "`techs = ['python', 'java', 'php', 'c++', 'c#', 'javascript']`\n",
        "\n",
        "\n",
        "Using the built-in _random_ module return a sample consisting of three elements from the _techs_ list and print it to the console.\n",
        "\n",
        "Use the `random.sample()` method for this.\n",
        "\n",
        "\n",
        "\n",
        "Tip:\n",
        ">sample(population, k) method of random.Random instance  \n",
        "    Chooses k unique random elements from a population sequence or set.\n",
        "\n",
        "Expected result:\n",
        ">['python', 'java', 'c#']\n"
      ],
      "metadata": {
        "id": "s5Meh3r_0BCi"
      }
    },
    {
      "cell_type": "code",
      "source": [
        "import random\n",
        "\n",
        "\n",
        "random.seed(32)\n",
        "techs = ['python', 'java', 'php', 'c++', 'c#', 'javascript']\n",
        "\n",
        "\n"
      ],
      "metadata": {
        "id": "zxkf2ybc36oB"
      },
      "execution_count": null,
      "outputs": []
    },
    {
      "cell_type": "markdown",
      "source": [
        "####Exercise 111\n",
        "\n",
        "The following list is given: `techs = ['python', 'java', 'php', 'c++', 'c#', 'javascript']`\n",
        "\n",
        "\n",
        "In Python, the **order of the items in a list is important**. Using the built-in _random_ module, set the random seed to 32, then shuffle the items in the techs list.\n",
        "\n",
        "In response, print the _techs_ list to the console.\n",
        "\n",
        "Tip:\n",
        ">shuffle(x, random=None) method of random.Random instance  \n",
        "    Shuffle list x in place, and return None.\n",
        "\n",
        "Expected result:\n",
        ">['php', 'javascript', 'c++', 'c#', 'java', 'python']\n",
        "\n"
      ],
      "metadata": {
        "id": "3Q5-QD3S0B2K"
      }
    },
    {
      "cell_type": "code",
      "source": [
        "import random\n",
        "\n",
        "\n",
        "random.seed(32)\n",
        "techs = ['python', 'java', 'php', 'c++', 'c#', 'javascript']\n",
        "\n",
        "random.shuffle(techs)\n",
        "\n",
        "print(techs)"
      ],
      "metadata": {
        "id": "0Oc1JQfm5L0t"
      },
      "execution_count": null,
      "outputs": []
    },
    {
      "cell_type": "markdown",
      "source": [
        "# Section: math\n",
        "\n",
        "[math](https://docs.python.org/3/library/math.html)"
      ],
      "metadata": {
        "id": "J9ZhNu-uDPA0"
      }
    },
    {
      "cell_type": "markdown",
      "source": [
        "####Exercise 112\n",
        "\n",
        "Using the built-in _math_ module, print two math constants to the console:\n",
        "\n",
        "* PI number\n",
        "* Euler's number\n",
        "\n",
        "as shown below\n",
        "\n",
        "\n",
        "Expected result:\n",
        ">Pi number: 3.141592653589793  \n",
        "Euler's number: 2.718281828459045\n"
      ],
      "metadata": {
        "id": "Pnx9lYbxJqAs"
      }
    },
    {
      "cell_type": "code",
      "source": [
        "import math\n",
        "\n",
        "print(f'Pi number: {math.pi}')\n",
        "print(f\"Euler's number: {math.e}\")"
      ],
      "metadata": {
        "id": "ZLknLPnG7Jwh"
      },
      "execution_count": null,
      "outputs": []
    },
    {
      "cell_type": "markdown",
      "source": [
        "####Exercise 113\n",
        "\n",
        "The Euler's number is defined as the limit of the following sequence:\n",
        "\n",
        "$a_n = (1 + \\frac{1}{n})^n $\n",
        "\n",
        "with n approaches infinity (n > 0). Create a function called `calculate_seq()` that takes one argument n and calculates the n-th element of this sequence.\n",
        "\n",
        "In response, print the values for the first twenty elements of this sequence as shown below.\n",
        "\n",
        "\n",
        "\n",
        "Expected result:\n",
        ">2.0  \n",
        "2.25  \n",
        "2.37037037037037  \n",
        "2.44140625  \n",
        "2.4883199999999994  \n",
        "2.5216263717421135  \n",
        "2.546499697040712  \n",
        "2.565784513950348  \n",
        "2.5811747917131984  \n",
        "2.5937424601000023  \n",
        "2.6041990118975287  \n",
        "2.613035290224676  \n",
        "2.6206008878857308  \n",
        "2.6271515563008685  \n",
        "2.6328787177279187  \n",
        "2.6379284973666  \n",
        "2.64241437518311  \n",
        "2.6464258210976865  \n",
        "2.650034326640442  \n",
        "2.653297705144422"
      ],
      "metadata": {
        "id": "vIb6xiX-z5Vq"
      }
    },
    {
      "cell_type": "code",
      "source": [
        "def calculate_seq(n):\n",
        "    return (1 + 1/n) ** n\n",
        "\n",
        "sequence = [calculate_seq(n) for n in range(1,21)]\n",
        "for item in sequence:\n",
        "    print(item)"
      ],
      "metadata": {
        "id": "VIDl_Yff9tKB"
      },
      "execution_count": null,
      "outputs": []
    },
    {
      "cell_type": "markdown",
      "source": [
        "####Exercise 114\n",
        "The Euler's number is defined as the limit of the following sequence:\n",
        "\n",
        "$a_n = (1 + \\frac{1}{n})^n $\n",
        "\n",
        "with n approaches infinity (n > 0). Create a function called `calculate_seq()` that takes one argument n and calculates the n-th element of this sequence.\n",
        "\n",
        "Using the built-in module _math_ determine the index of the element for which the value is close to the Euler's number. Use the _math.isclose()_ function with the `rel_tol=1e-06` argument.\n",
        "\n",
        "In response print the smallest index of a sequence for which, with the tolerance level, the value is close to the Euler's number.\n",
        "\n",
        "Tip:  \n",
        "[math.isclose(...)](https://docs.python.org/3/library/math.html#math.isclose)  \n",
        ">`isclose(a, b, *, rel_tol=1e-09, abs_tol=0.0) -> bool`\n",
        "      \n",
        "Determine whether two floating point numbers are close in value.\n",
        "    \n",
        "rel_tol  \n",
        ">maximum difference for being considered \"close\", relative to the magnitude of the input values \n",
        "\n",
        "abs_tol  \n",
        ">maximum difference for being considered   \"close\", regardless of the magnitude of the input values  \n",
        "    \n",
        "Return True if a is close in value to b, and False otherwise.\n",
        "    \n",
        "For the values to be considered close, the difference between them must be smaller than at least one of the tolerances.\n",
        "    \n",
        "-inf, inf and NaN behave similarly to the IEEE 754 Standard.  That\n",
        " is, NaN is not close to anything, even itself.  inf and -inf are only close to themselves.\n",
        "\n",
        "\n",
        "Expected result:\n",
        ">499982"
      ],
      "metadata": {
        "id": "bzueYgyA6wUX"
      }
    },
    {
      "cell_type": "code",
      "source": [
        "import math\n",
        "\n",
        "\n",
        "def calculate_seq(n):\n",
        "    return (1 + (1 / n)) ** n\n",
        "\n",
        "i = 1\n",
        "while True:\n",
        "    item = calculate_seq(i)\n",
        "    if math.isclose(item, math.e, rel_tol=1e-06):\n",
        "        print(i)\n",
        "        break\n",
        "    i += 1"
      ],
      "metadata": {
        "id": "2wg-JyTGFlVa"
      },
      "execution_count": null,
      "outputs": []
    },
    {
      "cell_type": "markdown",
      "source": [
        "####Exercise 115\n",
        "\n",
        "Using the built-in _math_ module calculate the probability of hitting exactly six numbers out of 49 numbers (from 1 to 49 inclusive). Print the result as shown below.\n",
        "\n",
        "Example hit:\n",
        ">23, 2, 5, 14, 43, 3\n",
        "\n",
        "\n",
        "Tip:  \n",
        "[math.comb(n, k)](https://docs.python.org/3/library/math.html#math.comb)\n",
        ">    Number of ways to choose k items from n items without repetition and without order.\n",
        ">    \n",
        ">    Evaluates to n! / (k! * (n - k)!) when k <= n and evaluatesto zero when k > n.\n",
        ">    \n",
        ">   Also called the binomial coefficient because it is equivalent\n",
        "    to the coefficient of k-th term in polynomial expansion of the\n",
        "    expression (1 + x)**n.\n",
        ">    \n",
        ">    Raises TypeError if either of the arguments are not integers.\n",
        ">    Raises ValueError if either of the arguments are negative.\n",
        "\n",
        "\n",
        "Expected result:\n",
        ">0.0000071511%\n",
        "\n",
        "This requires python 3.8+. See 'Intro to Colab.ipynb' for instructions to upgrade Python version."
      ],
      "metadata": {
        "id": "mWv6VZxY6wpm"
      }
    },
    {
      "cell_type": "code",
      "source": [
        "#install python 3.9\n",
        "!sudo apt-get update -y\n",
        "!sudo apt-get install python3.9\n",
        "\n",
        "#change alternatives\n",
        "!sudo update-alternatives --install /usr/bin/python3 python3 /usr/bin/python3.7 1\n",
        "!sudo update-alternatives --install /usr/bin/python3 python3 /usr/bin/python3.9 2\n",
        "\n",
        "#check python version\n",
        "!python --version\n",
        "#3.9.blah\n"
      ],
      "metadata": {
        "id": "ceGGRV5bKz8L"
      },
      "execution_count": null,
      "outputs": []
    },
    {
      "cell_type": "code",
      "source": [
        "# Import math Library\n",
        "import math\n",
        "\n",
        "# Initialize the number of items to choose from\n",
        "n = 49\n",
        "\n",
        "# Initialize the number of possibilities to choose\n",
        "k = 6\n",
        "\n",
        "# After Python update it still can't find this\n",
        "result = 1 / math.comb(n, k)\n",
        "print(f'{100 * result:.10f}%')"
      ],
      "metadata": {
        "id": "ScAdIAE5RC5q"
      },
      "execution_count": null,
      "outputs": []
    },
    {
      "cell_type": "markdown",
      "source": [
        "####Exercise 116\n",
        "\n",
        "Using the built-in _math_ module, calculate the probability to hit exactly:\n",
        "\n",
        "* 6 numbers\n",
        "* 5 numbers\n",
        "* 4 numbers\n",
        "* 3 numbers\n",
        "* 2 numbers\n",
        "* 1 numbers\n",
        "* 0 numbers\n",
        "\n",
        "in the Big Lotek game. The game consists of drawing exactly six numbers from 1 to 49 inclusive.\n",
        "\n",
        "In response print the result to the console as shown below.\n",
        "\n",
        "Tip:  \n",
        "math.comb(n, k)\n",
        ">    Number of ways to choose k items from n items without repetition and without order.\n",
        "\n",
        "\n",
        "Expected result:\n",
        ">hit: 6 prob: 0.0000071511%  \n",
        "hit: 5 prob: 0.0018449900%  \n",
        "hit: 4 prob: 0.0968619724%  \n",
        "hit: 3 prob: 1.7650403867%  \n",
        "hit: 2 prob: 13.2378029002%  \n",
        "hit: 1 prob: 41.3019450485%  \n",
        "hit: 0 prob: 43.5964975512%\n",
        "\n"
      ],
      "metadata": {
        "id": "Im5dy4xj6w6n"
      }
    },
    {
      "cell_type": "code",
      "source": [
        "# I have know idea what this is.\n",
        "import math\n",
        "\n",
        "for k in range(0, 7)[::-1]:\n",
        "    hits = math.comb(6, k) * math.comb(49 - 6, 6 - k)\n",
        "    result = hits / math.comb(49, 6)\n",
        "    print(f'hit: {k} prob: {100 * result:.10f}%')"
      ],
      "metadata": {
        "id": "Ds1N9BniaFWx"
      },
      "execution_count": null,
      "outputs": []
    },
    {
      "cell_type": "markdown",
      "source": [
        "####Exercise 117\n",
        "\n",
        "The following set of file names is given:\n",
        "```python\n",
        "fnames = {\n",
        "    \"01_stream.txt\",\n",
        "    \"02_stream.txt\",\n",
        "    \"03_stream.txt\",\n",
        "    \"04_stream.txt\",\n",
        "    \"05_stream.txt\",\n",
        "}\n",
        "```\n",
        "\n",
        "Using the built-in _math_ module count how many ways you can set the names of the given files in the queue.\n",
        "\n",
        "Tip:\n",
        "math.factorial(...)  \n",
        ">    factorial(x) -> Integral  \n",
        "Find x!. Raise a ValueError if x is negative or non-integral.\n",
        "\n",
        "\n",
        "Expected result:\n",
        ">120"
      ],
      "metadata": {
        "id": "spB6OT_36xLJ"
      }
    },
    {
      "cell_type": "code",
      "source": [
        "import math\n",
        "\n",
        "\n",
        "fnames = {\n",
        "    \"01_stream.txt\",\n",
        "    \"02_stream.txt\",\n",
        "    \"03_stream.txt\",\n",
        "    \"04_stream.txt\",\n",
        "    \"05_stream.txt\",\n",
        "}\n",
        "\n",
        "print(math.factorial(len(fnames)))"
      ],
      "metadata": {
        "id": "GkwRb9gMajFI"
      },
      "execution_count": null,
      "outputs": []
    },
    {
      "cell_type": "markdown",
      "source": [
        "####Exercise 118\n",
        "\n",
        "Consider the _continuous capitalization model of interest_. The future value in this model can be calculated as follows:\n",
        "\n",
        "$$FV = PV ⋅ e^{r \\cdot n}$$\n",
        "\n",
        "where:\n",
        "\n",
        "* FV - future value - the future value of investments\n",
        "* PV - present value - present value of the investment\n",
        "* e - Euler's number\n",
        "* r - interest rate (annual)\n",
        "* n - number of years\n",
        "\n",
        "Using the built-in _math_ module calculate the future value of $ 1,000 in the model of continuous interest capitalization and the annual interest rate of 4% after 3 years.\n",
        "\n",
        "In response, print the result to the console as shown below.\n",
        "\n",
        "Expected result:\n",
        "fv = $ 1127.50\n"
      ],
      "metadata": {
        "id": "cIIsheT06xay"
      }
    },
    {
      "cell_type": "code",
      "source": [
        "import math\n",
        "\n",
        "pv = 1000\n",
        "r = 4 / 100\n",
        "n = 3\n",
        "\n",
        "fv = pv * math.e ** (r * n)\n",
        "\n",
        "print(f'fv = $ {fv:.2f}')"
      ],
      "metadata": {
        "id": "RO-k0piVcaqa"
      },
      "execution_count": null,
      "outputs": []
    },
    {
      "cell_type": "markdown",
      "source": [
        "####Exercise 119\n",
        "Consider the _continuous capitalization model of interest_. The future value in this model can be calculated as follows:\n",
        "\n",
        "$$FV = PV ⋅ e^{r \\cdot n}$$\n",
        "\n",
        "where:\n",
        "\n",
        "* FV - future value - the future value of investments\n",
        "* PV - present value - present value of the investment\n",
        "* e - Euler's number\n",
        "* r - interest rate (annual)\n",
        "* n - number of years\n",
        "\n",
        "\n",
        "By transforming the above formula, we get:\n",
        " $$n = \\frac{1}{r} \\cdot ln(\\frac{FV}{PV})$$\n",
        "\n",
        "\n",
        "which allows you to determine the number of periods.\n",
        "\n",
        "Using the built-in _math_ module determine after how many years the amount invested in the model of continuous interest capitalization at an annual interest rate of 4% will at least double its value. Round the result to full years and print it to the console as shown below.\n",
        "\n",
        "\n",
        "Tip:\n",
        "math.log(...)\n",
        ">    log(x[, base])\n",
        ">    \n",
        ">    Return the logarithm of x to the given base.\n",
        "    If the base not specified, returns the natural logarithm (base e) of x.\n",
        " \n",
        " \n",
        "math.ceil(...)\n",
        ">    ceil(x)\n",
        ">    \n",
        ">    Return the ceiling of x as an Integral.\n",
        "    This is the smallest integer >= x.\n",
        "\n",
        "\n",
        "Expected result:\n",
        ">n = 18"
      ],
      "metadata": {
        "id": "vsa5NZgn6xsF"
      }
    },
    {
      "cell_type": "code",
      "source": [
        "import math\n",
        "\n",
        "fv = 2000\n",
        "pv = 1000\n",
        "r = 4 / 100\n",
        "n = (1 / r) * math.log(fv/pv)\n",
        "n = math.ceil(n)\n",
        "\n",
        "print(f'n = {n}')"
      ],
      "metadata": {
        "id": "ud5CabM_ecQR"
      },
      "execution_count": null,
      "outputs": []
    },
    {
      "cell_type": "markdown",
      "source": [
        "####Exercise 120\n",
        "\n",
        "A point called _centroid_ (variable centroid) is given:\n",
        "\n",
        "`centroid = (0.5, 0.5)`\n",
        "\n",
        "and 10 points with coordinates in the range [0, 1):  \n",
        "`points = [(rand(), rand()) for i in range(10)]`\n",
        "\n",
        "\n",
        "Using the built-in math module calculate the distance of each point from the points list to the centroid. Then print the index of the closest point to the centroid with the distance to the centroid as shown below.\n",
        "\n",
        "\n",
        "\n",
        "Tip:\n",
        "[math.dist(p, q)](https://docs.python.org/3/library/math.html#math.dist)\n",
        " >   Return the Euclidean distance between two points p and q.\n",
        ">   \n",
        ">   The points should be specified as sequences (or iterables) of\n",
        "    coordinates.  Both inputs must have the same dimension.\n",
        "    \n",
        "\n",
        "\n",
        "Expected result:\n",
        ">`(7, 0.15647709534399296)`\n",
        "\n",
        "This needs Python 3.8+ to work."
      ],
      "metadata": {
        "id": "MtBudgwv6x9k"
      }
    },
    {
      "cell_type": "code",
      "source": [
        "import math\n",
        "import random\n",
        "from random import random as rand\n",
        "\n",
        "\n",
        "random.seed(42)\n",
        "centroid = (0.5, 0.5)\n",
        "points = [(rand(), rand()) for i in range(10)]\n",
        "\n",
        "\n",
        "distances = [math.dist(centroid, points[i]) for i in range(10)]\n",
        "min_distance = min([math.dist(centroid, point) for point in points])\n",
        "\n",
        "\n",
        "for i in list(zip(range(10), distances)):\n",
        "    if i[1] == min_distance:\n",
        "        print(i)"
      ],
      "metadata": {
        "id": "jc9voXwermXE"
      },
      "execution_count": null,
      "outputs": []
    },
    {
      "cell_type": "markdown",
      "source": [
        "# Section: statistics\n",
        "\n",
        "[statistics]( https://docs.python.org/3.8/library/statistics)\n",
        "\n",
        "This module provides functions for calculating statistics of data, including\n",
        "    averages, variance, and standard deviation.\n"
      ],
      "metadata": {
        "id": "1Qgn_sa1DWwu"
      }
    },
    {
      "cell_type": "markdown",
      "source": [
        "####Exercise 121\n",
        "\n",
        "Exercise 1\n",
        "The following list is given:\n",
        "\n",
        "\n",
        "`data = [59.19, 72.05, 66.82, 81.15, 66.33, 94.87, 99.65, 70.13, 55.75, 87.71,\n",
        "        95.43, 93.17, 98.54, 68.31, 59.24, 88.94, 79.44, 83.91, 84.4, 68.21]`\n",
        "\n",
        "\n",
        "\n",
        "Using the built-in _statistics_ module calculate:\n",
        "\n",
        "* arithmetic average\n",
        "* geometric mean\n",
        "* harmonic mean\n",
        "* median\n",
        "\n",
        "Round the values to two decimal places and print to the console.\n",
        "\n",
        "Tip:\n",
        "mean(data)\n",
        ">    Return the sample arithmetic mean of data.\n",
        "    \n",
        "geometric_mean(data)\n",
        ">    Convert data to floats and compute the geometric mean.\n",
        "    \n",
        "harmonic_mean(data)\n",
        ">    Return the harmonic mean of data.\n",
        "    \n",
        "median(data)\n",
        ">    Return the median (middle value) of numeric data.\n",
        "\n",
        "\n",
        "Expected result:\n",
        ">78.66   \n",
        "77.44  \n",
        "76.2  \n",
        "80.3\n",
        "\n",
        "\n",
        "Requires Python 3.8+"
      ],
      "metadata": {
        "id": "nBFWQ-POJqLz"
      }
    },
    {
      "cell_type": "code",
      "source": [
        "import statistics\n",
        "\n",
        "\n",
        "data = [59.19, 72.05, 66.82, 81.15, 66.33, 94.87, 99.65, 70.13, 55.75, 87.71,\n",
        "        95.43, 93.17, 98.54, 68.31, 59.24, 88.94, 79.44, 83.91, 84.4, 68.21]\n",
        "\n",
        "\n",
        "print(round(statistics.mean(data),2))   \n",
        "print(round(statistics.geometric_mean(data),2)) \n",
        "print(round(statistics.harmonic_mean(data),2))   \n",
        "print(round(statistics.median(data),2))"
      ],
      "metadata": {
        "id": "XOxf9q4OqPJI"
      },
      "execution_count": null,
      "outputs": []
    },
    {
      "cell_type": "markdown",
      "source": [
        "####Exercise 122\n",
        "Exercise 2\n",
        "The following list is given:\n",
        "\n",
        "data = [59.19, 72.05, 66.82, 81.15, 66.33, 94.87, 99.65, 70.13, 55.75, 87.71,\n",
        "        95.43, 93.17, 98.54, 68.31, 59.24, 88.94, 79.44, 83.91, 84.4, 68.21]\n",
        "\n",
        "\n",
        "Using the built-in _statistics_ module calculate the mean value and standard deviation of the given data. Then create a _NormalDist_ object with the calculated parameters and generate a 10-element sample from the normal distribution (round the values ​​to three decimal places) and assign to the result list.\n",
        "\n",
        "In response, print result list to the console.\n",
        "\n",
        "\n",
        "Tip:  \n",
        " \n",
        "mean(data)\n",
        ">    Return the sample arithmetic mean of data.\n",
        "    \n",
        " \n",
        "stdev(data, xbar=None)\n",
        ">    Return the square root of the sample variance.\n",
        "    \n",
        "class NormalDist(builtins.object)\n",
        ">NormalDist(mu=0.0, sigma=1.0)\n",
        ">  \n",
        ">Returns a new NormalDist object where mu represents the arithmetic mean and sigma represents the standard deviation.>  Normal distribution of a random variable\n",
        " \n",
        "    \n",
        "statistics.NormalDist.samples\n",
        ">samples(self, n, *, seed=None)  \n",
        ">    Generate __n__ samples for a given mean and standard deviation.\n",
        "\n",
        "\n",
        "\n",
        "Expected result:\n",
        ">[76.637, 76.232, 77.098, 88.526, 76.869, 57.622, 83.331, 74.906, 75.613, 80.29]\n"
      ],
      "metadata": {
        "id": "vf0nUaUH3li6"
      }
    },
    {
      "cell_type": "code",
      "source": [
        "import statistics\n",
        "import random\n",
        "\n",
        "data = [59.19, 72.05, 66.82, 81.15, 66.33, 94.87, 99.65, 70.13, 55.75, 87.71,\n",
        "        95.43, 93.17, 98.54, 68.31, 59.24, 88.94, 79.44, 83.91, 84.4, 68.21]\n",
        "\n",
        "random.seed(42)\n",
        "\n",
        "mean = statistics.mean(data)\n",
        "stdev = statistics.stdev(data)\n",
        "norm = statistics.NormalDist(mean, stdev)\n",
        "\n",
        "results = [round(s, 3) for s in norm.samples(10)]\n",
        "\n",
        "print(results)"
      ],
      "metadata": {
        "id": "wA2aGZM8vTtj"
      },
      "execution_count": null,
      "outputs": []
    },
    {
      "cell_type": "markdown",
      "source": [
        "####Exercise 123\n",
        "\n",
        "Suppose that in a given population, height can be described by a normal distribution with the following parameters:\n",
        "\n",
        "* expected value: 170 cm\n",
        "* standard deviation: 15 cm\n",
        "\n",
        "Using the built-in _statistics_ module calculate the probability that a randomly selected person from this population will have a height within the range [170, 180). Round the result to two decimal places and print to the console as shown below.\n",
        "\n",
        "\n",
        "\n",
        "Tip:  \n",
        "statistics.NormalDist.cdf  \n",
        "cdf(self, x)\n",
        ">    Cumulative distribution function.  P(X <= x)\n",
        "\n",
        "Expected result:\n",
        ">`Probability: 24.75%`"
      ],
      "metadata": {
        "id": "IN1Bgqpk3mBA"
      }
    },
    {
      "cell_type": "code",
      "source": [
        "from statistics import NormalDist\n",
        "\n",
        "height = NormalDist(mu=170, sigma=15)\n",
        "prob = round(height.cdf(180) - height.cdf(170), 4)\n",
        "print(f'Probability: {100 * prob}%')\n"
      ],
      "metadata": {
        "id": "0In6cpTg1kv3"
      },
      "execution_count": null,
      "outputs": []
    },
    {
      "cell_type": "markdown",
      "source": [
        "####Exercise 124\n",
        "\n",
        "The following list is given:\n",
        "\n",
        "data = [59.19, 72.05, 66.82, 81.15, 66.33, 94.87, 99.65, 70.13, 55.75, 87.71,\n",
        "        95.43, 93.17, 98.54, 68.31, 59.24, 88.94, 79.44, 83.91, 84.4, 68.21]\n",
        "\n",
        "\n",
        "Using the built-in _statistics_ module calculate the quartiles of the order 1/4, 1/2 (median) and 3/4.\n",
        "\n",
        "Print each quartile to the console as shown below.\n",
        "\n",
        "Tip:\n",
        "quantiles(data, *, n=4, method='exclusive')\n",
        " >   Divide *data* into *n* continuous intervals with equal probability.\n",
        "\n",
        "Expected result:\n",
        ">67.17  \n",
        "80.3  \n",
        "92.11\n"
      ],
      "metadata": {
        "id": "T7ZQQU3y3mXB"
      }
    },
    {
      "cell_type": "code",
      "source": [
        "import statistics\n",
        "\n",
        "data = [59.19, 72.05, 66.82, 81.15, 66.33, 94.87, 99.65, 70.13, 55.75, 87.71,\n",
        "        95.43, 93.17, 98.54, 68.31, 59.24, 88.94, 79.44, 83.91, 84.4, 68.21]\n",
        "\n",
        "\n",
        "results = [ round(q,2) for q in statistics.quantiles(data)]\n",
        "\n",
        "for r in results:\n",
        "    print(r)"
      ],
      "metadata": {
        "id": "ZnlmddsI5wRO"
      },
      "execution_count": null,
      "outputs": []
    },
    {
      "cell_type": "markdown",
      "source": [
        "# Section: numbers\n",
        "\n",
        "[numbers](https://docs.python.org/3.8/library/numbers)\n",
        "\n",
        "Abstract Base Classes (ABCs) for numbers, according to PEP 3141."
      ],
      "metadata": {
        "id": "LL0fD1SJD-EP"
      }
    },
    {
      "cell_type": "markdown",
      "source": [
        "####Exercise 125\n",
        "\n",
        "The following values are given:\n",
        "`values = [2.0, 2, '2.0', '2', None, False, True]`\n",
        "\n",
        "\n",
        "Using the built-in _numbers_ module and the `isinstance()` function check if the elements in the list are numbers.\n",
        "\n",
        "In response, print the element, its type, and the result of the `isinstance()` function as shown below.\n",
        "\n",
        "\n",
        "Tip:\n",
        "class Number(builtins.object)\n",
        ">  All numbers inherit from this class.  \n",
        "> \n",
        ">If you just want to check if an argument x is a number, without caring what kind, use isinstance(x, Number).\n",
        "\n",
        "\n",
        "Expected result:\n",
        "```\n",
        "2.0   : <class 'float'>    : True  \n",
        "2     : <class 'int'>      : True  \n",
        "2.0   : <class 'str'>      : False  \n",
        "2     : <class 'str'>      : False  \n",
        "None  : <class 'NoneType'> : False  \n",
        "False : <class 'bool'>     : True  \n",
        "True  : <class 'bool'>     : True  \n",
        "```\n"
      ],
      "metadata": {
        "id": "F6o2a59Yocgp"
      }
    },
    {
      "cell_type": "code",
      "source": [
        "import numbers\n",
        "\n",
        "values = [2.0, 2, '2.0', '2', None, False, True]\n",
        "\n",
        "for value in values:\n",
        "    print(f'{str(value).ljust(6)}: {str(type(value)).ljust(18)}'\n",
        "        f' : {isinstance(value, numbers.Number)}')\n"
      ],
      "metadata": {
        "id": "bx9qcFBkc92D"
      },
      "execution_count": null,
      "outputs": []
    },
    {
      "cell_type": "markdown",
      "source": [
        "####Exercise 126\n",
        "\n",
        "The _Phone_ class and the `__init __()` method are defined below:\n",
        "\n",
        "```python\n",
        "class Phone:\n",
        "    \n",
        "    def __init__(self, price):\n",
        "        self.price = price \n",
        "```\n",
        "\n",
        "When creating a _Phone_ class instance, we set the price attribute without any validation. This can raise some problems. For example, we can set a text value as a price:\n",
        "\n",
        "`phone = Phone('Apple')`\n",
        "\n",
        "or a negative value:\n",
        "`phone = Phone(-10)`\n",
        "\n",
        "\n",
        "Which is not necessarily what we want.\n",
        "\n",
        "Correct the implementation of the `__init __()` method to verify if the value is a positive number before setting the price attribute. Use the built-in _numbers_ module for this. If the value isn't a positive number, raise the `TypeError` with the following message:\n",
        "\n",
        ">'value' must be a positive number.\n",
        "\n"
      ],
      "metadata": {
        "id": "U4t8daV833ck"
      }
    },
    {
      "cell_type": "code",
      "source": [
        "from numbers import Number\n",
        "\n",
        "\n",
        "class Phone:\n",
        "    \n",
        "    def __init__(self, price):\n",
        "        if not isinstance(price, Number) or price < 0:\n",
        "            raise TypeError(\"'value' must be a positive number.\")\n",
        "        self.price = price\n",
        "\n",
        "p = Phone(1.43)\n",
        "p = Phone(0)\n",
        "#p = Phone(-1)\n",
        "#p = Phone(\"0\")"
      ],
      "metadata": {
        "id": "YpHXNkZhk81C"
      },
      "execution_count": null,
      "outputs": []
    },
    {
      "cell_type": "markdown",
      "source": [
        "# Section: decimal\n",
        "\n",
        "[decimal](https://docs.python.org/3.8/library/decimal) - C decimal arithmetic module"
      ],
      "metadata": {
        "id": "pCaazUsXEOEm"
      }
    },
    {
      "cell_type": "markdown",
      "source": [
        "####Exercise 127\n",
        "\n",
        "Exercise 1\n",
        "First, check the result of the following operation:\n",
        "\n",
        "\n",
        "\n",
        "0.1 + 0.2\n",
        "\n",
        "\n",
        "You can expect 0.3, but Python will return:\n",
        "\n",
        "\n",
        "\n",
        "0.30000000000000004\n",
        "\n",
        "\n",
        "Check one more operation:\n",
        "\n",
        "\n",
        "\n",
        "0.1 + 0.1 + 0.1 - 0.3\n",
        "\n",
        "\n",
        "which, instead of the expected zero, returns a number very close to zero:\n",
        "\n",
        "\n",
        "\n",
        "5.551115123125783e-17\n",
        "\n",
        "\n",
        "In fact, that's the nature of a binary floating point representation. This is common issue in any programming language. The precision of the calculations is very easy to lose if the numbers are not handled correctly. Python provides a built-in _decimal_ module with which we can manage decimal numbers in our programs to ensure precision, formatting and performing calculations.\n",
        "\n",
        "Using the built-in _decimal_ module, create two decimal numbers 0.1 and 0.2 and calculate their sum. Display the result to the console. Pay attention to the number of decimal places (precision). By default, it is set to 28.\n",
        "\n",
        "\n",
        "Tip:\n",
        ">>[class Decimal(builtins.object)](https://docs.python.org/3/library/decimal.html#decimal.Decimal)\n",
        "\n",
        "Expected result:\n",
        ">0.3000000000000000166533453694\n"
      ],
      "metadata": {
        "id": "acYNmm-roj0A"
      }
    },
    {
      "cell_type": "code",
      "source": [
        "import decimal\n",
        "\n",
        "d1 = decimal.Decimal(0.1)\n",
        "d2 = decimal.Decimal(0.2)\n",
        "sum = d1 + d2\n",
        "print(sum)"
      ],
      "metadata": {
        "id": "oqhGfWMcFLrt"
      },
      "execution_count": null,
      "outputs": []
    },
    {
      "cell_type": "markdown",
      "source": [
        "####Exercise 128\n",
        "\n",
        "First, check the result of the following operation:\n",
        "\n",
        "0.1 + 0.2\n",
        "\n",
        "You can expect 0.3, but Python will return:\n",
        "\n",
        "0.30000000000000004\n",
        "\n",
        "\n",
        "Check one more operation:\n",
        "\n",
        "0.1 + 0.1 + 0.1 - 0.3\n",
        "\n",
        "which, instead of the expected zero, returns a number very close to zero:\n",
        "\n",
        "5.551115123125783e-17\n",
        "\n",
        "\n",
        "In fact, that's the nature of a binary floating point representation. This is common issue in any programming language. The precision of the calculations is very easy to lose if the numbers are not handled correctly. Python provides a built-in _decimal_ module with which we can manage decimal numbers in our programs to ensure precision, formatting and performing calculations.\n",
        "\n",
        "Using the built-in _decimal_ module, set the precision to 40. Then create two decimal numbers 0.1 and 0.2 and calculate their sum. Display the result to the console. Pay attention to the number of decimal places (precision).\n",
        "\n",
        "\n",
        "\n",
        "Tip:\n",
        ">[class Decimal(builtins.object)](https://docs.python.org/3/library/decimal.html#decimal.Decimal)\n",
        " \n",
        ">[decimal.getcontext()](https://docs.python.org/3/library/decimal.html#decimal.getcontext)  \n",
        "    Get the current default context.\n",
        "\n",
        "\n",
        "Expected result:\n",
        ">0.3000000000000000166533453693773481063545"
      ],
      "metadata": {
        "id": "2Tw-1qufJqWZ"
      }
    },
    {
      "cell_type": "code",
      "source": [
        "import decimal\n",
        "\n",
        "decimal.getcontext().prec = 40\n",
        "\n",
        "print(decimal.Decimal(0.1) + decimal.Decimal(0.2))"
      ],
      "metadata": {
        "id": "ThI9EjfsIJzA"
      },
      "execution_count": null,
      "outputs": []
    },
    {
      "cell_type": "markdown",
      "source": [
        "####Exercise 129\n",
        "First, check the result of the following operation:\n",
        "\n",
        "0.1 + 0.2\n",
        "\n",
        "You can expect 0.3, but Python will return:\n",
        "\n",
        "0.30000000000000004\n",
        "\n",
        "\n",
        "Check one more operation:\n",
        "\n",
        "0.1 + 0.1 + 0.1 - 0.3\n",
        "\n",
        "which, instead of the expected zero, returns a number very close to zero:\n",
        "\n",
        "5.551115123125783e-17\n",
        "\n",
        "\n",
        "In fact, that's the nature of a binary floating point representation. This is common issue in any programming language. The precision of the calculations is very easy to lose if the numbers are not handled correctly. Python provides a built-in _decimal_ module with which we can manage decimal numbers in our programs to ensure precision, formatting and performing calculations.\n",
        "\n",
        "**Precision control for a single operation.**\n",
        "\n",
        "Using the built-in _decimal_ module and the function _decimal.localcontext()_ create a **local context** and set the precision locally to 40. Then create two decimal numbers 0.1 and 0.2 and calculate their sum. Display the result to the console. Perform the same calculations again **outside the local context** and also display the result to the console.\n",
        "\n",
        "\n",
        "\n",
        "Tip:\n",
        ">[class Decimal(builtins.object)](https://docs.python.org/3/library/decimal.html#decimal.Decimal)  \n",
        " |  Decimal(value='0', context=None)\n",
        "\n",
        ">[decimal.localcontext(ctx=None)](https://docs.python.org/3/library/decimal.html#decimal.localcontext)\n",
        "\n",
        "Expected result:\n",
        ">0.3000000000000000166533453693773481063545  \n",
        "0.3000000000000000166533453694\n"
      ],
      "metadata": {
        "id": "2V0KLNsAGQd8"
      }
    },
    {
      "cell_type": "code",
      "source": [
        "from decimal import Decimal, localcontext\n",
        "\n",
        "# default context\n",
        "print(f'default context:    {Decimal(0.1) + Decimal(0.2)}')\n",
        "\n",
        "with localcontext() as ctx:\n",
        "    ctx.prec = 40\n",
        "    sum = Decimal(0.1) + Decimal(0.2)\n",
        "    print(f'localcontext is 40: {sum}')\n",
        "\n",
        "\n",
        "with localcontext() as ctx:\n",
        "    ctx.prec = 28\n",
        "    sum = Decimal(0.1) + Decimal(0.2)\n",
        "    print(f'localcontext is 28: {sum}')"
      ],
      "metadata": {
        "id": "TMaHQ2KqePea"
      },
      "execution_count": null,
      "outputs": []
    },
    {
      "cell_type": "markdown",
      "source": [
        "####Exercise 130\n",
        "First, check the result of the following operation:\n",
        "\n",
        "0.1 + 0.2\n",
        "\n",
        "You can expect 0.3, but Python will return:\n",
        "\n",
        "0.30000000000000004\n",
        "\n",
        "\n",
        "Check one more operation:\n",
        "\n",
        "0.1 + 0.1 + 0.1 - 0.3\n",
        "\n",
        "which, instead of the expected zero, returns a number very close to zero:\n",
        "\n",
        "5.551115123125783e-17\n",
        "\n",
        "\n",
        "In fact, that's the nature of a binary floating point representation. This is common issue in any programming language. The precision of the calculations is very easy to lose if the numbers are not handled correctly. Python provides a built-in _decimal_ module with which we can manage decimal numbers in our programs to ensure precision, formatting and performing calculations.\n",
        "\n",
        "**Rounding numbers.**\n",
        "\n",
        "Using the standard built-in function _round()_ round the following number:\n",
        "`19.345` to two decimal places. Print the result to the console.\n",
        "\n",
        "Then, using the built-in _decimal_ module create a number with the same value, assign it to the variable _number_ and also round to two decimal places using the built-in function _round()_. Print the result to the console.\n",
        "\n",
        "Using the [decimal.Decimal.quantize()](https://docs.python.org/3/library/decimal.html#decimal.Decimal.quantize) method round the number up (two decimal places, set the parameter `rounding=decimal.ROUND_UP`) and print the result to the console.\n",
        "\n",
        "\n",
        "\n",
        "Tip:\n",
        "\n",
        ">class Decimal(builtins.object)  \n",
        " |  Decimal(value='0', context=None)\n",
        "\n",
        "\n",
        "\n",
        ">decimal.Decimal.quantize(self, /, exp, rounding=None, context=None)  \n",
        "    Return a value equal to the first operand after rounding and having the  \n",
        "    exponent of the second operand.\n",
        "\n",
        "\n",
        "\n",
        "Expected result:\n",
        ">19.34  \n",
        "19.34  \n",
        "19.35  \n",
        "\n"
      ],
      "metadata": {
        "id": "4jC8k066GRAW"
      }
    },
    {
      "cell_type": "code",
      "source": [
        "import decimal\n",
        "\n",
        "print(round(19.345, 2))\n",
        "\n",
        "number = decimal.Decimal(19.345)\n",
        "print(round(number, 2))\n",
        "\n",
        "print(number.quantize(decimal.Decimal(10) ** -2, rounding=decimal.ROUND_UP))\n",
        "\n",
        "print(number.quantize(decimal.Decimal('0.00'), rounding=decimal.ROUND_UP))"
      ],
      "metadata": {
        "id": "uA0OaPlbPPVN"
      },
      "execution_count": null,
      "outputs": []
    },
    {
      "cell_type": "markdown",
      "source": [
        "#Section: fractions\n",
        "\n",
        "[fractions](https://docs.python.org/3.8/library/fractions)"
      ],
      "metadata": {
        "id": "zhMgbFVWEZhU"
      }
    },
    {
      "cell_type": "markdown",
      "source": [
        "####Exercise 131\n",
        "\n",
        "Using the built-in _fractions_ module create the fraction 13/15 and assign it to the variable _frac_.\n",
        "\n",
        "In response, print _frac_ variable to the console. Then its numerator and denominator as shown below.\n",
        "\n",
        "Tip:\n",
        "class Fraction(numbers.Rational)  \n",
        ">  Fraction(numerator=0, denominator=None, *, _normalize=True)\n",
        ">  \n",
        ">  This class implements rational numbers.\n",
        "> \n",
        "> Fractions can also be constructed from:\n",
        "> \n",
        "> * numeric strings similar to those accepted by the   float constructor (for example, '-2.3' or '1e10')\n",
        "> * strings of the form '123/456'\n",
        "> * float and Decimal instances\n",
        "> * other Rational instances (including integers)\n",
        "\n",
        "\n",
        "Expected result:\n",
        ">```\n",
        "fraction: 13/15\n",
        "numerator: 13\n",
        "denominator: 15\n",
        "```\n"
      ],
      "metadata": {
        "id": "ETO6QnA3pC-I"
      }
    },
    {
      "cell_type": "code",
      "source": [
        "from fractions import Fraction\n",
        "\n",
        "frac = Fraction('13/15')\n",
        "\n",
        "\n",
        "print(f'fraction: {frac}')\n",
        "print(f'numerator: {frac.numerator}')\n",
        "print(f'denominator: {frac.denominator}')"
      ],
      "metadata": {
        "id": "gGajyGlkaOsV"
      },
      "execution_count": null,
      "outputs": []
    },
    {
      "cell_type": "markdown",
      "source": [
        "####Exercise 132\n",
        "\n",
        "Using the built-in _fractions_ module create two fractions:\n",
        "\n",
        "* 1/4\n",
        "* 1/2\n",
        "\n",
        "and assign to the variables _f1_ and _f2_ respectively. Perform the following operations on the fractions _f1_ and _f2_:\n",
        "\n",
        "* addition\n",
        "* subtraction\n",
        "* multiplication\n",
        "* division\n",
        "\n",
        "Print the results of each operation to the console as shown below.\n",
        "\n",
        "Tip:\n",
        "class Fraction(numbers.Rational)  \n",
        ">  Fraction(numerator=0, denominator=None, *, _normalize=True)\n",
        ">  \n",
        ">  This class implements rational numbers.\n",
        "> \n",
        "> Fractions can also be constructed from:\n",
        "> \n",
        "> * numeric strings similar to those accepted by the   float constructor (for example, '-2.3' or '1e10')\n",
        "> * strings of the form '123/456'\n",
        "> * float and Decimal instances\n",
        "> * other Rational instances (including integers)\n",
        "\n",
        "\n",
        "Expected result:\n",
        ">```\n",
        "1/4 + 1/2 = 3/4\n",
        "1/4 - 1/2 = -1/4\n",
        "1/4 * 1/2 = 1/8\n",
        "1/4 / 1/2 = 1/2\n",
        "```\n",
        "\n"
      ],
      "metadata": {
        "id": "jW4MyPIX4DaR"
      }
    },
    {
      "cell_type": "code",
      "source": [
        "from fractions import Fraction\n",
        "\n",
        "f1 = Fraction(1, 4)\n",
        "f2 = Fraction(1, 2)\n",
        "\n",
        "print(f'{f1} + {f2} = {f1 + f2}')\n",
        "print(f'{f1} - {f2} = {f1 - f2}')\n",
        "print(f'{f1} * {f2} = {f1 * f2}')\n",
        "print(f'{f1} / {f2} = {f1 / f2}')"
      ],
      "metadata": {
        "id": "l-fSdAHSb2Sx"
      },
      "execution_count": null,
      "outputs": []
    },
    {
      "cell_type": "markdown",
      "source": [
        "####Exercise 133\n",
        "\n",
        "Using the built-in _fractions_ module, build a fraction:\n",
        "\n",
        "1/4\n",
        "\n",
        "and assign to variable _f1_. Perform the following operations on the f1 fraction:\n",
        "\n",
        "* calculate the square\n",
        "* calculate the cube\n",
        "* calculate sqrt as a float\n",
        "* calculate sqrt as a Fraction\n",
        "\n",
        "using the built-in _math_ module calculate the _square root_ of the fraction (the math.sqrt() function will return a float object)\n",
        "\n",
        "using the built-in _math_ module calculate the square root of the fraction (return the result as a fractions.Fraction object).\n",
        "\n",
        "Print the results of each operation to the console as shown below.\n",
        "\n",
        "\n",
        "\n",
        "Tip:\n",
        "class Fraction(numbers.Rational)\n",
        "\n",
        "Expected result:\n",
        ">```\n",
        "1/4 ** 2 = 1/16\n",
        "1/4 ** 3 = 1/64\n",
        "math.sqrt(1/4) = 0.5\n",
        "math.sqrt(Fraction(1/4) = 1/2\n",
        "```\n"
      ],
      "metadata": {
        "id": "H5KOHHQL4Dq2"
      }
    },
    {
      "cell_type": "code",
      "source": [
        "from fractions import Fraction\n",
        "import math\n",
        "\n",
        "f1 = Fraction(1,4)\n",
        "\n",
        "print(f'{f1} ** 2 = {f1 ** 2}')\n",
        "print(f'{f1} ** 3 = {f1 ** 3}')\n",
        "print(f'math.sqrt({f1}) = {math.sqrt(f1)}')\n",
        "print(f'math.sqrt(Fraction({f1}) = {Fraction(math.sqrt(f1))}')"
      ],
      "metadata": {
        "id": "SIGXAbOukqRk"
      },
      "execution_count": null,
      "outputs": []
    },
    {
      "cell_type": "markdown",
      "source": [
        "####Exercise 134\n",
        "\n",
        "Using the built-in _fractions_ and _math_ modules calculate the approximation of pi and Euler's number in the form of a fraction.\n",
        "\n",
        "\n",
        "Tip:\n",
        "class Fraction(numbers.Rational)\n",
        ">  Fraction(numerator=0, denominator=None, *, _normalize=True)\n",
        "\n",
        "\n",
        "\n",
        "Expected result:\n",
        ">```\n",
        "pi = 884279719003555/281474976710656\n",
        "e = 6121026514868073/2251799813685248\n",
        "```\n",
        "\n"
      ],
      "metadata": {
        "id": "mYV-kdsz4D3C"
      }
    },
    {
      "cell_type": "code",
      "source": [
        "from fractions import Fraction\n",
        "import math\n",
        "\n",
        "print('pi =', Fraction(math.pi))\n",
        "print('e =', Fraction(math.e))"
      ],
      "metadata": {
        "id": "jw5_hy1KmNhm"
      },
      "execution_count": null,
      "outputs": []
    },
    {
      "cell_type": "markdown",
      "source": [
        "####Exercise 135\n",
        "\n",
        "Using the built-in _fractions_ and _math_ modules calculate the approximation of pi and Euler's number in the form of a fraction. Using the _limit_denominator()_ function limit the size of the denominator to:\n",
        "\n",
        "* 10\n",
        "* 100\n",
        "* 1000\n",
        "\n",
        "Print the result to the console as shown below. Set the indentation by inserting a tab character \\t.\n",
        "\n",
        "Tip:\n",
        "\n",
        "fractions.Fraction.limit_denominator\n",
        ">limit_denominator(self, max_denominator=1000000)  \n",
        "    Closest Fraction to self with denominator at most max_denominator.\n",
        "\n",
        "\n",
        "\n",
        "Expected result:\n",
        ">```\n",
        "limit: 10\n",
        "\tpi = 22/7\n",
        "\te = 19/7\n",
        "limit: 100\n",
        "\tpi = 311/99\n",
        "\te = 193/71\n",
        "limit: 1000\n",
        "\tpi = 355/113\n",
        "\te = 1457/536\n",
        "```"
      ],
      "metadata": {
        "id": "Air2kl6y4EGO"
      }
    },
    {
      "cell_type": "code",
      "source": [
        "from fractions import Fraction\n",
        "import math\n",
        "\n",
        "pi = Fraction(math.pi)\n",
        "e = Fraction(math.e)\n",
        " \n",
        "for limit in [10, 100, 1000]:\n",
        "    print(f'limit: {limit}')\n",
        "    print(f'\\tpi = {pi.limit_denominator(limit)}')\n",
        "    print(f'\\te = {e.limit_denominator(limit)}')"
      ],
      "metadata": {
        "id": "opTsZw0XngSF"
      },
      "execution_count": null,
      "outputs": []
    },
    {
      "cell_type": "markdown",
      "source": [
        "# Section: itertools\n",
        "\n",
        "[itertools](https://docs.python.org/3/library/itertools.html)\n",
        "\n",
        ">This module implements a number of iterator building blocks inspired by constructs from APL, Haskell, and SML. Each has been recast in a form suitable for Python.\n",
        "\n",
        ">The module standardizes a core set of fast, memory efficient tools that are useful by themselves or in combination. Together, they form an “iterator algebra” making it possible to construct specialized tools succinctly and efficiently in pure Python.\n",
        "\n",
        "[Python Iterators](https://www.programiz.com/python-programming/iterator)\n",
        "Iterator in Python is simply an object that can be iterated upon. An object which will return data, one element at a time.\n",
        "\n",
        "Technically speaking, a Python iterator object must implement two special methods, `__iter__()` and `__next__()`, collectively called the __iterator protocol__.\n",
        "\n",
        "An object is called iterable if we can get an iterator from it. Most built-in containers in Python like: `list`, `tuple`, `string` etc. are iterables.\n",
        "\n",
        "The `iter()` function (which in turn calls the `__iter__()` method) returns an iterator from them.\n",
        "\n",
        "Likewise `next()` calls the object's `__next__()`."
      ],
      "metadata": {
        "id": "PeKw8yUQoqZs"
      }
    },
    {
      "cell_type": "markdown",
      "source": [
        "####Exercise 136\n",
        "\n",
        "Using the built-in _itertools_ module and the _count_ class create an iterator that allows you to return successive natural numbers (start from zero). Then using a loop display the first 10 elements of the iterator to the console.\n",
        "\n",
        "\n",
        "Tip:  \n",
        "[`class count(builtins.object)`](https://docs.python.org/3/library/itertools.html#itertools.count)\n",
        ">  count(start=0, step=1)\n",
        ">\n",
        ">Return a count object whose `.__next__()` method returns consecutive values.\n",
        "\n",
        "\n",
        "Expected result:\n",
        ">0  \n",
        "1  \n",
        "2  \n",
        "3  \n",
        "4  \n",
        "5  \n",
        "6  \n",
        "7  \n",
        "8  \n",
        "9  \n"
      ],
      "metadata": {
        "id": "ZBQj6uiupKtU"
      }
    },
    {
      "cell_type": "code",
      "source": [
        "import itertools\n",
        "\n",
        "\n",
        "for i in itertools.count(0):\n",
        "    if i > 9:\n",
        "        break\n",
        "    print(i)"
      ],
      "metadata": {
        "id": "r1O7xinj59Po"
      },
      "execution_count": null,
      "outputs": []
    },
    {
      "cell_type": "markdown",
      "source": [
        "####Exercise 137\n",
        "\n",
        "Using the built-in _itertools_ module and the _count_ class create an iterator that allows you to return positive odd numbers. Then using a loop display the first 5 elements of the iterator to the console.\n",
        "\n",
        "\n",
        "\n",
        "Tip:  \n",
        "[`class count(builtins.object)`](https://docs.python.org/3/library/itertools.html#itertools.count)\n",
        ">  count(start=0, step=1)\n",
        ">\n",
        ">Return a count object whose `.__next__()` method returns consecutive values.\n",
        "\n",
        "\n",
        "Expected result:\n",
        ">1  \n",
        "3  \n",
        "5  \n",
        "7  \n",
        "9"
      ],
      "metadata": {
        "id": "4ZX68Pke8QcC"
      }
    },
    {
      "cell_type": "code",
      "source": [
        "import itertools\n",
        "\n",
        "for i in itertools.count(1,2):\n",
        "    if i > 9:\n",
        "        break\n",
        "    print(i)\n",
        "    \n"
      ],
      "metadata": {
        "id": "5L8iHtD4YXXc"
      },
      "execution_count": null,
      "outputs": []
    },
    {
      "cell_type": "markdown",
      "source": [
        "####Exercise 138\n",
        "\n",
        "Using the built-in _itertools_ module and the _cycle_ class create an iterator that allows you to iterate cyclically on the following values -1, 0, 1. Then using a loop display the first 15 elements of the iterator to the console.\n",
        "\n",
        "\n",
        "Tip:  \n",
        "[`class cycle(builtins.object)`](https://docs.python.org/3/library/itertools.html#itertools.cycle)\n",
        ">  cycle(iterable)\n",
        ">  \n",
        ">Return elements from the iterable until it is exhausted. Then repeat the sequence indefinitely.\n",
        "\n",
        "\n",
        "Expected result:\n",
        ">-1  \n",
        "0\n",
        "1  \n",
        "-1  \n",
        "0  \n",
        "1  \n",
        "-1  \n",
        "0  \n",
        "1  \n",
        "-1  \n",
        "0  \n",
        "1  \n",
        "-1  \n",
        "0  \n",
        "1\n",
        "\n"
      ],
      "metadata": {
        "id": "entpUTnX8QuV"
      }
    },
    {
      "cell_type": "code",
      "source": [
        "import itertools\n",
        "\n",
        "x = 0\n",
        "for i in itertools.cycle([-1, 0, 1]):\n",
        "    if x > 14:\n",
        "        break\n",
        "    x += 1\n",
        "    print(i)\n",
        "\n",
        "# his solution\n",
        "print('his solution', '-' * 80)\n",
        "\n",
        "cycle = itertools.cycle([-1, 0, 1])\n",
        "\n",
        "results = [next(cycle) for i in range(15)]\n",
        "\n",
        "for r in results:\n",
        "    print(r)"
      ],
      "metadata": {
        "id": "iswMXylXd5C-"
      },
      "execution_count": null,
      "outputs": []
    },
    {
      "cell_type": "markdown",
      "source": [
        "####Exercise 139\n",
        "\n",
        "Using the built-in _itertools_ module and the _repeat_ class create an iterator that allows you to iterate infinitely over the following '#' character. Then using a loop display the first 10 elements of the iterator to the console\n",
        "\n",
        "\n",
        "Tip:  \n",
        "[`class repeat(builtins.object)`](https://docs.python.org/3/library/itertools.html#itertools.repeat)\n",
        ">  repeat(object [,times]) -> create an iterator which returns the object for the specified number of times.  If not specified, returns the object endlessly.\n",
        "\n",
        "\n",
        "Expected result:\n",
        ">\\#  \n",
        "\\#  \n",
        "\\#  \n",
        "\\#  \n",
        "\\#  \n",
        "\\#  \n",
        "\\#  \n",
        "\\#  \n",
        "\\#  \n",
        "\\#  \n"
      ],
      "metadata": {
        "id": "kWbilScJ8Q-a"
      }
    },
    {
      "cell_type": "code",
      "source": [
        "import itertools\n",
        "\n",
        "repeater = itertools.repeat('#', 10)\n",
        "\n",
        "for r in repeater:\n",
        "    print(r)\n",
        "\n",
        "# or\n",
        "repeater = itertools.repeat('#', 10)\n",
        "results = [next(repeater) for _ in range(10)]\n",
        "print('\\n'.join(results))"
      ],
      "metadata": {
        "id": "wh0dhVT7o3pH"
      },
      "execution_count": null,
      "outputs": []
    },
    {
      "cell_type": "markdown",
      "source": [
        "####Exercise 140\n",
        "\n",
        "The following list of companies is given:\n",
        "\n",
        "stocks = [ \"Apple\", \"Microsoft\", \"Amazon\",\n",
        "    \"Google\", \"Adidas\", \"Audi\", \"Siemens\",]\n",
        "\n",
        "\n",
        "Using the built-in _itertools_ module and the _combinations_ class create an iterator that iterates over all two-element combinations from the stocks list. Print the result to the console as shown below.\n",
        "\n",
        "Tip:  \n",
        "[`class combinations(builtins.object)`](https://docs.python.org/3/library/itertools.html#itertools.combinations)\n",
        ">  combinations(iterable, r)\n",
        ">  \n",
        ">  Return successive r-length combinations of elements in the iterable.\n",
        ">  \n",
        ">  combinations(range(4), 3) --> (0,1,2), (0,1,3), (0,2,3), (1,2,3)\n",
        "\n",
        "\n",
        "Expected result:\n",
        ">('Apple', 'Microsoft')  \n",
        "('Apple', 'Amazon')  \n",
        "('Apple', 'Google')  \n",
        "('Apple', 'Adidas')  \n",
        "('Apple', 'Audi')  \n",
        "('Apple', 'Siemens')  \n",
        "('Microsoft', 'Amazon')  \n",
        "('Microsoft', 'Google')  \n",
        "('Microsoft', 'Adidas')  \n",
        "('Microsoft', 'Audi')  \n",
        "('Microsoft', 'Siemens')  \n",
        "('Amazon', 'Google')  \n",
        "('Amazon', 'Adidas')  \n",
        "('Amazon', 'Audi')  \n",
        "('Amazon', 'Siemens')  \n",
        "('Google', 'Adidas')  \n",
        "('Google', 'Audi')   \n",
        "('Google', 'Siemens')  \n",
        "('Adidas', 'Audi')  \n",
        "('Adidas', 'Siemens')  \n",
        "('Audi', 'Siemens')  "
      ],
      "metadata": {
        "id": "nBLUoyBn81rQ"
      }
    },
    {
      "cell_type": "code",
      "source": [
        "import itertools\n",
        "\n",
        "stocks = [\n",
        "    \"Apple\",\n",
        "    \"Microsoft\",\n",
        "    \"Amazon\",\n",
        "    \"Google\",\n",
        "    \"Adidas\",\n",
        "    \"Audi\",\n",
        "    \"Siemens\",\n",
        "]\n",
        "\n",
        "combiner = itertools.combinations(stocks, 2)\n",
        "for x in combiner:\n",
        "    print(x)"
      ],
      "metadata": {
        "id": "_rHR9B82uRIw"
      },
      "execution_count": null,
      "outputs": []
    },
    {
      "cell_type": "markdown",
      "source": [
        "####Exercise 141\n",
        "\n",
        "The following list of companies is given:\n",
        "```python\n",
        "stocks = [\n",
        "    \"Apple\",\n",
        "    \"Microsoft\",\n",
        "    \"Amazon\",\n",
        "    \"Google\",\n",
        "    \"Adidas\",\n",
        "    \"Audi\",\n",
        "    \"Siemens\",\n",
        "]\n",
        "```\n",
        "\n",
        "Using the built-in _itertools_ module and the _combinations\\_with\\_replacement_ class create an iterator to iterate over all two-element combinations with replacement from the stocks list. Print the result to the console as shown below.\n",
        "\n",
        "Tip:  \n",
        "[`class combinations_with_replacement(builtins.object)`](https://docs.python.org/3/library/itertools.html#itertools.combinations_with_replacement)\n",
        ">  combinations_with_replacement(iterable, r)\n",
        ">  \n",
        ">  Return successive r-length combinations of elements in the iterable allowing individual elements to have successive repeats.\n",
        ">  \n",
        ">  combinations_with_replacement('ABC', 2) --> AA AB AC BB BC CC\"\n",
        "\n",
        "\n",
        "Expected result:\n",
        ">```\n",
        "('Apple', 'Apple')\n",
        "('Apple', 'Microsoft')\n",
        "('Apple', 'Amazon')\n",
        "('Apple', 'Google')\n",
        "('Apple', 'Adidas')\n",
        "('Apple', 'Audi')\n",
        "('Apple', 'Siemens')\n",
        "('Microsoft', 'Microsoft')\n",
        "('Microsoft', 'Amazon')\n",
        "('Microsoft', 'Google')\n",
        "('Microsoft', 'Adidas')\n",
        "('Microsoft', 'Audi')\n",
        "('Microsoft', 'Siemens')\n",
        "('Amazon', 'Amazon')\n",
        "('Amazon', 'Google')\n",
        "('Amazon', 'Adidas')\n",
        "('Amazon', 'Audi')\n",
        "('Amazon', 'Siemens')\n",
        "('Google', 'Google')\n",
        "('Google', 'Adidas')\n",
        "('Google', 'Audi')\n",
        "('Google', 'Siemens')\n",
        "('Adidas', 'Adidas')\n",
        "('Adidas', 'Audi')\n",
        "('Adidas', 'Siemens')\n",
        "('Audi', 'Audi')\n",
        "('Audi', 'Siemens')\n",
        "('Siemens', 'Siemens')\n",
        "```\n",
        "\n"
      ],
      "metadata": {
        "id": "TLbNrxHY88MH"
      }
    },
    {
      "cell_type": "code",
      "source": [
        "import itertools\n",
        "\n",
        "stocks = [\n",
        "    \"Apple\",\n",
        "    \"Microsoft\",\n",
        "    \"Amazon\",\n",
        "    \"Google\",\n",
        "    \"Adidas\",\n",
        "    \"Audi\",\n",
        "    \"Siemens\",\n",
        "]\n",
        "\n",
        "combos = itertools.combinations_with_replacement(stocks, 2)\n",
        "\n",
        "for x in combos:\n",
        "    print(x)"
      ],
      "metadata": {
        "id": "Rju7dNs9p8F9"
      },
      "execution_count": null,
      "outputs": []
    },
    {
      "cell_type": "markdown",
      "source": [
        "####Exercise 142\n",
        "\n",
        "Using the built-in _itertools_ module and the _permutations_ class create an iterator that iterates through all permutations of the list:\n",
        "\n",
        "```python\n",
        "names = ['Bob', 'Mark', 'Guido']\n",
        "```\n",
        "\n",
        "Print the result to the console as shown below.\n",
        "\n",
        "Tip:   \n",
        "[`class itertools.permutations(builtins.object)`](https://docs.python.org/3/library/itertools.html#itertools.permutations)\n",
        ">  permutations(iterable, r=None)\n",
        ">  \n",
        ">  Return successive r-length permutations of elements in the iterable.\n",
        ">  \n",
        ">  permutations(range(3), 2) --> (0,1), (0,2), (1,0), (1,2), (2,0), (2,1)\n",
        "\n",
        "\n",
        "Expected result:\n",
        ">```\n",
        "('Bob', 'Mark', 'Guido')\n",
        "('Bob', 'Guido', 'Mark')\n",
        "('Mark', 'Bob', 'Guido')\n",
        "('Mark', 'Guido', 'Bob')\n",
        "('Guido', 'Bob', 'Mark')\n",
        "('Guido', 'Mark', 'Bob')\n",
        "```\n"
      ],
      "metadata": {
        "id": "T0OoOtkG88cP"
      }
    },
    {
      "cell_type": "code",
      "source": [
        "import itertools\n",
        "\n",
        "names = ['Bob', 'Mark', 'Guido']\n",
        "\n",
        "results = itertools.permutations(names)\n",
        "for r in results:\n",
        "    print(r)"
      ],
      "metadata": {
        "id": "OCuHUuMgrFOh"
      },
      "execution_count": null,
      "outputs": []
    },
    {
      "cell_type": "markdown",
      "source": [
        "####Exercise 143\n",
        "\n",
        "Using the built-in _itertools_ module and the _product_ class create an iterator that allows it to iterate through all fields of the chessboard and assign to the _chessboard_ variable.\n",
        "\n",
        "In response, print chessboard variable to the console as shown below.\n",
        "\n",
        "\n",
        "\n",
        "Tip:  \n",
        "[`class itertools.product(builtins.object)`](https://docs.python.org/3/library/itertools.html#itertools.product)\n",
        ">  product(*iterables, repeat=1) --> product object\n",
        ">  \n",
        ">  Cartesian product of input iterables.  Equivalent to nested for-loops.\n",
        ">\n",
        ">   product('ab', range(3)) --> ('a',0) ('a',1) ('a',2) \n",
        "\n",
        "\n",
        "Expected result:\n",
        ">```\n",
        "[\n",
        "'A1', 'A2', 'A3', 'A4', 'A5', 'A6', 'A7', 'A8', \n",
        "'B1', 'B2', 'B3', 'B4', 'B5', 'B6', 'B7', 'B8',\n",
        "'C1', 'C2', 'C3', 'C4', 'C5', 'C6', 'C7', 'C8', \n",
        "'D1', 'D2', 'D3', 'D4', 'D5', 'D6', 'D7', 'D8',\n",
        "'E1', 'E2', 'E3', 'E4', 'E5', 'E6', 'E7', 'E8',\n",
        "'F1', 'F2', 'F3', 'F4', 'F5', 'F6', 'F7', 'F8', \n",
        "'G1', 'G2', 'G3', 'G4', 'G5', 'G6', 'G7', 'G8', \n",
        "'H1', 'H2', 'H3', 'H4', 'H5', 'H6', 'H7', 'H8'\n",
        "]\n",
        "```"
      ],
      "metadata": {
        "id": "agqhsWqN88oU"
      }
    },
    {
      "cell_type": "code",
      "source": [
        "import itertools\n",
        "\n",
        "chessboard = itertools.product('ABCDEFGH',range(1,9))\n",
        "\n",
        "result = [f'{x}{y}' for x,y in chessboard]\n",
        "\n",
        "print(result)\n",
        "\n",
        "# his solution\n",
        "letters = list('ABCDEFGH')\n",
        "numbers = [str(i) for i in range(1, 9)]\n",
        "chessboard = itertools.product(letters, numbers)\n",
        "chessboard = [''.join(fields) for fields in chessboard]\n",
        "print(chessboard)"
      ],
      "metadata": {
        "id": "Uboy2f821juW"
      },
      "execution_count": null,
      "outputs": []
    },
    {
      "cell_type": "markdown",
      "source": [
        "####Exercise 144\n",
        "\n",
        "The following dictionary is given:\n",
        "```python\n",
        "tesla = {\n",
        "    'Close': {\n",
        "        0: 1499.11, 1: 1476.49, 2: 1539.6, 3: 1417.0, 4: 1513.07, 5: 1592.33, 6: 1568.36, 7: 1643.0, 8: 1500.84, 9: 1500.64,\n",
        "    },\n",
        "    'Date': {\n",
        "        0: '2020-07-29', 1: '2020-07-28', 2: '2020-07-27', 3: '2020-07-24', 4: '2020-07-23', 5: '2020-07-22', 6: '2020-07-21', 7: '2020-07-20', 8: '2020-07-17', 9: '2020-07-16',\n",
        "    },\n",
        "    'Volume': {\n",
        "        0: 9426893, 1: 15808700, 2: 16048669, 3: 19396616, 4: 24328504, 5: 14161080, 6: 16157280, 7: 17121367, 8: 9329972, 9: 14300785,\n",
        "    },\n",
        "}\n",
        "```\n",
        "\n",
        "Using the built-in _itertools_ module and the _accumulate_ class create an iterator to iterate through the cumulative value of the volume from the tesla dictionary (the _Volume_ key) and assign to the variable _results_.\n",
        "\n",
        "In response, print the elements of the results iterator to the console as shown below.\n",
        "\n",
        "\n",
        "\n",
        "Tip:  \n",
        "[`class accumulate(builtins.object)`](https://docs.python.org/3/library/itertools.html#itertools.accumulate)\n",
        ">  \n",
        ">  Return series of accumulated sums (or other binary function results).\n",
        "\n",
        "\n",
        "Expected result:\n",
        ">9426893  \n",
        "25235593  \n",
        "41284262  \n",
        "60680878  \n",
        "85009382  \n",
        "99170462  \n",
        "115327742  \n",
        "132449109  \n",
        "141779081  \n",
        "156079866  \n",
        "\n"
      ],
      "metadata": {
        "id": "MhB6ZtLk882r"
      }
    },
    {
      "cell_type": "code",
      "source": [
        "import itertools\n",
        "\n",
        "tesla = {\n",
        "    'Close': {\n",
        "        0: 1499.11, 1: 1476.49, 2: 1539.6, 3: 1417.0, 4: 1513.07,\n",
        "        5: 1592.33, 6: 1568.36, 7: 1643.0, 8: 1500.84, 9: 1500.64,\n",
        "    },\n",
        "    'Date': {\n",
        "        0: '2020-07-29', 1: '2020-07-28', 2: '2020-07-27', 3: '2020-07-24', 4: '2020-07-23',\n",
        "        5: '2020-07-22', 6: '2020-07-21', 7: '2020-07-20', 8: '2020-07-17', 9: '2020-07-16',\n",
        "    },\n",
        "    'Volume': {\n",
        "        0: 9426893, 1: 15808700, 2: 16048669, 3: 19396616, 4: 24328504,\n",
        "        5: 14161080, 6: 16157280, 7: 17121367, 8: 9329972, 9: 14300785,\n",
        "    },\n",
        "}\n",
        "\n",
        "for v in itertools.accumulate(tesla['Volume'].values()):\n",
        "    print(v)"
      ],
      "metadata": {
        "id": "21w3ycrz5xwc"
      },
      "execution_count": null,
      "outputs": []
    },
    {
      "cell_type": "markdown",
      "source": [
        "####Exercise 145\n",
        "\n",
        "Given the same _tesla_ dictionary from Exercise 144.\n",
        "\n",
        "\n",
        "Using the built-in _itertools_ module and the _accumulate_ class create an iterator that allows you to iterate through a series of cumulative _minimum_ of closing price values ​​from this dictionary (the _Close_ key) and assign to the results variable.\n",
        "\n",
        "In response, print all elements of the results iterator to the console as shown below.\n",
        "\n",
        "Tip:  \n",
        "[`class accumulate(builtins.object)`](https://docs.python.org/3/library/itertools.html#itertools.accumulate)\n",
        ">  accumulate(iterable, func=None, *, initial=None)\n",
        ">  \n",
        "  Return series of accumulated sums (or other binary function results).\n",
        "\n",
        "\n",
        "Expected result:\n",
        ">1499.11    \n",
        "1476.49  \n",
        "1476.49  \n",
        "1417.0  \n",
        "1417.0  \n",
        "1417.0  \n",
        "1417.0  \n",
        "1417.0  \n",
        "1417.0  \n",
        "1417.0\n",
        "\n"
      ],
      "metadata": {
        "id": "roH3kbr189FU"
      }
    },
    {
      "cell_type": "code",
      "source": [
        "import itertools\n",
        "\n",
        "tesla = {\n",
        "    'Close': {\n",
        "        0: 1499.11, 1: 1476.49, 2: 1539.6, 3: 1417.0, 4: 1513.07,\n",
        "        5: 1592.33, 6: 1568.36, 7: 1643.0, 8: 1500.84, 9: 1500.64,\n",
        "    },\n",
        "    'Date': {\n",
        "        0: '2020-07-29', 1: '2020-07-28', 2: '2020-07-27', 3: '2020-07-24', 4: '2020-07-23',\n",
        "        5: '2020-07-22', 6: '2020-07-21', 7: '2020-07-20', 8: '2020-07-17', 9: '2020-07-16',\n",
        "    },\n",
        "    'Volume': {\n",
        "        0: 9426893, 1: 15808700, 2: 16048669, 3: 19396616, 4: 24328504,\n",
        "        5: 14161080, 6: 16157280, 7: 17121367, 8: 9329972, 9: 14300785,\n",
        "    },\n",
        "}\n",
        "\n",
        "for m in itertools.accumulate(tesla['Close'].values(), min):\n",
        "    print(m)"
      ],
      "metadata": {
        "id": "JxagxPzw8NeO"
      },
      "execution_count": null,
      "outputs": []
    },
    {
      "cell_type": "markdown",
      "source": [
        "####Exercise 146\n",
        "Given the same _tesla_ dictionary from Exercise 144.\n",
        "\n",
        "Using the built-in _itertools_ module and the _accumulate_ class create an iterator that iterates through the _closing_ price values ​​from this dictionary (the Close key). As a func argument pass a _custom function_ that allows you to calculate the arithmetic mean of two elements and assign to the variable results.\n",
        "\n",
        "In response, print all elements of the results iterator to the console as shown below.\n",
        "\n",
        "Tip:  \n",
        "[`class accumulate(builtins.object)`](https://docs.python.org/3/library/itertools.html#itertools.accumulate)\n",
        ">  accumulate(iterable, func=None, *, initial=None)\n",
        ">  \n",
        "  Return series of accumulated sums (or other binary function results).\n",
        "\n",
        "\n",
        "Expected result:\n",
        ">1499.11  \n",
        "1487.8  \n",
        "1513.6999999999998  \n",
        "1465.35  \n",
        "1489.21  \n",
        "1540.77  \n",
        "1554.565  \n",
        "1598.7825  \n",
        "1549.81125  \n",
        "1525.225625  "
      ],
      "metadata": {
        "id": "mZyLUcdU89SK"
      }
    },
    {
      "cell_type": "code",
      "source": [
        "import itertools\n",
        "\n",
        "tesla = {\n",
        "    'Close': {\n",
        "        0: 1499.11, 1: 1476.49, 2: 1539.6, 3: 1417.0, 4: 1513.07,\n",
        "        5: 1592.33, 6: 1568.36, 7: 1643.0, 8: 1500.84, 9: 1500.64,\n",
        "    },\n",
        "    'Date': {\n",
        "        0: '2020-07-29', 1: '2020-07-28', 2: '2020-07-27', 3: '2020-07-24', 4: '2020-07-23',\n",
        "        5: '2020-07-22', 6: '2020-07-21', 7: '2020-07-20', 8: '2020-07-17', 9: '2020-07-16',\n",
        "    },\n",
        "    'Volume': {\n",
        "        0: 9426893, 1: 15808700, 2: 16048669, 3: 19396616, 4: 24328504,\n",
        "        5: 14161080, 6: 16157280, 7: 17121367, 8: 9329972, 9: 14300785,\n",
        "    },\n",
        "}\n",
        "\n",
        "for m in itertools.accumulate(tesla['Close'].values(), lambda x,y: (x + y) / 2):\n",
        "    print(m)"
      ],
      "metadata": {
        "id": "0pWH8eJY-afa"
      },
      "execution_count": null,
      "outputs": []
    },
    {
      "cell_type": "markdown",
      "source": [
        "####Exercise 147\n",
        "\n",
        "The following lists are given:\n",
        "\n",
        "* stocks_us = ['Apple', 'Microsoft', 'Amazon', 'Google']\n",
        "* stocks_de = ['Adidas', 'Audi', 'Siemens']\n",
        "\n",
        "\n",
        "Using the built-in _itertools_ module and the _chain_ class create an iterator to iterate through all company names in the _stocks_us_ and _stocks_de_ lists and assign to the _results_ variable.\n",
        "\n",
        "In response, print all elements of the results iterator to the console as shown below.\n",
        "\n",
        "\n",
        "\n",
        "Tip:  \n",
        "[`class chain(builtins.object)`](https://docs.python.org/3/library/itertools.html#itertools.chain)\n",
        ">  chain(*iterables) --> chain object\n",
        ">  \n",
        ">  Return a chain object whose .__next__() method returns elements from the\n",
        ">  first iterable until it is exhausted, then elements from the next\n",
        ">  iterable, until all of the iterables are exhausted.\n",
        "\n",
        "\n",
        "Expected result:\n",
        ">Apple  \n",
        "Microsoft  \n",
        "Amazon  \n",
        "Google  \n",
        "Adidas  \n",
        "Audi  \n",
        "Siemens  "
      ],
      "metadata": {
        "id": "rtvwzAW789gL"
      }
    },
    {
      "cell_type": "code",
      "source": [
        "import itertools\n",
        "\n",
        "\n",
        "stocks_us = ['Apple', 'Microsoft', 'Amazon', 'Google']\n",
        "stocks_de = ['Adidas', 'Audi', 'Siemens']\n",
        "\n",
        "results = itertools.chain(stocks_us, stocks_de)\n",
        "\n",
        "for v in results:\n",
        "    print(v)"
      ],
      "metadata": {
        "id": "g2U-Puo-Ae11"
      },
      "execution_count": null,
      "outputs": []
    },
    {
      "cell_type": "markdown",
      "source": [
        "####Exercise 148\n",
        "\n",
        "The following lists are given:\n",
        "* stocks_us = ['Apple', 'Microsoft', 'Amazon', 'Google']\n",
        "* stocks_de = ['Adidas', 'Audi', 'Siemens']\n",
        "\n",
        "\n",
        "Then these lists are combined in one as follows:\n",
        "* stocks = [stocks_us, stocks_de]\n",
        "\n",
        "which gives:\n",
        ">[['Apple', 'Microsoft', 'Amazon', 'Google'], ['Adidas', 'Audi', 'Siemens']]\n",
        "\n",
        "\n",
        "Using the built-in _itertools_ module and the _chain_ class create an iterator that iterates through all company names from the stocks list and assign to the _results_ variable.\n",
        "\n",
        "In response, print all elements of the results iterator to the console as shown below.\n",
        "\n",
        "\n",
        "Tip:  \n",
        "[`itertools.chain.from_iterable`](https://docs.python.org/3/library/itertools.html#itertools.chain.from_iterable)\n",
        ">from_iterable(iterable) method of builtins.type instance\n",
        ">    Alternative chain() constructor taking a single iterable argument that evaluates lazily.\n",
        "\n",
        "\n",
        "Expected result:\n",
        ">Apple  \n",
        "Microsoft  \n",
        "Amazon  \n",
        "Google  \n",
        "Adidas  \n",
        "Audi  \n",
        "Siemens  \n",
        "\n"
      ],
      "metadata": {
        "id": "AHiXhxB389wr"
      }
    },
    {
      "cell_type": "code",
      "source": [
        "import itertools\n",
        "\n",
        "\n",
        "stocks_us = ['Apple', 'Microsoft', 'Amazon', 'Google']\n",
        "stocks_de = ['Adidas', 'Audi', 'Siemens']\n",
        "stocks = [stocks_us, stocks_de]\n",
        "\n",
        "for x in itertools.chain.from_iterable(stocks):\n",
        "    print(x)"
      ],
      "metadata": {
        "id": "lLUgGJMhwlEs"
      },
      "execution_count": null,
      "outputs": []
    },
    {
      "cell_type": "markdown",
      "source": [
        "####Exercise 149\n",
        "\n",
        "Use the same _tesla_ dictionary described in Exercise 144.\n",
        "\n",
        "\n",
        "Using the built-in _itertools_ module and the _islice_ class create an iterator to iterate through every second date from this dictionary (_Date_ key) and assign to the variable _results_.\n",
        "\n",
        "In response, print the elements of the results iterator to the console as shown below.\n",
        "\n",
        "\n",
        "\n",
        "Tip:  \n",
        "[`class islice(builtins.object)`](https://docs.python.org/3/library/itertools.html#itertools.islice)  \n",
        ">  islice(iterable, stop) --> islice object  \n",
        ">  islice(iterable, start, stop[, step]) --> islice object  \n",
        ">     if stop = None then run until iterator is exhausted\n",
        "\n",
        "Expected result:\n",
        ">2020-07-29  \n",
        "2020-07-27  \n",
        "2020-07-23  \n",
        "2020-07-21  \n",
        "2020-07-17  "
      ],
      "metadata": {
        "id": "xcMqIKLb8996"
      }
    },
    {
      "cell_type": "code",
      "source": [
        "import itertools\n",
        "\n",
        "tesla = {\n",
        "    'Close': {\n",
        "        0: 1499.11, 1: 1476.49, 2: 1539.6, 3: 1417.0, 4: 1513.07, 5: 1592.33, 6: 1568.36, 7: 1643.0, 8: 1500.84, 9: 1500.64,\n",
        "    },\n",
        "    'Date': {\n",
        "        0: '2020-07-29', 1: '2020-07-28', 2: '2020-07-27', 3: '2020-07-24', 4: '2020-07-23', 5: '2020-07-22', 6: '2020-07-21', 7: '2020-07-20', 8: '2020-07-17', 9: '2020-07-16',\n",
        "    },\n",
        "    'Volume': {\n",
        "        0: 9426893, 1: 15808700, 2: 16048669, 3: 19396616, 4: 24328504, 5: 14161080, 6: 16157280, 7: 17121367, 8: 9329972, 9: 14300785,\n",
        "    },\n",
        "}\n",
        "\n",
        "dates = tesla['Date'].values()\n",
        "start = 0\n",
        "stop = len(dates)\n",
        "step = 2\n",
        "result = itertools.islice(dates, start, stop, step)\n",
        "\n",
        "for r in result:\n",
        "    print(r)\n",
        "\n",
        "\n",
        "print('his solution', '-' * 80)\n",
        "# his solution\n",
        "results = itertools.islice(tesla['Date'].values(), 0, None, 2)\n",
        "for result in results:\n",
        "    print(result)"
      ],
      "metadata": {
        "id": "IPx9K8MtyFUS"
      },
      "execution_count": null,
      "outputs": []
    },
    {
      "cell_type": "markdown",
      "source": [
        "####Exercise 150\n",
        "\n",
        "Using the built-in modules _string_ and _itertools_ with the _islice_ class create an iterator that iterates over all lowercase letters (_ascii_lowercase_) and assign to the variable _results_.\n",
        "\n",
        "In response, print all elements of the results iterator to the console as shown below.\n",
        "\n",
        "\n",
        "Tip:  \n",
        "[`class islice(builtins.object)`](https://docs.python.org/3/library/itertools.html#itertools.islice)  \n",
        ">  islice(iterable, stop) --> islice object  \n",
        ">  islice(iterable, start, stop[, step]) --> islice object  \n",
        ">     if stop = None then run until iterator is exhausted\n",
        "\n",
        "\n",
        "Expected result:\n",
        ">['a', 'b', 'c', 'd', 'e', 'f', 'g', 'h', 'i', 'j', 'k', 'l', 'm', 'n', 'o', 'p', 'q', 'r', 's', 't', 'u', 'v', 'w', 'x', 'y', 'z']"
      ],
      "metadata": {
        "id": "7a2x1FeU9Ru8"
      }
    },
    {
      "cell_type": "code",
      "source": [
        "import itertools\n",
        "import string\n",
        "\n",
        "results = itertools.islice(string.ascii_lowercase, None)\n",
        "print(list(results))\n",
        "\n",
        "results = itertools.islice(string.ascii_lowercase, 0, None)\n",
        "print(list(results))"
      ],
      "metadata": {
        "id": "H74jPeeGz4jw"
      },
      "execution_count": null,
      "outputs": []
    },
    {
      "cell_type": "markdown",
      "source": [
        "####Exercise 151\n",
        "\n",
        "Using the built-in modules _string_ and _itertools_ with the _islice_ class create an iterator to iterate over every third lowercase letter (_ascii_lowercase_) and assign to the variable _results_.\n",
        "\n",
        "In response, print all elements of the results iterator to the console as shown below.\n",
        "\n",
        "\n",
        "Tip:  \n",
        "[`class islice(builtins.object)`](https://docs.python.org/3/library/itertools.html#itertools.islice)  \n",
        ">  islice(iterable, stop) --> islice object  \n",
        ">  islice(iterable, start, stop[, step]) --> islice object  \n",
        ">     if stop = None then run until iterator is exhausted\n",
        "\n",
        "\n",
        "Expected result:\n",
        ">['a', 'd', 'g', 'j', 'm', 'p', 's', 'v', 'y']\n"
      ],
      "metadata": {
        "id": "pKJae7VB9XFE"
      }
    },
    {
      "cell_type": "code",
      "source": [
        "import itertools\n",
        "import string\n",
        "\n",
        "results = itertools.islice(string.ascii_lowercase, 0, None, 3)\n",
        "print(list(results))"
      ],
      "metadata": {
        "id": "8-TDqMMm2NtK"
      },
      "execution_count": null,
      "outputs": []
    },
    {
      "cell_type": "markdown",
      "source": [
        "####Exercise 152\n",
        "\n",
        "The following list is given:\n",
        "\n",
        ">stocks = [\"Apple\", \"Microsoft\", \"Amazon\", \"Google\",\n",
        "    \"Adidas\", \"Audi\", \"Siemens\",]\n",
        "\n",
        "\n",
        "Create a list called _stocks_flag_ that stores _True_ when the company name starts with the letter 'A', otherwise _False_:\n",
        "\n",
        ">[True, False, True, False, True, True, False]\n",
        "\n",
        "\n",
        "Then, using the built-in _itertools_ module and the _compress_ class create an iterator that allows you to iterate over all companies whose names start with the letter 'A'.\n",
        "\n",
        "In response, print all elements of the _results_ iterator to the console as shown below.\n",
        "\n",
        "\n",
        "\n",
        "Tip:  \n",
        "[`class compress(builtins.object)`](https://docs.python.org/3/library/itertools.html#itertools.compress)\n",
        "> compress(data, selectors)  \n",
        ">  \n",
        ">Return data elements corresponding to true selector elements.  \n",
        ">Forms a shorter iterator from selected data elements using the selectors to choose the data elements.\n",
        "\n",
        "\n",
        "Expected result:\n",
        ">Apple  \n",
        "Amazon  \n",
        "Adidas  \n",
        "Audi  \n",
        "\n"
      ],
      "metadata": {
        "id": "DDZvnmCu9XXs"
      }
    },
    {
      "cell_type": "code",
      "source": [
        "import itertools\n",
        "\n",
        "\n",
        "stocks = ['Apple', 'Microsoft', 'Amazon', 'Google', 'Adidas', 'Audi', 'Siemens']\n",
        "\n",
        "stock_flags = [ stock.startswith('A') for stock in stocks]\n",
        "\n",
        "results = itertools.compress(stocks, stock_flags)\n",
        "for r in results:\n",
        "    print(r)"
      ],
      "metadata": {
        "id": "7UE0tD6H4Oko"
      },
      "execution_count": null,
      "outputs": []
    },
    {
      "cell_type": "markdown",
      "source": [
        "####Exercise 153\n",
        "\n",
        "Use the _tesla_ dictionary from Exercise 144.\n",
        "\n",
        "\n",
        "Using the built-in _itertools_ module and the _filterfalse_ class create an iterator to iterate through the closing prices from this dictionary (the _Close_ key) that are less than 1500 and assign to the variable _results_.\n",
        "\n",
        "In response, print all elements of the results iterator to the console as shown below.\n",
        "\n",
        "\n",
        "Tip:  \n",
        "[`class filterfalse(builtins.object)`](https://docs.python.org/3/library/itertools.html#itertools.filterfalse)\n",
        ">  filterfalse(function, iterable)\n",
        ">  \n",
        ">  Return those items of iterable for which function(item) is false.\n",
        ">  \n",
        ">  If function is None, return the items that are false.\n",
        "\n",
        "\n",
        "Expected result:\n",
        ">1499.11  \n",
        "1476.49  \n",
        "1417.0  "
      ],
      "metadata": {
        "id": "IzxEbkH59Xl2"
      }
    },
    {
      "cell_type": "code",
      "source": [
        "import itertools\n",
        "\n",
        "tesla = {\n",
        "    'Close': {\n",
        "        0: 1499.11, 1: 1476.49, 2: 1539.6, 3: 1417.0, 4: 1513.07, 5: 1592.33, 6: 1568.36, 7: 1643.0, 8: 1500.84, 9: 1500.64,\n",
        "    },\n",
        "    'Date': {\n",
        "        0: '2020-07-29', 1: '2020-07-28', 2: '2020-07-27', 3: '2020-07-24', 4: '2020-07-23', 5: '2020-07-22', 6: '2020-07-21', 7: '2020-07-20', 8: '2020-07-17', 9: '2020-07-16',\n",
        "    },\n",
        "    'Volume': {\n",
        "        0: 9426893, 1: 15808700, 2: 16048669, 3: 19396616, 4: 24328504, 5: 14161080, 6: 16157280, 7: 17121367, 8: 9329972, 9: 14300785,\n",
        "    },\n",
        "}\n",
        "\n",
        "results = itertools.filterfalse(lambda x: x >= 1500, tesla['Close'].values())\n",
        "\n",
        "for r in results:\n",
        "    print(r)"
      ],
      "metadata": {
        "id": "pswPpd6B-H_w"
      },
      "execution_count": null,
      "outputs": []
    },
    {
      "cell_type": "markdown",
      "source": [
        "####Exercise 154\n",
        "\n",
        "Use the _tesla_ dictionary from Exercise 144\n",
        "\n",
        "\n",
        "Using the built-in _itertools_ module and the _takewhile_ class create an iterator to iterate through the closing prices from the tesla dictionary (the _Close_ key) until a price greater than 1600 is found and assign to the _results_ variable.\n",
        "\n",
        "In response, print all elements of the results iterator to the console as shown below.\n",
        "\n",
        "\n",
        "\n",
        "Tip:  \n",
        "class [takewhile(builtins.object)](https://docs.python.org/3/library/itertools.html#itertools.takewhile)\n",
        ">  takewhile(predicate, iterable)\n",
        ">  \n",
        ">  Return successive entries from an iterable as long as the predicate evaluates to true for each entry.\n",
        "\n",
        "\n",
        "Expected result:\n",
        ">1499.11  \n",
        "1476.49  \n",
        "1539.6  \n",
        "1417.0  \n",
        "1513.07  \n",
        "1592.33  \n",
        "1568.36  \n",
        "\n"
      ],
      "metadata": {
        "id": "AIrNMzxi9X0J"
      }
    },
    {
      "cell_type": "code",
      "source": [
        "import itertools\n",
        "\n",
        "tesla = {\n",
        "    'Close': {\n",
        "        0: 1499.11, 1: 1476.49, 2: 1539.6, 3: 1417.0, 4: 1513.07, 5: 1592.33, 6: 1568.36, 7: 1643.0, 8: 1500.84, 9: 1500.64,\n",
        "    },\n",
        "    'Date': {\n",
        "        0: '2020-07-29', 1: '2020-07-28', 2: '2020-07-27', 3: '2020-07-24', 4: '2020-07-23', 5: '2020-07-22', 6: '2020-07-21', 7: '2020-07-20', 8: '2020-07-17', 9: '2020-07-16',\n",
        "    },\n",
        "    'Volume': {\n",
        "        0: 9426893, 1: 15808700, 2: 16048669, 3: 19396616, 4: 24328504, 5: 14161080, 6: 16157280, 7: 17121367, 8: 9329972, 9: 14300785,\n",
        "    },\n",
        "}\n",
        "\n",
        "\n",
        "results = itertools.takewhile(lambda c: c <= 1600, tesla['Close'].values())\n",
        "\n",
        "for r in results:\n",
        "    print(r)"
      ],
      "metadata": {
        "id": "UBJZIP5L4JBh"
      },
      "execution_count": null,
      "outputs": []
    },
    {
      "cell_type": "markdown",
      "source": [
        "####Exercise 155\n",
        "\n",
        "Two data streams are given:\n",
        "* stream1 = [0.5, 9.9, 8.53, 4.6, 5.58, 7.07, None, 4.5, 3.61, 9.31]\n",
        "* stream2 = [3.75, 9.51, 7.32, None, 1.56, 1.56, 0.58, 8.66, 6.01, 7.08]\n",
        "\n",
        "\n",
        "In case of an error in the data, the value _None_ is sent. Create an iterator to iterate sequentially over both stream1 and stream2. If _None_ is encountered in the data stream further values ​​in this stream are ignored (only in a single stream). Assign iterator to the _results_ variable.\n",
        "\n",
        "In response, print all elements of the results iterator to the console.\n",
        "\n",
        "\n",
        "\n",
        "Tip:  \n",
        "class [takewhile(builtins.object)](https://docs.python.org/3/library/itertools.html#itertools.takewhile)\n",
        ">  takewhile(predicate, iterable)\n",
        ">  \n",
        ">  Return successive entries from an iterable as long as the predicate evaluates to true for each entry.\n",
        " \n",
        "class chain(builtins.object)](https://docs.python.org/3/library/itertools.html#itertools.chain)\n",
        ">  chain(*iterables) --> chain object\n",
        ">  \n",
        ">  Return a chain object whose .__next__() method returns elements from the first iterable until it is exhausted, then elements from the next iterable, until all of the iterables are exhausted.\n",
        "\n",
        "built-in [bool(x)](https://docs.python.org/3/library/functions.html#bool)\n",
        "> Single arg function; true if x is boolean\n",
        "\n",
        "Expected result:\n",
        ">0.5  \n",
        "9.9  \n",
        "8.53  \n",
        "4.6  \n",
        "5.58  \n",
        "7.07  \n",
        "3.75  \n",
        "9.51  \n",
        "7.32  \n",
        "\n"
      ],
      "metadata": {
        "id": "nfg6hn1F9YA2"
      }
    },
    {
      "cell_type": "code",
      "source": [
        "import itertools\n",
        "\n",
        "\n",
        "stream1 = [0.5, 9.9, 8.53, 4.6, 5.58, 7.07, None, 4.5, 3.61, 9.31]\n",
        "stream2 = [3.75, 9.51, 7.32, None, 1.56, 1.56, 0.58, 8.66, 6.01, 7.08]\n",
        "\n",
        "x1 = itertools.takewhile(lambda x: x is not None, stream1)\n",
        "x2 = itertools.takewhile(lambda x: x is not None, stream2)\n",
        "\n",
        "for r in itertools.chain(x1, x2):\n",
        "    print(r)\n",
        "\n",
        "# his solution\n",
        "results = itertools.chain(\n",
        "    itertools.takewhile(bool, stream1), \n",
        "    itertools.takewhile(bool, stream2)\n",
        ")\n",
        "for result in results:\n",
        "    print(result)"
      ],
      "metadata": {
        "id": "NH32HfCl4hia"
      },
      "execution_count": null,
      "outputs": []
    },
    {
      "cell_type": "markdown",
      "source": [
        "####Exercise 156\n",
        "\n",
        "Use the _tesla_ dictionary given in Exercise 144.\n",
        "\n",
        "\n",
        "Using the built-in _itertools_ module and the _dropwhile_ class create an iterator that allows iterating through the closing prices from this dictionary (the _Close_ key) from the moment a price greater than 1500 is found and assign to the _results_ variable.\n",
        "\n",
        "In response, print all elements of the results iterator to the console as shown below.\n",
        "\n",
        "\n",
        "Tip:  \n",
        "class [dropwhile(builtins.object)](https://docs.python.org/3/library/itertools.html#itertools.dropwhile)  \n",
        ">  dropwhile(predicate, iterable)\n",
        ">  \n",
        ">Make an iterator that drops elements from the iterable as long as the predicate is true; afterwards, returns every element. Note, the iterator does not produce any output until the predicate first becomes false, so it may have a lengthy start-up time. \n",
        "\n",
        "\n",
        "Expected result:\n",
        ">1539.6  \n",
        "1417.0  \n",
        "1513.07  \n",
        "1592.33  \n",
        "1568.36  \n",
        "1643.0  \n",
        "1500.84  \n",
        "1500.64  \n"
      ],
      "metadata": {
        "id": "YuEa95uG9YPb"
      }
    },
    {
      "cell_type": "code",
      "source": [
        "import itertools\n",
        "\n",
        "tesla = {\n",
        "    'Close': {\n",
        "        0: 1499.11, 1: 1476.49, 2: 1539.6, 3: 1417.0, 4: 1513.07, 5: 1592.33, 6: 1568.36, 7: 1643.0, 8: 1500.84, 9: 1500.64,\n",
        "    },\n",
        "    'Date': {\n",
        "        0: '2020-07-29', 1: '2020-07-28', 2: '2020-07-27', 3: '2020-07-24', 4: '2020-07-23', 5: '2020-07-22', 6: '2020-07-21', 7: '2020-07-20', 8: '2020-07-17', 9: '2020-07-16',\n",
        "    },\n",
        "    'Volume': {\n",
        "        0: 9426893, 1: 15808700, 2: 16048669, 3: 19396616, 4: 24328504, 5: 14161080, 6: 16157280, 7: 17121367, 8: 9329972, 9: 14300785,\n",
        "    },\n",
        "}\n",
        "\n",
        "results = itertools.dropwhile(lambda x: x <= 1500, tesla['Close'].values())\n",
        "\n",
        "for r in results:\n",
        "    print(r)"
      ],
      "metadata": {
        "colab": {
          "base_uri": "https://localhost:8080/"
        },
        "id": "Ie06BHFe-Jdt",
        "outputId": "d57fdae6-b02b-40d5-a8de-cd4983ca2cd9"
      },
      "execution_count": null,
      "outputs": [
        {
          "output_type": "stream",
          "name": "stdout",
          "text": [
            "1539.6\n",
            "1417.0\n",
            "1513.07\n",
            "1592.33\n",
            "1568.36\n",
            "1643.0\n",
            "1500.84\n",
            "1500.64\n"
          ]
        }
      ]
    },
    {
      "cell_type": "markdown",
      "source": [
        "####Exercise 157\n",
        "\n",
        "Two lists are given. The eurusd list includes the EUR/USD exchange rate at the end of each month from the beginning of the year. The revenues list contains the monthly revenues earned by enterprise since the beginning of the year (the number of items in both lists is consistent).\n",
        "\n",
        "* eurusd = [1.18425, 1.17928, 1.17211, 1.17505, 1.16421, 1.15958]\n",
        "* revenues = [20000, 21000, 20500, 18000, 22000, 25000]\n",
        "\n",
        "\n",
        "Using the _built-in zip_ class create an iterator that allows you to iterate simultaneously on corresponding elements of eurusd and revenues lists.\n",
        "\n",
        "In response, print all elements of the results iterator to the console as shown below.\n",
        "\n",
        "Tip:  \n",
        "builtins zip  \n",
        "[class zip(object)](https://docs.python.org/3/library/functions.html#zip)  \n",
        ">  zip(*iterables) --> zip object\n",
        ">  \n",
        ">  Return a zip object whose .__next__() method returns a tuple where\n",
        ">  the i-th element comes from the i-th iterable argument.  The .__next__()\n",
        "method continues until the shortest iterable in the argument sequence\n",
        "is exhausted and then it raises _StopIteration._\n",
        "\n",
        "\n",
        "Expected result:\n",
        ">1.18425 20000  \n",
        "1.17928 21000  \n",
        "1.17211 20500  \n",
        "1.17505 18000  \n",
        "1.16421 22000  \n",
        "1.15958 25000  \n",
        "\n"
      ],
      "metadata": {
        "id": "FHrETA1V9Ybu"
      }
    },
    {
      "cell_type": "code",
      "source": [
        "eurusd = [1.18425, 1.17928, 1.17211, 1.17505, 1.16421, 1.15958]\n",
        "revenues = [20000, 21000, 20500, 18000, 22000, 25000]\n",
        "\n",
        "for rate, revenue in zip(eurusd, revenues):\n",
        "    print(rate, revenue)"
      ],
      "metadata": {
        "id": "45AEgtOdA8rL"
      },
      "execution_count": null,
      "outputs": []
    },
    {
      "cell_type": "markdown",
      "source": [
        "####Exercise 158\n",
        "\n",
        "Two lists are given. The eurusd list includes the EUR/USD exchange rate at the end of each month from the beginning of the year. The revenues list contains the monthly revenues earned by enterprise since the beginning of the year (the number of items in both lists __does not match__).\n",
        "\n",
        "* eurusd = [1.18425, 1.17928, 1.17211, 1.17505]\n",
        "* revenues = [20000, 21000, 20500, 18000, 22000, 25000]\n",
        "\n",
        "\n",
        "Using the _built-in zip_ class create an iterator that allows you to iterate simultaneously on corresponding elements of eurusd and revenues lists.\n",
        "\n",
        "In response, print all elements of the results iterator to the console as shown below.\n",
        "\n",
        "\n",
        "\n",
        "Tip:  \n",
        "builtins zip  \n",
        "[class zip(object)](https://docs.python.org/3/library/functions.html#zip)  \n",
        ">  zip(*iterables) --> zip object\n",
        ">  \n",
        ">  Return a zip object whose .__next__() method returns a tuple where\n",
        ">  the i-th element comes from the i-th iterable argument.  The .__next__()\n",
        "method continues until the shortest iterable in the argument sequence\n",
        "is exhausted and then it raises _StopIteration._\n",
        "\n",
        "\n",
        "Expected result:\n",
        ">1.18425 20000  \n",
        "1.17928 21000  \n",
        "1.17211 20500  \n",
        "1.17505 18000  \n"
      ],
      "metadata": {
        "id": "InsrSGz19Ypc"
      }
    },
    {
      "cell_type": "code",
      "source": [
        "eurusd = [1.18425, 1.17928, 1.17211, 1.17505]\n",
        "revenues = [20000, 21000, 20500, 18000, 22000, 25000]\n",
        "\n",
        "for rate, revenue in zip(eurusd, revenues):\n",
        "    print(rate, revenue)"
      ],
      "metadata": {
        "colab": {
          "base_uri": "https://localhost:8080/"
        },
        "id": "EHZ_DryvBHLe",
        "outputId": "300071ac-0434-4cbb-8bea-a333d410329a"
      },
      "execution_count": null,
      "outputs": [
        {
          "output_type": "stream",
          "name": "stdout",
          "text": [
            "1.18425 20000\n",
            "1.17928 21000\n",
            "1.17211 20500\n",
            "1.17505 18000\n"
          ]
        }
      ]
    },
    {
      "cell_type": "markdown",
      "source": [
        "####Exercise 159\n",
        "\n",
        "Two lists are given. The eurusd list includes the EUR/USD exchange rate at the end of each month from the beginning of the year. The revenues list contains the monthly revenues earned by enterprise since the beginning of the year (the number of items in both lists does not match).\n",
        "\n",
        "* eurusd = [1.18425, 1.17928, 1.17211, 1.17505]\n",
        "* revenues = [20000, 21000, 20500, 18000, 22000, 25000]\n",
        "\n",
        "\n",
        "Using the built-in module _itertools_ and the _zip_longest_ class create an iterator that allows you to iterate over the corresponding elements of the eurusd and revenues lists simultaneously.\n",
        "\n",
        "In response, print the elements of the _results_ iterator to the console as shown below.\n",
        "\n",
        "\n",
        "Tip:  \n",
        "[class zip_longest(builtins.object)](https://docs.python.org/3/library/itertools.html#itertools.zip_longest)\n",
        ">  zip_longest(iter1 [,iter2 [...]], [fillvalue=None]) --> zip_longest object\n",
        ">  \n",
        ">  Return a zip_longest object whose .__next__() method returns a tuple where the i-th element comes from the i-th iterable argument.  \n",
        ">\n",
        ">The .__next__() method continues until the longest iterable in the argument sequence is exhausted and then it raises StopIteration.  \n",
        ">\n",
        ">When the shorter iterables are exhausted, the fillvalue is substituted in their place.  The fillvalu defaults to None or can be specified by a keyword argument.\n",
        "\n",
        "\n",
        "Expected result:\n",
        ">1.18425 20000  \n",
        "1.17928 21000  \n",
        "1.17211 20500  \n",
        "1.17505 18000  \n",
        "None 22000  \n",
        "None 25000  \n"
      ],
      "metadata": {
        "id": "p1IWtFNd9Y8I"
      }
    },
    {
      "cell_type": "code",
      "source": [
        "import itertools\n",
        "\n",
        "\n",
        "eurusd = [1.18425, 1.17928, 1.17211, 1.17505]\n",
        "revenues = [20000, 21000, 20500, 18000, 22000, 25000]\n",
        "\n",
        "results = itertools.zip_longest(eurusd, revenues)\n",
        "\n",
        "for rate, revenue in results:\n",
        "    print(rate, revenue)"
      ],
      "metadata": {
        "id": "OeJFrSjA-v9_"
      },
      "execution_count": null,
      "outputs": []
    },
    {
      "cell_type": "markdown",
      "source": [
        "####Exercise 160\n",
        "\n",
        "Two lists are given. The eurusd list includes the EUR/USD exchange rate at the end of each month from the beginning of the year. The revenues list contains the monthly revenues earned by enterprise since the beginning of the year (the number of items in both lists does not match).\n",
        "\n",
        "* eurusd = [1.18425, 1.17928, 1.17211, 1.17505]\n",
        "* revenues = [20000, 21000, 20500, 18000, 22000, 25000]\n",
        "\n",
        "\n",
        "Using the built-in module _itertools_ and the _zip_longest_ class create an iterator that allows you to iterate over the corresponding elements of the eurusd and revenues lists simultaneously. In case the eurusd list is exhausted put the __default value 1.17__.\n",
        "\n",
        "In response, print the elements of the results iterator to the console as shown below.\n",
        "\n",
        "\n",
        "\n",
        "Tip:  \n",
        "[class zip_longest(builtins.object)](https://docs.python.org/3/library/itertools.html#itertools.zip_longest)\n",
        ">  zip_longest(iter1 [,iter2 [...]], [fillvalue=None]) --> zip_longest object\n",
        ">  \n",
        ">  Return a zip_longest object whose .__next__() method returns a tuple where the i-th element comes from the i-th iterable argument.  \n",
        ">\n",
        ">The .__next__() method continues until the longest iterable in the argument sequence is exhausted and then it raises StopIteration.  \n",
        ">\n",
        ">When the shorter iterables are exhausted, the fillvalue is substituted in their place.  The fillvalu defaults to None or can be specified by a keyword argument.\n",
        "\n",
        "\n",
        "Expected result:\n",
        ">1.18425 20000  \n",
        "1.17928 21000  \n",
        "1.17211 20500  \n",
        "1.17505 18000  \n",
        "1.17 22000  \n",
        "1.17 25000  "
      ],
      "metadata": {
        "id": "1qf6CPpF9Znu"
      }
    },
    {
      "cell_type": "code",
      "source": [
        "import itertools\n",
        "\n",
        "\n",
        "eurusd = [1.18425, 1.17928, 1.17211, 1.17505]\n",
        "revenues = [20000, 21000, 20500, 18000, 22000, 25000]\n",
        "\n",
        "results = itertools.zip_longest(eurusd, revenues, fillvalue=1.17)\n",
        "\n",
        "for rate, revenue in results:\n",
        "    print(rate, revenue)"
      ],
      "metadata": {
        "id": "J8F7cNx6BOhJ"
      },
      "execution_count": null,
      "outputs": []
    },
    {
      "cell_type": "markdown",
      "source": [
        "####Exercise 161\n",
        "\n",
        "The following list is given:\n",
        "* values = [(44, 7), (57, 6), (10, 3)]\n",
        "\n",
        "Using the built-in _itertools_ module and the _starmap_ class create an iterator that allows iterating __over the remainder values__ of dividing the first value of each tuple by the second.\n",
        "\n",
        "In response, print all elements of the _results_ iterator to the console as shown below.\n",
        "\n",
        "Tip: \n",
        "\n",
        "[class starmap(builtins.object)](https://docs.python.org/3/library/itertools.html#itertools.starmap)\n",
        ">  starmap(function, iterable)\n",
        ">  \n",
        ">  Return an iterator whose values are returned from the function evaluated with an argument tuple taken from the given sequence.\n",
        "\n",
        "\n",
        "Expected result:\n",
        ">2  \n",
        "3  \n",
        "1  "
      ],
      "metadata": {
        "id": "6LCkFQpT9vkX"
      }
    },
    {
      "cell_type": "code",
      "source": [
        "import itertools\n",
        "\n",
        "values = [(44, 7), (57, 6), (10, 3)]\n",
        "\n",
        "results = itertools.starmap(lambda x, y: x % y, values)\n",
        "\n",
        "for r in results:\n",
        "    print(r)"
      ],
      "metadata": {
        "colab": {
          "base_uri": "https://localhost:8080/"
        },
        "id": "kQ0sAHuXCkj4",
        "outputId": "50d97a8c-091c-4dc5-af7b-4ad8acb385ec"
      },
      "execution_count": null,
      "outputs": [
        {
          "output_type": "stream",
          "name": "stdout",
          "text": [
            "2\n",
            "3\n",
            "1\n"
          ]
        }
      ]
    },
    {
      "cell_type": "markdown",
      "source": [
        "####Exercise 162\n",
        "\n",
        "Use the _tesla_ dictionary from Exercise 144.\n",
        "\n",
        "\n",
        "Using the built-in _itertools_ module and the _starmap_ class, create an iterator that allows you to iterate over the values resulting from __dividing the closing price by Volume__. For calculations, convert Volume to thousands (divide by 1000). Round the result to 6 decimal places.\n",
        "\n",
        "In response, print all elements of the _results_ iterator to the console as shown below.\n",
        "\n",
        "\n",
        "\n",
        "Tip: \n",
        "\n",
        "[class starmap(builtins.object)](https://docs.python.org/3/library/itertools.html#itertools.starmap)\n",
        ">  starmap(function, iterable)\n",
        ">  \n",
        ">  Return an iterator whose values are returned from the function evaluated with an argument tuple taken from the given sequence.\n",
        "\n",
        "\n",
        "Expected result:\n",
        ">0.159025  \n",
        "0.093397  \n",
        "0.095933  \n",
        "0.073054  \n",
        "0.062193  \n",
        "0.112444  \n",
        "0.097068  \n",
        "0.095962  \n",
        "0.160862  \n",
        "0.104934  "
      ],
      "metadata": {
        "id": "g9ZoeHuE9v2U"
      }
    },
    {
      "cell_type": "code",
      "source": [
        "import itertools\n",
        "\n",
        "tesla = {\n",
        "    'Close': {\n",
        "        0: 1499.11, 1: 1476.49, 2: 1539.6, 3: 1417.0, 4: 1513.07, 5: 1592.33, 6: 1568.36, 7: 1643.0, 8: 1500.84, 9: 1500.64,\n",
        "    },\n",
        "    'Date': {\n",
        "        0: '2020-07-29', 1: '2020-07-28', 2: '2020-07-27', 3: '2020-07-24', 4: '2020-07-23', 5: '2020-07-22', 6: '2020-07-21', 7: '2020-07-20', 8: '2020-07-17', 9: '2020-07-16',\n",
        "    },\n",
        "    'Volume': {\n",
        "        0: 9426893, 1: 15808700, 2: 16048669, 3: 19396616, 4: 24328504, 5: 14161080, 6: 16157280, 7: 17121367, 8: 9329972, 9: 14300785,\n",
        "    },\n",
        "}\n",
        "\n",
        "results = itertools.starmap(lambda c, v: round(c / (v / 1000), 6), zip(tesla['Close'].values(), tesla['Volume'].values()))\n",
        "\n",
        "for r in results:\n",
        "    print(r)"
      ],
      "metadata": {
        "colab": {
          "base_uri": "https://localhost:8080/"
        },
        "id": "UidD5VnBD9dr",
        "outputId": "a682afab-6b94-47a8-98e2-8c003e43e044"
      },
      "execution_count": null,
      "outputs": [
        {
          "output_type": "stream",
          "name": "stdout",
          "text": [
            "0.159025\n",
            "0.093397\n",
            "0.095933\n",
            "0.073054\n",
            "0.062193\n",
            "0.112444\n",
            "0.097068\n",
            "0.095962\n",
            "0.160862\n",
            "0.104934\n"
          ]
        }
      ]
    },
    {
      "cell_type": "markdown",
      "source": [
        "####Exercise 163\n",
        "\n",
        "The following list is given:\n",
        "* data = [1, 5, 3, 4, 6, 9, 3]\n",
        "\n",
        "\n",
        "Using the built-in _itertools_ module and the _groupby_ class, try to group the data into even numbers (key _'even'_) and odd numbers (key _'odd'_) __without__ sorting the data first.\n",
        "\n",
        "In response, print the keys and the group of numbers assigned to the appropriate key to the console as shown below.\n",
        "\n",
        "Note that without sorting the grouping doesn't work as it should.\n",
        "\n",
        "\n",
        "Tip:  \n",
        "[class groupby(builtins.object)](https://docs.python.org/3/library/itertools.html#itertools.groupby)\n",
        ">  groupby(iterable, key=None)\n",
        ">  \n",
        ">  make an iterator that returns consecutive keys and groups from the iterable.\n",
        ">Elements to divide into groups according to the key function.\n",
        ">  \n",
        ">  \n",
        ">The operation of groupby() is similar to the `uniq` filter in Unix. It generates a break or new group every time the value of the key function changes (**which is why it is usually necessary to have sorted the data using the same key function**). That _behavior differs from SQL’s GROUP BY_ which aggregates common elements regardless of their input order.\n",
        "\n",
        "\n",
        "Expected result:\n",
        ">odd -> [1, 5, 3]  \n",
        "even -> [4, 6]  \n",
        "odd -> [9, 3]  \n"
      ],
      "metadata": {
        "id": "sfhZqJzC9wVS"
      }
    },
    {
      "cell_type": "code",
      "source": [
        "import itertools\n",
        "\n",
        "\n",
        "data = [1, 5, 3, 4, 6, 9, 3]\n",
        "\n",
        "results = itertools.groupby(data, key= lambda x: x %2 == 0)\n",
        "\n",
        "for r in results:\n",
        "    # one way to simulate ternary operator\n",
        "    label = ('odd', 'even')[r[0]]\n",
        "    print(f'{label} -> {list(r[1])}')\n",
        "\n",
        "# his solution assign key strings in the lambda\n",
        "# notice the if-statement syntax\n",
        "grouped_data = itertools.groupby(\n",
        "    data, \n",
        "    key=lambda x: 'even' if x % 2 == 0 else 'odd'\n",
        ")\n",
        " \n",
        "for key, group in grouped_data:\n",
        "    print(f'{key} -> {list(group)}')"
      ],
      "metadata": {
        "colab": {
          "base_uri": "https://localhost:8080/"
        },
        "id": "aIdiSVU1sKSq",
        "outputId": "9c415aec-6eed-43ac-9f99-abdabfca526a"
      },
      "execution_count": null,
      "outputs": [
        {
          "output_type": "stream",
          "name": "stdout",
          "text": [
            "even -> [1, 5, 3]\n",
            "odd -> [4, 6]\n",
            "even -> [9, 3]\n"
          ]
        }
      ]
    },
    {
      "cell_type": "markdown",
      "source": [
        "####Exercise 164\n",
        "\n",
        "The following list is given:\n",
        "* data = [1, 5, 3, 4, 6, 9, 3]\n",
        "\n",
        "\n",
        "Using the built-in _itertools_ module and the _groupby_ class, group the data (properly **sort the data before grouping**) into even numbers (key _'even'_) and odd numbers (key _'odd'_).\n",
        "\n",
        "In response, print the keys and the group of numbers assigned to the appropriate key as shown below.\n",
        "\n",
        "\n",
        "Tip:  \n",
        "[class groupby(builtins.object)](https://docs.python.org/3/library/itertools.html#itertools.groupby)\n",
        ">  groupby(iterable, key=None)\n",
        ">  \n",
        ">  make an iterator that returns consecutive keys and groups from the iterable.\n",
        ">Elements to divide into groups according to the key function.\n",
        "\n",
        "\n",
        "Expected result:\n",
        ">even -> [4, 6]  \n",
        "odd -> [1, 5, 3, 9, 3]"
      ],
      "metadata": {
        "id": "Os2AwU6LrQYu"
      }
    },
    {
      "cell_type": "code",
      "source": [
        "import itertools\n",
        "\n",
        "\n",
        "data = [1, 5, 3, 4, 6, 9, 3]\n",
        "\n",
        "fx = lambda x : 'even' if x % 2 == 0 else 'odd'\n",
        "\n",
        "sorted_data = sorted(data, key=fx)\n",
        "grouped_data = itertools.groupby( sorted_data, key=fx )\n",
        "\n",
        "for r in grouped_data:\n",
        "    print(f'{r[0]} -> {list(r[1])}')"
      ],
      "metadata": {
        "colab": {
          "base_uri": "https://localhost:8080/"
        },
        "id": "8dwIXJOUuQ-5",
        "outputId": "f68aabab-42d0-4ab4-83df-d32b1e234ff8"
      },
      "execution_count": null,
      "outputs": [
        {
          "output_type": "stream",
          "name": "stdout",
          "text": [
            "even -> [4, 6]\n",
            "odd -> [1, 5, 3, 9, 3]\n"
          ]
        }
      ]
    },
    {
      "cell_type": "markdown",
      "source": [
        "####Exercise 165\n",
        "\n",
        "The following list is given:\n",
        "\n",
        "* fnames = [   \n",
        "    \"01_image.jpg\",  \n",
        "    \"02_image.png\",  \n",
        "    \"03_image.jpg\",  \n",
        "    \"04_image.jpg\",  \n",
        "    \"05_image.jpg\",  \n",
        "    \"06_image.png\",  \n",
        "    \"07_image.jpg\",  \n",
        "    \"08_image.jpg\",  \n",
        "   ]\n",
        "\n",
        "\n",
        "Using the built-in module _itertools_ and the _groupby_ class, group the names of files (properly __sort the data before grouping__) into files with the extension `jpg` and `png`. Use extensions as a grouping keys.\n",
        "\n",
        "In response, print the keys and the group of names assigned to the appropriate key as shown below.\n",
        "\n",
        "\n",
        "\n",
        "Tip:  \n",
        "[class groupby(builtins.object)](https://docs.python.org/3/library/itertools.html#itertools.groupby)\n",
        ">  groupby(iterable, key=None)\n",
        ">  \n",
        ">  make an iterator that returns consecutive keys and groups from the iterable.\n",
        ">Elements to divide into groups according to the key function.\n",
        "\n",
        "\n",
        "Expected result:\n",
        ">jpg -> ['01_image.jpg', '03_image.jpg', '04_image.jpg', '05_image.jpg', '07_image.jpg', '08_image.jpg']  \n",
        "png -> ['02_image.png', '06_image.png']"
      ],
      "metadata": {
        "id": "jM6GFHXc9wlc"
      }
    },
    {
      "cell_type": "code",
      "source": [
        "import itertools\n",
        "\n",
        "\n",
        "fnames = [\n",
        "    \"01_image.jpg\",\n",
        "    \"02_image.png\",\n",
        "    \"03_image.jpg\",\n",
        "    \"04_image.jpg\",\n",
        "    \"05_image.jpg\",\n",
        "    \"06_image.png\",\n",
        "    \"07_image.jpg\",\n",
        "    \"08_image.jpg\",\n",
        "]\n",
        "\n",
        "fx = lambda x : 'jpg' if x.endswith('jpg') else 'png'\n",
        "\n",
        "sorted_data = sorted(fnames, key=fx)\n",
        "\n",
        "grouped_data = itertools.groupby(sorted_data, key=fx)\n",
        "\n",
        "for r in grouped_data:\n",
        "    print(f'{r[0]} -> {list(r[1])}')"
      ],
      "metadata": {
        "colab": {
          "base_uri": "https://localhost:8080/"
        },
        "id": "7b6zyCwnuI_X",
        "outputId": "6d4296cb-b722-4ce8-a653-e4a8d4e31609"
      },
      "execution_count": null,
      "outputs": [
        {
          "output_type": "stream",
          "name": "stdout",
          "text": [
            "jpg -> ['01_image.jpg', '03_image.jpg', '04_image.jpg', '05_image.jpg', '07_image.jpg', '08_image.jpg']\n",
            "png -> ['02_image.png', '06_image.png']\n"
          ]
        }
      ]
    },
    {
      "cell_type": "markdown",
      "source": [
        "####Exercise 166\n",
        "\n",
        "The following list is given:\n",
        "* fnames = [  \n",
        "    \"01_image.jpg\",  \n",
        "    \"02_image.png\",  \n",
        "    \"03_image.jpg\",  \n",
        "    \"04_image.jpg\",  \n",
        "    \"05_image.jpg\",  \n",
        "    \"06_image.png\",  \n",
        "    \"07_image.jpg\",  \n",
        "    \"08_image.png\",  \n",
        "    \"09_image.svg\",  \n",
        "    \"10_image.svg\",  \n",
        "    \"11_image.jpeg\",  \n",
        "    \"12_image.jpeg\",    \n",
        "]  \n",
        "\n",
        "\n",
        "Using the built-in module _itertools_ and the _groupby_ class, group the names of the files \n",
        "by extension (properly **sort the data before grouping**). Use extensions as grouping keys.\n",
        "\n",
        "In response, print the keys and the number of files associated with the appropriate key. Note that this time we have four different file extensions.\n",
        "\n",
        "\n",
        "\n",
        "Tip:  \n",
        "[class groupby(builtins.object)](https://docs.python.org/3/library/itertools.html#itertools.groupby)\n",
        ">  groupby(iterable, key=None)\n",
        ">  \n",
        ">  make an iterator that returns consecutive keys and groups from the iterable.\n",
        ">Elements to divide into groups according to the key function.\n",
        "\n",
        "\n",
        "Expected result:\n",
        ">jpeg -> 2  \n",
        "jpg -> 5  \n",
        "png -> 3  \n",
        "svg -> 2  "
      ],
      "metadata": {
        "id": "mh0PTi-t9wyv"
      }
    },
    {
      "cell_type": "code",
      "source": [
        "import itertools\n",
        "\n",
        "\n",
        "fnames = [\n",
        "    \"01_image.jpg\",\n",
        "    \"02_image.png\",\n",
        "    \"03_image.jpg\",\n",
        "    \"04_image.jpg\",\n",
        "    \"05_image.jpg\",\n",
        "    \"06_image.png\",\n",
        "    \"07_image.jpg\",\n",
        "    \"08_image.png\",\n",
        "    \"09_image.svg\",\n",
        "    \"10_image.svg\",\n",
        "    \"11_image.jpeg\",\n",
        "    \"12_image.jpeg\",\n",
        "]\n",
        "\n",
        "# this demonstrates you to form a series of on-line if-statements\n",
        "fx = key= lambda x: 'jpg' if x.endswith('jpg') else 'jpeg' if x.endswith('jpeg') else 'png' if x.endswith('png') else 'svg'\n",
        "\n",
        "sorted_data = sorted(fnames, key=fx)\n",
        "\n",
        "result = itertools.groupby(sorted_data, key=fx)\n",
        "\n",
        "for r in result:\n",
        "    print(f'{r[0]} -> {len(list(r[1]))}')\n",
        "\n",
        "\n",
        "# his solution is more flexible, and spiffy\n",
        "func = lambda fname: fname.split(\".\")[-1]\n",
        "sorted_data = sorted(fnames, key=func)\n",
        "grouped_data = itertools.groupby(sorted_data, key=func)\n",
        " \n",
        "for key, group in grouped_data:\n",
        "    print(f\"{key} -> {len(list(group))}\")"
      ],
      "metadata": {
        "colab": {
          "base_uri": "https://localhost:8080/"
        },
        "id": "2hj-MKVeuJyo",
        "outputId": "94074398-9b39-433f-95cc-0fe00c56c77d"
      },
      "execution_count": null,
      "outputs": [
        {
          "output_type": "stream",
          "name": "stdout",
          "text": [
            "jpeg -> 2\n",
            "jpg -> 5\n",
            "png -> 3\n",
            "svg -> 2\n"
          ]
        }
      ]
    },
    {
      "cell_type": "markdown",
      "source": [
        "####Exercise 167\n",
        "\n",
        "The following list is given:\n",
        "* fnames = [  \n",
        "    \"01_image.jpg\",  \n",
        "    \"02_image.png\",  \n",
        "    \"03_image.jpg\",  \n",
        "    \"04_image.jpg\",  \n",
        "    \"05_image.jpg\",  \n",
        "    \"06_image.png\",  \n",
        "    \"07_image.jpg\",  \n",
        "    \"08_image.png\",  \n",
        "    \"09_image.svg\",  \n",
        "    \"10_image.svg\",  \n",
        "    \"11_image.jpeg\",  \n",
        "    \"12_image.jpeg\",  \n",
        "]  \n",
        "\n",
        "\n",
        "Using the built-in module _itertools_ and the _groupby_ class, group the names of the files by extension (properly **sort the data before grouping**). Use extensions as grouping keys.\n",
        "\n",
        "In response, print the keys and the _percentage share_ of the extension in the entire _fnames_ list to the console as shown below.\n",
        "\n",
        "Expected result:\n",
        ">jpeg -> 16.67%  \n",
        "jpg -> 41.67%  \n",
        "png -> 25.0%  \n",
        "svg -> 16.67%  "
      ],
      "metadata": {
        "id": "3f3HS5YR9xCl"
      }
    },
    {
      "cell_type": "code",
      "source": [
        "import itertools\n",
        "\n",
        "\n",
        "fnames = [\n",
        "    \"01_image.jpg\",\n",
        "    \"02_image.png\",\n",
        "    \"03_image.jpg\",\n",
        "    \"04_image.jpg\",\n",
        "    \"05_image.jpg\",\n",
        "    \"06_image.png\",\n",
        "    \"07_image.jpg\",\n",
        "    \"08_image.png\",\n",
        "    \"09_image.svg\",\n",
        "    \"10_image.svg\",\n",
        "    \"11_image.jpeg\",\n",
        "    \"12_image.jpeg\",\n",
        "]\n",
        "\n",
        "fx = lambda x : x.split('.')[-1]\n",
        "\n",
        "sorted_data = sorted(fnames, key=fx)\n",
        "grouped_data = itertools.groupby(sorted_data, key=fx)\n",
        "num_fnames = len(fnames)\n",
        "\n",
        "for r in grouped_data:\n",
        "    print(f'{r[0]} -> {round(100 * len(list(r[1]))/num_fnames,2)}%')\n"
      ],
      "metadata": {
        "colab": {
          "base_uri": "https://localhost:8080/"
        },
        "id": "Q4fdbMX5uKmt",
        "outputId": "4e564795-de4e-445c-b2df-f904d5601de0"
      },
      "execution_count": null,
      "outputs": [
        {
          "output_type": "stream",
          "name": "stdout",
          "text": [
            "jpeg -> 16.67%\n",
            "jpg -> 41.67%\n",
            "png -> 25.0%\n",
            "svg -> 16.67%\n"
          ]
        }
      ]
    },
    {
      "cell_type": "markdown",
      "source": [
        "####Exercise 168\n",
        "\n",
        "The following list is given:\n",
        "* data = [  \n",
        "    {\"user\": \"0032\", \"level\": 70},  \n",
        "    {\"user\": \"0034\", \"level\": 74},  \n",
        "    {\"user\": \"0233\", \"level\": 71},  \n",
        "    {\"user\": \"0532\", \"level\": 70},  \n",
        "    {\"user\": \"0634\", \"level\": 74},  \n",
        "    {\"user\": \"0245\", \"level\": 70},  \n",
        "    {\"user\": \"0235\", \"level\": 70},  \n",
        "    {\"user\": \"0255\", \"level\": 71},  \n",
        "]  \n",
        "\n",
        "\n",
        "Using the built-in module _itertools_ and the _groupby_ class, group users by _'level'_ values.\n",
        "\n",
        "In response, print the keys and _user groups_ belonging to the appropriate key as shown below.\n",
        "\n",
        "\n",
        "\n",
        "Tip:  \n",
        "[class groupby(builtins.object)](https://docs.python.org/3/library/itertools.html#itertools.groupby)\n",
        ">  groupby(iterable, key=None)\n",
        ">  \n",
        ">  make an iterator that returns consecutive keys and groups from the iterable.\n",
        ">Elements to divide into groups according to the key function.\n",
        ">  \n",
        ">  \n",
        ">The operation of groupby() is similar to the `uniq` filter in Unix. It generates a break or new group every time the value of the key function changes (**which is why it is usually necessary to have sorted the data using the same key function**). That _behavior differs from SQL’s GROUP BY_ which aggregates common elements regardless of their input order.\n",
        "\n",
        "\n",
        "Expected result:\n",
        ">70 -> [{'user': '0032', 'level': 70}, {'user': '0532', 'level': 70}, {'user': '0245', 'level': 70}, {'user': '0235', 'level': 70}]  \n",
        "71 -> [{'user': '0233', 'level': 71}, {'user': '0255', 'level': 71}]  \n",
        "74 -> [{'user': '0034', 'level': 74}, {'user': '0634', 'level': 74}]  \n"
      ],
      "metadata": {
        "id": "71iswxs-9xW7"
      }
    },
    {
      "cell_type": "code",
      "source": [
        "import itertools\n",
        "\n",
        "\n",
        "data = [\n",
        "    {\"user\": \"0032\", \"level\": 70},\n",
        "    {\"user\": \"0034\", \"level\": 74},\n",
        "    {\"user\": \"0233\", \"level\": 71},\n",
        "    {\"user\": \"0532\", \"level\": 70},\n",
        "    {\"user\": \"0634\", \"level\": 74},\n",
        "    {\"user\": \"0245\", \"level\": 70},\n",
        "    {\"user\": \"0235\", \"level\": 70},\n",
        "    {\"user\": \"0255\", \"level\": 71},\n",
        "]\n",
        "\n",
        "fx = lambda x : x['level']\n",
        "\n",
        "sorted_data = sorted(data, key=fx)\n",
        "grouped_by = itertools.groupby(sorted_data, fx)\n",
        "\n",
        "for r in grouped_by:\n",
        "    print(f'{r[0]} -> {list(r[1])}')"
      ],
      "metadata": {
        "colab": {
          "base_uri": "https://localhost:8080/"
        },
        "id": "nfdm6b_WuLj8",
        "outputId": "44bd2254-5268-43a8-8875-49c385d36314"
      },
      "execution_count": null,
      "outputs": [
        {
          "output_type": "stream",
          "name": "stdout",
          "text": [
            "70 -> [{'user': '0032', 'level': 70}, {'user': '0532', 'level': 70}, {'user': '0245', 'level': 70}, {'user': '0235', 'level': 70}]\n",
            "71 -> [{'user': '0233', 'level': 71}, {'user': '0255', 'level': 71}]\n",
            "74 -> [{'user': '0034', 'level': 74}, {'user': '0634', 'level': 74}]\n"
          ]
        }
      ]
    },
    {
      "cell_type": "markdown",
      "source": [
        "####Exercise 169\n",
        "\n",
        "The following list is given:\n",
        "* data = [  \n",
        "    {\"user\": \"0032\", \"level\": 70},  \n",
        "    {\"user\": \"0034\", \"level\": 74},  \n",
        "    {\"user\": \"0233\", \"level\": 71},  \n",
        "    {\"user\": \"0532\", \"level\": 70},  \n",
        "    {\"user\": \"0634\", \"level\": 74},  \n",
        "    {\"user\": \"0245\", \"level\": 70},  \n",
        "    {\"user\": \"0235\", \"level\": 70},  \n",
        "    {\"user\": \"0255\", \"level\": 71},  \n",
        "]  \n",
        "\n",
        "\n",
        "Using the built-in module _itertools_ and the _groupby_ class, group users by _'level'_ values.\n",
        "\n",
        "In response, print the keys and _user id groups_ belonging to the appropriate key as shown below.\n",
        "\n",
        "\n",
        "Expected result:\n",
        ">70 -> ['0032', '0532', '0245', '0235']  \n",
        "71 -> ['0233', '0255']  \n",
        "74 -> ['0034', '0634']  "
      ],
      "metadata": {
        "id": "YGpY6_5x9xnv"
      }
    },
    {
      "cell_type": "code",
      "source": [
        "import itertools\n",
        "\n",
        "\n",
        "data = [\n",
        "    {\"user\": \"0032\", \"level\": 70},\n",
        "    {\"user\": \"0034\", \"level\": 74},\n",
        "    {\"user\": \"0233\", \"level\": 71},\n",
        "    {\"user\": \"0532\", \"level\": 70},\n",
        "    {\"user\": \"0634\", \"level\": 74},\n",
        "    {\"user\": \"0245\", \"level\": 70},\n",
        "    {\"user\": \"0235\", \"level\": 70},\n",
        "    {\"user\": \"0255\", \"level\": 71},\n",
        "]\n",
        "\n",
        "fx = lambda x : x['level']\n",
        "\n",
        "sorted_data = sorted(data, key=fx)\n",
        "grouped_by = itertools.groupby(sorted_data, fx)\n",
        "\n",
        "\n",
        "for key,group in itertools.groupby(sorted_data, fx):\n",
        "    userids = [ g['user'] for g in group]\n",
        "    print(f'{key} -> {userids}')"
      ],
      "metadata": {
        "colab": {
          "base_uri": "https://localhost:8080/"
        },
        "id": "-QUFeOdKuMeH",
        "outputId": "f9a34fd1-e3a9-4b60-ba12-7e8aef965b48"
      },
      "execution_count": null,
      "outputs": [
        {
          "output_type": "stream",
          "name": "stdout",
          "text": [
            "70 -> ['0032', '0532', '0245', '0235']\n",
            "71 -> ['0233', '0255']\n",
            "74 -> ['0034', '0634']\n"
          ]
        }
      ]
    },
    {
      "cell_type": "markdown",
      "source": [
        "####Exercise 170\n",
        "Exercise 35\n",
        "Using the built-in _itertools_ module and the _product_ class create an iterator that allows you to iterate over the following elements:\n",
        "\n",
        "Elements created by _product_  \n",
        "* ('a', 1) ('a', 2) ('a', 3)  ('b', 1) ('b', 2) ('b', 3) ('c', 1) ('c', 2)   ('c', 3)  \n",
        "\n",
        "\n",
        "and assign to the _iterator_ variable. Then, using the _tee_ class create two iterators from the iterator and assign it to the variables _iter1_ and _iter2_ respectively.\n",
        "\n",
        "In response, print the elements of the iterators: iter1 and iter2 to the console as a list as shown below.\n",
        "\n",
        "\n",
        "\n",
        "Tip:  \n",
        "[class product(builtins.object)](https://docs.python.org/3/library/itertools.html#itertools.product)  \n",
        ">  product(*iterables, repeat=1) --> product object  \n",
        "> \n",
        ">  Cartesian product of input iterables.  Equivalent to nested for-loops.\n",
        "\n",
        " \n",
        "\n",
        "\n",
        "\n",
        "\n",
        "Expected result:\n",
        ">[('a', 1), ('a', 2), ('a', 3), ('b', 1), ('b', 2), ('b', 3), ('c', 1), ('c', 2), ('c', 3)]  \n",
        "[('a', 1), ('a', 2), ('a', 3), ('b', 1), ('b', 2), ('b', 3), ('c', 1), ('c', 2), ('c', 3)]"
      ],
      "metadata": {
        "id": "QO8Y9WZR8RPM"
      }
    },
    {
      "cell_type": "code",
      "source": [
        "import itertools\n",
        "\n",
        "iterator = itertools.product('abc', [1,2,3])\n",
        "\n",
        "\n",
        "iter1, iter2 = itertools.tee(iterator)\n",
        "\n",
        "print(list(iter1))\n",
        "\n",
        "print(list(iter2))"
      ],
      "metadata": {
        "colab": {
          "base_uri": "https://localhost:8080/"
        },
        "id": "let1m7ybuNVG",
        "outputId": "e755968f-be78-4039-c0e0-889abf20b75c"
      },
      "execution_count": null,
      "outputs": [
        {
          "output_type": "stream",
          "name": "stdout",
          "text": [
            "[('a', 1), ('a', 2), ('a', 3), ('b', 1), ('b', 2), ('b', 3), ('c', 1), ('c', 2), ('c', 3)]\n",
            "[('a', 1), ('a', 2), ('a', 3), ('b', 1), ('b', 2), ('b', 3), ('c', 1), ('c', 2), ('c', 3)]\n"
          ]
        }
      ]
    },
    {
      "cell_type": "markdown",
      "source": [
        "####Exercise 171\n",
        "\n",
        "Using the built-in module _itertools_ and the _tee_ class create `pairwise()` function that allows you to create an iterator that returns adjacent pairs for an iterable object, for example:\n",
        "\n",
        ">[3, 5, 1, 8, 9, 4] -> [(3, 5), (5, 1), (1, 8), (8, 9), (9, 4)]\n",
        "\n",
        "\n",
        "Then, using the implemented function create iterators from the following objects:\n",
        "\n",
        "* [3, 5, 1, 8, 9, 4]\n",
        "* ['a', 'b', 'c', 'd', 'e']\n",
        "* 'Python'\n",
        "\n",
        "and print their items as a list to the console as shown below.\n",
        "\n",
        "\n",
        "\n",
        "Tip:  \n",
        "[itertools.tee(iterable, n=2)](https://docs.python.org/3/library/itertools.html#itertools.tee)\n",
        ">  Return n independent iterators from a single iterable.  \n",
        "> tee(iterable, n=2)  \n",
        "    Returns a tuple of n independent iterators.\n",
        "\n",
        "\n",
        "Expected result:\n",
        ">[3, 5, 1, 8, 9, 4] -> [(3, 5), (5, 1), (1, 8), (8, 9), (9, 4)]  \n",
        "['a', 'b', 'c', 'd', 'e'] -> [('a', 'b'), ('b', 'c'), ('c', 'd'), ('d', 'e')]  \n",
        "'Python' -> [('P', 'y'), ('y', 't'), ('t', 'h'), ('h', 'o'), ('o', 'n')]  \n",
        "\n"
      ],
      "metadata": {
        "id": "NU9HxqD78Rep"
      }
    },
    {
      "cell_type": "code",
      "source": [
        "import itertools\n",
        "\n",
        "\n",
        "one = [3, 5, 1, 8, 9, 4]\n",
        "two = ['a', 'b', 'c', 'd', 'e']\n",
        "three = 'Python'\n",
        "\n",
        "def pairwise(iterablething):\n",
        "    iter1, iter2 = itertools.tee(iterablething)\n",
        "    l1 = list(iter1)\n",
        "    l2 = list(iter2)[1:]\n",
        "    return zip(l1, l2)\n",
        "\n",
        "\n",
        "print(f'{one} -> {list(pairwise(one))}')\n",
        "print(f'{two} -> {list(pairwise(two))}')\n",
        "print(f'\\'{three}\\' -> {list(three)}')\n",
        "\n",
        "# his solution\n",
        "print('his solution', '-' * 80)\n",
        "\n",
        "def his_pairwise(iterable):\n",
        "    a, b = itertools.tee(iterable)\n",
        "    next(b)\n",
        "    return zip(a, b)\n",
        " \n",
        " \n",
        "print(f'{one} -> {list(his_pairwise(one))}')\n",
        "print(\n",
        "    f\"{two} -> \"\n",
        "    f\"{list(his_pairwise(two))}\"\n",
        ")\n",
        "print(f\"'{three}' -> {list(his_pairwise(three))}\")"
      ],
      "metadata": {
        "id": "-96xWZKpuOYr"
      },
      "execution_count": null,
      "outputs": []
    },
    {
      "cell_type": "markdown",
      "source": [
        "####Exercise 172\n",
        "\n",
        "Using the built-in module _itertools_ and the _tee_ class implement make_three() function that allows you to create an iterator that returns a _triple_ for an iterable object:\n",
        "\n",
        "(previous value, present value, next value)\n",
        "\n",
        "For the missing boundary values, put the value None as shown below:\n",
        "\n",
        "* [1, 2, 3, 4] -> [(None, 1, 2), (1, 2, 3), (2, 3, 4), (3, 4, None)]\n",
        "\n",
        "\n",
        "Then, using the implemented function, create iterators from the following objects:\n",
        "\n",
        "* [3, 5, 1, 8, 9, 4]\n",
        "* ['a', 'b', 'c', 'd', 'e']\n",
        "* 'Python'\n",
        "\n",
        "In response, print these iterators as a list to the console as shown below.\n",
        "\n",
        "\n",
        "Tip:  \n",
        "[itertools.tee(iterable, n=2)](https://docs.python.org/3/library/itertools.html#itertools.tee)\n",
        ">  Return n independent iterators from a single iterable.  \n",
        "> tee(iterable, n=2)  \n",
        "    Returns a tuple of n independent iterators.\n",
        "\n",
        "[class itertools.chain(*iterables)](https://docs.python.org/3/library/itertools.html#itertools.chain)\n",
        ">Make an iterator that returns elements from the first iterable until it is exhausted, then proceeds to the next iterable, until all of the iterables are exhausted. Used for treating consecutive sequences as a single sequence.\n",
        "\n",
        "\n",
        "Expected result:\n",
        ">[1, 2, 3, 4] -> [(None, 1, 2), (1, 2, 3), (2, 3, 4), (3, 4, None)]  \n",
        "['a', 'b', 'c', 'd', 'e'] -> [(None, 'a', 'b'), ('a', 'b', 'c'), ('b', 'c', 'd'), ('c', 'd', 'e'), ('d', 'e', None)]  \n",
        "'Python' -> [(None, 'P', 'y'), ('P', 'y', 't'), ('y', 't', 'h'), ('t', 'h', 'o'), ('h', 'o', 'n'), ('o', 'n', None)]  \n"
      ],
      "metadata": {
        "id": "rUfzcMMoJrEn"
      }
    },
    {
      "cell_type": "code",
      "source": [
        "import itertools\n",
        "\n",
        "\n",
        "one = [1, 2, 3, 4]\n",
        "two = ['a', 'b', 'c', 'd', 'e']\n",
        "three = 'Python'\n",
        "\n",
        "def triples(iterable):\n",
        "    iter1, iter2, iter3 = itertools.tee(iterable, 3)\n",
        "    next(iter3)\n",
        "    return zip(\n",
        "        itertools.chain([None], iter1),\n",
        "        iter2,\n",
        "        itertools.chain(iter3, [None]),\n",
        "    )\n",
        " \n",
        " \n",
        "print(f'{one} -> {list(triples(one))}')\n",
        "print(f'{two} -> {list(triples(two))}')\n",
        "print(f'{three} -> {list(triples(three))}')"
      ],
      "metadata": {
        "colab": {
          "base_uri": "https://localhost:8080/"
        },
        "id": "fJY-YydXuPJB",
        "outputId": "434fc575-8d88-447d-a98a-d0787418b9a3"
      },
      "execution_count": null,
      "outputs": [
        {
          "output_type": "stream",
          "name": "stdout",
          "text": [
            "[1, 2, 3, 4] -> [(None, 1, 2), (1, 2, 3), (2, 3, 4), (3, 4, None)]\n",
            "['a', 'b', 'c', 'd', 'e'] -> [(None, 'a', 'b'), ('a', 'b', 'c'), ('b', 'c', 'd'), ('c', 'd', 'e'), ('d', 'e', None)]\n",
            "Python -> [(None, 'P', 'y'), ('P', 'y', 't'), ('y', 't', 'h'), ('t', 'h', 'o'), ('h', 'o', 'n'), ('o', 'n', None)]\n"
          ]
        }
      ]
    },
    {
      "cell_type": "markdown",
      "source": [
        "# Section: functools"
      ],
      "metadata": {
        "id": "lxdoo5IHoqkw"
      }
    },
    {
      "cell_type": "markdown",
      "source": [
        "####Exercise 173"
      ],
      "metadata": {
        "id": "oV7AUeC3JqhV"
      }
    },
    {
      "cell_type": "markdown",
      "source": [
        "####Exercise 174"
      ],
      "metadata": {
        "id": "Tuf_Ko4iJrQy"
      }
    },
    {
      "cell_type": "markdown",
      "source": [
        "####Exercise 175"
      ],
      "metadata": {
        "id": "rsSko1mE7nlx"
      }
    },
    {
      "cell_type": "markdown",
      "source": [
        "####Exercise 176"
      ],
      "metadata": {
        "id": "nURJKc-r7nyi"
      }
    },
    {
      "cell_type": "markdown",
      "source": [
        "####Exercise 177"
      ],
      "metadata": {
        "id": "Q14a5ikZ7oAr"
      }
    },
    {
      "cell_type": "markdown",
      "source": [
        "####Exercise 178"
      ],
      "metadata": {
        "id": "MK8xz1By7oM_"
      }
    },
    {
      "cell_type": "markdown",
      "source": [
        "####Exercise 179"
      ],
      "metadata": {
        "id": "TANcB3zZ7oaI"
      }
    },
    {
      "cell_type": "code",
      "source": [
        ""
      ],
      "metadata": {
        "id": "j9qPrUAP8Anx"
      },
      "execution_count": null,
      "outputs": []
    },
    {
      "cell_type": "markdown",
      "source": [
        "####Exercise 180"
      ],
      "metadata": {
        "id": "lQ0rA8-s7qRh"
      }
    },
    {
      "cell_type": "markdown",
      "source": [
        "####Exercise 181"
      ],
      "metadata": {
        "id": "JXe5NLXc7qdF"
      }
    },
    {
      "cell_type": "markdown",
      "source": [
        "####Exercise 182"
      ],
      "metadata": {
        "id": "AGqDAHZm77hl"
      }
    },
    {
      "cell_type": "markdown",
      "source": [
        "# Section: pickle"
      ],
      "metadata": {
        "id": "87t35lF4oqvY"
      }
    },
    {
      "cell_type": "markdown",
      "source": [
        "####Exercise 183"
      ],
      "metadata": {
        "id": "_0MHR2xlJrcn"
      }
    },
    {
      "cell_type": "markdown",
      "source": [
        "####Exercise 184"
      ],
      "metadata": {
        "id": "1ALuh6ieJq5a"
      }
    },
    {
      "cell_type": "markdown",
      "source": [
        "####Exercise 185"
      ],
      "metadata": {
        "id": "HCaAq56w7UZR"
      }
    },
    {
      "cell_type": "markdown",
      "source": [
        "####Exercise 186"
      ],
      "metadata": {
        "id": "k15c9IvV7UrD"
      }
    },
    {
      "cell_type": "markdown",
      "source": [
        "####Exercise 187"
      ],
      "metadata": {
        "id": "7vcHkjaC7U61"
      }
    },
    {
      "cell_type": "markdown",
      "source": [
        "# Section: zipfile"
      ],
      "metadata": {
        "id": "SuBlbbZooq7e"
      }
    },
    {
      "cell_type": "markdown",
      "source": [
        "####Exercise 188"
      ],
      "metadata": {
        "id": "mW7dAL2FJqt2"
      }
    },
    {
      "cell_type": "markdown",
      "source": [
        "####Exercise 189"
      ],
      "metadata": {
        "id": "-9D27VYM7Amb"
      }
    },
    {
      "cell_type": "markdown",
      "source": [
        "####Exercise 190"
      ],
      "metadata": {
        "id": "M9yWqSGs7A2L"
      }
    },
    {
      "cell_type": "markdown",
      "source": [
        "####Exercise 191"
      ],
      "metadata": {
        "id": "cmgZQT2zJsFs"
      }
    },
    {
      "cell_type": "markdown",
      "source": [
        "# Section: csv\n",
        "\n",
        "[csv](https://docs.python.org/3.8/library/csv)\n",
        "\n",
        "\n",
        "Create file _apple.csv_ with this content\n",
        "```\n",
        "Date,Open,High,Low,Close,Volume\n",
        "1984-09-07,0.41583,0.42087,0.41079,0.41583,23669718\n",
        "1984-09-10,0.41583,0.41708,0.40581,0.41334,18371562\n",
        "1984-09-11,0.41708,0.42839,0.41708,0.42087,43321235\n",
        "1984-09-12,0.42087,0.42337,0.40828,0.40828,37844792\n",
        "1984-09-13,0.43093,0.43215,0.43093,0.43093,58941865\n",
        "1984-09-14,0.43215,0.44723,0.43215,0.43719,70181304\n",
        "1984-09-17,0.44849,0.45477,0.44849,0.44849,54796306\n",
        "1984-09-18,0.44849,0.45228,0.43215,0.43215,27662429\n",
        "1984-09-19,0.43215,0.43719,0.42337,0.42337,30215978\n",
        "1984-09-20,0.42463,0.42839,0.42463,0.42463,18810964\n",
        "```"
      ],
      "metadata": {
        "id": "86-Zy8WX4oBW"
      }
    },
    {
      "cell_type": "code",
      "source": [
        "!echo 'Date,Open,High,Low,Close,Volume' > apple.csv\n",
        "!echo '1984-09-07,0.41583,0.42087,0.41079,0.41583,23669718' >> apple.csv\n",
        "!echo '1984-09-10,0.41583,0.41708,0.40581,0.41334,18371562' >> apple.csv\n",
        "!echo '1984-09-11,0.41708,0.42839,0.41708,0.42087,43321235' >> apple.csv\n",
        "!echo '1984-09-12,0.42087,0.42337,0.40828,0.40828,37844792' >> apple.csv\n",
        "!echo '1984-09-13,0.43093,0.43215,0.43093,0.43093,58941865' >> apple.csv\n",
        "!echo '1984-09-14,0.43215,0.44723,0.43215,0.43719,70181304' >> apple.csv\n",
        "!echo '1984-09-17,0.44849,0.45477,0.44849,0.44849,54796306' >> apple.csv\n",
        "!echo '1984-09-18,0.44849,0.45228,0.43215,0.43215,27662429' >> apple.csv\n",
        "!echo '1984-09-19,0.43215,0.43719,0.42337,0.42337,30215978' >> apple.csv\n",
        "!echo '1984-09-20,0.42463,0.42839,0.42463,0.42463,18810964' >> apple.csv\n",
        "\n",
        "!cat apple.csv"
      ],
      "metadata": {
        "colab": {
          "base_uri": "https://localhost:8080/"
        },
        "id": "ZUnaUWdCyDkM",
        "outputId": "aab370ad-f490-48d5-efa1-585161608dbd"
      },
      "execution_count": null,
      "outputs": [
        {
          "output_type": "stream",
          "name": "stdout",
          "text": [
            "Date,Open,High,Low,Close,Volume\n",
            "1984-09-07,0.41583,0.42087,0.41079,0.41583,23669718\n",
            "1984-09-10,0.41583,0.41708,0.40581,0.41334,18371562\n",
            "1984-09-11,0.41708,0.42839,0.41708,0.42087,43321235\n",
            "1984-09-12,0.42087,0.42337,0.40828,0.40828,37844792\n",
            "1984-09-13,0.43093,0.43215,0.43093,0.43093,58941865\n",
            "1984-09-14,0.43215,0.44723,0.43215,0.43719,70181304\n",
            "1984-09-17,0.44849,0.45477,0.44849,0.44849,54796306\n",
            "1984-09-18,0.44849,0.45228,0.43215,0.43215,27662429\n",
            "1984-09-19,0.43215,0.43719,0.42337,0.42337,30215978\n",
            "1984-09-20,0.42463,0.42839,0.42463,0.42463,18810964\n"
          ]
        }
      ]
    },
    {
      "cell_type": "markdown",
      "source": [
        "####Exercise 192\n",
        "\n",
        "\n",
        "The _apple.csv_ file containing Apple's quotes is given. Using the built-in _csv_ module load this file and print each line to the console as shown below.\n",
        "\n",
        "Expected result:\n",
        ">Date,Open,High,Low,Close,Volume  \n",
        "1984-09-07,0.41583,0.42087,0.41079,0.41583,23669718  \n",
        "1984-09-10,0.41583,0.41708,0.40581,0.41334,18371562  \n",
        "1984-09-11,0.41708,0.42839,0.41708,0.42087,43321235  \n",
        "1984-09-12,0.42087,0.42337,0.40828,0.40828,37844792  \n",
        "1984-09-13,0.43093,0.43215,0.43093,0.43093,58941865   \n",
        "1984-09-14,0.43215,0.44723,0.43215,0.43719,70181304  \n",
        "1984-09-17,0.44849,0.45477,0.44849,0.44849,54796306  \n",
        "1984-09-18,0.44849,0.45228,0.43215,0.43215,27662429  \n",
        "1984-09-19,0.43215,0.43719,0.42337,0.42337,30215978  \n",
        "1984-09-20,0.42463,0.42839,0.42463,0.42463,18810964  "
      ],
      "metadata": {
        "id": "tBMP2-wxJsVZ"
      }
    },
    {
      "cell_type": "code",
      "source": [
        "import csv\n",
        "\n",
        "with open('apple.csv', 'r') as file:\n",
        "   reader =  csv.reader(file)\n",
        "   for line in reader:\n",
        "       print(','.join(line))"
      ],
      "metadata": {
        "id": "YiDDGptCxe7i"
      },
      "execution_count": null,
      "outputs": []
    },
    {
      "cell_type": "markdown",
      "source": [
        "####Exercise 193\n",
        "\n",
        "The _apple.csv_ file containing Apple's quotes is given. Using the built-in _csv_ module load this file and print the column names from this file as a list to the console.\n",
        "\n",
        "\n",
        "Expected result:\n",
        ">['Date', 'Open', 'High', 'Low', 'Close', 'Volume']"
      ],
      "metadata": {
        "id": "n2JOO_6563Ll"
      }
    },
    {
      "cell_type": "code",
      "source": [
        "import csv\n",
        "\n",
        "with open('apple.csv', 'r') as file:\n",
        "   reader =  csv.reader(file)\n",
        "   headers = next(reader)\n",
        "   print(headers)"
      ],
      "metadata": {
        "colab": {
          "base_uri": "https://localhost:8080/"
        },
        "id": "fm9Fnnzr6gQm",
        "outputId": "a7f679e0-a04e-4ee7-e933-227099ee84c5"
      },
      "execution_count": null,
      "outputs": [
        {
          "output_type": "stream",
          "name": "stdout",
          "text": [
            "['Date', 'Open', 'High', 'Low', 'Close', 'Volume']\n"
          ]
        }
      ]
    },
    {
      "cell_type": "markdown",
      "source": [
        "####Exercise 194\n",
        "\n",
        "The following lists are given:\n",
        "```python\n",
        "headers = [\"Date\", \"Open\", \"High\", \"Low\", \"Close\", \"Volume\"]\n",
        "apple = [\n",
        "    [\n",
        "        \"1984-09-07\",\n",
        "        \"0.4158\",\n",
        "        \"0.4208\",\n",
        "        \"0.4107\",\n",
        "        \"0.4158\",\n",
        "        \"23669718\",\n",
        "    ],\n",
        "    [\n",
        "        \"1984-09-10\",\n",
        "        \"0.4158\",\n",
        "        \"0.4170\",\n",
        "        \"0.4058\",\n",
        "        \"0.4133\",\n",
        "        \"18371562\",\n",
        "    ],\n",
        "    [\n",
        "        \"1984-09-11\",\n",
        "        \"0.4170\",\n",
        "        \"0.4283\",\n",
        "        \"0.4170\",\n",
        "        \"0.4208\",\n",
        "        \"43321235\",\n",
        "    ],\n",
        "]\n",
        "```\n",
        "\n",
        "Using the built-in _csv_ module save these lists to the csv file named _'apple.csv'_.\n",
        "\n",
        "Expected result (content of the _apple.csv_ file):\n",
        ">Date,Open,High,Low,Close,Volume\n",
        "1984-09-07,0.4158,0.4208,0.4107,0.4158,23669718\n",
        "1984-09-10,0.4158,0.4170,0.4058,0.4133,18371562\n",
        "1984-09-11,0.4170,0.4283,0.4170,0.4208,43321235"
      ],
      "metadata": {
        "id": "M45mkOJq63ZL"
      }
    },
    {
      "cell_type": "code",
      "source": [
        "import csv\n",
        "\n",
        "\n",
        "headers = [\"Date\", \"Open\", \"High\", \"Low\", \"Close\", \"Volume\"]\n",
        "apple = [\n",
        "    [\n",
        "        \"1984-09-07\",\n",
        "        \"0.4158\",\n",
        "        \"0.4208\",\n",
        "        \"0.4107\",\n",
        "        \"0.4158\",\n",
        "        \"23669718\",\n",
        "    ],\n",
        "    [\n",
        "        \"1984-09-10\",\n",
        "        \"0.4158\",\n",
        "        \"0.4170\",\n",
        "        \"0.4058\",\n",
        "        \"0.4133\",\n",
        "        \"18371562\",\n",
        "    ],\n",
        "    [\n",
        "        \"1984-09-11\",\n",
        "        \"0.4170\",\n",
        "        \"0.4283\",\n",
        "        \"0.4170\",\n",
        "        \"0.4208\",\n",
        "        \"43321235\",\n",
        "    ],\n",
        "]\n",
        "\n",
        "filename = 'apple2.csv'\n",
        "\n",
        "with open(filename, 'w') as file:\n",
        "    writer = csv.writer(file)\n",
        "    writer.writerow(headers)\n",
        "    writer.writerows(apple)\n",
        "\n",
        "\n",
        "!cat apple2.csv"
      ],
      "metadata": {
        "colab": {
          "base_uri": "https://localhost:8080/"
        },
        "id": "VcraIRtx7a2J",
        "outputId": "7b81f834-8ca4-47ca-e635-7db08b548739"
      },
      "execution_count": null,
      "outputs": [
        {
          "output_type": "stream",
          "name": "stdout",
          "text": [
            "Date,Open,High,Low,Close,Volume\r\n",
            "1984-09-07,0.4158,0.4208,0.4107,0.4158,23669718\r\n",
            "1984-09-10,0.4158,0.4170,0.4058,0.4133,18371562\r\n",
            "1984-09-11,0.4170,0.4283,0.4170,0.4208,43321235\r\n"
          ]
        }
      ]
    },
    {
      "cell_type": "markdown",
      "source": [
        "####Exercise 195\n",
        "\n",
        "The following lists are given:\n",
        "```python\n",
        "headers = ['Date', 'Close', 'Volume']\n",
        "apple = [\n",
        "    {\n",
        "        'Date': '1984-09-07',\n",
        "        'Close': 0.41583000000000003,\n",
        "        'Volume': 23669718,\n",
        "    },\n",
        "    {\n",
        "        'Date': '1984-09-10', \n",
        "        'Close': 0.41334, \n",
        "        'Volume': 18371562},\n",
        "    {\n",
        "        'Date': '1984-09-11',\n",
        "        'Close': 0.42086999999999997,\n",
        "        'Volume': 43321235,\n",
        "    },\n",
        "    {\n",
        "        'Date': '1984-09-12',\n",
        "        'Close': 0.40828000000000003,\n",
        "        'Volume': 37844792,\n",
        "    },\n",
        "    {\n",
        "        'Date': '1984-09-13',\n",
        "        'Close': 0.43093000000000004,\n",
        "        'Volume': 58941865,\n",
        "    },\n",
        "    {\n",
        "        'Date': '1984-09-14',\n",
        "        'Close': 0.43718999999999997,\n",
        "        'Volume': 70181304,\n",
        "    },\n",
        "    {\n",
        "        'Date': '1984-09-17',\n",
        "        'Close': 0.44848999999999994,\n",
        "        'Volume': 54796306,\n",
        "    },\n",
        "    {\n",
        "        'Date': '1984-09-18', \n",
        "        'Close': 0.43215, \n",
        "        'Volume': 27662429},\n",
        "    {\n",
        "        'Date': '1984-09-19',\n",
        "        'Close': 0.42336999999999997,\n",
        "        'Volume': 30215978,\n",
        "    },\n",
        "    {\n",
        "        'Date': '1984-09-20', \n",
        "        'Close': 0.42463, \n",
        "        'Volume': 18810964},\n",
        "]\n",
        "```\n",
        "\n",
        "Using the built-in _csv_ module save these lists to the csv file named _'apple.csv'_.\n",
        "\n",
        "\n",
        "\n",
        "Expected result (content of the _apple.csv_ file):\n",
        ">Date,Close,Volume\n",
        "1984-09-07,0.41583000000000003,23669718\n",
        "1984-09-10,0.41334,18371562\n",
        "1984-09-11,0.42086999999999997,43321235\n",
        "1984-09-12,0.40828000000000003,37844792\n",
        "1984-09-13,0.43093000000000004,58941865\n",
        "1984-09-14,0.43718999999999997,70181304\n",
        "1984-09-17,0.44848999999999994,54796306\n",
        "1984-09-18,0.43215,27662429\n",
        "1984-09-19,0.42336999999999997,30215978\n",
        "1984-09-20,0.42463,18810964"
      ],
      "metadata": {
        "id": "uQ77mMEP63lt"
      }
    },
    {
      "cell_type": "code",
      "source": [
        "import csv\n",
        "\n",
        "\n",
        "headers = ['Date', 'Close', 'Volume']\n",
        "apple = [\n",
        "    {\n",
        "        'Date': '1984-09-07',\n",
        "        'Close': 0.41583000000000003,\n",
        "        'Volume': 23669718,\n",
        "    },\n",
        "    {\n",
        "        'Date': '1984-09-10', \n",
        "        'Close': 0.41334, \n",
        "        'Volume': 18371562},\n",
        "    {\n",
        "        'Date': '1984-09-11',\n",
        "        'Close': 0.42086999999999997,\n",
        "        'Volume': 43321235,\n",
        "    },\n",
        "    {\n",
        "        'Date': '1984-09-12',\n",
        "        'Close': 0.40828000000000003,\n",
        "        'Volume': 37844792,\n",
        "    },\n",
        "    {\n",
        "        'Date': '1984-09-13',\n",
        "        'Close': 0.43093000000000004,\n",
        "        'Volume': 58941865,\n",
        "    },\n",
        "    {\n",
        "        'Date': '1984-09-14',\n",
        "        'Close': 0.43718999999999997,\n",
        "        'Volume': 70181304,\n",
        "    },\n",
        "    {\n",
        "        'Date': '1984-09-17',\n",
        "        'Close': 0.44848999999999994,\n",
        "        'Volume': 54796306,\n",
        "    },\n",
        "    {\n",
        "        'Date': '1984-09-18', \n",
        "        'Close': 0.43215, \n",
        "        'Volume': 27662429},\n",
        "    {\n",
        "        'Date': '1984-09-19',\n",
        "        'Close': 0.42336999999999997,\n",
        "        'Volume': 30215978,\n",
        "    },\n",
        "    {\n",
        "        'Date': '1984-09-20', \n",
        "        'Close': 0.42463, \n",
        "        'Volume': 18810964},\n",
        "]\n",
        "\n",
        "filename = 'apple2.csv'\n",
        "\n",
        "with open(filename, 'w') as file:\n",
        "    writer = csv.DictWriter(file, headers)\n",
        "    writer.writeheader()\n",
        "    writer.writerows(apple)\n",
        "\n",
        "\n",
        "!cat apple2.csv"
      ],
      "metadata": {
        "colab": {
          "base_uri": "https://localhost:8080/"
        },
        "id": "oKKrHoyC9D9U",
        "outputId": "787c9d78-a5fe-4843-d9c9-5b43196b8034"
      },
      "execution_count": null,
      "outputs": [
        {
          "output_type": "stream",
          "name": "stdout",
          "text": [
            "Date,Close,Volume\r\n",
            "1984-09-07,0.41583000000000003,23669718\r\n",
            "1984-09-10,0.41334,18371562\r\n",
            "1984-09-11,0.42086999999999997,43321235\r\n",
            "1984-09-12,0.40828000000000003,37844792\r\n",
            "1984-09-13,0.43093000000000004,58941865\r\n",
            "1984-09-14,0.43718999999999997,70181304\r\n",
            "1984-09-17,0.44848999999999994,54796306\r\n",
            "1984-09-18,0.43215,27662429\r\n",
            "1984-09-19,0.42336999999999997,30215978\r\n",
            "1984-09-20,0.42463,18810964\r\n"
          ]
        }
      ]
    },
    {
      "cell_type": "markdown",
      "source": [
        "# Section: json\n",
        "\n",
        "[json](https://docs.python.org/3.8/library/json)\n",
        "\n",
        "JSON (JavaScript Object Notation) http://json.org is a subset of\n",
        "    JavaScript syntax (ECMA-262 3rd edition) used as a lightweight data\n",
        "    interchange format."
      ],
      "metadata": {
        "id": "e0fqA-164oS5"
      }
    },
    {
      "cell_type": "markdown",
      "source": [
        "####Exercise 196\n",
        "\n",
        "The following object is given:\n",
        "```python\n",
        "employees_json = \"\"\"\n",
        "{\"IT\": [{\"employee_id\": \"0010\", \"stack\": [\"Python\", \"Java\", \"AWS\", \"Docker\", \"Linux\"], \"experience\": 5},\n",
        "{\"employee_id\": \"0360\", \"stack\": [\"Python\", \"AWS\", \"Docker\", \"Linux\", \"Azure\"], \"experience\": 6},\n",
        "{\"employee_id\": \"0323\", \"stack\": [\"Python\", \"AWS\", \"JavaScript\"]}],\n",
        "\"Marketing\": [{\"employee_id\": \"0863\", \"stack\": [\"Google Analytics\", \"Google Ads\", \"Facebook Ads\"]},\n",
        "{\"employee_id\": \"0543\", \"stack\": [\"Google Ads\", \"Facebook Ads\"]}]}\n",
        "\"\"\"\n",
        "```\n",
        "\n",
        "Using the built-in _json_ module load the above text into the dictionary named _employees_.\n",
        "\n",
        "In response, print the contents of the employees dictionary to the console.\n",
        "\n",
        "\n",
        "Expected result:\n",
        ">{'IT': [{'employee_id': '0010', 'stack': ['Python', 'Java', 'AWS', 'Docker', 'Linux'], 'experience': 5}, {'employee_id': '0360', 'stack': ['Python', 'AWS', 'Docker', 'Linux', 'Azure'], 'experience': 6}, {'employee_id': '0323', 'stack': ['Python', 'AWS', 'JavaScript']}], 'Marketing': [{'employee_id': '0863', 'stack': ['Google Analytics', 'Google Ads', 'Facebook Ads']}, {'employee_id': '0543', 'stack': ['Google Ads', 'Facebook Ads']}]}"
      ],
      "metadata": {
        "id": "CHG6lFex5LPX"
      }
    },
    {
      "cell_type": "code",
      "source": [
        "import json\n",
        "\n",
        "\n",
        "employees_json = \"\"\"\n",
        "{\"IT\": [{\"employee_id\": \"0010\", \"stack\": [\"Python\", \"Java\", \"AWS\", \"Docker\", \"Linux\"], \"experience\": 5},\n",
        "{\"employee_id\": \"0360\", \"stack\": [\"Python\", \"AWS\", \"Docker\", \"Linux\", \"Azure\"], \"experience\": 6},\n",
        "{\"employee_id\": \"0323\", \"stack\": [\"Python\", \"AWS\", \"JavaScript\"]}],\n",
        "\"Marketing\": [{\"employee_id\": \"0863\", \"stack\": [\"Google Analytics\", \"Google Ads\", \"Facebook Ads\"]},\n",
        "{\"employee_id\": \"0543\", \"stack\": [\"Google Ads\", \"Facebook Ads\"]}]}\n",
        "\"\"\"\n",
        "\n",
        "employees = json.loads(employees_json)\n",
        "\n",
        "print(employees)"
      ],
      "metadata": {
        "colab": {
          "base_uri": "https://localhost:8080/"
        },
        "id": "GE-mAbCU_Pcg",
        "outputId": "43567534-2191-4ebf-b0f7-e7e4dbb2c7ca"
      },
      "execution_count": null,
      "outputs": [
        {
          "output_type": "stream",
          "name": "stdout",
          "text": [
            "{'IT': [{'employee_id': '0010', 'stack': ['Python', 'Java', 'AWS', 'Docker', 'Linux'], 'experience': 5}, {'employee_id': '0360', 'stack': ['Python', 'AWS', 'Docker', 'Linux', 'Azure'], 'experience': 6}, {'employee_id': '0323', 'stack': ['Python', 'AWS', 'JavaScript']}], 'Marketing': [{'employee_id': '0863', 'stack': ['Google Analytics', 'Google Ads', 'Facebook Ads']}, {'employee_id': '0543', 'stack': ['Google Ads', 'Facebook Ads']}]}\n"
          ]
        }
      ]
    },
    {
      "cell_type": "markdown",
      "source": [
        "####Exercise 197\n",
        "\n",
        "Use the same *employees_json* as Exercise 196.\n",
        "\n",
        "Using the built-in _json_ module load the *employees_json* inter the dictionary name _employees_. Then, using the _pprint_ module and `pprint.pprint()` function print the contents of the dictionary to the console.\n",
        "\n",
        "Expected result:\n",
        "```\n",
        "{'IT': [{'employee_id': '0010',\n",
        "         'experience': 5,\n",
        "         'stack': ['Python', 'Java', 'AWS', 'Docker', 'Linux']},\n",
        "        {'employee_id': '0360',\n",
        "         'experience': 6,\n",
        "         'stack': ['Python', 'AWS', 'Docker', 'Linux', 'Azure']},\n",
        "        {'employee_id': '0323', 'stack': ['Python', 'AWS', 'JavaScript']}],\n",
        " 'Marketing': [{'employee_id': '0863',\n",
        "                'stack': ['Google Analytics', 'Google Ads', 'Facebook Ads']},\n",
        "               {'employee_id': '0543',\n",
        "                'stack': ['Google Ads', 'Facebook Ads']}]}\n",
        "```"
      ],
      "metadata": {
        "id": "lqmTwGHp6eFW"
      }
    },
    {
      "cell_type": "code",
      "source": [
        "import json\n",
        "import pprint\n",
        "\n",
        "\n",
        "employees_json = \"\"\"\n",
        "{\"IT\": [{\"employee_id\": \"0010\", \"stack\": [\"Python\", \"Java\", \"AWS\", \"Docker\", \"Linux\"], \"experience\": 5},\n",
        "{\"employee_id\": \"0360\", \"stack\": [\"Python\", \"AWS\", \"Docker\", \"Linux\", \"Azure\"], \"experience\": 6},\n",
        "{\"employee_id\": \"0323\", \"stack\": [\"Python\", \"AWS\", \"JavaScript\"]}],\n",
        "\"Marketing\": [{\"employee_id\": \"0863\", \"stack\": [\"Google Analytics\", \"Google Ads\", \"Facebook Ads\"]},\n",
        "{\"employee_id\": \"0543\", \"stack\": [\"Google Ads\", \"Facebook Ads\"]}]}\n",
        "\"\"\"\n",
        "\n",
        "employees = json.loads(employees_json)\n",
        "\n",
        "pprint.pprint(employees)"
      ],
      "metadata": {
        "colab": {
          "base_uri": "https://localhost:8080/"
        },
        "id": "nHSoprUo_W1_",
        "outputId": "00460a42-9080-4b92-83e1-2ca370afdd31"
      },
      "execution_count": null,
      "outputs": [
        {
          "output_type": "stream",
          "name": "stdout",
          "text": [
            "{'IT': [{'employee_id': '0010',\n",
            "         'experience': 5,\n",
            "         'stack': ['Python', 'Java', 'AWS', 'Docker', 'Linux']},\n",
            "        {'employee_id': '0360',\n",
            "         'experience': 6,\n",
            "         'stack': ['Python', 'AWS', 'Docker', 'Linux', 'Azure']},\n",
            "        {'employee_id': '0323', 'stack': ['Python', 'AWS', 'JavaScript']}],\n",
            " 'Marketing': [{'employee_id': '0863',\n",
            "                'stack': ['Google Analytics', 'Google Ads', 'Facebook Ads']},\n",
            "               {'employee_id': '0543',\n",
            "                'stack': ['Google Ads', 'Facebook Ads']}]}\n"
          ]
        }
      ]
    },
    {
      "cell_type": "markdown",
      "source": [
        "####Exercise 198\n",
        "\n",
        "The following object is given:\n",
        "\n",
        "* employees_json = \"\"\"\n",
        "{\"IT\": [{\"employee_id\": \"0010\", \"stack\": [\"Python\", \"Java\", \"AWS\", \"Docker\", \"Linux\"], \"experience\": 5},\n",
        "{\"employee_id\": \"0360\", \"stack\": [\"Python\", \"AWS\", \"Docker\", \"Linux\", \"Azure\"], \"experience\": 6},\n",
        "{\"employee_id\": \"0323\", \"stack\": [\"Python\", \"AWS\", \"JavaScript\"]}],\n",
        "\"Marketing\": [{\"employee_id\": \"0863\", \"stack\": [\"Google Analytics\", \"Google Ads\", \"Facebook Ads\"]},\n",
        "{\"employee_id\": \"0543\", \"stack\": [\"Google Ads\", \"Facebook Ads\"]}]}\n",
        "\"\"\"\n",
        "\n",
        "\n",
        "Using the built-in _json_ module load the above text into the dictionary named _employees_. Then print the names of _all departments_ to the console as shown below.\n",
        "\n",
        "Expected result:\n",
        ">IT  \n",
        "Marketing\n"
      ],
      "metadata": {
        "id": "zXMvS3D46eT9"
      }
    },
    {
      "cell_type": "code",
      "source": [
        "import json\n",
        "\n",
        "\n",
        "employees_json = \"\"\"\n",
        "{\"IT\": [{\"employee_id\": \"0010\", \"stack\": [\"Python\", \"Java\", \"AWS\", \"Docker\", \"Linux\"], \"experience\": 5},\n",
        "{\"employee_id\": \"0360\", \"stack\": [\"Python\", \"AWS\", \"Docker\", \"Linux\", \"Azure\"], \"experience\": 6},\n",
        "{\"employee_id\": \"0323\", \"stack\": [\"Python\", \"AWS\", \"JavaScript\"]}],\n",
        "\"Marketing\": [{\"employee_id\": \"0863\", \"stack\": [\"Google Analytics\", \"Google Ads\", \"Facebook Ads\"]},\n",
        "{\"employee_id\": \"0543\", \"stack\": [\"Google Ads\", \"Facebook Ads\"]}]}\n",
        "\"\"\"\n",
        "\n",
        "employees = json.loads(employees_json)\n",
        " \n",
        "for department in employees:\n",
        "    print(department)"
      ],
      "metadata": {
        "id": "5rbblF7K_UgN",
        "colab": {
          "base_uri": "https://localhost:8080/"
        },
        "outputId": "e897d781-fd17-4c53-e4bf-f8a563be1a66"
      },
      "execution_count": 10,
      "outputs": [
        {
          "output_type": "stream",
          "name": "stdout",
          "text": [
            "IT\n",
            "Marketing\n"
          ]
        }
      ]
    },
    {
      "cell_type": "markdown",
      "source": [
        "####Exercise 199\n",
        "\n",
        "The following object is given:\n",
        "\n",
        "* employees_json = \"\"\"\n",
        "{\"IT\": [{\"employee_id\": \"0010\", \"stack\": [\"Python\", \"Java\", \"AWS\", \"Docker\", \"Linux\"], \"experience\": 5},\n",
        "{\"employee_id\": \"0360\", \"stack\": [\"Python\", \"AWS\", \"Docker\", \"Linux\", \"Azure\"], \"experience\": 6},\n",
        "{\"employee_id\": \"0323\", \"stack\": [\"Python\", \"AWS\", \"JavaScript\"]}],\n",
        "\"Marketing\": [{\"employee_id\": \"0863\", \"stack\": [\"Google Analytics\", \"Google Ads\", \"Facebook Ads\"]},\n",
        "{\"employee_id\": \"0543\", \"stack\": [\"Google Ads\", \"Facebook Ads\"]}]}\n",
        "\"\"\"\n",
        "\n",
        "\n",
        "Using the built-in _json_ module load the above text into the dictionary named _employees_. Then print the data of all _IT employees_ to the console as shown below.\n",
        "\n",
        "\n",
        "Expected result:\n",
        ">{'employee_id': '0010', 'stack': ['Python', 'Java', 'AWS', 'Docker', 'Linux'], 'experience': 5}  \n",
        "{'employee_id': '0360', 'stack': ['Python', 'AWS', 'Docker', 'Linux', 'Azure'], 'experience': 6}  \n",
        "{'employee_id': '0323', 'stack': ['Python', 'AWS', 'JavaScript']}\n"
      ],
      "metadata": {
        "id": "TrzMr-N06exq"
      }
    },
    {
      "cell_type": "code",
      "source": [
        "import json\n",
        "\n",
        "\n",
        "employees_json = \"\"\"\n",
        "{\"IT\": [{\"employee_id\": \"0010\", \"stack\": [\"Python\", \"Java\", \"AWS\", \"Docker\", \"Linux\"], \"experience\": 5},\n",
        "{\"employee_id\": \"0360\", \"stack\": [\"Python\", \"AWS\", \"Docker\", \"Linux\", \"Azure\"], \"experience\": 6},\n",
        "{\"employee_id\": \"0323\", \"stack\": [\"Python\", \"AWS\", \"JavaScript\"]}],\n",
        "\"Marketing\": [{\"employee_id\": \"0863\", \"stack\": [\"Google Analytics\", \"Google Ads\", \"Facebook Ads\"]},\n",
        "{\"employee_id\": \"0543\", \"stack\": [\"Google Ads\", \"Facebook Ads\"]}]}\n",
        "\"\"\"\n",
        "\n",
        "employees = json.loads(employees_json)\n",
        " \n",
        "for employee in employees['IT']:\n",
        "    print(employee)"
      ],
      "metadata": {
        "id": "HWLVQIom_S91",
        "colab": {
          "base_uri": "https://localhost:8080/"
        },
        "outputId": "9877df34-e1ae-4c40-971f-0fb313d6a8f0"
      },
      "execution_count": 12,
      "outputs": [
        {
          "output_type": "stream",
          "name": "stdout",
          "text": [
            "{'employee_id': '0010', 'stack': ['Python', 'Java', 'AWS', 'Docker', 'Linux'], 'experience': 5}\n",
            "{'employee_id': '0360', 'stack': ['Python', 'AWS', 'Docker', 'Linux', 'Azure'], 'experience': 6}\n",
            "{'employee_id': '0323', 'stack': ['Python', 'AWS', 'JavaScript']}\n"
          ]
        }
      ]
    },
    {
      "cell_type": "markdown",
      "source": [
        "####Exercise 200\n",
        "\n",
        "The _employees.json_ file is attached to this exercise. Using the built-in _json_ module load this file into the dictionary named _employees_. Then print the employees dictionary to the console.\n",
        "\n",
        "Expected result:\n",
        ">{'IT': [{'employee_id': '0010', 'stack': ['Python', 'Java', 'AWS', 'Docker', 'Linux'], 'experience': 5},   {'employee_id': '0360', 'stack': ['Python', 'AWS', 'Docker', 'Linux', 'Azure'], 'experience': 6}, {'employee_id': '0323', 'stack': ['Python', 'AWS', 'JavaScript']}], 'Marketing': [{'employee_id': '0863', 'stack': ['Google Analytics', 'Google Ads', 'Facebook Ads']}, {'employee_id': '0543', 'stack': ['Google Ads', 'Facebook Ads']}]}\n"
      ],
      "metadata": {
        "id": "iOhPQLxE6fhU"
      }
    },
    {
      "cell_type": "code",
      "source": [
        "import json\n",
        "\n",
        "print('Prep ', '-' * 80)\n",
        "filename = 'employees.json'\n",
        "employees_json = \"\"\"\n",
        "{\"IT\": [{\"employee_id\": \"0010\", \"stack\": [\"Python\", \"Java\", \"AWS\", \"Docker\", \"Linux\"], \"experience\": 5},\n",
        "{\"employee_id\": \"0360\", \"stack\": [\"Python\", \"AWS\", \"Docker\", \"Linux\", \"Azure\"], \"experience\": 6},\n",
        "{\"employee_id\": \"0323\", \"stack\": [\"Python\", \"AWS\", \"JavaScript\"]}],\n",
        "\"Marketing\": [{\"employee_id\": \"0863\", \"stack\": [\"Google Analytics\", \"Google Ads\", \"Facebook Ads\"]},\n",
        "{\"employee_id\": \"0543\", \"stack\": [\"Google Ads\", \"Facebook Ads\"]}]}\n",
        "\"\"\"\n",
        "\n",
        "with open(filename, 'w') as output:\n",
        "    output.write(employees_json)\n",
        "\n",
        "\n",
        "with open(filename, 'r') as input:\n",
        "    employees = json.load(input)\n",
        "\n",
        "print(employees)"
      ],
      "metadata": {
        "id": "Qwu7tEpx_R96",
        "colab": {
          "base_uri": "https://localhost:8080/"
        },
        "outputId": "9099889d-588c-498b-cf7c-1cf0a5a7fc9f"
      },
      "execution_count": 13,
      "outputs": [
        {
          "output_type": "stream",
          "name": "stdout",
          "text": [
            "Prep  --------------------------------------------------------------------------------\n",
            "{'IT': [{'employee_id': '0010', 'stack': ['Python', 'Java', 'AWS', 'Docker', 'Linux'], 'experience': 5}, {'employee_id': '0360', 'stack': ['Python', 'AWS', 'Docker', 'Linux', 'Azure'], 'experience': 6}, {'employee_id': '0323', 'stack': ['Python', 'AWS', 'JavaScript']}], 'Marketing': [{'employee_id': '0863', 'stack': ['Google Analytics', 'Google Ads', 'Facebook Ads']}, {'employee_id': '0543', 'stack': ['Google Ads', 'Facebook Ads']}]}\n"
          ]
        }
      ]
    },
    {
      "cell_type": "markdown",
      "source": [
        "####Exercise 201\n",
        "\n",
        "The following dictionary is given:\n",
        "```python\n",
        "employees = {'IT': [{'employee_id': '0010',\n",
        "   'stack': ['Python', 'Java', 'AWS', 'Docker', 'Linux'],\n",
        "   'experience': 5},\n",
        "  {'employee_id': '0360',\n",
        "   'stack': ['Python', 'AWS', 'Docker', 'Linux', 'Azure'],\n",
        "   'experience': 6},\n",
        "  {'employee_id': '0323', 'stack': ['Python', 'AWS', 'JavaScript']}],\n",
        " 'Marketing': [{'employee_id': '0863',\n",
        "   'stack': ['Google Analytics', 'Google Ads', 'Facebook Ads']},\n",
        "  {'employee_id': '0543', 'stack': ['Google Ads', 'Facebook Ads']}]}\n",
        "```\n",
        "\n",
        "Using the built-in _json_ module and the _json.dumps()_ function, dump the above dictionary to a JSON object named _employees_json_ (set the indentation argument to 4).\n",
        "\n",
        "In response, print the employees_json object to the console.\n",
        "\n",
        "\n",
        "Tip:  \n",
        "[json.dumps()](https://docs.python.org/3.8/library/json.html#json.dumps)  \n",
        "dumps(obj, *, skipkeys=False, ensure_ascii=True,   check_circular=True, allow_nan=True, cls=None,   indent=None, separators=None, default=None,   sort_keys=False, **kw)  \n",
        "    Serialize ``obj`` to a JSON formatted ``str``.\n",
        "\n",
        "\n",
        "Expected result:\n",
        ">```\n",
        "{\n",
        "    \"IT\": [\n",
        "        {\n",
        "            \"employee_id\": \"0010\",\n",
        "            \"stack\": [\n",
        "                \"Python\",\n",
        "                \"Java\",\n",
        "                \"AWS\",\n",
        "                \"Docker\",\n",
        "                \"Linux\"\n",
        "            ],\n",
        "            \"experience\": 5\n",
        "        },\n",
        "        {\n",
        "            \"employee_id\": \"0360\",\n",
        "            \"stack\": [\n",
        "                \"Python\",\n",
        "                \"AWS\",\n",
        "                \"Docker\",\n",
        "                \"Linux\",\n",
        "                \"Azure\"\n",
        "            ],\n",
        "            \"experience\": 6\n",
        "        },\n",
        "        {\n",
        "            \"employee_id\": \"0323\",\n",
        "            \"stack\": [\n",
        "                \"Python\",\n",
        "                \"AWS\",\n",
        "                \"JavaScript\"\n",
        "            ]\n",
        "        }\n",
        "    ],\n",
        "    \"Marketing\": [\n",
        "        {\n",
        "            \"employee_id\": \"0863\",\n",
        "            \"stack\": [\n",
        "                \"Google Analytics\",\n",
        "                \"Google Ads\",\n",
        "                \"Facebook Ads\"\n",
        "            ]\n",
        "        },\n",
        "        {\n",
        "            \"employee_id\": \"0543\",\n",
        "            \"stack\": [\n",
        "                \"Google Ads\",\n",
        "                \"Facebook Ads\"\n",
        "            ]\n",
        "        }\n",
        "    ]\n",
        "}\n",
        "```\n"
      ],
      "metadata": {
        "id": "ywyvI7gq6fwe"
      }
    },
    {
      "cell_type": "code",
      "source": [
        "import json\n",
        "\n",
        "\n",
        "employees = {'IT': [{'employee_id': '0010',\n",
        "   'stack': ['Python', 'Java', 'AWS', 'Docker', 'Linux'],\n",
        "   'experience': 5},\n",
        "  {'employee_id': '0360',\n",
        "   'stack': ['Python', 'AWS', 'Docker', 'Linux', 'Azure'],\n",
        "   'experience': 6},\n",
        "  {'employee_id': '0323', 'stack': ['Python', 'AWS', 'JavaScript']}],\n",
        " 'Marketing': [{'employee_id': '0863',\n",
        "   'stack': ['Google Analytics', 'Google Ads', 'Facebook Ads']},\n",
        "  {'employee_id': '0543', 'stack': ['Google Ads', 'Facebook Ads']}]}\n",
        "\n",
        "employees_json = json.dumps(employees, indent=4)\n",
        "print(employees_json)"
      ],
      "metadata": {
        "id": "A8i0Z4Ii_Rm_"
      },
      "execution_count": null,
      "outputs": []
    },
    {
      "cell_type": "markdown",
      "source": [
        "####Exercise 202\n",
        "The following dictionary is given:\n",
        "```python\n",
        "employees = {'IT': [{'employee_id': '0010',\n",
        "   'stack': ['Python', 'Java', 'AWS', 'Docker', 'Linux'],\n",
        "   'experience': 5},\n",
        "  {'employee_id': '0360',\n",
        "   'stack': ['Python', 'AWS', 'Docker', 'Linux', 'Azure'],\n",
        "   'experience': 6},\n",
        "  {'employee_id': '0323', 'stack': ['Python', 'AWS', 'JavaScript']}],\n",
        " 'Marketing': [{'employee_id': '0863',\n",
        "   'stack': ['Google Analytics', 'Google Ads', 'Facebook Ads']},\n",
        "  {'employee_id': '0543', 'stack': ['Google Ads', 'Facebook Ads']}]}\n",
        "```\n",
        "\n",
        "Using the built-in _json_ module and the _json.dumps()_ function, dump the above dictionary to a JSON object named _employees_json_. Set the following arguments:\n",
        "* indent=4\n",
        "* sort_keys=True\n",
        "\n",
        "In response, print the _employees_json_ object to the console.\n",
        "\n",
        "\n",
        "Tip:  \n",
        "[json.dumps()](https://docs.python.org/3.8/library/json.html#json.dumps)  \n",
        "dumps(obj, *, skipkeys=False, ensure_ascii=True,   check_circular=True, allow_nan=True, cls=None,   indent=None, separators=None, default=None,   sort_keys=False, **kw)  \n",
        "    Serialize ``obj`` to a JSON formatted ``str``.\n",
        "\n",
        "\n",
        "Expected result:\n",
        ">```\n",
        "{\n",
        "    \"IT\": [\n",
        "        {\n",
        "            \"employee_id\": \"0010\",\n",
        "            \"experience\": 5,\n",
        "            \"stack\": [\n",
        "                \"Python\",\n",
        "                \"Java\",\n",
        "                \"AWS\",\n",
        "                \"Docker\",\n",
        "                \"Linux\"\n",
        "            ]\n",
        "        },\n",
        "        {\n",
        "            \"employee_id\": \"0360\",\n",
        "            \"experience\": 6,\n",
        "            \"stack\": [\n",
        "                \"Python\",\n",
        "                \"AWS\",\n",
        "                \"Docker\",\n",
        "                \"Linux\",\n",
        "                \"Azure\"\n",
        "            ]\n",
        "        },\n",
        "        {\n",
        "            \"employee_id\": \"0323\",\n",
        "            \"stack\": [\n",
        "                \"Python\",\n",
        "                \"AWS\",\n",
        "                \"JavaScript\"\n",
        "            ]\n",
        "        }\n",
        "    ],\n",
        "    \"Marketing\": [\n",
        "        {\n",
        "            \"employee_id\": \"0863\",\n",
        "            \"stack\": [\n",
        "                \"Google Analytics\",\n",
        "                \"Google Ads\",\n",
        "                \"Facebook Ads\"\n",
        "            ]\n",
        "        },\n",
        "        {\n",
        "            \"employee_id\": \"0543\",\n",
        "            \"stack\": [\n",
        "                \"Google Ads\",\n",
        "                \"Facebook Ads\"\n",
        "            ]\n",
        "        }\n",
        "    ]\n",
        "}\n",
        "```\n"
      ],
      "metadata": {
        "id": "6KCCotxh6f72"
      }
    },
    {
      "cell_type": "code",
      "source": [
        "import json\n",
        "\n",
        "\n",
        "employees = {'IT': [{'employee_id': '0010',\n",
        "   'stack': ['Python', 'Java', 'AWS', 'Docker', 'Linux'],\n",
        "   'experience': 5},\n",
        "  {'employee_id': '0360',\n",
        "   'stack': ['Python', 'AWS', 'Docker', 'Linux', 'Azure'],\n",
        "   'experience': 6},\n",
        "  {'employee_id': '0323', 'stack': ['Python', 'AWS', 'JavaScript']}],\n",
        " 'Marketing': [{'employee_id': '0863',\n",
        "   'stack': ['Google Analytics', 'Google Ads', 'Facebook Ads']},\n",
        "  {'employee_id': '0543', 'stack': ['Google Ads', 'Facebook Ads']}]}\n",
        "\n",
        "employees_json = json.dumps(employees, indent=4, sort_keys=True)\n",
        "print(employees_json)"
      ],
      "metadata": {
        "id": "TFpCVgJD_Qm6",
        "colab": {
          "base_uri": "https://localhost:8080/"
        },
        "outputId": "8cce134c-f0d8-48e9-fc15-1b07ca68dd10"
      },
      "execution_count": 16,
      "outputs": [
        {
          "output_type": "stream",
          "name": "stdout",
          "text": [
            "{\n",
            "    \"IT\": [\n",
            "        {\n",
            "            \"employee_id\": \"0010\",\n",
            "            \"experience\": 5,\n",
            "            \"stack\": [\n",
            "                \"Python\",\n",
            "                \"Java\",\n",
            "                \"AWS\",\n",
            "                \"Docker\",\n",
            "                \"Linux\"\n",
            "            ]\n",
            "        },\n",
            "        {\n",
            "            \"employee_id\": \"0360\",\n",
            "            \"experience\": 6,\n",
            "            \"stack\": [\n",
            "                \"Python\",\n",
            "                \"AWS\",\n",
            "                \"Docker\",\n",
            "                \"Linux\",\n",
            "                \"Azure\"\n",
            "            ]\n",
            "        },\n",
            "        {\n",
            "            \"employee_id\": \"0323\",\n",
            "            \"stack\": [\n",
            "                \"Python\",\n",
            "                \"AWS\",\n",
            "                \"JavaScript\"\n",
            "            ]\n",
            "        }\n",
            "    ],\n",
            "    \"Marketing\": [\n",
            "        {\n",
            "            \"employee_id\": \"0863\",\n",
            "            \"stack\": [\n",
            "                \"Google Analytics\",\n",
            "                \"Google Ads\",\n",
            "                \"Facebook Ads\"\n",
            "            ]\n",
            "        },\n",
            "        {\n",
            "            \"employee_id\": \"0543\",\n",
            "            \"stack\": [\n",
            "                \"Google Ads\",\n",
            "                \"Facebook Ads\"\n",
            "            ]\n",
            "        }\n",
            "    ]\n",
            "}\n"
          ]
        }
      ]
    },
    {
      "cell_type": "markdown",
      "source": [
        "# Section: xml\n",
        "\n",
        "[xml](https://docs.python.org/3.8/library/xml)\n",
        "\n",
        "This package contains four sub-packages:\n",
        "    \n",
        "* dom -- The W3C Document Object Model.  This supports DOM Level 1 + Namespaces.\n",
        "    \n",
        "* parsers -- Python wrappers for XML parsers (currently only supports Expat).\n",
        "    \n",
        "* sax -- The Simple API for XML, developed by XML-Dev, led by David Megginson and ported to Python by Lars Marius Garshol.  This supports the SAX 2 API.\n",
        "    \n",
        "* [etree](https://docs.python.org/3.8/library/xml.etree.elementtree.html#module-xml.etree.ElementTree) -- The ElementTree XML library.  This is a subset of the full ElementTree XML release.\n",
        " * [`xml.etree.ElementTree`](https://docs.python.org/3.8/library/xml.etree.elementtree.html#module-xml.etree).  ElementTree - Lightweight XML support for Python. \n",
        "   *  ElementTree represents the whole XML document as a tree and\n",
        "    \n",
        "   *  Element represents a single node in this tree.\n",
        "\n",
        " * [`xml.etree.ElementTree.tostring(element, encoding=\"us-ascii\", method=\"xml\", *, xml_declaration=None, default_namespace=None, short_empty_elements=True)`](https://docs.python.org/3.8/library/xml.etree.elementtree.html#xml.etree.ElementTree.tostring)\n",
        "\n",
        " * [`xml.etree.ElementTree.tostring(element, encoding=\"us-ascii\", method=\"xml\", *, xml_declaration=None, default_namespace=None, short_empty_elements=True)`](https://docs.python.org/3.8/library/xml.etree.elementtree.html#xml.etree.ElementTree.tostring) \n",
        "   * encoding 1 is the output encoding (default is US-ASCII). Use encoding=\"unicode\" to generate a Unicode string (otherwise, a bytestring is generated). \n",
        "   * [`bytes.decode(encoding='utf-8', errors='strict')`](https://docs.python.org/3/library/stdtypes.html#bytes.decode)"
      ],
      "metadata": {
        "id": "PgAZ2AC74oj7"
      }
    },
    {
      "cell_type": "markdown",
      "source": [
        "\n",
        "####Exercise 203\n",
        "Using the built-in module _xml.etree.ElementTree_ load the file _books.xml_. Then print the content of the file to the console.\n",
        "\n",
        "\n",
        "\n",
        "Tip:  \n",
        "See the section header for tips.\n",
        "\n",
        "Expected result:\n",
        ">```\n",
        "<catalog>\n",
        "   <book id=\"bk101\">\n",
        "      <author>Gambardella, Matthew</author>\n",
        "      <title>XML Developer's Guide</title>\n",
        "      <genre>Computer</genre>\n",
        "      <price>44.95</price>\n",
        "      <publish_date>2000-10-01</publish_date>\n",
        "      <description>An in-depth look at creating applications \n",
        "      with XML.</description>\n",
        "   </book>\n",
        "   <book id=\"bk102\">\n",
        "      <author>Ralls, Kim</author>\n",
        "      <title>Midnight Rain</title>\n",
        "      <genre>Fantasy</genre>\n",
        "      <price>5.95</price>\n",
        "      <publish_date>2000-12-16</publish_date>\n",
        "      <description>A former architect battles corporate zombies, \n",
        "      an evil sorceress, and her own childhood to become queen \n",
        "      of the world.</description>\n",
        "   </book>\n",
        "   <book id=\"bk103\">\n",
        "      <author>Corets, Eva</author>\n",
        "      <title>Maeve Ascendant</title>\n",
        "      <genre>Fantasy</genre>\n",
        "      <price>5.95</price>\n",
        "      <publish_date>2000-11-17</publish_date>\n",
        "      <description>After the collapse of a nanotechnology \n",
        "      society in England, the young survivors lay the \n",
        "      foundation for a new society.</description>\n",
        "   </book>\n",
        "</catalog>\n",
        "```"
      ],
      "metadata": {
        "id": "kICvldo25Mvr"
      }
    },
    {
      "cell_type": "markdown",
      "source": [
        "Preparation"
      ],
      "metadata": {
        "id": "jRBu7zFAjIC1"
      }
    },
    {
      "cell_type": "code",
      "source": [
        "with open('books.xml', 'w') as file:\n",
        "    file.write(\n",
        "'''<?xml version=\"1.0\"?>\n",
        "<catalog>\n",
        "   <book id=\"bk101\">\n",
        "      <author>Gambardella, Matthew</author>\n",
        "      <title>XML Developer's Guide</title>\n",
        "      <genre>Computer</genre>\n",
        "      <price>44.95</price>\n",
        "      <publish_date>2000-10-01</publish_date>\n",
        "      <description>An in-depth look at creating applications \n",
        "      with XML.</description>\n",
        "   </book>\n",
        "   <book id=\"bk102\">\n",
        "      <author>Ralls, Kim</author>\n",
        "      <title>Midnight Rain</title>\n",
        "      <genre>Fantasy</genre>\n",
        "      <price>5.95</price>\n",
        "      <publish_date>2000-12-16</publish_date>\n",
        "      <description>A former architect battles corporate zombies, \n",
        "      an evil sorceress, and her own childhood to become queen \n",
        "      of the world.</description>\n",
        "   </book>\n",
        "   <book id=\"bk103\">\n",
        "      <author>Corets, Eva</author>\n",
        "      <title>Maeve Ascendant</title>\n",
        "      <genre>Fantasy</genre>\n",
        "      <price>5.95</price>\n",
        "      <publish_date>2000-11-17</publish_date>\n",
        "      <description>After the collapse of a nanotechnology \n",
        "      society in England, the young survivors lay the \n",
        "      foundation for a new society.</description>\n",
        "   </book>\n",
        "</catalog>'''\n",
        "    )\n",
        "\n",
        "!cat books.xml"
      ],
      "metadata": {
        "id": "9XVvso_SjHca"
      },
      "execution_count": null,
      "outputs": []
    },
    {
      "cell_type": "code",
      "source": [
        "import xml.etree.ElementTree as ET\n",
        "import sys\n",
        "\n",
        "\n",
        "book_xml = ET.parse('books.xml')\n",
        "root = book_xml.getroot()\n",
        "\n",
        "# expected answer\n",
        "utf8_bytestring = ET.tostring(root, encoding='UTF-8')\n",
        "stringy = utf8_bytestring.decode()\n",
        "print(stringy)\n",
        "\n",
        "# simple check\n",
        "# book_xml.write(sys.stdout)"
      ],
      "metadata": {
        "id": "F8sXOo3nizfb"
      },
      "execution_count": null,
      "outputs": []
    },
    {
      "cell_type": "markdown",
      "source": [
        "####Exercise 204\n",
        "\n",
        "Use the _books.xml_ from Exercise 203.\n",
        "\n",
        "Using the built-in module _xml.etree.ElementTree_ the file _books.xml_ was loaded. Iterate over each _book_ in the directory and print the _book id_ and _title_ to the console as shown below.\n",
        "\n",
        "Expected result:\n",
        ">bk101 : XML Developer's Guide  \n",
        "bk102 : Midnight Rain  \n",
        "bk103 : Maeve Ascendant  \n"
      ],
      "metadata": {
        "id": "w7-8ZCgi5L9M"
      }
    },
    {
      "cell_type": "code",
      "source": [
        "import xml.etree.ElementTree as ET\n",
        "\n",
        "tree = ET.parse('books.xml')\n",
        "root = tree.getroot()\n",
        "\n",
        "books = root.findall('./book')\n",
        "\n",
        "for b in books:\n",
        "    print(f\"{b.attrib['id']} : {b.findtext('title')}\")\n",
        "\n",
        "# his solution\n",
        "for child in root:\n",
        "    print(f\"{child.attrib['id']} : {child[1].text}\")"
      ],
      "metadata": {
        "colab": {
          "base_uri": "https://localhost:8080/"
        },
        "id": "ZMmC1nXri0kA",
        "outputId": "e747cc02-124e-49b2-ac3f-478a24fb21bc"
      },
      "execution_count": 56,
      "outputs": [
        {
          "output_type": "stream",
          "name": "stdout",
          "text": [
            "bk101 : XML Developer's Guide\n",
            "bk102 : Midnight Rain\n",
            "bk103 : Maeve Ascendant\n",
            "bk101 : XML Developer's Guide\n",
            "bk102 : Midnight Rain\n",
            "bk103 : Maeve Ascendant\n"
          ]
        }
      ]
    },
    {
      "cell_type": "markdown",
      "source": [
        "####Exercise 205\n",
        "Use the _books.xml_ file from Exercise 203.\n",
        "\n",
        "Using the built-in module _xml.etree.ElementTree_ the file _books.xml_ was loaded. Extract a sorted list of all unique tags in a file and print to the console.\n",
        "\n",
        "\n",
        "Expected result:\n",
        ">['author', 'book', 'catalog', 'description', 'genre', 'price', 'publish_date', 'title']"
      ],
      "metadata": {
        "id": "y15AaOU96NFj"
      }
    },
    {
      "cell_type": "code",
      "source": [
        "import xml.etree.ElementTree as ET\n",
        "\n",
        "\n",
        "books_tree = ET.parse('books.xml')\n",
        "root = books_tree.getroot()\n",
        "\n",
        "\n",
        "tags = {elem.tag for elem in books_tree.iter()}\n",
        "print(sorted(tags))\n",
        "\n",
        "# his solution\n",
        "result = sorted(set([item.tag for item in list(root.iter())]))\n",
        "print(result)"
      ],
      "metadata": {
        "colab": {
          "base_uri": "https://localhost:8080/"
        },
        "id": "casWK2Y6i2K4",
        "outputId": "8a33d1b7-bf4a-45a8-ff9f-339b479f91fc"
      },
      "execution_count": 69,
      "outputs": [
        {
          "output_type": "stream",
          "name": "stdout",
          "text": [
            "['author', 'book', 'catalog', 'description', 'genre', 'price', 'publish_date', 'title']\n"
          ]
        }
      ]
    },
    {
      "cell_type": "markdown",
      "source": [
        "####Exercise 206\n",
        "\n",
        "Using the built-in _xml.etree.ElementTree_ module create _'stocks.xml'_ file with the structure shown below:\n",
        "\n",
        "```xml\n",
        "<stocks>\n",
        "    <company>\n",
        "        <ticker>AAPL</ticker>\n",
        "        <full_name>Apple Inc.</full_name>\n",
        "    </company>\n",
        "</stocks>\n",
        "```\n",
        "\n",
        "In response, print the content of the _stocks.xml_ file to the console.\n",
        "\n",
        "Expected result:\n",
        ">`<stocks><company><ticker>AAPL</ticker><full_name>Apple Inc.</full_name></company></stocks>`\n",
        "\n"
      ],
      "metadata": {
        "id": "I2IiiANB6NVL"
      }
    },
    {
      "cell_type": "code",
      "source": [
        "import xml.etree.ElementTree as ET\n",
        "\n",
        "stocks = ET.Element('stocks')\n",
        "child = ET.SubElement(stocks, 'company')\n",
        "\n",
        "ET.SubElement(child, 'ticker').text = 'APPL'\n",
        "ET.SubElement(child, 'full_name').text = 'Apple Inc.'\n",
        "\n",
        "da_tree = ET.ElementTree(stocks)\n",
        "da_tree.write('stocks.xml', encoding='UTF-8')\n",
        "\n",
        "stringbytes = ET.tostring(da_tree.getroot(), encoding='UTF-8', method='xml')\n",
        "a_string = stringbytes.decode('UTF-8')\n",
        "\n",
        "print(a_string)\n",
        "\n",
        "print('\\ncat stocks.xml', '-' * 80)\n",
        "!cat stocks.xml"
      ],
      "metadata": {
        "colab": {
          "base_uri": "https://localhost:8080/"
        },
        "id": "T3e3Zhu5i3aO",
        "outputId": "850fd92a-eefb-4f7e-f5a3-a34bcda38d3e"
      },
      "execution_count": 85,
      "outputs": [
        {
          "output_type": "stream",
          "name": "stdout",
          "text": [
            "<stocks><company><ticker>APPL</ticker><full_name>Apple Inc.</full_name></company></stocks>\n",
            "\n",
            "cat stocks.xml --------------------------------------------------------------------------------\n",
            "<stocks><company><ticker>APPL</ticker><full_name>Apple Inc.</full_name></company></stocks>"
          ]
        }
      ]
    },
    {
      "cell_type": "markdown",
      "source": [
        "# Section: urllib.request"
      ],
      "metadata": {
        "id": "gXIExGxS4o3q"
      }
    },
    {
      "cell_type": "markdown",
      "source": [
        "####Exercise 207"
      ],
      "metadata": {
        "id": "92FiwivB5ONc"
      }
    },
    {
      "cell_type": "markdown",
      "source": [
        "####Exercise 208"
      ],
      "metadata": {
        "id": "X2l3x-0h5-O4"
      }
    },
    {
      "cell_type": "markdown",
      "source": [
        "# Section: timeit"
      ],
      "metadata": {
        "id": "oM5Ugbzj4pIq"
      }
    },
    {
      "cell_type": "markdown",
      "source": [
        "####Exercise 209"
      ],
      "metadata": {
        "id": "M5Dv46BZ5O0N"
      }
    },
    {
      "cell_type": "markdown",
      "source": [
        "####Exercise 210"
      ],
      "metadata": {
        "id": "rVN96yU-5pYE"
      }
    },
    {
      "cell_type": "markdown",
      "source": [
        "####Exercise 211"
      ],
      "metadata": {
        "id": "vj3xUnPN5pi1"
      }
    },
    {
      "cell_type": "markdown",
      "source": [
        "####Exercise 192"
      ],
      "metadata": {
        "id": "9ustWmEU6LBh"
      }
    },
    {
      "cell_type": "markdown",
      "source": [
        "# Section: keyword"
      ],
      "metadata": {
        "id": "gu3MNTDQ4qYa"
      }
    },
    {
      "cell_type": "markdown",
      "source": [
        "####Exercise 212"
      ],
      "metadata": {
        "id": "g55BqZGb5P8X"
      }
    },
    {
      "cell_type": "markdown",
      "source": [
        "####Exercise 213"
      ],
      "metadata": {
        "id": "XUmsG_Bb5e19"
      }
    },
    {
      "cell_type": "markdown",
      "source": [
        "# Section: operator"
      ],
      "metadata": {
        "id": "jxO60eVz4qtq"
      }
    },
    {
      "cell_type": "markdown",
      "source": [
        "####Exercise 214"
      ],
      "metadata": {
        "id": "_wPVnODd5QgJ"
      }
    },
    {
      "cell_type": "markdown",
      "source": [
        "####Exercise 215"
      ],
      "metadata": {
        "id": "fvX3vr4N5U6k"
      }
    },
    {
      "cell_type": "markdown",
      "source": [
        "# My Experiments\n",
        "\n",
        "This mostly stuff found in blogs.\n",
        "\n",
        "Bibliograpy:  \n",
        "[RealPython](https://realpython.com)"
      ],
      "metadata": {
        "id": "LV3TJOxwZyGL"
      }
    },
    {
      "cell_type": "markdown",
      "source": [
        "##### Counting Files\n",
        "[Counting Files](https://realpython.com/python-pathlib/#counting-files)\n",
        "* [`pathlib.Path.glob`](https://docs.python.org/3/library/pathlib.html#pathlib.Path.glob)\n",
        "* [`pathlib.Path.iterdir`](https://docs.python.org/3/library/pathlib.html#pathlib.Path.iterdir)"
      ],
      "metadata": {
        "id": "meE5nI8CZ6f_"
      }
    },
    {
      "cell_type": "code",
      "source": [
        "from collections import Counter\n",
        "import pathlib\n",
        "import os\n",
        "\n",
        "# spew dir list\n",
        "print('os.listdir:', os.listdir('sample_data'))\n",
        "\n",
        "# iterate over path contents\n",
        "# for p in pathlib.Path('sample_data').iterdir():\n",
        "#\n",
        " print(p)\n",
        "\n",
        "c = Counter(p.suffix for p in pathlib.Path('sample_data').iterdir())\n",
        "print('count all files:', c)\n",
        "\n",
        "# just count .csv files\n",
        "c = Counter(p.suffix for p in pathlib.Path('sample_data').glob('*.csv'))\n",
        "print('count .csv files:', c)"
      ],
      "metadata": {
        "id": "7THARbd9Z3e9"
      },
      "execution_count": null,
      "outputs": []
    },
    {
      "cell_type": "markdown",
      "source": [
        "#### Display Directory Tree\n",
        "[Display Directory Tree](https://realpython.com/python-pathlib/#display-a-directory-tree)\n",
        "\n",
        "I'll never need to do this for work, but I include this to demo the methods used.\n",
        "\n",
        "* [`pathlib.Path.rglob`](https://docs.python.org/3/library/pathlib.html#pathlib.Path.rglob)\n",
        "* [`pathlib.PurePath.relative_path`](https://docs.python.org/3/library/pathlib.html#pathlib.PurePath.relative_to)\n",
        "* [`pathlib.PurePath.parts`](https://docs.python.org/3/library/pathlib.html#pathlib.PurePath.parts)"
      ],
      "metadata": {
        "id": "oFf2u1G7dHgc"
      }
    },
    {
      "cell_type": "code",
      "source": [
        "import pathlib\n",
        "\n",
        "def tree(directory):\n",
        "    print(f'+ {directory}')\n",
        "    for path in sorted(directory.rglob('*')):\n",
        "        depth = len(path.relative_to(directory).parts)\n",
        "        spacer = '    ' * depth\n",
        "        print(f'{spacer}+ {path.name}')\n",
        "\n",
        "\n",
        "tree(Path.cwd())\n"
      ],
      "metadata": {
        "id": "W-RW1l_bdfNz"
      },
      "execution_count": null,
      "outputs": []
    },
    {
      "cell_type": "markdown",
      "source": [
        "#### Find the Last Modified File\n",
        "\n",
        "[Find the Last Modified File](https://realpython.com/python-pathlib/#find-the-last-modified-file)\n",
        "\n",
        "* [pathlib.Path.stat](https://docs.python.org/3/library/pathlib.html#pathlib.Path.stat)"
      ],
      "metadata": {
        "id": "LF_8I1GTgXqg"
      }
    },
    {
      "cell_type": "code",
      "source": [
        "from pathlib import Path\n",
        "from datetime import datetime\n",
        "\n",
        "path_mtime_tuples = [(p.stat().st_mtime, p) for p in Path.home().iterdir()]\n",
        "print('mtime and path:', path_mtime_tuples)\n",
        "\n",
        "max_mtime = max(path_mtime_tuples)\n",
        "print('max mtime with path:', max_mtime)\n",
        "\n",
        "time, file_path = max((f.stat().st_mtime, f) for f in Path.home().iterdir())\n",
        "print(datetime.fromtimestamp(time), file_path)"
      ],
      "metadata": {
        "id": "_EYKL4kFgi8C"
      },
      "execution_count": null,
      "outputs": []
    },
    {
      "cell_type": "markdown",
      "source": [
        "#### Create ~Unique~ Sequential File Names\n",
        "\n",
        "[Create a Unique File Name](https://realpython.com/python-pathlib/#create-a-unique-file-name)\n",
        "\n",
        "Title of the blog section uses 'unique', but it is really about creating sequential file names."
      ],
      "metadata": {
        "id": "cxYJ0tISk2Q4"
      }
    },
    {
      "cell_type": "code",
      "source": [
        "def next_name(directory, name_pattern):\n",
        "    counter = 0\n",
        "    while True:\n",
        "        counter += 1\n",
        "        path = directory / name_pattern.format(counter)\n",
        "        if not path.exists():\n",
        "            return path\n",
        "\n",
        "pathlib.Path.cwd().joinpath('test001.txt').touch()\n",
        "print([p for p in pathlib.Path.cwd().iterdir()])\n",
        "\n",
        "for i in range(0, 3):\n",
        "    path = next_name(pathlib.Path.cwd(), 'test{:03d}.txt')  \n",
        "    print(path)\n",
        "    path.touch()\n",
        "\n",
        "print(sorted([p for p in pathlib.Path.cwd().iterdir()]))"
      ],
      "metadata": {
        "id": "whxe8JGulu6F"
      },
      "execution_count": null,
      "outputs": []
    }
  ]
}