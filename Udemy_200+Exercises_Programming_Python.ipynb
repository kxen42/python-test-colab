{
  "nbformat": 4,
  "nbformat_minor": 0,
  "metadata": {
    "colab": {
      "name": "Udemy 200+Exercises Programming Python.ipynb",
      "provenance": [],
      "authorship_tag": "ABX9TyNRKYMom1kiyC2AgNBgqdgt",
      "include_colab_link": true
    },
    "kernelspec": {
      "name": "python3",
      "display_name": "Python 3"
    },
    "language_info": {
      "name": "python"
    }
  },
  "cells": [
    {
      "cell_type": "markdown",
      "metadata": {
        "id": "view-in-github",
        "colab_type": "text"
      },
      "source": [
        "<a href=\"https://colab.research.google.com/github/kxen42/python-test-colab/blob/main/Udemy_200%2BExercises_Programming_Python.ipynb\" target=\"_parent\"><img src=\"https://colab.research.google.com/assets/colab-badge.svg\" alt=\"Open In Colab\"/></a>"
      ]
    },
    {
      "cell_type": "code",
      "execution_count": null,
      "metadata": {
        "id": "6miufux_HdNk"
      },
      "outputs": [],
      "source": [
        ""
      ]
    },
    {
      "cell_type": "markdown",
      "source": [
        "You can create a notebook from Google Drive > New Notebook\n",
        "File > 'Locate in Drive' to find the file\n",
        "You have to connect to a hosted runtime environment, if not already connected, hit Connecting in the upper RHS. You should see icons for RAM and Disk in the upper RHS."
      ],
      "metadata": {
        "id": "PIKix3A9ISnx"
      }
    }
  ]
}