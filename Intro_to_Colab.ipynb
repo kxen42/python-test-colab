{
  "nbformat": 4,
  "nbformat_minor": 0,
  "metadata": {
    "colab": {
      "name": "Intro to Colab.ipynb",
      "provenance": [],
      "collapsed_sections": [],
      "toc_visible": true,
      "authorship_tag": "ABX9TyO6ioJpr2aoE8JxNpEpCa6C",
      "include_colab_link": true
    },
    "kernelspec": {
      "name": "python3",
      "display_name": "Python 3"
    },
    "language_info": {
      "name": "python"
    }
  },
  "cells": [
    {
      "cell_type": "markdown",
      "metadata": {
        "id": "view-in-github",
        "colab_type": "text"
      },
      "source": [
        "<a href=\"https://colab.research.google.com/github/kxen42/python-test-colab/blob/main/Intro_to_Colab.ipynb\" target=\"_parent\"><img src=\"https://colab.research.google.com/assets/colab-badge.svg\" alt=\"Open In Colab\"/></a>"
      ]
    },
    {
      "cell_type": "markdown",
      "source": [
        "# Colab Intro"
      ],
      "metadata": {
        "id": "Kff_yd6pA8Ix"
      }
    },
    {
      "cell_type": "markdown",
      "source": [
        "# Section Single Hash Level\n",
        "\n",
        "\n"
      ],
      "metadata": {
        "id": "3p2ZEwmAV9dX"
      }
    },
    {
      "cell_type": "markdown",
      "source": [
        "## Section Double Hash Level"
      ],
      "metadata": {
        "id": "K7ClwA0SBN4b"
      }
    },
    {
      "cell_type": "markdown",
      "source": [
        "###Section Triple Hash Level"
      ],
      "metadata": {
        "id": "DlzszJAfBTwt"
      }
    },
    {
      "cell_type": "markdown",
      "source": [
        "####Section Quad Hash Level"
      ],
      "metadata": {
        "id": "USpqKBiOBY0S"
      }
    },
    {
      "cell_type": "markdown",
      "source": [
        "#####Section Quint Hash Level"
      ],
      "metadata": {
        "id": "8osO_BWoBdLd"
      }
    },
    {
      "cell_type": "markdown",
      "source": [
        "### Triple Hash Level\n",
        "\n",
        "Including libraries from the Google Colab environment uses a simple `import`."
      ],
      "metadata": {
        "id": "5o_7zP3LM1pn"
      }
    },
    {
      "cell_type": "markdown",
      "source": [
        "######Section Six Hash Level"
      ],
      "metadata": {
        "id": "YIgvjORABkoC"
      }
    },
    {
      "cell_type": "markdown",
      "source": [
        "# Markdown\n",
        "\n",
        "[Colab Markdown Guide](https://colab.research.google.com/notebooks/markdown_guide.ipynb)    \n",
        "**bold text**  \n",
        "__bold text__  \n",
        "*italics text*  \n",
        "_italics text_  \n",
        "~strikethrough~  \n",
        "\n",
        ">block qoute\n",
        ">> indent 2\n",
        ">>> indent 3\n",
        "\n",
        "An sample of `fx` inline code.\n",
        "\n",
        "A code block\n",
        "```python\n",
        "import datetime\n",
        "print(datetime.date.today())\n",
        "```\n",
        "\n",
        "1. number line\n",
        "2. number line\n",
        "\n",
        "* bullet\n",
        "* bullet\n",
        "\n",
        "\n",
        "**horizontal line**\n",
        "\n",
        "---\n",
        "\n",
        "**LaTeX** \n",
        "\n",
        "Right aligned equations singe `$`.\n",
        "\n",
        "$y = x^2$  \n",
        "  \n",
        "$\\frac{1}{n} \\sum_{i=1}^{n}x_{i}$  \n",
        "  \n",
        "This brings back good memories of electro-optics.\n",
        "\n",
        "$A = \\begin{pmatrix}\n",
        "a_{1,1} & a_{1,2} \\\\\n",
        "a_{2,1} & a_{2,3}\n",
        "\\end{pmatrix}$  \n",
        "   \n",
        "$sin(xπ)$      Now I'm just giddy!\n",
        "\n",
        "Centered Equation uses `$$`\n",
        "$$y = x^2$$\n",
        "\n",
        "**Image**\n",
        "![Link to Image](https://yt3.ggpht.com/a-/AAuE7mBxlSCjuU1z1EpRcYIJK3OUKHtR8SFE8uC1_Q=s900-mo-c-c0xffffffff-rj-k-no)\n",
        "\n",
        "**Table**\n",
        "\n",
        "auth_id|breed|name\n",
        "-------|-----|----\n",
        "123|Sheltie Mix|Sammy\n",
        "345|German Shepard|Sydster\n",
        "78|Goofball|Sofmeister\n",
        "\n",
        "**Setting Color**\n",
        "\n",
        "Some say that this works, but I didn't see it work.\n",
        "%%html\n",
        "<span>\n",
        "<span style='color:blue'> some *blue* text </span> \n",
        "<span style='color:green'> message/text </span> \n",
        "</span>\n",
        "\n",
        "__These works in a notebook.__\n",
        "\n",
        "Others suggest this, but this is a deprecated tag.  \n",
        "\n",
        "<font color='red'>some *red* text</font>.\n",
        " \n",
        "LaTeX style.  \n",
        "This works in notebooks.\n",
        "$\\color{cornflowerblue}{\\text{your  text  here}}$ "
      ],
      "metadata": {
        "id": "MJNzSrbMBxdo"
      }
    },
    {
      "cell_type": "markdown",
      "source": [
        "# Run Code\n",
        "\n"
      ],
      "metadata": {
        "id": "AB3e0KDpDmgh"
      }
    },
    {
      "cell_type": "markdown",
      "source": [
        "Use Shift+Enter excecute code when in a code cell."
      ],
      "metadata": {
        "id": "noAGoZTGNlLE"
      }
    },
    {
      "cell_type": "code",
      "source": [
        "revenue = 10000\n",
        "tax = 0.19\n",
        "income = revenue * tax\n",
        "income"
      ],
      "metadata": {
        "id": "VyLXo4sVDkfX"
      },
      "execution_count": null,
      "outputs": []
    },
    {
      "cell_type": "markdown",
      "source": [
        "Including libraries from the Google Colab environment uses a simple `import`."
      ],
      "metadata": {
        "id": "uVuVrnQkEAiV"
      }
    },
    {
      "cell_type": "code",
      "source": [
        "import numpy as np\n",
        "\n",
        "np.__version__"
      ],
      "metadata": {
        "colab": {
          "base_uri": "https://localhost:8080/",
          "height": 36
        },
        "id": "5ormw4joEIx2",
        "outputId": "d628787b-75b1-4017-e15c-f2135e300077"
      },
      "execution_count": null,
      "outputs": [
        {
          "output_type": "execute_result",
          "data": {
            "text/plain": [
              "'1.21.6'"
            ],
            "application/vnd.google.colaboratory.intrinsic+json": {
              "type": "string"
            }
          },
          "metadata": {},
          "execution_count": 1
        }
      ]
    },
    {
      "cell_type": "markdown",
      "source": [
        "Trying to import a library that is not install will give you an error and you'll have to use pip to install it. You can use the lib cells that appear after the install.\n",
        "\n",
        "One way to tell that a lib is not install is that autocomplete won't list it.\n"
      ],
      "metadata": {
        "id": "4MUgUzgiEJUz"
      }
    },
    {
      "cell_type": "code",
      "source": [
        "import imageai"
      ],
      "metadata": {
        "id": "wXTmZiL3EJ5G"
      },
      "execution_count": null,
      "outputs": []
    },
    {
      "cell_type": "markdown",
      "source": [
        "You have to use `!pip install`. The exclamation mark is important.\n",
        "\n",
        "You have to restart the runtime after an install if you leave of `!`.\n",
        "\n",
        "After the install you can import the module."
      ],
      "metadata": {
        "id": "vM6N61biEaCe"
      }
    },
    {
      "cell_type": "code",
      "source": [
        "!pip install imageai"
      ],
      "metadata": {
        "id": "e1yAt9EiEa7m"
      },
      "execution_count": null,
      "outputs": []
    },
    {
      "cell_type": "markdown",
      "source": [
        "# Jupyter Cell Magics"
      ],
      "metadata": {
        "id": "8j0weutuG7on"
      }
    },
    {
      "cell_type": "markdown",
      "source": [
        "Using [Jupyter Cell Magics](https://nbviewer.org/github/ipython/ipython/blob/1.x/examples/notebooks/Cell%20Magics.ipynb)  \n",
        "\n",
        "There are a lot of useful things you can do with this. Some can write a file, use bash, spew HTML, time execution of code, capture stderr/stdout, run code in other interpreters besides Python, plot graphs."
      ],
      "metadata": {
        "id": "qMY3lpGoG6Az"
      }
    },
    {
      "cell_type": "markdown",
      "source": [
        "# Getting Help"
      ],
      "metadata": {
        "id": "FsO_E_2CHOeS"
      }
    },
    {
      "cell_type": "markdown",
      "source": [
        "Getting Help in Colab\n",
        "To get help on a Python item within Colab, add a question mark after the name of the thing in a code cell.\n",
        "```\n",
        "import datetime\n",
        "\n",
        "datetime?\n",
        "datetime.date?\n",
        "datetime.date.strftime?\n",
        "```\n",
        "You can also us the Python REPL help.\n",
        "```\n",
        "help(datetime)\n",
        "help(datetime.date)\n",
        "help(datetime.date.strftime)\n",
        "```"
      ],
      "metadata": {
        "id": "Hbn35KmPHMyt"
      }
    },
    {
      "cell_type": "markdown",
      "source": [
        "# Working With Google Drive\n",
        "Working with the files in Google Drive requires mounting the drive.  \n",
        "When you disconnect from environment, the disk will be unmounted. This can be done manual or timeout.\n",
        "\n",
        "You can put the mount and unmount in a single cell, but I prefer to put them in cells separate from my work to avoid wasting time waiting for the mount to finish."
      ],
      "metadata": {
        "id": "LIY1OaNzHx1x"
      }
    },
    {
      "cell_type": "markdown",
      "source": [
        "## Mount Google Drive\n",
        "To read files in your Google Drive from Colab needs some special juju.\n",
        "\n",
        "Run the cell below:\n",
        "```python\n",
        "from google.colab import drive\n",
        "drive.mount('/content/drive')\n",
        "```\n",
        "\n",
        "You are prompted to accept permissions and get a token to use to mount the drive. Grant the permissions and copy and paste the code into the text input. Hit enter.\n",
        "\n",
        "The drive now appears in the file browser. Right click the folder `/drive/My Drive` or click the three dots action menu and select Upload to add your file.\n",
        "\n",
        "The file appears in the File Browser. Right click the File (or use the three dots action menu) and select Copy Path.\n",
        "\n",
        "**File I/O**\n",
        "\n",
        "```python\n",
        "with open('/content/drive/MyDrive/Colab Notebooks/data/udemy_python/playway.txt', 'r') as file:\n",
        "     lines = file.read().splitlines()\n",
        "\n",
        "\n",
        "with open('/content/drive/My Drive/foo.txt', 'w') as f:\n",
        "  f.write('Hello Google Drive!')\n",
        "!cat /content/drive/My\\ Drive/foo.txt\n",
        "```\n",
        "\n",
        "**Unmount Google Drive**\n",
        "```python\n",
        "drive.flush_and_unmount()\n",
        "print('\\nAll changes made in this colab session should now be visible in Drive.')\n",
        "```"
      ],
      "metadata": {
        "id": "Ble4zR44H3Ww"
      }
    },
    {
      "cell_type": "markdown",
      "source": [
        "# Updating Python Version\n",
        "\n",
        "From stackoverflow [How can I update Google Colab's Python version?](https://stackoverflow.com/questions/68657341/how-can-i-update-google-colabs-python-version)\n",
        "\n",
        ">In Google Colab you have a Debian-based Linux, and you can do whatever you can on a Debian Linux. Upgrading Python is as easy as upgrading on your own Linux system.\n",
        "\n",
        "To install Python 3.9\n",
        "```\n",
        "#install python 3.9\n",
        "!sudo apt-get update -y\n",
        "!sudo apt-get install python3.9\n",
        "\n",
        "#change alternatives\n",
        "!sudo update-alternatives --install /usr/bin/python3 python3 /usr/bin/python3.7 1\n",
        "!sudo update-alternatives --install /usr/bin/python3 python3 /usr/bin/python3.9 2\n",
        "\n",
        "#check python version\n",
        "!python --version\n",
        "#3.9.6\n",
        "```\n",
        "\n",
        ">Note that all changes will be lost after restarting the kernel. Each runtime gives you a fresh google colab.\n",
        "\n",
        ">Also, note that you can see a list of installed Python versions and switch between them at any time with this command: **(If nothing changed after installation, use this command to select python version manually)**\n",
        "\n",
        "```\n",
        "!sudo update-alternatives --config python3\n",
        "#after running, enter the row number of the python version you want. \n",
        "```\n",
        "\n",
        "**Note:** `sys` will still use the default version."
      ],
      "metadata": {
        "id": "dT7h4hN2MzhR"
      }
    },
    {
      "cell_type": "markdown",
      "source": [
        "\n",
        "#<font color='red'>Troubleshooting Notebook</font>"
      ],
      "metadata": {
        "id": "k12jQuxgHTvX"
      }
    },
    {
      "cell_type": "markdown",
      "source": [
        "####1.\n",
        "I encountered this error on syntactically correct code.\n",
        "There was something funky going on with automatic file saving failing.\n",
        "The code worked in the Udemy sandbox so I know it wasn't the code that was the problem.\n",
        "\n",
        "Colab state got so bad that it prompted be to download my notebook. After I did that, I also saved a copy to Google Drive. Then closed that notebook, and reopened it. Problem solved.\n",
        "\n",
        "```Error\n",
        "\t\tTypeError\n",
        "\t\t---------------------------------------------------------------------------\n",
        "\t\tTypeError                                 Traceback (most recent call last)\n",
        "\t\t<ipython-input-32-31699125697f> in <module>()\n",
        "\t\t      6 \n",
        "\t\t      7 def f(x): x['index'] == 'mWIG40'\n",
        "\t\t----> 8 print(list(filter(f, stocks)))\n",
        "\t\t\n",
        "\t\tTypeError: 'filter' object is not callable\n",
        "```"
      ],
      "metadata": {
        "id": "M7yew44dHmYo"
      }
    },
    {
      "cell_type": "markdown",
      "source": [
        "###2.\n",
        "\n",
        "I encountered an error after the pop-up asking if was still there and not a robot.\n",
        "\n",
        "The code `sorted()` on a list.\n",
        "\n",
        "When I ran the code I got an error stating that a 'list' was not callable. I knew the problem wasn't the code because it worked before the pop-up.\n",
        "\n",
        "To fix it I did a 'Disconnection and delete runtime'."
      ],
      "metadata": {
        "id": "9h2GMYWPOUBW"
      }
    }
  ]
}